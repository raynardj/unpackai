{
 "cells": [
  {
   "cell_type": "markdown",
   "metadata": {},
   "source": [
    "# Untilities\n",
    "> Useful function and utilities"
   ]
  },
  {
   "cell_type": "code",
   "execution_count": 1,
   "metadata": {},
   "outputs": [],
   "source": [
    "# default_exp utils"
   ]
  },
  {
   "cell_type": "markdown",
   "metadata": {},
   "source": [
    "## Image"
   ]
  },
  {
   "cell_type": "markdown",
   "metadata": {},
   "source": [
    "### Cleaning up error image"
   ]
  },
  {
   "cell_type": "code",
   "execution_count": 2,
   "metadata": {},
   "outputs": [],
   "source": [
    "# export\n",
    "from pathlib import Path\n",
    "from tqdm.notebook import tqdm\n",
    "import os\n",
    "import logging\n",
    "from typing import Callable, List\n",
    "from PIL import Image"
   ]
  },
  {
   "cell_type": "markdown",
   "metadata": {},
   "source": [
    "In some cases, we have error image that will interrupt model trainging. We can use ```clean_error_img``` to clean the image folder"
   ]
  },
  {
   "cell_type": "code",
   "execution_count": 3,
   "metadata": {},
   "outputs": [],
   "source": [
    "# export\n",
    "def check_img(\n",
    "    img: Path,\n",
    "    formats: List[str] = [\".jpg\", \".jpeg\", \".png\", \".bmp\"],\n",
    ") -> None:\n",
    "    \"\"\"\n",
    "    Check on a single image,\n",
    "    If it's quality is troublesome\n",
    "        we unlink/ditch the image\n",
    "    \"\"\"\n",
    "    img = Path(img)\n",
    "    # check if this path is an image\n",
    "    if img.suffix.lower().split(\"?\")[0] not in formats:\n",
    "        return\n",
    "\n",
    "    try:\n",
    "        # try to open that image\n",
    "        _ = Image.open(img)\n",
    "    except Exception as e:\n",
    "        if img.exists():\n",
    "            img.unlink()\n",
    "            logging.warning(f\"removed error img: {img}\")\n",
    "\n",
    "\n",
    "def clean_error_img(\n",
    "    path: Path,\n",
    "    progress: bool = True,\n",
    ") -> None:\n",
    "    \"\"\"\n",
    "    - path: an image directory\n",
    "    - progress: do we print out progress bar or not\n",
    "        default True\n",
    "    \"\"\"\n",
    "    path = Path(path)\n",
    "\n",
    "    # check directory existence\n",
    "    if path.exists() == False:\n",
    "        raise FileExistsError(\n",
    "            f\"\"\"path does not exists on:{path}, \n",
    "    make sure there is a directory \"{path.name}\".\n",
    "    under directory \"{path.parent}\"\n",
    "    \"\"\")\n",
    "\n",
    "    # create iterator, probably with progress bar\n",
    "    iterator = tqdm(list(path.iterdir()), leave=False)\\\n",
    "        if progress else path.iterdir()\n",
    "\n",
    "    for obj in iterator:\n",
    "        if obj.is_dir():\n",
    "            # use recursion to clean the sub folder\n",
    "            clean_error_img(obj, progress=progress)\n",
    "        else:\n",
    "            # cheking on a single image\n",
    "            check_img(obj)"
   ]
  },
  {
   "cell_type": "markdown",
   "metadata": {},
   "source": [
    "## Testing"
   ]
  },
  {
   "cell_type": "markdown",
   "metadata": {},
   "source": [
    "### test image cleaner"
   ]
  },
  {
   "cell_type": "code",
   "execution_count": 4,
   "metadata": {},
   "outputs": [],
   "source": [
    "# hide\n",
    "def testing_image_cleaner(func: Callable) -> None:\n",
    "    path = Path(\"./test_remove\")\n",
    "    os.system(f\"rm -rf {path}\")\n",
    "    path.mkdir()\n",
    "    with open(path/f\"file_1.JPEG\", \"w\") as f:\n",
    "        f.write(\"fake image\")\n",
    "        \n",
    "    with open(path/f\"file_1.jpg\", \"w\") as f:\n",
    "        f.write(\"fake image\")\n",
    "        \n",
    "    with open(path/f\"file_1.txt\", \"w\") as f:\n",
    "        f.write(\"not image\")\n",
    "        \n",
    "    with open(path/f\"file_2.png\", \"w\") as f:\n",
    "        f.write(\"fake image\")\n",
    "    \n",
    "    sub1 = path/\"sub1\"\n",
    "    sub2 = path/\"sub2\"\n",
    "    sub1.mkdir()\n",
    "    sub2.mkdir()\n",
    "    sub3 = sub2/\"sub3\"\n",
    "    sub3.mkdir()\n",
    "    \n",
    "    with open(sub1/\"file3.BMP\", \"w\") as f:\n",
    "        f.write(\"fake image\")\n",
    "        \n",
    "    with open(sub1/\"file3 haha.txt\", \"w\") as f:\n",
    "        f.write(\"not image\")\n",
    "        \n",
    "    with open(sub1/\"😱file3 haha.jpg\", \"w\") as f:\n",
    "        f.write(\"fake image\")\n",
    "        \n",
    "    with open(sub2/\"file3.jpg\", \"w\") as f:\n",
    "        f.write(\"fake image\")\n",
    "    \n",
    "    with open(sub2/\"file4.jpeg\", \"w\") as f:\n",
    "        f.write(\"fake image\")\n",
    "        \n",
    "    file5 = sub3/\"file_5.jpeg\"\n",
    "    with open(file5, \"w\") as f:\n",
    "        f.write(\"fake image\")\n",
    "        \n",
    "    func(path)\n",
    "    for p in [path, sub1, sub2, sub3]:\n",
    "        print(list(p.iterdir()))\n",
    "    os.system(f\"rm -rf {path}\")"
   ]
  },
  {
   "cell_type": "code",
   "execution_count": 5,
   "metadata": {},
   "outputs": [
    {
     "data": {
      "application/vnd.jupyter.widget-view+json": {
       "model_id": "",
       "version_major": 2,
       "version_minor": 0
      },
      "text/plain": [
       "HBox(children=(FloatProgress(value=0.0, max=6.0), HTML(value='')))"
      ]
     },
     "metadata": {},
     "output_type": "display_data"
    },
    {
     "data": {
      "application/vnd.jupyter.widget-view+json": {
       "model_id": "",
       "version_major": 2,
       "version_minor": 0
      },
      "text/plain": [
       "HBox(children=(FloatProgress(value=0.0, max=3.0), HTML(value='')))"
      ]
     },
     "metadata": {},
     "output_type": "display_data"
    },
    {
     "name": "stderr",
     "output_type": "stream",
     "text": [
      "WARNING:root:removed error img: test_remove/sub1/😱file3 haha.jpg\n",
      "WARNING:root:removed error img: test_remove/sub1/file3.BMP\n",
      "WARNING:root:removed error img: test_remove/file_1.jpg\n",
      "WARNING:root:removed error img: test_remove/file_2.png\n"
     ]
    },
    {
     "data": {
      "application/vnd.jupyter.widget-view+json": {
       "model_id": "",
       "version_major": 2,
       "version_minor": 0
      },
      "text/plain": [
       "HBox(children=(FloatProgress(value=0.0, max=3.0), HTML(value='')))"
      ]
     },
     "metadata": {},
     "output_type": "display_data"
    },
    {
     "name": "stderr",
     "output_type": "stream",
     "text": [
      "WARNING:root:removed error img: test_remove/sub2/file3.jpg\n",
      "WARNING:root:removed error img: test_remove/sub2/file4.jpeg\n"
     ]
    },
    {
     "data": {
      "application/vnd.jupyter.widget-view+json": {
       "model_id": "",
       "version_major": 2,
       "version_minor": 0
      },
      "text/plain": [
       "HBox(children=(FloatProgress(value=0.0, max=1.0), HTML(value='')))"
      ]
     },
     "metadata": {},
     "output_type": "display_data"
    },
    {
     "name": "stderr",
     "output_type": "stream",
     "text": [
      "WARNING:root:removed error img: test_remove/sub2/sub3/file_5.jpeg\n",
      "WARNING:root:removed error img: test_remove/file_1.JPEG\n"
     ]
    },
    {
     "name": "stdout",
     "output_type": "stream",
     "text": [
      "\r",
      "[PosixPath('test_remove/file_1.txt'), PosixPath('test_remove/sub1'), PosixPath('test_remove/sub2')]\n",
      "[PosixPath('test_remove/sub1/file3 haha.txt')]\n",
      "[PosixPath('test_remove/sub2/sub3')]\n",
      "[]\n"
     ]
    }
   ],
   "source": [
    "# hide\n",
    "testing_image_cleaner(clean_error_img)"
   ]
  },
  {
   "cell_type": "code",
   "execution_count": null,
   "metadata": {},
   "outputs": [],
   "source": []
  }
 ],
 "metadata": {
  "kernelspec": {
   "display_name": "Python 3",
   "language": "python",
   "name": "python3"
  },
  "language_info": {
   "codemirror_mode": {
    "name": "ipython",
    "version": 3
   },
   "file_extension": ".py",
   "mimetype": "text/x-python",
   "name": "python",
   "nbconvert_exporter": "python",
   "pygments_lexer": "ipython3",
   "version": "3.7.4"
  },
  "toc": {
   "base_numbering": 1,
   "nav_menu": {},
   "number_sections": true,
   "sideBar": true,
   "skip_h1_title": false,
   "title_cell": "Table of Contents",
   "title_sidebar": "Contents",
   "toc_cell": false,
   "toc_position": {},
   "toc_section_display": true,
   "toc_window_display": false
  }
 },
 "nbformat": 4,
 "nbformat_minor": 4
}
