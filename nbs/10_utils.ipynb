{
 "cells": [
  {
   "cell_type": "markdown",
   "source": [
    "# Utilities\r\n",
    "> Useful function and utilities"
   ],
   "metadata": {}
  },
  {
   "cell_type": "code",
   "execution_count": 1,
   "source": [
    "# default_exp utils"
   ],
   "outputs": [],
   "metadata": {}
  },
  {
   "cell_type": "markdown",
   "source": [
    "## Image"
   ],
   "metadata": {}
  },
  {
   "cell_type": "markdown",
   "source": [
    "### Cleaning up error image"
   ],
   "metadata": {}
  },
  {
   "cell_type": "code",
   "execution_count": 2,
   "source": [
    "# export\r\n",
    "import os\r\n",
    "import logging\r\n",
    "from typing import Callable, List\r\n",
    "from pathlib import Path\r\n",
    "\r\n",
    "from IPython.core.magic import register_cell_magic\r\n",
    "from IPython.display import Javascript\r\n",
    "from ipywidgets import Output, VBox, Button, HTML\r\n",
    "from PIL import Image\r\n",
    "from tqdm.notebook import tqdm\r\n",
    "from uuid import uuid4"
   ],
   "outputs": [],
   "metadata": {}
  },
  {
   "cell_type": "markdown",
   "source": [
    "In some cases, we have error image that will interrupt model trainging. We can use ```clean_error_img``` to clean the image folder"
   ],
   "metadata": {}
  },
  {
   "cell_type": "code",
   "execution_count": 3,
   "source": [
    "# export\r\n",
    "def check_img(\r\n",
    "    img: Path,\r\n",
    "    formats: List[str] = [\".jpg\", \".jpeg\", \".png\", \".bmp\"],\r\n",
    ") -> None:\r\n",
    "    \"\"\"\r\n",
    "    Check on a single image,\r\n",
    "    If it's quality is troublesome\r\n",
    "        we unlink/ditch the image\r\n",
    "    \"\"\"\r\n",
    "    img = Path(img)\r\n",
    "    # check if this path is an image\r\n",
    "    if img.suffix.lower().split(\"?\")[0] not in formats:\r\n",
    "        return\r\n",
    "\r\n",
    "    try:\r\n",
    "        # try to open that image\r\n",
    "        _ = Image.open(img).load()\r\n",
    "    except Exception as e:\r\n",
    "        if img.exists():\r\n",
    "            img.unlink()\r\n",
    "            logging.warning(f\"removed error img: {img}\")\r\n",
    "\r\n",
    "\r\n",
    "def clean_error_img(\r\n",
    "    path: Path,\r\n",
    "    progress: bool = True,\r\n",
    ") -> None:\r\n",
    "    \"\"\"\r\n",
    "    - path: an image directory\r\n",
    "    - progress: do we print out progress bar or not\r\n",
    "        default True\r\n",
    "    \"\"\"\r\n",
    "    path = Path(path)\r\n",
    "\r\n",
    "    # check directory existence\r\n",
    "    if path.exists() == False:\r\n",
    "        raise FileExistsError(\r\n",
    "            f\"\"\"path does not exists on:{path}, \r\n",
    "    make sure there is a directory \"{path.name}\".\r\n",
    "    under directory \"{path.parent}\"\r\n",
    "    \"\"\")\r\n",
    "\r\n",
    "    # create iterator, probably with progress bar\r\n",
    "    iterator = tqdm(list(path.iterdir()), leave=False)\\\r\n",
    "        if progress else path.iterdir()\r\n",
    "\r\n",
    "    for obj in iterator:\r\n",
    "        if obj.is_dir():\r\n",
    "            # use recursion to clean the sub folder\r\n",
    "            clean_error_img(obj, progress=progress)\r\n",
    "        else:\r\n",
    "            # cheking on a single image\r\n",
    "            check_img(obj)"
   ],
   "outputs": [],
   "metadata": {}
  },
  {
   "cell_type": "markdown",
   "source": [
    "## Testing"
   ],
   "metadata": {}
  },
  {
   "cell_type": "markdown",
   "source": [
    "### test image cleaner"
   ],
   "metadata": {}
  },
  {
   "cell_type": "code",
   "execution_count": 4,
   "source": [
    "# hide\r\n",
    "def _testing_image_cleaner(func: Callable) -> None:\r\n",
    "    path = Path(\"./test_remove\")\r\n",
    "    os.system(f\"rm -rf {path}\")\r\n",
    "    path.mkdir()\r\n",
    "    with open(path/f\"file_1.JPEG\", \"w\") as f:\r\n",
    "        f.write(\"fake image\")\r\n",
    "        \r\n",
    "    with open(path/f\"file_1.jpg\", \"w\") as f:\r\n",
    "        f.write(\"fake image\")\r\n",
    "        \r\n",
    "    with open(path/f\"file_1.txt\", \"w\") as f:\r\n",
    "        f.write(\"not image\")\r\n",
    "        \r\n",
    "    with open(path/f\"file_2.png\", \"w\") as f:\r\n",
    "        f.write(\"fake image\")\r\n",
    "    \r\n",
    "    sub1 = path/\"sub1\"\r\n",
    "    sub2 = path/\"sub2\"\r\n",
    "    sub1.mkdir()\r\n",
    "    sub2.mkdir()\r\n",
    "    sub3 = sub2/\"sub3\"\r\n",
    "    sub3.mkdir()\r\n",
    "    \r\n",
    "    with open(sub1/\"file3.BMP\", \"w\") as f:\r\n",
    "        f.write(\"fake image\")\r\n",
    "        \r\n",
    "    with open(sub1/\"file3 haha.txt\", \"w\") as f:\r\n",
    "        f.write(\"not image\")\r\n",
    "        \r\n",
    "    with open(sub1/\"😱file3 haha.jpg\", \"w\") as f:\r\n",
    "        f.write(\"fake image\")\r\n",
    "        \r\n",
    "    with open(sub2/\"file3.jpg\", \"w\") as f:\r\n",
    "        f.write(\"fake image\")\r\n",
    "    \r\n",
    "    with open(sub2/\"file4.jpeg\", \"w\") as f:\r\n",
    "        f.write(\"fake image\")\r\n",
    "        \r\n",
    "    file5 = sub3/\"file_5.jpeg\"\r\n",
    "    with open(file5, \"w\") as f:\r\n",
    "        f.write(\"fake image\")\r\n",
    "        \r\n",
    "    func(path)\r\n",
    "    for p in [path, sub1, sub2, sub3]:\r\n",
    "        print(list(p.iterdir()))\r\n",
    "    os.system(f\"rm -rf {path}\")"
   ],
   "outputs": [],
   "metadata": {}
  },
  {
   "cell_type": "code",
   "execution_count": 5,
   "source": [
    "# hide\r\n",
    "testing_image_cleaner(clean_error_img)"
   ],
   "outputs": [
    {
     "output_type": "display_data",
     "data": {
      "application/vnd.jupyter.widget-view+json": {
       "version_major": 2,
       "version_minor": 0,
       "model_id": "6ffafcbbb6be494cbaf02300656ff2de"
      },
      "text/plain": [
       "HBox(children=(HTML(value=''), FloatProgress(value=0.0, max=6.0), HTML(value='')))"
      ]
     },
     "metadata": {}
    },
    {
     "output_type": "stream",
     "name": "stderr",
     "text": [
      "WARNING:root:removed error img: test_remove\\file_1.JPEG\n",
      "WARNING:root:removed error img: test_remove\\file_1.jpg\n",
      "WARNING:root:removed error img: test_remove\\file_2.png\n"
     ]
    },
    {
     "output_type": "display_data",
     "data": {
      "application/vnd.jupyter.widget-view+json": {
       "version_major": 2,
       "version_minor": 0,
       "model_id": "88fdb9f9762541abb0e93c552e1fdd7c"
      },
      "text/plain": [
       "HBox(children=(HTML(value=''), FloatProgress(value=0.0, max=3.0), HTML(value='')))"
      ]
     },
     "metadata": {}
    },
    {
     "output_type": "stream",
     "name": "stderr",
     "text": [
      "WARNING:root:removed error img: test_remove\\sub1\\file3.BMP\n",
      "WARNING:root:removed error img: test_remove\\sub1\\😱file3 haha.jpg\n"
     ]
    },
    {
     "output_type": "display_data",
     "data": {
      "application/vnd.jupyter.widget-view+json": {
       "version_major": 2,
       "version_minor": 0,
       "model_id": "aa85395fc4104498937cd6470fd00fd9"
      },
      "text/plain": [
       "HBox(children=(HTML(value=''), FloatProgress(value=0.0, max=3.0), HTML(value='')))"
      ]
     },
     "metadata": {}
    },
    {
     "output_type": "stream",
     "name": "stderr",
     "text": [
      "WARNING:root:removed error img: test_remove\\sub2\\file3.jpg\n",
      "WARNING:root:removed error img: test_remove\\sub2\\file4.jpeg\n"
     ]
    },
    {
     "output_type": "display_data",
     "data": {
      "application/vnd.jupyter.widget-view+json": {
       "version_major": 2,
       "version_minor": 0,
       "model_id": "9db9600f8f63458da2fefd76d44ae328"
      },
      "text/plain": [
       "HBox(children=(HTML(value=''), FloatProgress(value=0.0, max=1.0), HTML(value='')))"
      ]
     },
     "metadata": {}
    },
    {
     "output_type": "stream",
     "name": "stderr",
     "text": [
      "WARNING:root:removed error img: test_remove\\sub2\\sub3\\file_5.jpeg\n"
     ]
    },
    {
     "output_type": "stream",
     "name": "stdout",
     "text": [
      "[WindowsPath('test_remove/file_1.txt'), WindowsPath('test_remove/sub1'), WindowsPath('test_remove/sub2')]\n",
      "[WindowsPath('test_remove/sub1/file3 haha.txt')]\n",
      "[WindowsPath('test_remove/sub2/sub3')]\n",
      "[]\n"
     ]
    }
   ],
   "metadata": {}
  },
  {
   "cell_type": "markdown",
   "source": [
    "## Magic function ```hush```\n",
    "> Run things quietly..."
   ],
   "metadata": {}
  },
  {
   "cell_type": "markdown",
   "source": [
    "This is a magical cell function, so remember to use the ```%%```"
   ],
   "metadata": {}
  },
  {
   "cell_type": "markdown",
   "source": [
    "Now we have 2 versions of hush, the 1st on is the backup one, that using ipywidget as event trigger"
   ],
   "metadata": {}
  },
  {
   "cell_type": "code",
   "execution_count": 6,
   "source": [
    "# hide\r\n",
    "# @register_cell_magic\r\n",
    "def hush(line, cell):\r\n",
    "    \"\"\"\r\n",
    "    A magic cell function to collapse the print out\r\n",
    "    %%hush\r\n",
    "    how_loud = 100\r\n",
    "    how_verbose = \"very\"\r\n",
    "    do_some_python_thing(how_loud, how_verbose)\r\n",
    "    \"\"\"\r\n",
    "    # the current output widget\r\n",
    "    out = Output()\r\n",
    "    output_box = VBox([out])\r\n",
    "    # default setting is to hide the print out\r\n",
    "    output_box.layout.display = \"none\"\r\n",
    "    # the toggling button\r\n",
    "    show_btn = Button(description=\"Show output\")\r\n",
    "\r\n",
    "    def toggle_output(o):\r\n",
    "        # show output, change the button to hide\r\n",
    "        if output_box.layout.display == \"none\":\r\n",
    "            output_box.layout.display = \"block\"\r\n",
    "            show_btn.description = \"Hide output\"\r\n",
    "        # hide output, change the button to show\r\n",
    "        else:\r\n",
    "            output_box.layout.display = \"none\"\r\n",
    "            show_btn.description = \"Show output\"\r\n",
    "\r\n",
    "    # assign toggle to event\r\n",
    "    show_btn.on_click(toggle_output)\r\n",
    "\r\n",
    "    # A control panel containing a button\r\n",
    "    # and the output box\r\n",
    "    total_control = VBox([show_btn, output_box])\r\n",
    "    display(total_control)\r\n",
    "\r\n",
    "    with out:\r\n",
    "        ishell = get_ipython()\r\n",
    "        # excute the code in cell\r\n",
    "        result = ishell.run_cell(\r\n",
    "            cell, silent=False)\r\n",
    "\r\n",
    "    # we still want the error to be proclaimed loudly\r\n",
    "    if result.error_in_exec:\r\n",
    "        logging.error(f\"'{result.error_in_exec}' happened, breaking silence now\")\r\n",
    "        result.raise_error()"
   ],
   "outputs": [],
   "metadata": {}
  },
  {
   "cell_type": "markdown",
   "source": [
    "But this version of ```toggle action``` will be stuck by the ongoing interactive\n",
    "\n",
    "If the process is working on some thing, you can't toggle until the end of the execution.\n",
    "\n",
    "The further improvement will be move the toggle entirely to JavaScript, hence the second version"
   ],
   "metadata": {}
  },
  {
   "cell_type": "markdown",
   "source": [
    "### Hush event in JS\n",
    "> As not going through any amount of python backend after run"
   ],
   "metadata": {}
  },
  {
   "cell_type": "code",
   "execution_count": 14,
   "source": [
    "# export\r\n",
    "\r\n",
    "@register_cell_magic\r\n",
    "def hush(line, cell):\r\n",
    "    \"\"\"\r\n",
    "    A magic cell function to collapse the print out\r\n",
    "    %%hush\r\n",
    "    how_loud = 100\r\n",
    "    how_verbose = \"very\"\r\n",
    "    do_some_python_thing(how_loud, how_verbose)\r\n",
    "    \"\"\"\r\n",
    "    # the current output widget\r\n",
    "    out = Output()\r\n",
    "    output_box = VBox([out])\r\n",
    "    \r\n",
    "    # create uuid for DOM identifying\r\n",
    "    uuid = str(uuid4())\r\n",
    "\r\n",
    "    # default setting is to hide the print out\r\n",
    "    output_box.layout.display = \"none\"\r\n",
    "    # the toggling button\r\n",
    "    show_btn = Button(description=\"toggle output\")\r\n",
    "    show_btn.add_class(f\"hush_toggle_{uuid}\")\r\n",
    "    output_box.add_class(f\"hush_output_{uuid}\")\r\n",
    "    \r\n",
    "    \r\n",
    "    # A control panel containing a button\r\n",
    "    # and the output box\r\n",
    "    total_control = VBox([show_btn, output_box])\r\n",
    "    display(total_control)\r\n",
    "    \r\n",
    "    # assign JS listener\r\n",
    "    display(Javascript(f\"\"\"\r\n",
    "    console.info(\"loading toggle event: {uuid}\")\r\n",
    "    const toggle_hush = (e) =>\\u007b\r\n",
    "        var op = document.querySelector(\".hush_output_{uuid}\");\r\n",
    "        if(op.style.display==\"none\")\\u007b\r\n",
    "             op.style.display=\"block\"\r\n",
    "\r\n",
    "        \\u007d else \\u007b\r\n",
    "            op.style.display=\"none\"\r\n",
    "        \\u007d\r\n",
    "\r\n",
    "    \\u007d\r\n",
    "    document.querySelector('.hush_toggle_{uuid}').onclick=toggle_hush\r\n",
    "    \"\"\"))\r\n",
    "\r\n",
    "    with out:\r\n",
    "        ishell = get_ipython()\r\n",
    "        # excute the code in cell\r\n",
    "        result = ishell.run_cell(\r\n",
    "            cell, silent=False)\r\n",
    "\r\n",
    "    # we still want the error to be proclaimed loudly\r\n",
    "    if result.error_in_exec:\r\n",
    "        logging.error(f\"'{result.error_in_exec}' happened, breaking silence now\")\r\n",
    "        result.raise_error()"
   ],
   "outputs": [],
   "metadata": {}
  },
  {
   "cell_type": "markdown",
   "source": [
    "### Try hushing various kinds of info"
   ],
   "metadata": {}
  },
  {
   "cell_type": "markdown",
   "source": [
    "* html display\n",
    "* print\n",
    "* logging"
   ],
   "metadata": {}
  },
  {
   "cell_type": "code",
   "execution_count": 15,
   "source": [
    "%%hush\r\n",
    "import pandas as pd\r\n",
    "import logging\r\n",
    "logging.getLogger().setLevel('DEBUG')\r\n",
    "a = 1\r\n",
    "for i in range(1000):\r\n",
    "    print(i, end=\"\\t\")\r\n",
    "    \r\n",
    "logging.info(\"a lots of text, VERBOSITY!!\"*100)\r\n",
    "\r\n",
    "# a big dataframe\r\n",
    "display(pd.DataFrame({\"a\":[1,2]*50}))\r\n",
    "\r\n",
    "# a big output\r\n",
    "pd.DataFrame({\"b\":range(100)})"
   ],
   "outputs": [
    {
     "output_type": "display_data",
     "data": {
      "application/vnd.jupyter.widget-view+json": {
       "version_major": 2,
       "version_minor": 0,
       "model_id": "26cdf56ab7534ab4aed726cb2bd91fb6"
      },
      "text/plain": [
       "VBox(children=(Button(description='toggle output', style=ButtonStyle(), _dom_classes=('hush_toggle_581638ff-d6…"
      ]
     },
     "metadata": {}
    },
    {
     "output_type": "display_data",
     "data": {
      "application/javascript": "\n    console.info(\"loading toggle event: 581638ff-d660-41e0-9532-63f3c66ad438\")\n    const toggle_hush = (e) =>{\n        var op = document.querySelector(\".hush_output_581638ff-d660-41e0-9532-63f3c66ad438\");\n        if(op.style.display==\"none\"){\n             op.style.display=\"block\"\n\n        } else {\n            op.style.display=\"none\"\n        }\n\n    }\n    document.querySelector('.hush_toggle_581638ff-d660-41e0-9532-63f3c66ad438').onclick=toggle_hush\n    ",
      "text/plain": [
       "<IPython.core.display.Javascript object>"
      ]
     },
     "metadata": {}
    }
   ],
   "metadata": {}
  },
  {
   "cell_type": "markdown",
   "source": [
    "### Capable of open/close verbosity during the main process"
   ],
   "metadata": {}
  },
  {
   "cell_type": "code",
   "execution_count": 16,
   "source": [
    "# Testing hush\r\n",
    "%%hush\r\n",
    "from time import sleep\r\n",
    "for i in tqdm(range(10)):\r\n",
    "    sleep(1)"
   ],
   "outputs": [
    {
     "output_type": "stream",
     "name": "stderr",
     "text": [
      "UsageError: Line magic function `%%hush` not found.\n"
     ]
    }
   ],
   "metadata": {}
  },
  {
   "cell_type": "markdown",
   "source": [
    "### But we still want the error to be loud\n",
    "> As such information should interrupt the user"
   ],
   "metadata": {}
  },
  {
   "cell_type": "code",
   "execution_count": 13,
   "source": [
    "# Testing hush when exception is raised\r\n",
    "%%hush\r\n",
    "def _test_hush():\r\n",
    "    for i in range(20):\r\n",
    "        print(f\"some logging:\\t{i}!\")\r\n",
    "    raise ValueError(\"but some error, because life!\")\r\n",
    "\r\n"
   ],
   "outputs": [
    {
     "output_type": "stream",
     "name": "stderr",
     "text": [
      "UsageError: Line magic function `%%hush` not found.\n"
     ]
    }
   ],
   "metadata": {}
  },
  {
   "cell_type": "code",
   "execution_count": 21,
   "source": [
    "# hide\r\n",
    "# To be able to run the tests in the Notebook\r\n",
    "%pip install -q ipytest\r\n",
    "import ipytest\r\n",
    "import sys\r\n",
    "\r\n",
    "sys.path.append(Path(\"..\").resolve().absolute())\r\n",
    "ipytest.autoconfig()\r\n"
   ],
   "outputs": [
    {
     "output_type": "stream",
     "name": "stdout",
     "text": [
      "Note: you may need to restart the kernel to use updated packages.\n"
     ]
    },
    {
     "output_type": "stream",
     "name": "stderr",
     "text": [
      "WARNING: You are using pip version 21.0.1; however, version 21.2.4 is available.\n",
      "You should consider upgrading via the 'C:\\Python37-32\\python.exe -m pip install --upgrade pip' command.\n"
     ]
    }
   ],
   "metadata": {}
  },
  {
   "cell_type": "code",
   "execution_count": null,
   "source": [
    "# exporti\r\n",
    "from pathlib import Path\r\n",
    "from shutil import copy\r\n",
    "\r\n",
    "import pytest\r\n",
    "from test.common.utils_4_tests import IMG_DIR, check_no_log, check_only_warning"
   ],
   "outputs": [],
   "metadata": {}
  },
  {
   "cell_type": "markdown",
   "source": [
    "It seems import above might not work... need to be explored."
   ],
   "metadata": {}
  },
  {
   "cell_type": "code",
   "execution_count": null,
   "source": [
    "# exporti\r\n",
    "\r\n",
    "images_rob = list((IMG_DIR / \"robustness\").glob(\"*.*\"))\r\n",
    "\r\n",
    "@pytest.mark.parametrize(\"img\", images_rob, ids=[i.name for i in images_rob])\r\n",
    "def test_check_img_error(img:Path, tmpdir, caplog):\r\n",
    "    \"\"\"Check check_img with incorrect images\"\"\"\r\n",
    "    img_copy = tmpdir / img.name\r\n",
    "    copy(img, img_copy)\r\n",
    "    check_img(img_copy)\r\n",
    "    check_only_warning(caplog, img.name)\r\n",
    "\r\n",
    "\r\n",
    "def test_check_img_empty_wrong_suffix(tmpdir, caplog):\r\n",
    "    \"\"\"Check check_img with wrong image that does not have a correct extension\"\"\"\r\n",
    "    img = Path(tmpdir) / \"empty.txt\"\r\n",
    "    img.write_bytes(b\"\")\r\n",
    "    check_img(img)\r\n",
    "    check_no_log(caplog)"
   ],
   "outputs": [],
   "metadata": {}
  },
  {
   "cell_type": "code",
   "execution_count": 29,
   "source": [
    "# hide\r\n",
    "ipytest.run()"
   ],
   "outputs": [
    {
     "output_type": "stream",
     "name": "stderr",
     "text": [
      "WARNING:root:removed error img: pic_0.bmp\n"
     ]
    },
    {
     "output_type": "stream",
     "name": "stdout",
     "text": [
      "F                                                                        [100%]##vso[results.publish type=JUnit;runTitle='Pytest results';]e:\\AnsysDev\\_perso_repo\\unpackai\\nbs\\test-output.xml\n",
      "##vso[task.logissue type=error;]1 test(s) failed, 1 test(s) collected.\n",
      "##vso[task.logissue type=warning;]Coverage XML was not created, skipping upload.\n",
      "\n",
      "================================== FAILURES ===================================\n",
      "_______________________________ test_check_img ________________________________\n",
      "\n",
      "caplog = <_pytest.logging.LogCaptureFixture object at 0x059728B0>\n",
      "\n",
      "    def test_check_img(caplog):\n",
      "        \"\"\"Dummy test of check_img\"\"\"\n",
      "        img = Path(\"pic_0.bmp\")\n",
      "        img.write_bytes(b\"0\")\n",
      "        check_img(img)\n",
      "    \n",
      ">       check_only_warning(caplog, \"pic_0.bmp\")\n",
      "E       NameError: name 'check_only_warning' is not defined\n",
      "\n",
      "C:\\Users\\jthuong\\AppData\\Local\\Temp/ipykernel_18448/4147450626.py:7: NameError\n",
      "------------------------------ Captured log call ------------------------------\n",
      "WARNING  root:3887627320.py:22 removed error img: pic_0.bmp\n",
      "-- generated xml file: e:\\AnsysDev\\_perso_repo\\unpackai\\nbs\\test-output.xml ---\n",
      "=========================== short test summary info ===========================\n",
      "FAILED tmp7lv1dzbg.py::test_check_img - NameError: name 'check_only_warning' ...\n",
      "1 failed in 0.02s\n"
     ]
    }
   ],
   "metadata": {}
  }
 ],
 "metadata": {
  "kernelspec": {
   "name": "python3",
   "display_name": "Python 3.7.1 32-bit"
  },
  "language_info": {
   "codemirror_mode": {
    "name": "ipython",
    "version": 3
   },
   "file_extension": ".py",
   "mimetype": "text/x-python",
   "name": "python",
   "nbconvert_exporter": "python",
   "pygments_lexer": "ipython3",
   "version": "3.7.1"
  },
  "toc": {
   "base_numbering": 1,
   "nav_menu": {},
   "number_sections": true,
   "sideBar": true,
   "skip_h1_title": false,
   "title_cell": "Table of Contents",
   "title_sidebar": "Contents",
   "toc_cell": false,
   "toc_position": {},
   "toc_section_display": true,
   "toc_window_display": false
  },
  "interpreter": {
   "hash": "8a428f088ac08f7fdf89fb2f4bb23c2bc8a83acc5d068a78d54410b8e3eeec73"
  }
 },
 "nbformat": 4,
 "nbformat_minor": 4
}