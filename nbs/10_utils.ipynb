{
 "cells": [
  {
   "cell_type": "markdown",
   "metadata": {},
   "source": [
    "# Utilities\n",
    "> Useful function and utilities"
   ]
  },
  {
   "cell_type": "code",
   "execution_count": null,
   "metadata": {},
   "outputs": [],
   "source": [
    "# default_exp utils"
   ]
  },
  {
   "cell_type": "code",
   "execution_count": null,
   "metadata": {},
   "outputs": [],
   "source": [
    "# export\r\n",
    "import logging\r\n",
    "import requests\r\n",
    "from pathlib import Path\r\n",
    "from typing import Callable, List, Union\r\n",
    "\r\n",
    "from bs4 import BeautifulSoup\r\n",
    "from IPython.core import magic\r\n",
    "from IPython.display import Javascript\r\n",
    "from ipywidgets import Output, VBox, Button, HTML\r\n",
    "from PIL import Image\r\n",
    "from tqdm.notebook import tqdm\r\n",
    "from uuid import uuid4\r\n",
    "\r\n",
    "PathStr = Union[Path, str]"
   ]
  },
  {
   "cell_type": "code",
   "execution_count": null,
   "metadata": {},
   "outputs": [
    {
     "name": "stderr",
     "output_type": "stream",
     "text": [
      "WARNING: You are using pip version 21.0.1; however, version 21.2.4 is available.\n",
      "You should consider upgrading via the 'c:\\python37-32\\python.exe -m pip install --upgrade pip' command.\n"
     ]
    }
   ],
   "source": [
    "# hide\r\n",
    "# To be able to run the tests in the Notebook\r\n",
    "!pip install -q ipytest pytest\r\n",
    "from pathlib import Path\r\n",
    "import ipytest\r\n",
    "import sys\r\n",
    "\r\n",
    "ipytest.autoconfig()\r\n",
    "\r\n",
    "root_dir = Path(\"..\").resolve()\r\n",
    "sys.path.append(str(root_dir / \"test\"))\r\n"
   ]
  },
  {
   "cell_type": "code",
   "execution_count": null,
   "metadata": {},
   "outputs": [],
   "source": [
    "# exportest\r\n",
    "# For Test Cases (might have duplicate import because it will be in a dedicated file)\r\n",
    "from pathlib import Path\r\n",
    "from shutil import copy, rmtree\r\n",
    "\r\n",
    "import pytest\r\n",
    "from PIL import Image\r\n",
    "from test_common.utils_4_tests import DATA_DIR, IMG_DIR, check_no_log, check_only_warning"
   ]
  },
  {
   "cell_type": "markdown",
   "metadata": {},
   "source": [
    "## Image"
   ]
  },
  {
   "cell_type": "markdown",
   "metadata": {},
   "source": [
    "### Cleaning up error image"
   ]
  },
  {
   "cell_type": "markdown",
   "metadata": {},
   "source": [
    "In some cases, we have error image that will interrupt model trainging. We can use ```clean_error_img``` to clean the image folder"
   ]
  },
  {
   "cell_type": "code",
   "execution_count": null,
   "metadata": {},
   "outputs": [],
   "source": [
    "# export\r\n",
    "def check_img(\r\n",
    "    img: Path,\r\n",
    "    formats: List[str] = [\".jpg\", \".jpeg\", \".png\", \".bmp\"],\r\n",
    ") -> None:\r\n",
    "    \"\"\"\r\n",
    "    Check on a single image,\r\n",
    "    If it's quality is troublesome\r\n",
    "        we unlink/ditch the image\r\n",
    "    \"\"\"\r\n",
    "    img = Path(img)\r\n",
    "    # check if this path is an image\r\n",
    "    if img.suffix.lower().split(\"?\")[0] not in formats:\r\n",
    "        return\r\n",
    "\r\n",
    "    try:\r\n",
    "        # try to open that image and then (to check truncated image)\r\n",
    "        # We need to include in a with block to close the image before deleting\r\n",
    "        with Image.open(img) as im:\r\n",
    "            im.load()\r\n",
    "    except Exception:\r\n",
    "        if img.exists():\r\n",
    "            img.unlink()\r\n",
    "            logging.warning(f\"Removed erroneous img: {img}\")\r\n",
    "            return\r\n",
    "\r\n",
    "\r\n",
    "def clean_error_img(\r\n",
    "    path: Path,\r\n",
    "    progress: bool = True,\r\n",
    ") -> None:\r\n",
    "    \"\"\"\r\n",
    "    - path: an image directory\r\n",
    "    - progress: do we print out progress bar or not\r\n",
    "        default True\r\n",
    "    \"\"\"\r\n",
    "    path = Path(path)\r\n",
    "\r\n",
    "    # check directory existence\r\n",
    "    if path.exists() == False:\r\n",
    "        raise FileExistsError(\r\n",
    "            f\"\"\"path does not exists on:{path}, \r\n",
    "    make sure there is a directory \"{path.name}\".\r\n",
    "    under directory \"{path.parent}\"\r\n",
    "    \"\"\")\r\n",
    "\r\n",
    "    # create iterator, probably with progress bar\r\n",
    "    iterator = tqdm(list(path.iterdir()), leave=False)\\\r\n",
    "        if progress else path.iterdir()\r\n",
    "\r\n",
    "    for obj in iterator:\r\n",
    "        if obj.is_dir():\r\n",
    "            # use recursion to clean the sub folder\r\n",
    "            clean_error_img(obj, progress=progress)\r\n",
    "        else:\r\n",
    "            # cheking on a single image\r\n",
    "            check_img(obj)"
   ]
  },
  {
   "cell_type": "code",
   "execution_count": null,
   "metadata": {},
   "outputs": [],
   "source": [
    "# exportest\r\n",
    "\r\n",
    "images_rob = list((IMG_DIR / \"robustness\").glob(\"*.*\"))\r\n",
    "IMG_RGB = Image.new(\"RGB\", (60, 30), color=(73, 109, 137))\r\n",
    "IMG_RGBA = Image.new(\"RGBA\", (60, 30), color=(73, 109, 137, 100))\r\n",
    "\r\n",
    "@pytest.mark.parametrize(\"img\", images_rob, ids=[i.name for i in images_rob])\r\n",
    "def test_check_img_error(img: Path, tmpdir, caplog):\r\n",
    "    \"\"\"Test check_img with incorrect images\"\"\"\r\n",
    "    img_copy = Path(tmpdir) / img.name\r\n",
    "    copy(img, img_copy)\r\n",
    "    check_img(img_copy)\r\n",
    "    check_only_warning(caplog, img.name)\r\n",
    "    assert not img_copy.is_file(), f\"File {img_copy} not be deleted\"\r\n",
    "\r\n",
    "\r\n",
    "def test_check_img_empty_wrong_suffix(tmpdir, caplog):\r\n",
    "    \"\"\"Test check_img with wrong image that does not have a correct extension\"\"\"\r\n",
    "    img_path = Path(tmpdir) / \"empty.txt\"\r\n",
    "    img_path.write_bytes(b\"\")\r\n",
    "    check_img(img_path)\r\n",
    "    check_no_log(caplog)\r\n",
    "    assert img_path.is_file(), f\"Image {img_path} not found\"\r\n",
    "\r\n",
    "\r\n",
    "@pytest.mark.parametrize(\"img\", [IMG_RGB, IMG_RGBA])\r\n",
    "@pytest.mark.parametrize(\"ext\", [\"png\", \"bmp\", \"jpg\", \"jpeg\"])\r\n",
    "def test_check_img_correct(img: Image, ext: str, tmpdir, caplog):\r\n",
    "    \"\"\"Correct that correct image is not removed\"\"\"\r\n",
    "    alpha_suffix = \"_alpha\" if len(img.getcolors()[0][1]) == 4 else \"\"\r\n",
    "    if alpha_suffix and ext.startswith(\"jp\"):\r\n",
    "        pytest.skip(\"JPG does not support RGBA\")\r\n",
    "\r\n",
    "    img_path = Path(tmpdir) / f\"correct_image_blue{alpha_suffix}.{ext}\"\r\n",
    "    img.save(img_path)\r\n",
    "    check_img(img_path)\r\n",
    "    check_no_log(caplog)\r\n",
    "    assert img_path.is_file(), f\"Image {img_path} not found\"\r\n"
   ]
  },
  {
   "cell_type": "code",
   "execution_count": null,
   "metadata": {},
   "outputs": [],
   "source": [
    "# exportest\r\n",
    "\r\n",
    "def test_clean_error_img(tmpdir, monkeypatch) -> None:\r\n",
    "    \"\"\"Test clean_error_img\"\"\"\r\n",
    "    for img in images_rob:\r\n",
    "        copy(img, Path(tmpdir) / img.name)\r\n",
    "\r\n",
    "    monkeypatch.chdir(tmpdir)\r\n",
    "    root = Path(\".\")\r\n",
    "\r\n",
    "    sub1 = root / \"sub1\"\r\n",
    "    sub2 = root / \"sub2\"\r\n",
    "    sub1.mkdir()\r\n",
    "    sub2.mkdir()\r\n",
    "    sub3 = sub2 / \"sub3\"\r\n",
    "    sub3.mkdir()\r\n",
    "\r\n",
    "\r\n",
    "    (sub1 / \"file11.BMP\").write_text(\"fake image\")\r\n",
    "    (sub1/\"😱file12 haha.jpg\").write_text(\"fake image\")\r\n",
    "    (sub1 / \"file13 haha.txt\").write_text(\"not image\")\r\n",
    "    IMG_RGB.save(sub1 / \"img14_good.jpg\")\r\n",
    "    IMG_RGBA.save(sub1 / \"img15_good.png\")\r\n",
    "\r\n",
    "    (sub2 / \"file21.jpg\").write_text(\"fake image\")\r\n",
    "    (sub2 / \"file22.jpeg\").write_text(\"fake image\")\r\n",
    "\r\n",
    "    (sub3 / \"file31.jpeg\").write_text(\"fake image\")\r\n",
    "    IMG_RGB.save(sub3 / \"img32_good.jpeg\")\r\n",
    "    IMG_RGBA.save(sub3 / \"img33_good.bmp\")\r\n",
    "\r\n",
    "\r\n",
    "    good: List[Path] = list()\r\n",
    "    bad: List[Path] = list()\r\n",
    "\r\n",
    "    print(\"Existing files:\")\r\n",
    "    for file in root.rglob(\"*.*\"):\r\n",
    "        print(f\" * {file}\")\r\n",
    "        if file.suffix.lower() in [\".jpg\", \".jpeg\", \".png\", \".bmp\"]:\r\n",
    "            (good if \"good\" in file.name else bad).append(file)\r\n",
    "\r\n",
    "    print(\" => CLEANING\")\r\n",
    "    clean_error_img(root, progress=False)\r\n",
    "\r\n",
    "    good_removed = [f for f in good if not f.is_file()]\r\n",
    "    assert not good_removed, f\"Good pictures deleted: {good_removed}\"\r\n",
    "\r\n",
    "    bad_still_here = [f for f in bad if f.is_file()]\r\n",
    "    assert not bad_still_here, f\"Bad pictures not deleted: {bad_still_here}\"\r\n"
   ]
  },
  {
   "cell_type": "markdown",
   "metadata": {},
   "source": [
    "## Magic function ```hush```\n",
    "> Run things quietly..."
   ]
  },
  {
   "cell_type": "markdown",
   "metadata": {},
   "source": [
    "This is a magical cell function, so remember to use the ```%%```"
   ]
  },
  {
   "cell_type": "markdown",
   "metadata": {},
   "source": [
    "Now we have 2 versions of hush, the 1st on is the backup one, that using ipywidget as event trigger"
   ]
  },
  {
   "cell_type": "code",
   "execution_count": null,
   "metadata": {},
   "outputs": [],
   "source": [
    "# hide\r\n",
    "# @register_cell_magic\r\n",
    "def hush(line, cell):\r\n",
    "    \"\"\"\r\n",
    "    A magic cell function to collapse the print out\r\n",
    "    %%hush\r\n",
    "    how_loud = 100\r\n",
    "    how_verbose = \"very\"\r\n",
    "    do_some_python_thing(how_loud, how_verbose)\r\n",
    "    \"\"\"\r\n",
    "    # the current output widget\r\n",
    "    out = Output()\r\n",
    "    output_box = VBox([out])\r\n",
    "    # default setting is to hide the print out\r\n",
    "    output_box.layout.display = \"none\"\r\n",
    "    # the toggling button\r\n",
    "    show_btn = Button(description=\"Show output\")\r\n",
    "\r\n",
    "    def toggle_output(o):\r\n",
    "        # show output, change the button to hide\r\n",
    "        if output_box.layout.display == \"none\":\r\n",
    "            output_box.layout.display = \"block\"\r\n",
    "            show_btn.description = \"Hide output\"\r\n",
    "        # hide output, change the button to show\r\n",
    "        else:\r\n",
    "            output_box.layout.display = \"none\"\r\n",
    "            show_btn.description = \"Show output\"\r\n",
    "\r\n",
    "    # assign toggle to event\r\n",
    "    show_btn.on_click(toggle_output)\r\n",
    "\r\n",
    "    # A control panel containing a button\r\n",
    "    # and the output box\r\n",
    "    total_control = VBox([show_btn, output_box])\r\n",
    "    display(total_control)\r\n",
    "\r\n",
    "    with out:\r\n",
    "        ishell = get_ipython()\r\n",
    "        # excute the code in cell\r\n",
    "        result = ishell.run_cell(\r\n",
    "            cell, silent=False)\r\n",
    "\r\n",
    "    # we still want the error to be proclaimed loudly\r\n",
    "    if result.error_in_exec:\r\n",
    "        logging.error(f\"'{result.error_in_exec}' happened, breaking silence now\")\r\n",
    "        result.raise_error()"
   ]
  },
  {
   "cell_type": "markdown",
   "metadata": {},
   "source": [
    "But this version of ```toggle action``` will be stuck by the ongoing interactive\n",
    "\n",
    "If the process is working on some thing, you can't toggle until the end of the execution.\n",
    "\n",
    "The further improvement will be move the toggle entirely to JavaScript, hence the second version"
   ]
  },
  {
   "cell_type": "markdown",
   "metadata": {},
   "source": [
    "### Hush event in JS\n",
    "> As not going through any amount of python backend after run"
   ]
  },
  {
   "cell_type": "code",
   "execution_count": null,
   "metadata": {},
   "outputs": [],
   "source": [
    "# export\r\n",
    "\r\n",
    "@magic.register_cell_magic\r\n",
    "def hush(line, cell):\r\n",
    "    \"\"\"\r\n",
    "    A magic cell function to collapse the print out\r\n",
    "    %%hush\r\n",
    "    how_loud = 100\r\n",
    "    how_verbose = \"very\"\r\n",
    "    do_some_python_thing(how_loud, how_verbose)\r\n",
    "    \"\"\"\r\n",
    "    # the current output widget\r\n",
    "    out = Output()\r\n",
    "    output_box = VBox([out])\r\n",
    "    \r\n",
    "    # create uuid for DOM identifying\r\n",
    "    uuid = str(uuid4())\r\n",
    "\r\n",
    "    # default setting is to hide the print out\r\n",
    "    output_box.layout.display = \"none\"\r\n",
    "    # the toggling button\r\n",
    "    show_btn = Button(description=\"toggle output\")\r\n",
    "    show_btn.add_class(f\"hush_toggle_{uuid}\")\r\n",
    "    output_box.add_class(f\"hush_output_{uuid}\")\r\n",
    "    \r\n",
    "    \r\n",
    "    # A control panel containing a button\r\n",
    "    # and the output box\r\n",
    "    total_control = VBox([show_btn, output_box])\r\n",
    "    display(total_control)\r\n",
    "    \r\n",
    "    # assign JS listener\r\n",
    "    display(Javascript(f\"\"\"\r\n",
    "    console.info(\"loading toggle event: {uuid}\")\r\n",
    "    const toggle_hush = (e) =>\\u007b\r\n",
    "        var op = document.querySelector(\".hush_output_{uuid}\");\r\n",
    "        if(op.style.display==\"none\")\\u007b\r\n",
    "             op.style.display=\"block\"\r\n",
    "\r\n",
    "        \\u007d else \\u007b\r\n",
    "            op.style.display=\"none\"\r\n",
    "        \\u007d\r\n",
    "\r\n",
    "    \\u007d\r\n",
    "    document.querySelector('.hush_toggle_{uuid}').onclick=toggle_hush\r\n",
    "    \"\"\"))\r\n",
    "\r\n",
    "    with out:\r\n",
    "        ishell = get_ipython()\r\n",
    "        # excute the code in cell\r\n",
    "        result = ishell.run_cell(\r\n",
    "            cell, silent=False)\r\n",
    "\r\n",
    "    # we still want the error to be proclaimed loudly\r\n",
    "    if result.error_in_exec:\r\n",
    "        logging.error(f\"'{result.error_in_exec}' happened, breaking silence now\")\r\n",
    "        result.raise_error()"
   ]
  },
  {
   "cell_type": "markdown",
   "metadata": {},
   "source": [
    "### Try hushing various kinds of info"
   ]
  },
  {
   "cell_type": "markdown",
   "metadata": {},
   "source": [
    "* html display\n",
    "* print\n",
    "* logging"
   ]
  },
  {
   "cell_type": "code",
   "execution_count": null,
   "metadata": {},
   "outputs": [],
   "source": [
    "%%hush\r\n",
    "import pandas as pd\r\n",
    "import logging\r\n",
    "logging.getLogger().setLevel('DEBUG')\r\n",
    "a = 1\r\n",
    "for i in range(1000):\r\n",
    "    print(i, end=\"\\t\")\r\n",
    "    \r\n",
    "logging.info(\"a lots of text, VERBOSITY!!\"*100)\r\n",
    "\r\n",
    "# a big dataframe\r\n",
    "display(pd.DataFrame({\"a\":[1,2]*50}))\r\n",
    "\r\n",
    "# a big output\r\n",
    "pd.DataFrame({\"b\":range(100)})"
   ]
  },
  {
   "cell_type": "markdown",
   "metadata": {},
   "source": [
    "### Capable of open/close verbosity during the main process"
   ]
  },
  {
   "cell_type": "code",
   "execution_count": null,
   "metadata": {},
   "outputs": [],
   "source": [
    "# Testing hush\r\n",
    "%%hush\r\n",
    "from time import sleep\r\n",
    "for i in tqdm(range(10)):\r\n",
    "    sleep(1)"
   ]
  },
  {
   "cell_type": "markdown",
   "metadata": {},
   "source": [
    "### But we still want the error to be loud\n",
    "> As such information should interrupt the user"
   ]
  },
  {
   "cell_type": "code",
   "execution_count": null,
   "metadata": {},
   "outputs": [],
   "source": [
    "# Testing hush when exception is raised\r\n",
    "%%hush\r\n",
    "def _test_hush():\r\n",
    "    for i in range(20):\r\n",
    "        print(f\"some logging:\\t{i}!\")\r\n",
    "    raise ValueError(\"but some error, because life!\")\r\n",
    "\r\n"
   ]
  },
  {
   "cell_type": "markdown",
   "metadata": {},
   "source": [
    "## Fetching static files"
   ]
  },
  {
   "cell_type": "code",
   "execution_count": null,
   "metadata": {},
   "outputs": [],
   "source": [
    "# export\r\n",
    "def static_root() -> Path:\r\n",
    "    \"\"\"\r\n",
    "    Return static path\r\n",
    "    \"\"\"\r\n",
    "    import unpackai\r\n",
    "    unpackai_path = Path(unpackai.__path__[0])\r\n",
    "    if unpackai_path.exists() == False:\r\n",
    "        with open(f\"{unpackai_path}.egg-link\",\"r\") as f:\r\n",
    "            unpackai_path = Path(f.read())\r\n",
    "    return unpackai_path/\"static\"\r\n",
    "\r\n",
    "STATIC = static_root()"
   ]
  },
  {
   "cell_type": "markdown",
   "metadata": {},
   "source": [
    "Test the validation of such static path"
   ]
  },
  {
   "cell_type": "code",
   "execution_count": null,
   "metadata": {},
   "outputs": [],
   "source": [
    "# exportest\r\n",
    "def test_find_static():\r\n",
    "    error_report_html = STATIC/\"html\"/\"bug\"/\"error_report.html\"\r\n",
    "    assert (error_report_html).is_file(), f\"'{STATIC}' is not a valid static path\""
   ]
  },
  {
   "cell_type": "markdown",
   "metadata": {},
   "source": [
    "## Download and unzip utilities"
   ]
  },
  {
   "cell_type": "code",
   "execution_count": null,
   "metadata": {},
   "outputs": [],
   "source": [
    "# export\r\n",
    "\r\n",
    "\r\n",
    "def get_url_size(url: str) -> int:\r\n",
    "    \"\"\"Returns the size of URL, or -1 if it cannot get it\"\"\"\r\n",
    "    with requests.request(\"HEAD\", url) as resp:\r\n",
    "        if resp.status_code != 200:\r\n",
    "            raise ConnectionError(f\"Error when retrieving size from {url}\")\r\n",
    "\r\n",
    "        return int(resp.headers.get(\"Content-Length\", -1))\r\n"
   ]
  },
  {
   "cell_type": "code",
   "execution_count": null,
   "metadata": {},
   "outputs": [],
   "source": [
    "# export\r\n",
    "\r\n",
    "\r\n",
    "def download(url: str, dest: PathStr = None) -> Path:\r\n",
    "    \"\"\"Download file and return the Path of the downloaded file\r\n",
    "\r\n",
    "    If the destination is not specified, download in the current directory\r\n",
    "    with the name specified in the URL\r\n",
    "    \"\"\"\r\n",
    "    # We can allow empty destination, in which case we use file name in URL\r\n",
    "    # We need to ensure that destination is a Path\r\n",
    "    dest = Path(dest or url.rpartition(\"/\")[-1])\r\n",
    "\r\n",
    "    # For big files, we will split into chunks\r\n",
    "    # We might also consider adding a progress bar\r\n",
    "    size = get_url_size(url)\r\n",
    "    if size < 1024 * 1024:\r\n",
    "        with requests.get(url) as resp:\r\n",
    "            resp.raise_for_status()\r\n",
    "            dest.write_bytes(resp.content)\r\n",
    "\r\n",
    "    else:\r\n",
    "        with requests.get(url, stream=True) as resp:\r\n",
    "            resp.raise_for_status()\r\n",
    "            with dest.open(\"wb\") as f:\r\n",
    "                for chunk in resp.iter_content(chunk_size=8192):\r\n",
    "                    f.write(chunk)\r\n",
    "\r\n",
    "    print(f\"Downloaded {url} to {dest}\")\r\n",
    "    return dest\r\n",
    "\r\n",
    "\r\n",
    "def url_2_text(url: str) -> str:\r\n",
    "    \"\"\"Extract text content from an URL (textual content for an HTML)\"\"\"\r\n",
    "    resp = requests.get(url)\r\n",
    "    if resp.status_code != 200:\r\n",
    "        raise ConnectionError(f\"Error when retrieving text content from {url}\")\r\n",
    "\r\n",
    "    resp.encoding = \"utf-8\"\r\n",
    "    content_type = resp.headers[\"Content-Type\"]\r\n",
    "    if \"html\" in content_type:\r\n",
    "        text = BeautifulSoup(resp.text).text\r\n",
    "    else:\r\n",
    "        text = resp.text\r\n",
    "    return text\r\n"
   ]
  },
  {
   "cell_type": "code",
   "execution_count": null,
   "metadata": {},
   "outputs": [
    {
     "data": {
      "text/plain": [
       "264"
      ]
     },
     "execution_count": null,
     "metadata": {},
     "output_type": "execute_result"
    }
   ],
   "source": [
    "# exportest\r\n",
    "\r\n",
    "url_raw_txt = \"https://raw.githubusercontent.com/unpackAI/unpackai/main/test/test_data/to_download.txt\"\r\n",
    "test_data_txt = (DATA_DIR / \"to_download.txt\").read_text()\r\n",
    "\r\n",
    "def test_get_url_size():\r\n",
    "    assert get_url_size(url_raw_txt) == 264, f\"Wrong size for {url_raw_txt}\"\r\n",
    "\r\n",
    "def test_download_dest(tmpdir):\r\n",
    "    \"\"\"Test download of file to a destination\"\"\"\r\n",
    "    dest = Path(tmpdir / \"to_download.txt\")\r\n",
    "    download(url_raw_txt, dest)\r\n",
    "    assert dest.is_file()\r\n",
    "    assert dest.read_text() == test_data_txt\r\n",
    "\r\n",
    "def test_download_empty(tmpdir):\r\n",
    "    \"\"\"Test download of file without destination\"\"\"\r\n",
    "    dest = Path(\"to_download.txt\")\r\n",
    "    download(url_raw_txt)\r\n",
    "    try:\r\n",
    "        assert dest.is_file()\r\n",
    "        assert dest.read_text() == test_data_txt\r\n",
    "    finally:\r\n",
    "        dest.unlink()\r\n",
    "\r\n",
    "\r\n",
    "def test_url_2_text():\r\n",
    "    \"\"\"Test extraction of text from URL\"\"\"\r\n",
    "    assert url_2_text(url_raw_txt) == test_data_txt\r\n"
   ]
  },
  {
   "cell_type": "markdown",
   "metadata": {},
   "source": [
    "<!-- Hide -->\n",
    "# Running all Test Cases"
   ]
  },
  {
   "cell_type": "code",
   "execution_count": null,
   "metadata": {},
   "outputs": [],
   "source": [
    "# export\r\n",
    "try:\r\n",
    "    ishell = get_ipython()\r\n",
    "except NameError as e:\r\n",
    "    from IPython.testing.globalipapp import get_ipython, start_ipython\r\n",
    "    ishell = start_ipython()\r\n",
    "    print(get_ipython())"
   ]
  },
  {
   "cell_type": "code",
   "execution_count": null,
   "metadata": {},
   "outputs": [
    {
     "name": "stdout",
     "output_type": "stream",
     "text": [
      "##vso[results.publish type=JUnit;runTitle='Pytest results';]e:\\AnsysDev\\_perso_repo\\unpackai\\nbs\\test-output.xml\n",
      "##vso[task.logissue type=warning;]Coverage XML was not created, skipping upload.\n",
      "\n",
      "-- generated xml file: e:\\AnsysDev\\_perso_repo\\unpackai\\nbs\\test-output.xml ---\n",
      "no tests ran in 0.01s\n"
     ]
    }
   ],
   "source": [
    "# hide\r\n",
    "ipytest.run()"
   ]
  }
 ],
 "metadata": {
  "kernelspec": {
   "display_name": "Python 3.7.1 32-bit",
   "name": "python3"
  }
 },
 "nbformat": 4,
 "nbformat_minor": 4
}
