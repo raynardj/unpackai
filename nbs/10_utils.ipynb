{
 "cells": [
  {
   "cell_type": "markdown",
   "metadata": {},
   "source": [
    "# Utilities\n",
    "> Useful function and utilities"
   ]
  },
  {
   "cell_type": "code",
   "execution_count": 1,
   "metadata": {},
   "outputs": [],
   "source": [
    "# default_exp utils"
   ]
  },
  {
   "cell_type": "markdown",
   "metadata": {},
   "source": [
    "## Image"
   ]
  },
  {
   "cell_type": "markdown",
   "metadata": {},
   "source": [
    "### Cleaning up error image"
   ]
  },
  {
   "cell_type": "code",
   "execution_count": 6,
   "metadata": {},
   "outputs": [],
   "source": [
    "# export\n",
    "from pathlib import Path\n",
    "from tqdm.notebook import tqdm\n",
    "import os\n",
    "import logging\n",
    "from typing import Callable, List\n",
    "from PIL import Image"
   ]
  },
  {
   "cell_type": "markdown",
   "metadata": {},
   "source": [
    "In some cases, we have error image that will interrupt model trainging. We can use ```clean_error_img``` to clean the image folder"
   ]
  },
  {
   "cell_type": "code",
   "execution_count": 7,
   "metadata": {},
   "outputs": [],
   "source": [
    "# export\n",
    "def check_img(\n",
    "    img: Path,\n",
    "    formats: List[str] = [\".jpg\", \".jpeg\", \".png\", \".bmp\"],\n",
    ") -> None:\n",
    "    \"\"\"\n",
    "    Check on a single image,\n",
    "    If it's quality is troublesome\n",
    "        we unlink/ditch the image\n",
    "    \"\"\"\n",
    "    img = Path(img)\n",
    "    # check if this path is an image\n",
    "    if img.suffix.lower().split(\"?\")[0] not in formats:\n",
    "        return\n",
    "\n",
    "    try:\n",
    "        # try to open that image\n",
    "        _ = Image.open(img).load()\n",
    "    except Exception as e:\n",
    "        if img.exists():\n",
    "            img.unlink()\n",
    "            logging.warning(f\"removed error img: {img}\")\n",
    "\n",
    "\n",
    "def clean_error_img(\n",
    "    path: Path,\n",
    "    progress: bool = True,\n",
    ") -> None:\n",
    "    \"\"\"\n",
    "    - path: an image directory\n",
    "    - progress: do we print out progress bar or not\n",
    "        default True\n",
    "    \"\"\"\n",
    "    path = Path(path)\n",
    "\n",
    "    # check directory existence\n",
    "    if path.exists() == False:\n",
    "        raise FileExistsError(\n",
    "            f\"\"\"path does not exists on:{path}, \n",
    "    make sure there is a directory \"{path.name}\".\n",
    "    under directory \"{path.parent}\"\n",
    "    \"\"\")\n",
    "\n",
    "    # create iterator, probably with progress bar\n",
    "    iterator = tqdm(list(path.iterdir()), leave=False)\\\n",
    "        if progress else path.iterdir()\n",
    "\n",
    "    for obj in iterator:\n",
    "        if obj.is_dir():\n",
    "            # use recursion to clean the sub folder\n",
    "            clean_error_img(obj, progress=progress)\n",
    "        else:\n",
    "            # cheking on a single image\n",
    "            check_img(obj)"
   ]
  },
  {
   "cell_type": "markdown",
   "metadata": {},
   "source": [
    "## Testing"
   ]
  },
  {
   "cell_type": "markdown",
   "metadata": {},
   "source": [
    "### test image cleaner"
   ]
  },
  {
   "cell_type": "code",
   "execution_count": 8,
   "metadata": {},
   "outputs": [],
   "source": [
    "# hide\n",
    "def testing_image_cleaner(func: Callable) -> None:\n",
    "    path = Path(\"./test_remove\")\n",
    "    os.system(f\"rm -rf {path}\")\n",
    "    path.mkdir()\n",
    "    with open(path/f\"file_1.JPEG\", \"w\") as f:\n",
    "        f.write(\"fake image\")\n",
    "        \n",
    "    with open(path/f\"file_1.jpg\", \"w\") as f:\n",
    "        f.write(\"fake image\")\n",
    "        \n",
    "    with open(path/f\"file_1.txt\", \"w\") as f:\n",
    "        f.write(\"not image\")\n",
    "        \n",
    "    with open(path/f\"file_2.png\", \"w\") as f:\n",
    "        f.write(\"fake image\")\n",
    "    \n",
    "    sub1 = path/\"sub1\"\n",
    "    sub2 = path/\"sub2\"\n",
    "    sub1.mkdir()\n",
    "    sub2.mkdir()\n",
    "    sub3 = sub2/\"sub3\"\n",
    "    sub3.mkdir()\n",
    "    \n",
    "    with open(sub1/\"file3.BMP\", \"w\") as f:\n",
    "        f.write(\"fake image\")\n",
    "        \n",
    "    with open(sub1/\"file3 haha.txt\", \"w\") as f:\n",
    "        f.write(\"not image\")\n",
    "        \n",
    "    with open(sub1/\"😱file3 haha.jpg\", \"w\") as f:\n",
    "        f.write(\"fake image\")\n",
    "        \n",
    "    with open(sub2/\"file3.jpg\", \"w\") as f:\n",
    "        f.write(\"fake image\")\n",
    "    \n",
    "    with open(sub2/\"file4.jpeg\", \"w\") as f:\n",
    "        f.write(\"fake image\")\n",
    "        \n",
    "    file5 = sub3/\"file_5.jpeg\"\n",
    "    with open(file5, \"w\") as f:\n",
    "        f.write(\"fake image\")\n",
    "        \n",
    "    func(path)\n",
    "    for p in [path, sub1, sub2, sub3]:\n",
    "        print(list(p.iterdir()))\n",
    "    os.system(f\"rm -rf {path}\")"
   ]
  },
  {
   "cell_type": "code",
   "execution_count": 9,
   "metadata": {},
   "outputs": [
    {
     "data": {
      "application/vnd.jupyter.widget-view+json": {
       "model_id": "",
       "version_major": 2,
       "version_minor": 0
      },
      "text/plain": [
       "HBox(children=(FloatProgress(value=0.0, max=6.0), HTML(value='')))"
      ]
     },
     "metadata": {},
     "output_type": "display_data"
    },
    {
     "data": {
      "application/vnd.jupyter.widget-view+json": {
       "model_id": "",
       "version_major": 2,
       "version_minor": 0
      },
      "text/plain": [
       "HBox(children=(FloatProgress(value=0.0, max=3.0), HTML(value='')))"
      ]
     },
     "metadata": {},
     "output_type": "display_data"
    },
    {
     "name": "stderr",
     "output_type": "stream",
     "text": [
      "WARNING:root:removed error img: test_remove/sub1/😱file3 haha.jpg\n",
      "WARNING:root:removed error img: test_remove/sub1/file3.BMP\n",
      "WARNING:root:removed error img: test_remove/file_1.jpg\n",
      "WARNING:root:removed error img: test_remove/file_2.png\n"
     ]
    },
    {
     "data": {
      "application/vnd.jupyter.widget-view+json": {
       "model_id": "",
       "version_major": 2,
       "version_minor": 0
      },
      "text/plain": [
       "HBox(children=(FloatProgress(value=0.0, max=3.0), HTML(value='')))"
      ]
     },
     "metadata": {},
     "output_type": "display_data"
    },
    {
     "name": "stderr",
     "output_type": "stream",
     "text": [
      "WARNING:root:removed error img: test_remove/sub2/file3.jpg\n",
      "WARNING:root:removed error img: test_remove/sub2/file4.jpeg\n"
     ]
    },
    {
     "data": {
      "application/vnd.jupyter.widget-view+json": {
       "model_id": "",
       "version_major": 2,
       "version_minor": 0
      },
      "text/plain": [
       "HBox(children=(FloatProgress(value=0.0, max=1.0), HTML(value='')))"
      ]
     },
     "metadata": {},
     "output_type": "display_data"
    },
    {
     "name": "stderr",
     "output_type": "stream",
     "text": [
      "WARNING:root:removed error img: test_remove/sub2/sub3/file_5.jpeg\n",
      "WARNING:root:removed error img: test_remove/file_1.JPEG\n"
     ]
    },
    {
     "name": "stdout",
     "output_type": "stream",
     "text": [
      "[PosixPath('test_remove/file_1.txt'), PosixPath('test_remove/sub1'), PosixPath('test_remove/sub2')]\n",
      "[PosixPath('test_remove/sub1/file3 haha.txt')]\n",
      "[PosixPath('test_remove/sub2/sub3')]\n",
      "[]\n"
     ]
    }
   ],
   "source": [
    "# hide\n",
    "testing_image_cleaner(clean_error_img)"
   ]
  },
  {
   "cell_type": "markdown",
   "metadata": {},
   "source": [
    "## Magic function ```hush```\n",
    "> Run things quietly..."
   ]
  },
  {
   "cell_type": "code",
   "execution_count": 140,
   "metadata": {},
   "outputs": [],
   "source": [
    "# export\n",
    "from IPython.core.magic import register_cell_magic\n",
    "from IPython.display import Javascript\n",
    "from ipywidgets import Output, VBox, Button, HTML\n",
    "import logging\n",
    "from uuid import uuid4"
   ]
  },
  {
   "cell_type": "markdown",
   "metadata": {},
   "source": [
    "This is a magical cell function, so remember to use the ```%%```"
   ]
  },
  {
   "cell_type": "markdown",
   "metadata": {},
   "source": [
    "Now we have 2 versions of hush, the 1st on is the backup one, that using ipywidget as event trigger"
   ]
  },
  {
   "cell_type": "code",
   "execution_count": 99,
   "metadata": {},
   "outputs": [],
   "source": [
    "@register_cell_magic\n",
    "def hush(line, cell):\n",
    "    \"\"\"\n",
    "    A magic cell function to collapse the print out\n",
    "    %%hush\n",
    "    how_loud = 100\n",
    "    how_verbose = \"very\"\n",
    "    do_some_python_thing(how_loud, how_verbose)\n",
    "    \"\"\"\n",
    "    # the current output widget\n",
    "    out = Output()\n",
    "    output_box = VBox([out])\n",
    "    # default setting is to hide the print out\n",
    "    output_box.layout.display = \"none\"\n",
    "    # the toggling button\n",
    "    show_btn = Button(description=\"Show output\")\n",
    "\n",
    "    def toggle_output(o):\n",
    "        # show output, change the button to hide\n",
    "        if output_box.layout.display == \"none\":\n",
    "            output_box.layout.display = \"block\"\n",
    "            show_btn.description = \"Hide output\"\n",
    "        # hide output, change the button to show\n",
    "        else:\n",
    "            output_box.layout.display = \"none\"\n",
    "            show_btn.description = \"Show output\"\n",
    "\n",
    "    # assign toggle to event\n",
    "    show_btn.on_click(toggle_output)\n",
    "\n",
    "    # A control panel containing a button\n",
    "    # and the output box\n",
    "    total_control = VBox([show_btn, output_box])\n",
    "    display(total_control)\n",
    "\n",
    "    with out:\n",
    "        ishell = get_ipython()\n",
    "        # excute the code in cell\n",
    "        result = ishell.run_cell(\n",
    "            cell, silent=False)\n",
    "\n",
    "    # we still want the error to be proclaimed loudly\n",
    "    if result.error_in_exec:\n",
    "        logging.error(f\"'{result.error_in_exec}' happened, breaking silence now\")\n",
    "        result.raise_error()"
   ]
  },
  {
   "cell_type": "markdown",
   "metadata": {},
   "source": [
    "But this version of ```toggle action``` will be stuck by the ongoing interactive\n",
    "\n",
    "If the process is working on some thing, you can't toggle until the end of the execution.\n",
    "\n",
    "The further improvement will be move the toggle entirely to JavaScript, hence the second version"
   ]
  },
  {
   "cell_type": "markdown",
   "metadata": {},
   "source": [
    "### Hush event in JS\n",
    "> As not going through any amount of python backend after run"
   ]
  },
  {
   "cell_type": "code",
   "execution_count": 160,
   "metadata": {},
   "outputs": [],
   "source": [
    "# export\n",
    "@register_cell_magic\n",
    "def hush(line, cell):\n",
    "    \"\"\"\n",
    "    A magic cell function to collapse the print out\n",
    "    %%hush\n",
    "    how_loud = 100\n",
    "    how_verbose = \"very\"\n",
    "    do_some_python_thing(how_loud, how_verbose)\n",
    "    \"\"\"\n",
    "    # the current output widget\n",
    "    out = Output()\n",
    "    output_box = VBox([out])\n",
    "    \n",
    "    # create uuid for DOM identifying\n",
    "    uuid = str(uuid4())\n",
    "\n",
    "    # default setting is to hide the print out\n",
    "    output_box.layout.display = \"none\"\n",
    "    # the toggling button\n",
    "    show_btn = Button(description=\"toggle output\")\n",
    "    show_btn.add_class(f\"hush_toggle_{uuid}\")\n",
    "    output_box.add_class(f\"hush_output_{uuid}\")\n",
    "    \n",
    "    \n",
    "    # A control panel containing a button\n",
    "    # and the output box\n",
    "    total_control = VBox([show_btn, output_box])\n",
    "    display(total_control)\n",
    "    \n",
    "    # assign JS listener\n",
    "    display(Javascript(f\"\"\"\n",
    "    console.info(\"loading toggle event: {uuid}\")\n",
    "    const toggle_hush = (e) =>\\u007b\n",
    "        var op = document.querySelector(\".hush_output_{uuid}\");\n",
    "        if(op.style.display==\"none\")\\u007b\n",
    "             op.style.display=\"block\"\n",
    "\n",
    "        \\u007d else \\u007b\n",
    "            op.style.display=\"none\"\n",
    "        \\u007d\n",
    "\n",
    "    \\u007d\n",
    "    document.querySelector('.hush_toggle_{uuid}').onclick=toggle_hush\n",
    "    \"\"\"))\n",
    "\n",
    "    with out:\n",
    "        ishell = get_ipython()\n",
    "        # excute the code in cell\n",
    "        result = ishell.run_cell(\n",
    "            cell, silent=False)\n",
    "\n",
    "    # we still want the error to be proclaimed loudly\n",
    "    if result.error_in_exec:\n",
    "        logging.error(f\"'{result.error_in_exec}' happened, breaking silence now\")\n",
    "        result.raise_error()"
   ]
  },
  {
   "cell_type": "markdown",
   "metadata": {},
   "source": [
    "### Try hushing various kinds of info"
   ]
  },
  {
   "cell_type": "markdown",
   "metadata": {},
   "source": [
    "* html display\n",
    "* print\n",
    "* logging"
   ]
  },
  {
   "cell_type": "code",
   "execution_count": 161,
   "metadata": {},
   "outputs": [
    {
     "data": {
      "application/vnd.jupyter.widget-view+json": {
       "model_id": "ea3edd50d161407e86c2c8b16ea6bb7e",
       "version_major": 2,
       "version_minor": 0
      },
      "text/plain": [
       "VBox(children=(Button(description='toggle output', style=ButtonStyle(), _dom_classes=('hush_toggle_9be2a824-54…"
      ]
     },
     "metadata": {},
     "output_type": "display_data"
    },
    {
     "data": {
      "application/javascript": [
       "\n",
       "    console.info(\"loading toggle event: 9be2a824-5465-4920-baaa-dcf83f5fa4e3\")\n",
       "    const toggle_hush = (e) =>{\n",
       "        var op = document.querySelector(\".hush_output_9be2a824-5465-4920-baaa-dcf83f5fa4e3\");\n",
       "        if(op.style.display==\"none\"){\n",
       "             op.style.display=\"block\"\n",
       "\n",
       "        } else {\n",
       "            op.style.display=\"none\"\n",
       "        }\n",
       "\n",
       "    }\n",
       "    document.querySelector('.hush_toggle_9be2a824-5465-4920-baaa-dcf83f5fa4e3').onclick=toggle_hush\n",
       "    "
      ],
      "text/plain": [
       "<IPython.core.display.Javascript object>"
      ]
     },
     "metadata": {},
     "output_type": "display_data"
    }
   ],
   "source": [
    "%%hush\n",
    "import pandas as pd\n",
    "import logging\n",
    "logging.getLogger().setLevel('DEBUG')\n",
    "a = 1\n",
    "for i in range(1000):\n",
    "    print(i, end=\"\\t\")\n",
    "    \n",
    "logging.info(\"a lots of text, VERBOSITY!!\"*100)\n",
    "\n",
    "# a big dataframe\n",
    "display(pd.DataFrame({\"a\":[1,2]*50}))\n",
    "\n",
    "# a big output\n",
    "pd.DataFrame({\"b\":range(100)})"
   ]
  },
  {
   "cell_type": "markdown",
   "metadata": {},
   "source": [
    "### Capable of open/close verbosity during the main process"
   ]
  },
  {
   "cell_type": "code",
   "execution_count": 162,
   "metadata": {},
   "outputs": [
    {
     "data": {
      "application/vnd.jupyter.widget-view+json": {
       "model_id": "ed3c2af961064add9dd56c284767932d",
       "version_major": 2,
       "version_minor": 0
      },
      "text/plain": [
       "VBox(children=(Button(description='toggle output', style=ButtonStyle(), _dom_classes=('hush_toggle_6be7b093-ab…"
      ]
     },
     "metadata": {},
     "output_type": "display_data"
    },
    {
     "data": {
      "application/javascript": [
       "\n",
       "    console.info(\"loading toggle event: 6be7b093-ab3a-421d-91b1-d7fea198e3b2\")\n",
       "    const toggle_hush = (e) =>{\n",
       "        var op = document.querySelector(\".hush_output_6be7b093-ab3a-421d-91b1-d7fea198e3b2\");\n",
       "        if(op.style.display==\"none\"){\n",
       "             op.style.display=\"block\"\n",
       "\n",
       "        } else {\n",
       "            op.style.display=\"none\"\n",
       "        }\n",
       "\n",
       "    }\n",
       "    document.querySelector('.hush_toggle_6be7b093-ab3a-421d-91b1-d7fea198e3b2').onclick=toggle_hush\n",
       "    "
      ],
      "text/plain": [
       "<IPython.core.display.Javascript object>"
      ]
     },
     "metadata": {},
     "output_type": "display_data"
    }
   ],
   "source": [
    "%%hush\n",
    "from tqdm.notebook import tqdm\n",
    "from time import sleep\n",
    "for i in tqdm(range(10)):\n",
    "    sleep(1)"
   ]
  },
  {
   "cell_type": "markdown",
   "metadata": {},
   "source": [
    "### But we still want the error to be loud\n",
    "> As such information should interrupt the user"
   ]
  },
  {
   "cell_type": "code",
   "execution_count": 163,
   "metadata": {},
   "outputs": [
    {
     "data": {
      "application/vnd.jupyter.widget-view+json": {
       "model_id": "10f63f5c111d4e9cb33c4309b5f3d193",
       "version_major": 2,
       "version_minor": 0
      },
      "text/plain": [
       "VBox(children=(Button(description='toggle output', style=ButtonStyle(), _dom_classes=('hush_toggle_45c4e2bf-80…"
      ]
     },
     "metadata": {},
     "output_type": "display_data"
    },
    {
     "data": {
      "application/javascript": [
       "\n",
       "    console.info(\"loading toggle event: 45c4e2bf-8052-4491-b284-b3d5db454b11\")\n",
       "    const toggle_hush = (e) =>{\n",
       "        var op = document.querySelector(\".hush_output_45c4e2bf-8052-4491-b284-b3d5db454b11\");\n",
       "        if(op.style.display==\"none\"){\n",
       "             op.style.display=\"block\"\n",
       "\n",
       "        } else {\n",
       "            op.style.display=\"none\"\n",
       "        }\n",
       "\n",
       "    }\n",
       "    document.querySelector('.hush_toggle_45c4e2bf-8052-4491-b284-b3d5db454b11').onclick=toggle_hush\n",
       "    "
      ],
      "text/plain": [
       "<IPython.core.display.Javascript object>"
      ]
     },
     "metadata": {},
     "output_type": "display_data"
    },
    {
     "name": "stderr",
     "output_type": "stream",
     "text": [
      "ERROR:root:'but some error, because life!' happened, breaking silence now\n"
     ]
    },
    {
     "ename": "ValueError",
     "evalue": "but some error, because life!",
     "output_type": "error",
     "traceback": [
      "\u001b[0;31m---------------------------------------------------------------------------\u001b[0m",
      "\u001b[0;31mValueError\u001b[0m                                Traceback (most recent call last)",
      "\u001b[0;32m<ipython-input-163-b422c2c00906>\u001b[0m in \u001b[0;36m<module>\u001b[0;34m\u001b[0m\n\u001b[0;32m----> 1\u001b[0;31m \u001b[0mget_ipython\u001b[0m\u001b[0;34m(\u001b[0m\u001b[0;34m)\u001b[0m\u001b[0;34m.\u001b[0m\u001b[0mrun_cell_magic\u001b[0m\u001b[0;34m(\u001b[0m\u001b[0;34m'hush'\u001b[0m\u001b[0;34m,\u001b[0m \u001b[0;34m''\u001b[0m\u001b[0;34m,\u001b[0m \u001b[0;34m'for i in range(20):\\n    print(f\"some logging:\\\\t{i}!\")\\nraise ValueError(\"but some error, because life!\")\\n'\u001b[0m\u001b[0;34m)\u001b[0m\u001b[0;34m\u001b[0m\u001b[0;34m\u001b[0m\u001b[0m\n\u001b[0m",
      "\u001b[0;32m~/anaconda3/lib/python3.7/site-packages/IPython/core/interactiveshell.py\u001b[0m in \u001b[0;36mrun_cell_magic\u001b[0;34m(self, magic_name, line, cell)\u001b[0m\n\u001b[1;32m   2357\u001b[0m             \u001b[0;32mwith\u001b[0m \u001b[0mself\u001b[0m\u001b[0;34m.\u001b[0m\u001b[0mbuiltin_trap\u001b[0m\u001b[0;34m:\u001b[0m\u001b[0;34m\u001b[0m\u001b[0;34m\u001b[0m\u001b[0m\n\u001b[1;32m   2358\u001b[0m                 \u001b[0margs\u001b[0m \u001b[0;34m=\u001b[0m \u001b[0;34m(\u001b[0m\u001b[0mmagic_arg_s\u001b[0m\u001b[0;34m,\u001b[0m \u001b[0mcell\u001b[0m\u001b[0;34m)\u001b[0m\u001b[0;34m\u001b[0m\u001b[0;34m\u001b[0m\u001b[0m\n\u001b[0;32m-> 2359\u001b[0;31m                 \u001b[0mresult\u001b[0m \u001b[0;34m=\u001b[0m \u001b[0mfn\u001b[0m\u001b[0;34m(\u001b[0m\u001b[0;34m*\u001b[0m\u001b[0margs\u001b[0m\u001b[0;34m,\u001b[0m \u001b[0;34m**\u001b[0m\u001b[0mkwargs\u001b[0m\u001b[0;34m)\u001b[0m\u001b[0;34m\u001b[0m\u001b[0;34m\u001b[0m\u001b[0m\n\u001b[0m\u001b[1;32m   2360\u001b[0m             \u001b[0;32mreturn\u001b[0m \u001b[0mresult\u001b[0m\u001b[0;34m\u001b[0m\u001b[0;34m\u001b[0m\u001b[0m\n\u001b[1;32m   2361\u001b[0m \u001b[0;34m\u001b[0m\u001b[0m\n",
      "\u001b[0;32m<ipython-input-160-4d20e37a5f3d>\u001b[0m in \u001b[0;36mhush\u001b[0;34m(line, cell)\u001b[0m\n\u001b[1;32m     54\u001b[0m     \u001b[0;32mif\u001b[0m \u001b[0mresult\u001b[0m\u001b[0;34m.\u001b[0m\u001b[0merror_in_exec\u001b[0m\u001b[0;34m:\u001b[0m\u001b[0;34m\u001b[0m\u001b[0;34m\u001b[0m\u001b[0m\n\u001b[1;32m     55\u001b[0m         \u001b[0mlogging\u001b[0m\u001b[0;34m.\u001b[0m\u001b[0merror\u001b[0m\u001b[0;34m(\u001b[0m\u001b[0;34mf\"'{result.error_in_exec}' happened, breaking silence now\"\u001b[0m\u001b[0;34m)\u001b[0m\u001b[0;34m\u001b[0m\u001b[0;34m\u001b[0m\u001b[0m\n\u001b[0;32m---> 56\u001b[0;31m         \u001b[0mresult\u001b[0m\u001b[0;34m.\u001b[0m\u001b[0mraise_error\u001b[0m\u001b[0;34m(\u001b[0m\u001b[0;34m)\u001b[0m\u001b[0;34m\u001b[0m\u001b[0;34m\u001b[0m\u001b[0m\n\u001b[0m",
      "\u001b[0;32m~/anaconda3/lib/python3.7/site-packages/IPython/core/interactiveshell.py\u001b[0m in \u001b[0;36mraise_error\u001b[0;34m(self)\u001b[0m\n\u001b[1;32m    335\u001b[0m             \u001b[0;32mraise\u001b[0m \u001b[0mself\u001b[0m\u001b[0;34m.\u001b[0m\u001b[0merror_before_exec\u001b[0m\u001b[0;34m\u001b[0m\u001b[0;34m\u001b[0m\u001b[0m\n\u001b[1;32m    336\u001b[0m         \u001b[0;32mif\u001b[0m \u001b[0mself\u001b[0m\u001b[0;34m.\u001b[0m\u001b[0merror_in_exec\u001b[0m \u001b[0;32mis\u001b[0m \u001b[0;32mnot\u001b[0m \u001b[0;32mNone\u001b[0m\u001b[0;34m:\u001b[0m\u001b[0;34m\u001b[0m\u001b[0;34m\u001b[0m\u001b[0m\n\u001b[0;32m--> 337\u001b[0;31m             \u001b[0;32mraise\u001b[0m \u001b[0mself\u001b[0m\u001b[0;34m.\u001b[0m\u001b[0merror_in_exec\u001b[0m\u001b[0;34m\u001b[0m\u001b[0;34m\u001b[0m\u001b[0m\n\u001b[0m\u001b[1;32m    338\u001b[0m \u001b[0;34m\u001b[0m\u001b[0m\n\u001b[1;32m    339\u001b[0m     \u001b[0;32mdef\u001b[0m \u001b[0m__repr__\u001b[0m\u001b[0;34m(\u001b[0m\u001b[0mself\u001b[0m\u001b[0;34m)\u001b[0m\u001b[0;34m:\u001b[0m\u001b[0;34m\u001b[0m\u001b[0;34m\u001b[0m\u001b[0m\n",
      "\u001b[0;32m~/anaconda3/lib/python3.7/site-packages/IPython/core/interactiveshell.py\u001b[0m in \u001b[0;36mrun_code\u001b[0;34m(self, code_obj, result, async_)\u001b[0m\n\u001b[1;32m   3324\u001b[0m                     \u001b[0;32mawait\u001b[0m \u001b[0meval\u001b[0m\u001b[0;34m(\u001b[0m\u001b[0mcode_obj\u001b[0m\u001b[0;34m,\u001b[0m \u001b[0mself\u001b[0m\u001b[0;34m.\u001b[0m\u001b[0muser_global_ns\u001b[0m\u001b[0;34m,\u001b[0m \u001b[0mself\u001b[0m\u001b[0;34m.\u001b[0m\u001b[0muser_ns\u001b[0m\u001b[0;34m)\u001b[0m\u001b[0;34m\u001b[0m\u001b[0;34m\u001b[0m\u001b[0m\n\u001b[1;32m   3325\u001b[0m                 \u001b[0;32melse\u001b[0m\u001b[0;34m:\u001b[0m\u001b[0;34m\u001b[0m\u001b[0;34m\u001b[0m\u001b[0m\n\u001b[0;32m-> 3326\u001b[0;31m                     \u001b[0mexec\u001b[0m\u001b[0;34m(\u001b[0m\u001b[0mcode_obj\u001b[0m\u001b[0;34m,\u001b[0m \u001b[0mself\u001b[0m\u001b[0;34m.\u001b[0m\u001b[0muser_global_ns\u001b[0m\u001b[0;34m,\u001b[0m \u001b[0mself\u001b[0m\u001b[0;34m.\u001b[0m\u001b[0muser_ns\u001b[0m\u001b[0;34m)\u001b[0m\u001b[0;34m\u001b[0m\u001b[0;34m\u001b[0m\u001b[0m\n\u001b[0m\u001b[1;32m   3327\u001b[0m             \u001b[0;32mfinally\u001b[0m\u001b[0;34m:\u001b[0m\u001b[0;34m\u001b[0m\u001b[0;34m\u001b[0m\u001b[0m\n\u001b[1;32m   3328\u001b[0m                 \u001b[0;31m# Reset our crash handler in place\u001b[0m\u001b[0;34m\u001b[0m\u001b[0;34m\u001b[0m\u001b[0;34m\u001b[0m\u001b[0m\n",
      "\u001b[0;32m<ipython-input-163-51b5f109b9c9>\u001b[0m in \u001b[0;36m<module>\u001b[0;34m\u001b[0m\n\u001b[1;32m      1\u001b[0m \u001b[0;32mfor\u001b[0m \u001b[0mi\u001b[0m \u001b[0;32min\u001b[0m \u001b[0mrange\u001b[0m\u001b[0;34m(\u001b[0m\u001b[0;36m20\u001b[0m\u001b[0;34m)\u001b[0m\u001b[0;34m:\u001b[0m\u001b[0;34m\u001b[0m\u001b[0;34m\u001b[0m\u001b[0m\n\u001b[1;32m      2\u001b[0m     \u001b[0mprint\u001b[0m\u001b[0;34m(\u001b[0m\u001b[0;34mf\"some logging:\\t{i}!\"\u001b[0m\u001b[0;34m)\u001b[0m\u001b[0;34m\u001b[0m\u001b[0;34m\u001b[0m\u001b[0m\n\u001b[0;32m----> 3\u001b[0;31m \u001b[0;32mraise\u001b[0m \u001b[0mValueError\u001b[0m\u001b[0;34m(\u001b[0m\u001b[0;34m\"but some error, because life!\"\u001b[0m\u001b[0;34m)\u001b[0m\u001b[0;34m\u001b[0m\u001b[0;34m\u001b[0m\u001b[0m\n\u001b[0m",
      "\u001b[0;31mValueError\u001b[0m: but some error, because life!"
     ]
    }
   ],
   "source": [
    "%%hush\n",
    "for i in range(20):\n",
    "    print(f\"some logging:\\t{i}!\")\n",
    "raise ValueError(\"but some error, because life!\")"
   ]
  },
  {
   "cell_type": "code",
   "execution_count": null,
   "metadata": {},
   "outputs": [],
   "source": []
  }
 ],
 "metadata": {
  "kernelspec": {
   "display_name": "Python 3",
   "language": "python",
   "name": "python3"
  },
  "language_info": {
   "codemirror_mode": {
    "name": "ipython",
    "version": 3
   },
   "file_extension": ".py",
   "mimetype": "text/x-python",
   "name": "python",
   "nbconvert_exporter": "python",
   "pygments_lexer": "ipython3",
   "version": "3.7.4"
  },
  "toc": {
   "base_numbering": 1,
   "nav_menu": {},
   "number_sections": true,
   "sideBar": true,
   "skip_h1_title": false,
   "title_cell": "Table of Contents",
   "title_sidebar": "Contents",
   "toc_cell": false,
   "toc_position": {},
   "toc_section_display": true,
   "toc_window_display": false
  }
 },
 "nbformat": 4,
 "nbformat_minor": 4
}
