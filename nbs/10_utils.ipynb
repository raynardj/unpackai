{
 "cells": [
  {
   "cell_type": "markdown",
   "metadata": {},
   "source": [
    "# Utilities\n",
    "> Useful function and utilities"
   ]
  },
  {
   "cell_type": "code",
   "execution_count": null,
   "metadata": {},
   "outputs": [],
   "source": [
    "# default_exp utils"
   ]
  },
  {
   "cell_type": "code",
<<<<<<< HEAD
   "execution_count": 2,
   "metadata": {},
=======
   "execution_count": 1,
   "source": [
    "# hide\r\n",
    "# To be able to run the tests in the Notebook\r\n",
    "!pip install -q ipytest pytest\r\n",
    "from pathlib import Path\r\n",
    "import ipytest\r\n",
    "import sys\r\n",
    "\r\n",
    "ipytest.autoconfig()\r\n",
    "\r\n",
    "root_dir = Path(\"..\").resolve()\r\n",
    "sys.path.append(str(root_dir / \"test\"))"
   ],
>>>>>>> origin/main
   "outputs": [
    {
     "name": "stdout",
     "output_type": "stream",
     "text": [
<<<<<<< HEAD
      "\u001b[33mWARNING: Retrying (Retry(total=4, connect=None, read=None, redirect=None, status=None)) after connection broken by 'ReadTimeoutError(\"HTTPSConnectionPool(host='mirrors.aliyun.com', port=443): Read timed out. (read timeout=15)\")': /pypi/simple/ipytest/\u001b[0m\n",
      "\u001b[33mWARNING: You are using pip version 21.1.3; however, version 21.2.4 is available.\n",
      "You should consider upgrading via the '/Users/salvor/anaconda3/bin/python -m pip install --upgrade pip' command.\u001b[0m\n"
=======
      "WARNING: You are using pip version 21.0.1; however, version 21.2.4 is available.\n",
      "You should consider upgrading via the 'c:\\python37-32\\python.exe -m pip install --upgrade pip' command.\n",
      "C:\\Python37-32\\lib\\site-packages\\ipytest\\_unittest_support.py:18: FutureWarning: pandas.util.testing is deprecated. Use the functions in the public API at pandas.testing instead.\n",
      "  import pandas.util.testing as _pd_testing\n"
>>>>>>> origin/main
     ]
    }
   ],
   "source": [
    "# hide\n",
    "# To be able to run the tests in the Notebook\n",
    "!pip install -q ipytest pytest\n",
    "from pathlib import Path\n",
    "import ipytest\n",
    "import sys\n",
    "\n",
    "ipytest.autoconfig()\n",
    "\n",
    "root_dir = Path(\"..\").resolve()\n",
    "sys.path.append(str(root_dir / \"test\"))"
   ]
  },
  {
   "cell_type": "code",
   "execution_count": 2,
   "metadata": {},
   "outputs": [],
   "source": [
<<<<<<< HEAD
    "# exportest\n",
    "# For Test Cases (might have duplicate import because it will be in a dedicated file)\n",
    "from pathlib import Path\n",
    "from shutil import copy, rmtree\n",
    "\n",
    "import pytest\n",
    "from PIL import Image\n",
=======
    "# exportest\r\n",
    "# For Test Cases (might have duplicate import because it will be in a dedicated file)\r\n",
    "from pathlib import Path\r\n",
    "from shutil import copy, rmtree\r\n",
    "\r\n",
    "import pytest\r\n",
    "from PIL import Image\r\n",
>>>>>>> origin/main
    "from test_common.utils_4_tests import IMG_DIR, check_no_log, check_only_warning"
   ]
  },
  {
   "cell_type": "markdown",
   "metadata": {},
   "source": [
    "## Image"
   ]
  },
  {
   "cell_type": "markdown",
   "metadata": {},
   "source": [
    "### Cleaning up error image"
   ]
  },
  {
   "cell_type": "code",
   "execution_count": 3,
   "metadata": {},
   "outputs": [],
   "source": [
    "# export\n",
    "import logging\n",
    "from typing import Callable, List\n",
    "from pathlib import Path\n",
    "\n",
    "from IPython.core.magic import register_cell_magic\n",
    "from IPython.display import Javascript\n",
    "from ipywidgets import Output, VBox, Button, HTML\n",
    "from PIL import Image\n",
    "from tqdm.notebook import tqdm\n",
    "from uuid import uuid4"
   ]
  },
  {
   "cell_type": "markdown",
   "metadata": {},
   "source": [
    "In some cases, we have error image that will interrupt model trainging. We can use ```clean_error_img``` to clean the image folder"
   ]
  },
  {
   "cell_type": "code",
<<<<<<< HEAD
   "execution_count": 4,
   "metadata": {},
   "outputs": [],
=======
   "execution_count": 5,
>>>>>>> origin/main
   "source": [
    "# export\n",
    "def check_img(\n",
    "    img: Path,\n",
    "    formats: List[str] = [\".jpg\", \".jpeg\", \".png\", \".bmp\"],\n",
    ") -> None:\n",
    "    \"\"\"\n",
    "    Check on a single image,\n",
    "    If it's quality is troublesome\n",
    "        we unlink/ditch the image\n",
    "    \"\"\"\n",
    "    img = Path(img)\n",
    "    # check if this path is an image\n",
    "    if img.suffix.lower().split(\"?\")[0] not in formats:\n",
    "        return\n",
    "\n",
    "    try:\n",
    "        # try to open that image and then (to check truncated image)\n",
    "        # We need to include in a with block to close the image before deleting\n",
    "        with Image.open(img) as im:\n",
    "            im.load()\n",
    "    except Exception:\n",
    "        if img.exists():\n",
    "            img.unlink()\n",
    "            logging.warning(f\"Removed erroneous img: {img}\")\n",
    "            return\n",
    "\n",
    "\n",
    "def clean_error_img(\n",
    "    path: Path,\n",
    "    progress: bool = True,\n",
    ") -> None:\n",
    "    \"\"\"\n",
    "    - path: an image directory\n",
    "    - progress: do we print out progress bar or not\n",
    "        default True\n",
    "    \"\"\"\n",
    "    path = Path(path)\n",
    "\n",
    "    # check directory existence\n",
    "    if path.exists() == False:\n",
    "        raise FileExistsError(\n",
    "            f\"\"\"path does not exists on:{path}, \n",
    "    make sure there is a directory \"{path.name}\".\n",
    "    under directory \"{path.parent}\"\n",
    "    \"\"\")\n",
    "\n",
    "    # create iterator, probably with progress bar\n",
    "    iterator = tqdm(list(path.iterdir()), leave=False)\\\n",
    "        if progress else path.iterdir()\n",
    "\n",
    "    for obj in iterator:\n",
    "        if obj.is_dir():\n",
    "            # use recursion to clean the sub folder\n",
    "            clean_error_img(obj, progress=progress)\n",
    "        else:\n",
    "            # cheking on a single image\n",
    "            check_img(obj)"
   ]
  },
  {
   "cell_type": "code",
<<<<<<< HEAD
   "execution_count": 19,
   "metadata": {},
=======
   "execution_count": 15,
   "source": [
    "# exportest\r\n",
    "\r\n",
    "images_rob = list((IMG_DIR / \"robustness\").glob(\"*.*\"))\r\n",
    "IMG_RGB = Image.new(\"RGB\", (60, 30), color=(73, 109, 137))\r\n",
    "IMG_RGBA = Image.new(\"RGBA\", (60, 30), color=(73, 109, 137, 100))\r\n",
    "\r\n",
    "@pytest.mark.parametrize(\"img\", images_rob, ids=[i.name for i in images_rob])\r\n",
    "def test_check_img_error(img: Path, tmpdir, caplog):\r\n",
    "    \"\"\"Test check_img with incorrect images\"\"\"\r\n",
    "    img_copy = Path(tmpdir) / img.name\r\n",
    "    copy(img, img_copy)\r\n",
    "    check_img(img_copy)\r\n",
    "    check_only_warning(caplog, img.name)\r\n",
    "    assert not img_copy.is_file(), f\"File {img_copy} not be deleted\"\r\n",
    "\r\n",
    "\r\n",
    "def test_check_img_empty_wrong_suffix(tmpdir, caplog):\r\n",
    "    \"\"\"Test check_img with wrong image that does not have a correct extension\"\"\"\r\n",
    "    img_path = Path(tmpdir) / \"empty.txt\"\r\n",
    "    img_path.write_bytes(b\"\")\r\n",
    "    check_img(img_path)\r\n",
    "    check_no_log(caplog)\r\n",
    "    assert img_path.is_file(), f\"Image {img_path} not found\"\r\n",
    "\r\n",
    "\r\n",
    "@pytest.mark.parametrize(\"img\", [IMG_RGB, IMG_RGBA])\r\n",
    "@pytest.mark.parametrize(\"ext\", [\"png\", \"bmp\", \"jpg\", \"jpeg\"])\r\n",
    "def test_check_img_correct(img: Image, ext: str, tmpdir, caplog):\r\n",
    "    \"\"\"Correct that correct image is not removed\"\"\"\r\n",
    "    alpha_suffix = \"_alpha\" if len(img.getcolors()[0][1]) == 4 else \"\"\r\n",
    "    if alpha_suffix and ext.startswith(\"jp\"):\r\n",
    "        pytest.skip(\"JPG does not support RGBA\")\r\n",
    "\r\n",
    "    img_path = Path(tmpdir) / f\"correct_image_blue{alpha_suffix}.{ext}\"\r\n",
    "    img.save(img_path)\r\n",
    "    check_img(img_path)\r\n",
    "    check_no_log(caplog)\r\n",
    "    assert img_path.is_file(), f\"Image {img_path} not found\"\r\n"
   ],
>>>>>>> origin/main
   "outputs": [],
   "source": [
    "# exportest\n",
    "\n",
    "images_rob = list((IMG_DIR / \"robustness\").glob(\"*.*\"))\n",
    "IMG_RGB = Image.new(\"RGB\", (60, 30), color=(73, 109, 137))\n",
    "IMG_RGBA = Image.new(\"RGBA\", (60, 30), color=(73, 109, 137, 100))\n",
    "\n",
    "@pytest.mark.parametrize(\"img\", images_rob, ids=[i.name for i in images_rob])\n",
    "def test_check_img_error(img: Path, tmpdir, caplog):\n",
    "    \"\"\"Test check_img with incorrect images\"\"\"\n",
    "    img_copy = Path(tmpdir) / img.name\n",
    "    copy(img, img_copy)\n",
    "    check_img(img_copy)\n",
    "    check_only_warning(caplog, img.name)\n",
    "    assert not img_copy.is_file(), f\"File {img_copy} not be deleted\"\n",
    "\n",
    "\n",
    "def test_check_img_empty_wrong_suffix(tmpdir, caplog):\n",
    "    \"\"\"Test check_img with wrong image that does not have a correct extension\"\"\"\n",
    "    img_path = Path(tmpdir) / \"empty.txt\"\n",
    "    img_path.write_bytes(b\"\")\n",
    "    check_img(img_path)\n",
    "    check_no_log(caplog)\n",
    "    assert img_path.is_file(), f\"Image {img_path} not found\"\n",
    "\n",
    "\n",
    "@pytest.mark.parametrize(\"img\", [IMG_RGB, IMG_RGBA])\n",
    "@pytest.mark.parametrize(\"ext\", [\"png\", \"bmp\", \"jpg\", \"jpeg\"])\n",
    "def test_check_img_correct(img: Image, ext: str, tmpdir, caplog):\n",
    "    \"\"\"Correct that correct image is not removed\"\"\"\n",
    "    alpha_suffix = \"_alpha\" if len(img.getcolors()[0][1]) == 4 else \"\"\n",
    "    if alpha_suffix and ext.startswith(\"jp\"):\n",
    "        pytest.skip(\"JPG does not support RGBA\")\n",
    "\n",
    "    img_path = Path(tmpdir) / f\"correct_image_blue{alpha_suffix}.{ext}\"\n",
    "    img.save(img_path)\n",
    "    check_img(img_path)\n",
    "    check_no_log(caplog)\n",
    "    assert img_path.is_file(), f\"Image {img_path} not found\"\n"
   ]
  },
  {
   "cell_type": "code",
   "execution_count": 31,
<<<<<<< HEAD
   "metadata": {},
=======
   "source": [
    "# exportest\r\n",
    "\r\n",
    "def test_clean_error_img(tmpdir, monkeypatch) -> None:\r\n",
    "    \"\"\"Test clean_error_img\"\"\"\r\n",
    "    for img in images_rob:\r\n",
    "        copy(img, Path(tmpdir) / img.name)\r\n",
    "\r\n",
    "    monkeypatch.chdir(tmpdir)\r\n",
    "    root = Path(\".\")\r\n",
    "\r\n",
    "    sub1 = root / \"sub1\"\r\n",
    "    sub2 = root / \"sub2\"\r\n",
    "    sub1.mkdir()\r\n",
    "    sub2.mkdir()\r\n",
    "    sub3 = sub2 / \"sub3\"\r\n",
    "    sub3.mkdir()\r\n",
    "\r\n",
    "\r\n",
    "    (sub1 / \"file11.BMP\").write_text(\"fake image\")\r\n",
    "    (sub1/\"😱file12 haha.jpg\").write_text(\"fake image\")\r\n",
    "    (sub1 / \"file13 haha.txt\").write_text(\"not image\")\r\n",
    "    IMG_RGB.save(sub1 / \"img14_good.jpg\")\r\n",
    "    IMG_RGBA.save(sub1 / \"img15_good.png\")\r\n",
    "\r\n",
    "    (sub2 / \"file21.jpg\").write_text(\"fake image\")\r\n",
    "    (sub2 / \"file22.jpeg\").write_text(\"fake image\")\r\n",
    "\r\n",
    "    (sub3 / \"file31.jpeg\").write_text(\"fake image\")\r\n",
    "    IMG_RGB.save(sub3 / \"img32_good.jpeg\")\r\n",
    "    IMG_RGBA.save(sub3 / \"img33_good.bmp\")\r\n",
    "\r\n",
    "\r\n",
    "    good: List[Path] = list()\r\n",
    "    bad: List[Path] = list()\r\n",
    "\r\n",
    "    print(\"Existing files:\")\r\n",
    "    for file in root.rglob(\"*.*\"):\r\n",
    "        print(f\" * {file}\")\r\n",
    "        if file.suffix.lower() in [\".jpg\", \".jpeg\", \".png\", \".bmp\"]:\r\n",
    "            (good if \"good\" in file.name else bad).append(file)\r\n",
    "\r\n",
    "    print(\" => CLEANING\")\r\n",
    "    clean_error_img(root, progress=False)\r\n",
    "\r\n",
    "    good_removed = [f for f in good if not f.is_file()]\r\n",
    "    assert not good_removed, f\"Good pictures deleted: {good_removed}\"\r\n",
    "\r\n",
    "    bad_still_here = [f for f in bad if f.is_file()]\r\n",
    "    assert not bad_still_here, f\"Bad pictures not deleted: {bad_still_here}\"\r\n"
   ],
>>>>>>> origin/main
   "outputs": [],
   "source": [
    "# exportest\n",
    "\n",
    "def test_clean_error_img(tmpdir, monkeypatch) -> None:\n",
    "    \"\"\"Test clean_error_img\"\"\"\n",
    "    for img in images_rob:\n",
    "        copy(img, Path(tmpdir) / img.name)\n",
    "\n",
    "    monkeypatch.chdir(tmpdir)\n",
    "    root = Path(\".\")\n",
    "\n",
    "    sub1 = root / \"sub1\"\n",
    "    sub2 = root / \"sub2\"\n",
    "    sub1.mkdir()\n",
    "    sub2.mkdir()\n",
    "    sub3 = sub2 / \"sub3\"\n",
    "    sub3.mkdir()\n",
    "\n",
    "\n",
    "    (sub1 / \"file11.BMP\").write_text(\"fake image\")\n",
    "    (sub1/\"😱file12 haha.jpg\").write_text(\"fake image\")\n",
    "    (sub1 / \"file13 haha.txt\").write_text(\"not image\")\n",
    "    IMG_RGB.save(sub1 / \"img14_good.jpg\")\n",
    "    IMG_RGBA.save(sub1 / \"img15_good.png\")\n",
    "\n",
    "    (sub2 / \"file21.jpg\").write_text(\"fake image\")\n",
    "    (sub2 / \"file22.jpeg\").write_text(\"fake image\")\n",
    "\n",
    "    (sub3 / \"file31.jpeg\").write_text(\"fake image\")\n",
    "    IMG_RGB.save(sub3 / \"img32_good.jpeg\")\n",
    "    IMG_RGBA.save(sub3 / \"img33_good.bmp\")\n",
    "\n",
    "\n",
    "    good: List[Path] = list()\n",
    "    bad: List[Path] = list()\n",
    "\n",
    "    print(\"Existing files:\")\n",
    "    for file in root.rglob(\"*.*\"):\n",
    "        print(f\" * {file}\")\n",
    "        if file.suffix.lower() in [\".jpg\", \".jpeg\", \".png\", \".bmp\"]:\n",
    "            (good if \"good\" in file.name else bad).append(file)\n",
    "\n",
    "    print(\" => CLEANING\")\n",
    "    clean_error_img(root, progress=False)\n",
    "\n",
    "    good_removed = [f for f in good if not f.is_file()]\n",
    "    assert not good_removed, f\"Good pictures deleted: {good_removed}\"\n",
    "\n",
    "    bad_still_here = [f for f in bad if f.is_file()]\n",
    "    assert not bad_still_here, f\"Bad pictures not deleted: {bad_still_here}\"\n"
   ]
  },
  {
   "cell_type": "markdown",
   "metadata": {},
   "source": [
    "## Magic function ```hush```\n",
    "> Run things quietly..."
   ]
  },
  {
   "cell_type": "markdown",
   "metadata": {},
   "source": [
    "This is a magical cell function, so remember to use the ```%%```"
   ]
  },
  {
   "cell_type": "markdown",
   "metadata": {},
   "source": [
    "Now we have 2 versions of hush, the 1st on is the backup one, that using ipywidget as event trigger"
   ]
  },
  {
   "cell_type": "code",
   "execution_count": null,
   "metadata": {},
   "outputs": [],
   "source": [
    "# hide\n",
    "# @register_cell_magic\n",
    "def hush(line, cell):\n",
    "    \"\"\"\n",
    "    A magic cell function to collapse the print out\n",
    "    %%hush\n",
    "    how_loud = 100\n",
    "    how_verbose = \"very\"\n",
    "    do_some_python_thing(how_loud, how_verbose)\n",
    "    \"\"\"\n",
    "    # the current output widget\n",
    "    out = Output()\n",
    "    output_box = VBox([out])\n",
    "    # default setting is to hide the print out\n",
    "    output_box.layout.display = \"none\"\n",
    "    # the toggling button\n",
    "    show_btn = Button(description=\"Show output\")\n",
    "\n",
    "    def toggle_output(o):\n",
    "        # show output, change the button to hide\n",
    "        if output_box.layout.display == \"none\":\n",
    "            output_box.layout.display = \"block\"\n",
    "            show_btn.description = \"Hide output\"\n",
    "        # hide output, change the button to show\n",
    "        else:\n",
    "            output_box.layout.display = \"none\"\n",
    "            show_btn.description = \"Show output\"\n",
    "\n",
    "    # assign toggle to event\n",
    "    show_btn.on_click(toggle_output)\n",
    "\n",
    "    # A control panel containing a button\n",
    "    # and the output box\n",
    "    total_control = VBox([show_btn, output_box])\n",
    "    display(total_control)\n",
    "\n",
    "    with out:\n",
    "        ishell = get_ipython()\n",
    "        # excute the code in cell\n",
    "        result = ishell.run_cell(\n",
    "            cell, silent=False)\n",
    "\n",
    "    # we still want the error to be proclaimed loudly\n",
    "    if result.error_in_exec:\n",
    "        logging.error(f\"'{result.error_in_exec}' happened, breaking silence now\")\n",
    "        result.raise_error()"
   ]
  },
  {
   "cell_type": "markdown",
   "metadata": {},
   "source": [
    "But this version of ```toggle action``` will be stuck by the ongoing interactive\n",
    "\n",
    "If the process is working on some thing, you can't toggle until the end of the execution.\n",
    "\n",
    "The further improvement will be move the toggle entirely to JavaScript, hence the second version"
   ]
  },
  {
   "cell_type": "markdown",
   "metadata": {},
   "source": [
    "### Hush event in JS\n",
    "> As not going through any amount of python backend after run"
   ]
  },
  {
   "cell_type": "code",
   "execution_count": null,
   "metadata": {},
   "outputs": [],
   "source": [
    "# export\n",
    "\n",
    "@register_cell_magic\n",
    "def hush(line, cell):\n",
    "    \"\"\"\n",
    "    A magic cell function to collapse the print out\n",
    "    %%hush\n",
    "    how_loud = 100\n",
    "    how_verbose = \"very\"\n",
    "    do_some_python_thing(how_loud, how_verbose)\n",
    "    \"\"\"\n",
    "    # the current output widget\n",
    "    out = Output()\n",
    "    output_box = VBox([out])\n",
    "    \n",
    "    # create uuid for DOM identifying\n",
    "    uuid = str(uuid4())\n",
    "\n",
    "    # default setting is to hide the print out\n",
    "    output_box.layout.display = \"none\"\n",
    "    # the toggling button\n",
    "    show_btn = Button(description=\"toggle output\")\n",
    "    show_btn.add_class(f\"hush_toggle_{uuid}\")\n",
    "    output_box.add_class(f\"hush_output_{uuid}\")\n",
    "    \n",
    "    \n",
    "    # A control panel containing a button\n",
    "    # and the output box\n",
    "    total_control = VBox([show_btn, output_box])\n",
    "    display(total_control)\n",
    "    \n",
    "    # assign JS listener\n",
    "    display(Javascript(f\"\"\"\n",
    "    console.info(\"loading toggle event: {uuid}\")\n",
    "    const toggle_hush = (e) =>\\u007b\n",
    "        var op = document.querySelector(\".hush_output_{uuid}\");\n",
    "        if(op.style.display==\"none\")\\u007b\n",
    "             op.style.display=\"block\"\n",
    "\n",
    "        \\u007d else \\u007b\n",
    "            op.style.display=\"none\"\n",
    "        \\u007d\n",
    "\n",
    "    \\u007d\n",
    "    document.querySelector('.hush_toggle_{uuid}').onclick=toggle_hush\n",
    "    \"\"\"))\n",
    "\n",
    "    with out:\n",
    "        ishell = get_ipython()\n",
    "        # excute the code in cell\n",
    "        result = ishell.run_cell(\n",
    "            cell, silent=False)\n",
    "\n",
    "    # we still want the error to be proclaimed loudly\n",
    "    if result.error_in_exec:\n",
    "        logging.error(f\"'{result.error_in_exec}' happened, breaking silence now\")\n",
    "        result.raise_error()"
   ]
  },
  {
   "cell_type": "markdown",
   "metadata": {},
   "source": [
    "### Try hushing various kinds of info"
   ]
  },
  {
   "cell_type": "markdown",
   "metadata": {},
   "source": [
    "* html display\n",
    "* print\n",
    "* logging"
   ]
  },
  {
   "cell_type": "code",
   "execution_count": null,
   "metadata": {},
   "outputs": [],
   "source": [
    "%%hush\n",
    "import pandas as pd\n",
    "import logging\n",
    "logging.getLogger().setLevel('DEBUG')\n",
    "a = 1\n",
    "for i in range(1000):\n",
    "    print(i, end=\"\\t\")\n",
    "    \n",
    "logging.info(\"a lots of text, VERBOSITY!!\"*100)\n",
    "\n",
    "# a big dataframe\n",
    "display(pd.DataFrame({\"a\":[1,2]*50}))\n",
    "\n",
    "# a big output\n",
    "pd.DataFrame({\"b\":range(100)})"
   ]
  },
  {
   "cell_type": "markdown",
   "metadata": {},
   "source": [
    "### Capable of open/close verbosity during the main process"
   ]
  },
  {
   "cell_type": "code",
   "execution_count": null,
   "metadata": {},
   "outputs": [],
   "source": [
    "# Testing hush\n",
    "%%hush\n",
    "from time import sleep\n",
    "for i in tqdm(range(10)):\n",
    "    sleep(1)"
   ]
  },
  {
   "cell_type": "markdown",
   "metadata": {},
   "source": [
    "### But we still want the error to be loud\n",
    "> As such information should interrupt the user"
   ]
  },
  {
   "cell_type": "code",
   "execution_count": null,
   "metadata": {},
   "outputs": [],
   "source": [
    "# Testing hush when exception is raised\n",
    "%%hush\n",
    "def _test_hush():\n",
    "    for i in range(20):\n",
    "        print(f\"some logging:\\t{i}!\")\n",
    "    raise ValueError(\"but some error, because life!\")\n",
    "\n"
   ]
  },
  {
   "cell_type": "markdown",
   "metadata": {},
   "source": [
    "## Fetching static files"
   ]
  },
  {
   "cell_type": "code",
   "execution_count": 18,
   "metadata": {},
   "outputs": [],
   "source": [
    "# export\n",
    "def static_root() -> Path:\n",
    "    \"\"\"\n",
    "    Return static path\n",
    "    \"\"\"\n",
    "    import unpackai\n",
    "    unpackai_path = Path(unpackai.__path__[0])\n",
    "    if unpackai_path.exists() == False:\n",
    "        with open(f\"{unpackai_path}.egg-link\",\"r\") as f:\n",
    "            unpackai_path = Path(f.read())\n",
    "    return unpackai_path/\"static\"\n",
    "\n",
    "STATIC = static_root()"
   ]
  },
  {
   "cell_type": "markdown",
   "metadata": {},
   "source": [
    "Test the validation of such static path"
   ]
  },
  {
   "cell_type": "code",
   "execution_count": 14,
   "metadata": {},
   "outputs": [],
   "source": [
    "# exportest\n",
    "def test_find_static():\n",
    "    error_report_html = STATIC/\"html\"/\"bug\"/\"error_report.html\"\n",
    "    assert (error_report_html).is_file(), f\"'{STATIC}' is not a valid static path\""
   ]
  },
  {
   "cell_type": "markdown",
   "metadata": {},
   "source": [
    "<!-- Hide -->\n",
    "# Running all Test Cases"
   ]
  },
  {
   "cell_type": "code",
<<<<<<< HEAD
   "execution_count": 32,
   "metadata": {},
=======
   "execution_count": 10,
   "source": [
    "# hide\r\n",
    "ipytest.run()"
   ],
>>>>>>> origin/main
   "outputs": [
    {
     "name": "stdout",
     "output_type": "stream",
     "text": [
      "FFFFF......s.s                                                           [100%]##vso[results.publish type=JUnit;runTitle='Pytest results';]e:\\AnsysDev\\_perso_repo\\unpackai\\nbs\\test-output.xml\n",
      "##vso[task.logissue type=error;]5 test(s) failed, 14 test(s) collected.\n",
      "##vso[task.logissue type=warning;]Coverage XML was not created, skipping upload.\n",
      "\n",
      "================================== FAILURES ===================================\n",
      "_______________________ test_check_img_error[empty.bmp] _______________________\n",
      "\n",
      "img = WindowsPath('E:/AnsysDev/_perso_repo/unpackai/test/img/robustness/empty.bmp')\n",
      "tmpdir = local('C:\\\\Users\\\\jthuong\\\\AppData\\\\Local\\\\Temp\\\\pytest-of-jthuong\\\\pytest-21\\\\test_check_img_error_empty_bmp0')\n",
      "caplog = <_pytest.logging.LogCaptureFixture object at 0x15E1FDF0>\n",
      "\n",
      "    @pytest.mark.parametrize(\"img\", images_rob, ids=[i.name for i in images_rob])\n",
      "    def test_check_img_error(img: Path, tmpdir, caplog):\n",
      "        \"\"\"Test check_img with incorrect images\"\"\"\n",
      "        img_copy = Path(tmpdir) / img.name\n",
      "        copy(img, img_copy)\n",
      "        check_img(img_copy)\n",
      "        check_only_warning(caplog, img.name)\n",
      "        assert not img_copy.is_file(), f\"File {img_copy} not be deleted\"\n",
      ">       assert 3 + 3 == 7, \"3 + 3 is not 7\"\n",
      "E       AssertionError: 3 + 3 is not 7\n",
      "E       assert (3 + 3) == 7\n",
      "\n",
      "C:\\Users\\jthuong\\AppData\\Local\\Temp/ipykernel_16880/2107511880.py:15: AssertionError\n",
      "------------------------------ Captured log call ------------------------------\n",
      "WARNING  root:1472465520.py:24 Removed erroneous img: C:\\Users\\jthuong\\AppData\\Local\\Temp\\pytest-of-jthuong\\pytest-21\\test_check_img_error_empty_bmp0\\empty.bmp\n",
      "_______________________ test_check_img_error[empty.jpg] _______________________\n",
      "\n",
      "img = WindowsPath('E:/AnsysDev/_perso_repo/unpackai/test/img/robustness/empty.jpg')\n",
      "tmpdir = local('C:\\\\Users\\\\jthuong\\\\AppData\\\\Local\\\\Temp\\\\pytest-of-jthuong\\\\pytest-21\\\\test_check_img_error_empty_jpg0')\n",
      "caplog = <_pytest.logging.LogCaptureFixture object at 0x15F94050>\n",
      "\n",
      "    @pytest.mark.parametrize(\"img\", images_rob, ids=[i.name for i in images_rob])\n",
      "    def test_check_img_error(img: Path, tmpdir, caplog):\n",
      "        \"\"\"Test check_img with incorrect images\"\"\"\n",
      "        img_copy = Path(tmpdir) / img.name\n",
      "        copy(img, img_copy)\n",
      "        check_img(img_copy)\n",
      "        check_only_warning(caplog, img.name)\n",
      "        assert not img_copy.is_file(), f\"File {img_copy} not be deleted\"\n",
      ">       assert 3 + 3 == 7, \"3 + 3 is not 7\"\n",
      "E       AssertionError: 3 + 3 is not 7\n",
      "E       assert (3 + 3) == 7\n",
      "\n",
      "C:\\Users\\jthuong\\AppData\\Local\\Temp/ipykernel_16880/2107511880.py:15: AssertionError\n",
      "------------------------------ Captured log call ------------------------------\n",
      "WARNING  root:1472465520.py:24 Removed erroneous img: C:\\Users\\jthuong\\AppData\\Local\\Temp\\pytest-of-jthuong\\pytest-21\\test_check_img_error_empty_jpg0\\empty.jpg\n",
      "_______________________ test_check_img_error[empty.png] _______________________\n",
      "\n",
      "img = WindowsPath('E:/AnsysDev/_perso_repo/unpackai/test/img/robustness/empty.png')\n",
      "tmpdir = local('C:\\\\Users\\\\jthuong\\\\AppData\\\\Local\\\\Temp\\\\pytest-of-jthuong\\\\pytest-21\\\\test_check_img_error_empty_png0')\n",
      "caplog = <_pytest.logging.LogCaptureFixture object at 0x15F94450>\n",
      "\n",
      "    @pytest.mark.parametrize(\"img\", images_rob, ids=[i.name for i in images_rob])\n",
      "    def test_check_img_error(img: Path, tmpdir, caplog):\n",
      "        \"\"\"Test check_img with incorrect images\"\"\"\n",
      "        img_copy = Path(tmpdir) / img.name\n",
      "        copy(img, img_copy)\n",
      "        check_img(img_copy)\n",
      "        check_only_warning(caplog, img.name)\n",
      "        assert not img_copy.is_file(), f\"File {img_copy} not be deleted\"\n",
      ">       assert 3 + 3 == 7, \"3 + 3 is not 7\"\n",
      "E       AssertionError: 3 + 3 is not 7\n",
      "E       assert (3 + 3) == 7\n",
      "\n",
      "C:\\Users\\jthuong\\AppData\\Local\\Temp/ipykernel_16880/2107511880.py:15: AssertionError\n",
      "------------------------------ Captured log call ------------------------------\n",
      "WARNING  root:1472465520.py:24 Removed erroneous img: C:\\Users\\jthuong\\AppData\\Local\\Temp\\pytest-of-jthuong\\pytest-21\\test_check_img_error_empty_png0\\empty.png\n",
      "__________________ test_check_img_error[truncated_image.png] __________________\n",
      "\n",
      "img = WindowsPath('E:/AnsysDev/_perso_repo/unpackai/test/img/robustness/truncated_image.png')\n",
      "tmpdir = local('C:\\\\Users\\\\jthuong\\\\AppData\\\\Local\\\\Temp\\\\pytest-of-jthuong\\\\pytest-21\\\\test_check_img_error_truncated0')\n",
      "caplog = <_pytest.logging.LogCaptureFixture object at 0x15F94E50>\n",
      "\n",
      "    @pytest.mark.parametrize(\"img\", images_rob, ids=[i.name for i in images_rob])\n",
      "    def test_check_img_error(img: Path, tmpdir, caplog):\n",
      "        \"\"\"Test check_img with incorrect images\"\"\"\n",
      "        img_copy = Path(tmpdir) / img.name\n",
      "        copy(img, img_copy)\n",
      "        check_img(img_copy)\n",
      "        check_only_warning(caplog, img.name)\n",
      "        assert not img_copy.is_file(), f\"File {img_copy} not be deleted\"\n",
      ">       assert 3 + 3 == 7, \"3 + 3 is not 7\"\n",
      "E       AssertionError: 3 + 3 is not 7\n",
      "E       assert (3 + 3) == 7\n",
      "\n",
      "C:\\Users\\jthuong\\AppData\\Local\\Temp/ipykernel_16880/2107511880.py:15: AssertionError\n",
      "------------------------------ Captured log call ------------------------------\n",
      "WARNING  root:1472465520.py:24 Removed erroneous img: C:\\Users\\jthuong\\AppData\\Local\\Temp\\pytest-of-jthuong\\pytest-21\\test_check_img_error_truncated0\\truncated_image.png\n",
      "__________________ test_check_img_error[truncated_jpeg.jpg] ___________________\n",
      "\n",
      "img = WindowsPath('E:/AnsysDev/_perso_repo/unpackai/test/img/robustness/truncated_jpeg.jpg')\n",
      "tmpdir = local('C:\\\\Users\\\\jthuong\\\\AppData\\\\Local\\\\Temp\\\\pytest-of-jthuong\\\\pytest-21\\\\test_check_img_error_truncated1')\n",
      "caplog = <_pytest.logging.LogCaptureFixture object at 0x1600F830>\n",
      "\n",
      "    @pytest.mark.parametrize(\"img\", images_rob, ids=[i.name for i in images_rob])\n",
      "    def test_check_img_error(img: Path, tmpdir, caplog):\n",
      "        \"\"\"Test check_img with incorrect images\"\"\"\n",
      "        img_copy = Path(tmpdir) / img.name\n",
      "        copy(img, img_copy)\n",
      "        check_img(img_copy)\n",
      "        check_only_warning(caplog, img.name)\n",
      "        assert not img_copy.is_file(), f\"File {img_copy} not be deleted\"\n",
      ">       assert 3 + 3 == 7, \"3 + 3 is not 7\"\n",
      "E       AssertionError: 3 + 3 is not 7\n",
      "E       assert (3 + 3) == 7\n",
      "\n",
      "C:\\Users\\jthuong\\AppData\\Local\\Temp/ipykernel_16880/2107511880.py:15: AssertionError\n",
      "------------------------------ Captured log call ------------------------------\n",
      "WARNING  root:1472465520.py:24 Removed erroneous img: C:\\Users\\jthuong\\AppData\\Local\\Temp\\pytest-of-jthuong\\pytest-21\\test_check_img_error_truncated1\\truncated_jpeg.jpg\n",
      "-- generated xml file: e:\\AnsysDev\\_perso_repo\\unpackai\\nbs\\test-output.xml ---\n",
      "=========================== short test summary info ===========================\n",
      "FAILED tmp8dkfsa0l.py::test_check_img_error[empty.bmp] - AssertionError: 3 + ...\n",
      "FAILED tmp8dkfsa0l.py::test_check_img_error[empty.jpg] - AssertionError: 3 + ...\n",
      "FAILED tmp8dkfsa0l.py::test_check_img_error[empty.png] - AssertionError: 3 + ...\n",
      "FAILED tmp8dkfsa0l.py::test_check_img_error[truncated_image.png] - AssertionE...\n",
      "FAILED tmp8dkfsa0l.py::test_check_img_error[truncated_jpeg.jpg] - AssertionEr...\n",
      "5 failed, 7 passed, 2 skipped in 0.59s\n"
     ]
    }
   ],
   "source": [
    "# hide\n",
    "ipytest.run()"
   ]
  }
 ],
 "metadata": {
  "interpreter": {
   "hash": "8a428f088ac08f7fdf89fb2f4bb23c2bc8a83acc5d068a78d54410b8e3eeec73"
  },
  "kernelspec": {
   "display_name": "Python 3",
   "language": "python",
   "name": "python3"
  },
  "language_info": {
   "codemirror_mode": {
    "name": "ipython",
    "version": 3
   },
   "file_extension": ".py",
   "mimetype": "text/x-python",
   "name": "python",
   "nbconvert_exporter": "python",
   "pygments_lexer": "ipython3",
   "version": "3.7.4"
  },
  "toc": {
   "base_numbering": 1,
   "nav_menu": {},
   "number_sections": true,
   "sideBar": true,
   "skip_h1_title": false,
   "title_cell": "Table of Contents",
   "title_sidebar": "Contents",
   "toc_cell": false,
   "toc_position": {},
   "toc_section_display": true,
   "toc_window_display": false
  }
 },
 "nbformat": 4,
 "nbformat_minor": 4
}
