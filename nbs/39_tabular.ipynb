{
 "cells": [
  {
   "cell_type": "markdown",
   "metadata": {},
   "source": [
    "# Tabular Data Everything"
   ]
  },
  {
   "cell_type": "code",
   "execution_count": null,
   "metadata": {},
   "outputs": [],
   "source": [
    "# default_exp tabular.__init__"
   ]
  },
  {
   "cell_type": "code",
   "execution_count": null,
   "metadata": {},
   "outputs": [],
   "source": [
    "# export\n",
    "from unpackai.utils import *\n",
    "from unpackai.interp import *\n",
    "from unpackai.tabular.data import *"
   ]
  },
  {
   "cell_type": "code",
   "execution_count": null,
   "metadata": {},
   "outputs": [],
   "source": [
    "from unpackai.bug import ishell,BUGBOOK, itb\n",
    "\n",
    "def keyerror_in_tabular(etype, evalue, tb):\n",
    "    stb = itb.structured_traceback(etype, evalue, tb)\n",
    "    sstb = itb.stb2text(stb)\n",
    "    if \"pandas/\" in sstb:\n",
    "        return f\"We don't have column '{evalue}' in the dataframe\"\n",
    "    else:\n",
    "        return None\n",
    "    \n",
    "    \n",
    "BUGBOOK[\"KeyError\"] = keyerror_in_tabular"
   ]
  }
 ],
 "metadata": {
  "kernelspec": {
   "display_name": "Python 3 (ipykernel)",
   "language": "python",
   "name": "python3"
  }
 },
 "nbformat": 4,
 "nbformat_minor": 4
}
