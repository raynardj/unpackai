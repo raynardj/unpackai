{
 "cells": [
  {
   "cell_type": "markdown",
   "source": [
    "# unpackAI\n"
   ],
   "metadata": {}
  },
  {
   "cell_type": "markdown",
   "source": [
    "\n",
    "<img src=\"https://unpackai.github.io/unpackai_logo.svg\" alt=\"unpackAI Logo\" width=\"75%\"/>\n",
    "\n",
    "---"
   ],
   "metadata": {}
  },
  {
   "cell_type": "markdown",
   "source": [
    "[![PyPI version](https://img.shields.io/pypi/v/unpackai)](https://pypi.org/project/unpackai/)\n",
    "![Python version](https://img.shields.io/pypi/pyversions/unpackai)\n",
    "![License](https://img.shields.io/github/license/unpackai/unpackai)\n",
    "![PyPI Downloads](https://img.shields.io/pypi/dm/unpackai)\n",
    "[![Bugs](https://img.shields.io/github/issues/unpackai/unpackai/bug)](https://github.com/unpackai/unpackai/issues?q=is%3Aissue+is%3Aopen+-label%3A\"enhancement\")\n",
    "[![Enhancements](https://img.shields.io/github/issues/unpackai/unpackai/enhancement)](https://github.com/unpackai/unpackai/issues?q=is%3Aissue+is%3Aopen+label%3A\"enhancement\")\n",
    "[![Coverage Status](https://coveralls.io/repos/github/unpackAI/unpackai/badge.svg?branch=main)](https://coveralls.io/github/unpackAI/unpackai?branch=main)"
   ],
   "metadata": {}
  },
  {
   "cell_type": "markdown",
   "source": [
    "> AI & Machine Learning Education as accessible as possible.\n",
    "> -- <cite>unpackAI</cite>\n",
    "\n",
    "The [unpackAI](https://unpackai.com/) library ease your learning of state-of-the-art deep learning to empower your business and career."
   ],
   "metadata": {}
  },
  {
   "cell_type": "markdown",
   "source": [
    "## Installation\n",
    "\n",
    "You can install this library with pip\n",
    "\n",
    "```shell\n",
    "pip install unpackai\n",
    "```\n",
    "\n",
    "or with github link to get the latest version\n",
    "\n",
    "```shell\n",
    "pip install git+https://github.com/unpackai/unpackai/\n",
    "```"
   ],
   "metadata": {}
  },
  {
   "cell_type": "markdown",
   "source": [
    "## Content\r\n",
    "\r\n",
    "This package provides utilities for:\r\n",
    "\r\n",
    "* Computer Vision (CV)\r\n",
    "* Natural Language Processing (NLP)"
   ],
   "metadata": {}
  },
  {
   "cell_type": "markdown",
   "source": [
    "## Documentation\r\n",
    "\r\n",
    "Documentation is available [here](https://unpackai.github.io/unpackai)."
   ],
   "metadata": {}
  }
 ],
 "metadata": {
  "kernelspec": {
   "display_name": "Python 3",
   "language": "python",
   "name": "python3"
  },
  "language_info": {
   "codemirror_mode": {
    "name": "ipython",
    "version": 3
   },
   "file_extension": ".py",
   "mimetype": "text/x-python",
   "name": "python",
   "nbconvert_exporter": "python",
   "pygments_lexer": "ipython3",
   "version": "3.7.4"
  },
  "toc": {
   "base_numbering": 1,
   "nav_menu": {},
   "number_sections": true,
   "sideBar": true,
   "skip_h1_title": false,
   "title_cell": "Table of Contents",
   "title_sidebar": "Contents",
   "toc_cell": false,
   "toc_position": {},
   "toc_section_display": true,
   "toc_window_display": false
  }
 },
 "nbformat": 4,
 "nbformat_minor": 4
}