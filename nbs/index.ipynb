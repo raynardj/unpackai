{
 "cells": [
  {
   "cell_type": "markdown",
   "metadata": {},
   "source": [
    "# unpackAI\n"
   ]
  },
  {
   "cell_type": "markdown",
   "metadata": {},
   "source": [
    "\n",
    "<img src=\"https://unpackai.github.io/unpackai_logo.svg\" alt=\"unpackAI Logo\" width=\"75%\"/>\n",
    "\n",
    "---"
   ]
  },
  {
   "cell_type": "markdown",
   "metadata": {},
   "source": [
    "[![PyPI version](https://img.shields.io/pypi/v/unpackai)](https://pypi.org/project/unpackai/)\n",
    "![Python version](https://img.shields.io/pypi/pyversions/unpackai)\n",
    "![License](https://img.shields.io/github/license/unpackai/unpackai)\n",
    "![PyPI Downloads](https://img.shields.io/pypi/dm/unpackai)\n",
    "[![Bugs](https://img.shields.io/github/issues/unpackai/unpackai/bug)](https://github.com/unpackai/unpackai/issues?q=is%3Aissue+is%3Aopen+-label%3A\"enhancement\")\n",
    "[![Enhancements](https://img.shields.io/github/issues/unpackai/unpackai/enhancement)](https://github.com/unpackai/unpackai/issues?q=is%3Aissue+is%3Aopen+label%3A\"enhancement\")\n",
    "[![Coverage Status](https://coveralls.io/repos/github/unpackAI/unpackai/badge.svg?branch=main)](https://coveralls.io/github/unpackAI/unpackai?branch=main)"
   ]
  },
  {
   "cell_type": "markdown",
   "metadata": {},
   "source": [
    "> AI & Machine Learning Education as accessible as possible.\n",
    "> -- <cite>unpackAI</cite>\n",
    "\n",
    "The [unpackAI](https://unpackai.com/) library ease your learning of state-of-the-art deep learning to empower your business and career."
   ]
  },
  {
   "cell_type": "markdown",
   "metadata": {},
   "source": [
    "## Installation\n",
    "\n",
    "You can install this library with pip\n",
    "\n",
    "```shell\n",
    "pip install unpackai\n",
    "```\n",
    "\n",
    "or with github link to get the latest version\n",
    "\n",
    "```shell\n",
    "pip install git+https://github.com/unpackai/unpackai/\n",
    "```"
   ]
  },
  {
   "cell_type": "markdown",
   "metadata": {},
   "source": [
    "## Content\r\n",
    "\r\n",
    "This package provides utilities for:\r\n",
    "\r\n",
    "* Computer Vision (CV)\r\n",
    "* Natural Language Processing (NLP)"
   ]
  },
  {
   "cell_type": "markdown",
   "metadata": {},
   "source": [
    "## Documentation\r\n",
    "\r\n",
    "Documentation is available [here](https://unpackai.github.io/unpackai)."
   ]
  }
 ],
 "metadata": {
  "kernelspec": {
   "display_name": "Python 3",
   "language": "python",
   "name": "python3"
  }
 },
 "nbformat": 4,
 "nbformat_minor": 4
}
