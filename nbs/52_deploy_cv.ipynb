{
 "cells": [
  {
   "cell_type": "markdown",
   "metadata": {},
   "source": [
    "# Deploy tools for CV applications"
   ]
  },
  {
   "cell_type": "code",
   "execution_count": null,
   "metadata": {},
   "outputs": [],
   "source": [
    "# default_exp deploy.cv"
   ]
  },
  {
   "cell_type": "code",
   "execution_count": null,
   "metadata": {},
   "outputs": [],
   "source": [
    "# export\n",
    "import logging\n",
    "import os\n",
    "import pathlib\n",
    "import re\n",
    "import requests\n",
    "import sys\n",
    "import tempfile\n",
    "from contextlib import contextmanager\n",
    "from pathlib import Path\n",
    "from typing import List, Union, Tuple\n",
    "\n",
    "import streamlit as st\n",
    "from fastai.learner import load_learner, Learner\n",
    "from fastai.vision.core import PILImage\n",
    "from fastai.torch_core import TensorBase"
   ]
  },
  {
   "cell_type": "code",
   "execution_count": null,
   "metadata": {},
   "outputs": [],
   "source": [
    "# exporti\n",
    "logger = logging.getLogger(\"unpackai.deploy.cv\")"
   ]
  },
  {
   "cell_type": "markdown",
   "metadata": {},
   "source": [
    "# Functions to load Learner and images\n",
    "\n",
    "To be used in Streamlit app"
   ]
  },
  {
   "cell_type": "code",
   "execution_count": null,
   "metadata": {},
   "outputs": [],
   "source": [
    "# exporti\n",
    "@contextmanager\n",
    "def set_posix():\n",
    "    \"\"\"To be able to load model in Windows\"\"\"\n",
    "    posix_backup = pathlib.PosixPath\n",
    "    try:\n",
    "        if os.name == \"nt\":\n",
    "            pathlib.PosixPath = pathlib.WindowsPath\n",
    "        yield\n",
    "    finally:\n",
    "        pathlib.PosixPath = posix_backup\n"
   ]
  },
  {
   "cell_type": "code",
   "execution_count": null,
   "metadata": {},
   "outputs": [],
   "source": [
    "# export\n",
    "PathStr = Union[Path, str]\n",
    "\n",
    "# TODO: Try to cache the learner ... better: cache when using it\n",
    "# @st.cache(hash_funcs={TensorBase: (lambda learn:hash(learn))})\n",
    "def get_learner(model_path: PathStr) -> Learner:\n",
    "    def try_loading(\n",
    "        missing_implem: List[str] = None, nb_iter=5\n",
    "    ) -> Tuple[List[str], Learner]:\n",
    "        if missing_implem is None:\n",
    "            missing_implem = []\n",
    "        try:\n",
    "            with set_posix():\n",
    "                learner = load_learner(model_path)\n",
    "        except AttributeError as e:\n",
    "            m_missing_func = re.match(r\"Can't get attribute '(.*?)'\", str(e))\n",
    "            if m_missing_func and nb_iter > 0:\n",
    "                missing_implementation = m_missing_func.group(1)\n",
    "                setattr(sys.modules[\"__main__\"], missing_implementation, None)\n",
    "                missing_implem.append(missing_implementation)\n",
    "                return try_loading(missing_implem, nb_iter - 1)\n",
    "            raise\n",
    "        else:\n",
    "            return missing_implem, learner\n",
    "\n",
    "    missing_implem, learner = try_loading()\n",
    "    if missing_implem:\n",
    "        logger.warning(\n",
    "            f\"Missing function implementation: {missing_implem} => used 'None' instead\"\n",
    "        )\n",
    "\n",
    "    return learner\n",
    "\n",
    "\n",
    "@st.cache\n",
    "def get_image(img: PathStr) -> PILImage:\n",
    "    \"\"\"Get picture from either a path or URL\"\"\"\n",
    "    if str(img).startswith(\"http\"):\n",
    "        with tempfile.TemporaryDirectory() as tmpdirname:\n",
    "            dest = Path(tmpdirname) / str(img).split(\"?\")[0].rpartition(\"/\")[-1]\n",
    "\n",
    "            # NOTE: to be replaced by download(url, dest=dest) [from unpackai.utils]\n",
    "            with requests.get(str(img)) as resp:\n",
    "                resp.raise_for_status()\n",
    "                dest.write_bytes(resp.content)\n",
    "\n",
    "            return PILImage.create(dest)\n",
    "    else:\n",
    "        return PILImage.create(img)\n"
   ]
  },
  {
   "cell_type": "markdown",
   "metadata": {},
   "source": [
    "We also need a dummy function to make it easier to load a model\n",
    "when we don't know the implementation of some functions previously defined (like labelling function)\n"
   ]
  },
  {
   "cell_type": "code",
   "execution_count": null,
   "metadata": {},
   "outputs": [],
   "source": [
    "# export\n",
    "def dummy_function(*args, **kwargs):\n",
    "    \"\"\"Function that does absolutely nothing\"\"\"\n",
    "    return None"
   ]
  },
  {
   "cell_type": "markdown",
   "metadata": {},
   "source": [
    "Note: we should try to see if just setting the missing pieces to `None` would work.\n",
    "\n",
    "That would make it easier"
   ]
  }
 ],
 "metadata": {
  "kernelspec": {
   "display_name": "Python 3",
   "language": "python",
   "name": "python3"
  }
 },
 "nbformat": 4,
 "nbformat_minor": 2
}
