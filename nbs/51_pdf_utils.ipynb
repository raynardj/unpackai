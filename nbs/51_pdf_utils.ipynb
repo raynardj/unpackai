{
 "cells": [
  {
   "cell_type": "markdown",
   "metadata": {},
   "source": [
    "# PDF Utils: extending current functionalities for PDF\n",
    "\n",
    "Add dependency to `pdfminer.six`: use `pip install unpackai[PDF]` to install the dependencies."
   ]
  },
  {
   "cell_type": "code",
   "execution_count": null,
   "metadata": {},
   "outputs": [],
   "source": [
    "# default_exp pdf"
   ]
  },
  {
   "cell_type": "code",
   "execution_count": null,
   "metadata": {},
   "outputs": [],
   "source": [
    "# export\n",
    "import re\n",
    "from pathlib import Path\n",
    "from typing import List, Union\n",
    "\n",
    "from pdfminer.high_level import extract_text\n",
    "from unpackai import utils\n",
    "from unpackai import nlp\n",
    "\n",
    "PathStr = Union[Path, str]"
   ]
  },
  {
   "cell_type": "code",
   "execution_count": null,
   "metadata": {},
   "outputs": [],
   "source": [
    "# export\n",
    "class TextualPDF(nlp.Textual):\n",
    "    \"\"\"Extend Textual for PDF\"\"\"\n",
    "\n",
    "    @classmethod\n",
    "    def from_url_pdf(\n",
    "        cls, url: str, password: str = \"\", page_numbers: List[int] = None, cleanup=True\n",
    "    ):\n",
    "        \"\"\"Create a Textual object from a PDF URL with specific options\n",
    "\n",
    "        Args:\n",
    "            url: url of PDF\n",
    "            password: password, if the PDF is protected\n",
    "            page_numbers: list of pages to extract (first page = 0)\n",
    "            cleanup: remove messy characters and line returns (default=True)\n",
    "        \"\"\"\n",
    "        return cls.from_path_pdf(\n",
    "            utils.download(url),\n",
    "            password=password,\n",
    "            page_numbers=page_numbers,\n",
    "            cleanup=cleanup,\n",
    "        )\n",
    "\n",
    "    @classmethod\n",
    "    def from_path_pdf(\n",
    "        cls,\n",
    "        pdf_file: PathStr,\n",
    "        password: str = \"\",\n",
    "        page_numbers: List[int] = None,\n",
    "        cleanup=True,\n",
    "    ):\n",
    "        \"\"\"Create a Textual object from a PDF\n",
    "\n",
    "        Args:\n",
    "            pdf_file: path of PDF\n",
    "            password: password, if the PDF is protected\n",
    "            page_numbers: list of pages to extract (first page = 0)\n",
    "            cleanup: remove messy characters and line returns (default=True)\n",
    "        \"\"\"\n",
    "        txt = extract_text(pdf_file, password=password, page_numbers=page_numbers)\n",
    "        if cleanup:\n",
    "            txt = re.sub(r\"[\\r\\n]{2,}\", \"<line_break>\", txt)\n",
    "            txt = re.sub(r\"- *[\\n\\r]\", \"\", txt)\n",
    "            txt = txt.replace(\"\\n\", \" \").replace(\"<line_break>\", \"\\n\\n\")\n",
    "\n",
    "        return cls(txt, Path(pdf_file))\n",
    "\n",
    "    @classmethod\n",
    "    def from_path(cls, path: PathStr):\n",
    "        \"\"\"Create a Textual object from a path, including PDF\"\"\"\n",
    "        path = Path(path)\n",
    "        if path.suffix.lower() == \".pdf\":\n",
    "            return cls.from_path_pdf(path)\n",
    "        else:\n",
    "            return super().from_path(path)\n"
   ]
  },
  {
   "cell_type": "markdown",
   "metadata": {},
   "source": [
    "## How to use it?\n",
    "\n",
    "```python\n",
    "\n",
    "from unpackai.pdf import TextualPDF\n",
    "\n",
    "textual = TextualPDF.from_url(\"http://islamicblessings.com/upload/A-Thousand-And-One-Nights-1.pdf\")\n",
    "# OR...\n",
    "textual = TextualPDF.from_path(\"C:/my_doc.pdf\")\n",
    "# OR ... if there is a password or you want to extract specific pages...\n",
    "textual = TextualPDF.from_url_pdf(\"https://my_company.com/my_protected_doc.pdf\", password=\"P@ssW0rd\")\n",
    "textual = TextualPDF.from_path_pdf(\"C:/my_doc.pdf\", page_numbers=range(10))\n",
    "```"
   ]
  },
  {
   "cell_type": "code",
   "execution_count": null,
   "metadata": {},
   "outputs": [
    {
     "data": {
      "text/plain": [
       "Text (1514113 chars), textual(),\n",
       "    train_path, val_path = textual.create_train_val()"
      ]
     },
     "execution_count": null,
     "metadata": {},
     "output_type": "execute_result"
    }
   ],
   "source": [
    "t = TextualPDF.from_url(\"http://islamicblessings.com/upload/A-Thousand-And-One-Nights-1.pdf\")\n",
    "t"
   ]
  },
  {
   "cell_type": "markdown",
   "metadata": {},
   "source": [
    "# Tests"
   ]
  },
  {
   "cell_type": "code",
   "execution_count": null,
   "metadata": {},
   "outputs": [],
   "source": [
    "# hide\n",
    "# To be able to run the tests in the Notebook\n",
    "from pathlib import Path\n",
    "import ipytest\n",
    "import sys\n",
    "\n",
    "ipytest.autoconfig()\n",
    "\n",
    "root_dir = Path(\"..\").resolve()\n",
    "sys.path.append(str(root_dir / \"test\"))"
   ]
  },
  {
   "cell_type": "markdown",
   "metadata": {},
   "source": []
  },
  {
   "cell_type": "code",
   "execution_count": null,
   "metadata": {},
   "outputs": [],
   "source": [
    "# exportest\n",
    "# For Test Cases (might have duplicate import because it will be in a dedicated file)\n",
    "from pathlib import Path\n",
    "from typing import List\n",
    "\n",
    "import pytest\n",
    "from test_common.utils_4_tests import DATA_DIR, IMG_DIR, check_no_log, check_only_warning\n",
    "from test_utils import GITHUB_TEST_DATA_URL, check_connection_github"
   ]
  },
  {
   "cell_type": "code",
   "execution_count": null,
   "metadata": {},
   "outputs": [],
   "source": [
    "# exportest\n",
    "GITHUB_TEST_PDF = f\"{GITHUB_TEST_DATA_URL}/Deep%20learning.pdf\"\n",
    "LOCAL_TEST_PDF = DATA_DIR / \"Deep learning.pdf\"\n",
    "\n",
    "\n",
    "@pytest.fixture(scope=\"session\")\n",
    "def local_textual():\n",
    "    return TextualPDF.from_path(LOCAL_TEST_PDF)\n",
    "\n",
    "\n",
    "class Test_TextualPDF:\n",
    "    def test_from_path(self, local_textual):\n",
    "        \"\"\"Test extract Textual of PDF from local file\"\"\"\n",
    "        t = local_textual\n",
    "        assert \"Deep learning\" in t.text, f\"Text parsed:\\n{t.text}\"\n",
    "\n",
    "    def test_from_path_pdf(self, local_textual):\n",
    "        \"\"\"Test extract Textual of PDF from local path using from_path_pdf\"\"\"\n",
    "        textual = TextualPDF.from_path_pdf(LOCAL_TEST_PDF)\n",
    "        assert textual.text == local_textual.text\n",
    "\n",
    "    def test_from_url(self, check_connection_github, local_textual):\n",
    "        \"\"\"Test extract Textual of PDF from URL\"\"\"\n",
    "        textual = TextualPDF.from_url(GITHUB_TEST_PDF)\n",
    "        assert textual.text == local_textual.text, f\"URL text: {textual.text}\"\n",
    "\n",
    "    def test_from_url_pdf(self, check_connection_github, local_textual):\n",
    "        \"\"\"Test extract Textual of PDF from URL using from_url_pdf\"\"\"\n",
    "        textual = TextualPDF.from_url_pdf(GITHUB_TEST_PDF)\n",
    "        assert textual.text == local_textual.text, f\"URL text: {textual.text}\"\n"
   ]
  },
  {
   "cell_type": "code",
   "execution_count": null,
   "metadata": {},
   "outputs": [],
   "source": [
    "# hide\n",
    "ipytest.run()"
   ]
  }
 ],
 "metadata": {
  "kernelspec": {
   "display_name": "Python 3.9.6 64-bit",
   "name": "python3"
  }
 },
 "nbformat": 4,
 "nbformat_minor": 2
}
