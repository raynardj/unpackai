{
 "cells": [
  {
   "cell_type": "markdown",
   "metadata": {},
   "source": [
    "# PDF Utils: extending current functionalities for PDF\n",
    "\n",
    "Add dependency to `pdfminer.six`: use `pip install unpackai[PDF]` to install the dependencies."
   ]
  },
  {
   "cell_type": "code",
   "execution_count": null,
   "metadata": {},
   "outputs": [],
   "source": [
    "# default_exp pdf"
   ]
  },
  {
   "cell_type": "code",
   "execution_count": null,
   "metadata": {},
   "outputs": [],
   "source": [
    "# export\n",
    "from pathlib import Path\n",
    "from typing import List, Union\n",
    "\n",
    "from pdfminer.high_level import extract_text\n",
    "from unpackai import utils\n",
    "from unpackai import nlp\n",
    "\n",
    "PathStr = Union[Path, str]"
   ]
  },
  {
   "cell_type": "code",
   "execution_count": null,
   "metadata": {},
   "outputs": [],
   "source": [
    "# export\n",
    "class TextualPDF(nlp.Textual):\n",
    "    \"\"\"Extend Textual for PDF\"\"\"\n",
    "\n",
    "    @classmethod\n",
    "    def from_url_pdf(cls, url: str, password: str = \"\", page_numbers: List[int] = None):\n",
    "        \"\"\"Create a Textual object from a PDF URL with specific options\n",
    "\n",
    "        Args:\n",
    "            url: url of PDF\n",
    "            password: password, if the PDF is protected\n",
    "            page_numbers: list of pages to extract (first page = 0)\n",
    "        \"\"\"\n",
    "        return cls.from_path_pdf(\n",
    "            utils.download(url), password=password, page_numbers=page_numbers\n",
    "        )\n",
    "\n",
    "    @classmethod\n",
    "    def from_path_pdf(\n",
    "        cls, pdf_file: PathStr, password: str = \"\", page_numbers: List[int] = None\n",
    "    ):\n",
    "        \"\"\"Create a Textual object from a PDF\n",
    "\n",
    "        Args:\n",
    "            pdf_file: path of PDF\n",
    "            password: password, if the PDF is protected\n",
    "            page_numbers: list of pages to extract (first page = 0)\n",
    "        \"\"\"\n",
    "        txt = extract_text(pdf_file, password=password, page_numbers=page_numbers)\n",
    "        return cls(txt, Path(pdf_file))\n",
    "\n",
    "    @classmethod\n",
    "    def from_path(cls, path: PathStr):\n",
    "        \"\"\"Create a Textual object from a path, including PDF\"\"\"\n",
    "        path = Path(path)\n",
    "        if path.suffix.lower() == \".pdf\":\n",
    "            return cls.from_path_pdf(path)\n",
    "        else:\n",
    "            return super().from_path(path)\n"
   ]
  },
  {
   "cell_type": "markdown",
   "metadata": {},
   "source": [
    "## How to use it?\n",
    "\n",
    "```python\n",
    "\n",
    "from unpackai.pdf import TextualPDF\n",
    "\n",
    "textual = TextualPDF.from_url(\"http://islamicblessings.com/upload/A-Thousand-And-One-Nights-1.pdf\")\n",
    "# OR...\n",
    "textual = TextualPDF.from_path(\"C:/my_doc.pdf\")\n",
    "# OR ... if there is a password or you want to extract specific pages...\n",
    "textual = TextualPDF.from_url_pdf(\"https://my_company.com/my_protected_doc.pdf\", password=\"P@ssW0rd\")\n",
    "textual = TextualPDF.from_path_pdf(\"C:/my_doc.pdf\", page_numbers=range(10))\n",
    "```"
   ]
  },
  {
   "cell_type": "code",
   "execution_count": null,
   "metadata": {},
   "outputs": [
    {
     "data": {
      "text/plain": [
       "Text (1514456 chars), textual(),\n",
       "    train_path, val_path = textual.create_train_val()"
      ]
     },
     "execution_count": null,
     "metadata": {},
     "output_type": "execute_result"
    }
   ],
   "source": [
    "t = TextualPDF.from_url(\"http://islamicblessings.com/upload/A-Thousand-And-One-Nights-1.pdf\")\n",
    "t"
   ]
  }
 ],
 "metadata": {
  "kernelspec": {
   "display_name": "Python 3.9.6 64-bit",
   "name": "python3"
  }
 },
 "nbformat": 4,
 "nbformat_minor": 2
}
