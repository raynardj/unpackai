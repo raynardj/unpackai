{
 "cells": [
  {
   "cell_type": "markdown",
   "metadata": {},
   "source": [
    "# Cosine Similarirty\n",
    "> Easy consine similarity search, search similar features among vectors is a frequently encountered situation\n",
    "\n",
    "> Most of the code is from Ray's other library ```forgebox.cosine```"
   ]
  },
  {
   "cell_type": "code",
   "execution_count": 1,
   "metadata": {},
   "outputs": [],
   "source": [
    "# default_exp cosine"
   ]
  },
  {
   "cell_type": "code",
   "execution_count": 4,
   "metadata": {},
   "outputs": [],
   "source": [
    "# export\n",
    "import numpy as np\n",
    "import pandas as pd"
   ]
  },
  {
   "cell_type": "code",
   "execution_count": 5,
   "metadata": {},
   "outputs": [],
   "source": [
    "# export\n",
    "class CosineSearch:\n",
    "    \"\"\"\n",
    "    Build a index search on cosine distance\n",
    "    cos = CosineSearch(base_array)\n",
    "    idx_order = cos(vec)\n",
    "    \"\"\"\n",
    "\n",
    "    def __init__(self, base: np.ndarray):\n",
    "        \"\"\"\n",
    "        base: np.ndarray, embedding matrix of shape:\n",
    "            (num_items, hidden_size)\n",
    "        \"\"\"\n",
    "        assert len(base.shape) == 2,\\\n",
    "            f\"Base array has to be 2 dimentional, input is {len(base.shape)}\"\n",
    "        self.base = base\n",
    "        self.base_norm = self.calc_base_norm(self.base)\n",
    "        self.normed_base = self.base/self.base_norm[:, None]\n",
    "        self.dim = self.base.shape[1]\n",
    "        \n",
    "    def __repr__(self):\n",
    "        return f\"[Consine Similarity Search] ({len(self)} items)\"\n",
    "\n",
    "    def __len__(self): return self.base.shape[0]\n",
    "\n",
    "    @staticmethod\n",
    "    def calc_base_norm(base: np.ndarray) -> np.ndarray:\n",
    "        return np.sqrt(np.power(base, 2).sum(1))\n",
    "\n",
    "    def search(self, vec: np.ndarray, return_similarity: bool = False):\n",
    "        if return_similarity:\n",
    "            similarity = (vec * self.normed_base /\n",
    "                          (np.power(vec, 2).sum())).sum(1)\n",
    "            order = similarity.argsort()[::-1]\n",
    "            return order, similarity[order]\n",
    "        return self(vec)\n",
    "\n",
    "    def __call__(self, vec: np.ndarray) -> np.ndarray:\n",
    "        \"\"\"\n",
    "        Return the order index of the closest vector to the furthest\n",
    "        vec: an 1 dimentional vector, marks the closest index\n",
    "            to the further ones\n",
    "        \"\"\"\n",
    "        return (vec * self.normed_base).sum(1).argsort()[::-1]"
   ]
  },
  {
   "cell_type": "markdown",
   "metadata": {},
   "source": [
    "## Search for similar vecs"
   ]
  },
  {
   "cell_type": "markdown",
   "metadata": {},
   "source": [
    "Create random vector, assimuating ```500 items x 128 embedding hidden size```"
   ]
  },
  {
   "cell_type": "code",
   "execution_count": 6,
   "metadata": {},
   "outputs": [],
   "source": [
    "base = np.random.rand(500,128)"
   ]
  },
  {
   "cell_type": "code",
   "execution_count": 7,
   "metadata": {},
   "outputs": [
    {
     "data": {
      "text/plain": [
       "[Consine Similarity Search] (500 items)"
      ]
     },
     "execution_count": 7,
     "metadata": {},
     "output_type": "execute_result"
    }
   ],
   "source": [
    "cosine = CosineSearch(base)\n",
    "cosine"
   ]
  },
  {
   "cell_type": "markdown",
   "metadata": {},
   "source": [
    "### Rank the distance to 6th item"
   ]
  },
  {
   "cell_type": "code",
   "execution_count": 8,
   "metadata": {},
   "outputs": [
    {
     "data": {
      "text/plain": [
       "array([  5, 268, 327, 309, 365,  34, 388, 173, 415, 135, 151, 461, 307,\n",
       "       275, 469, 384, 416,  60, 293, 236, 153, 493, 464, 402,  74, 383,\n",
       "        15, 294,  95, 485, 103, 488, 156, 122, 283, 379, 321, 477, 300,\n",
       "       348, 100, 381, 317, 209, 231, 182, 174, 457, 332, 314, 256, 326,\n",
       "       251, 313,   9, 183, 270, 133,  70, 424, 227, 399, 234, 205, 487,\n",
       "        84,  31, 232, 322, 428, 311,  67, 380,  19, 471, 255, 419, 224,\n",
       "       413, 247, 328, 436, 367,  64, 385, 279, 344, 406, 306, 238, 357,\n",
       "       335, 248, 249, 312, 169, 221, 124, 297, 427,  52, 346, 136, 288,\n",
       "       120,  93, 250, 495,  22, 143, 273, 206, 149, 305, 159, 438, 218,\n",
       "       343, 195,  24, 142,  50, 150, 199, 434, 465, 123,  69, 223,  79,\n",
       "       291, 154,  73,  10, 222,  18,  76,  68, 213, 139, 489, 323, 286,\n",
       "       241, 158, 106,  92,  37, 301, 408, 141, 272,   2, 207, 179,  32,\n",
       "       395, 390, 290, 366, 121, 138, 181, 292, 377,  20, 134, 282,   7,\n",
       "       497, 108, 244, 210, 146, 360, 304, 404, 467, 296, 498, 472, 375,\n",
       "        72, 338,  90,  43, 370,  16, 329, 362, 189, 180, 117, 168, 349,\n",
       "        49, 483, 212, 391,  45, 444,  21,  17, 177, 118, 474, 201,  96,\n",
       "       147, 431,  55, 478, 337, 192, 341, 363, 188,  71,  40, 127, 441,\n",
       "       219, 421, 350, 400, 184, 240, 254, 451, 482,  44, 353,  33, 265,\n",
       "       356, 437, 303, 442,  13, 228, 233,  81, 160, 462, 320, 420, 445,\n",
       "        59, 155, 115, 264, 340, 128,  42, 387, 448,  89,  91, 246, 298,\n",
       "       325, 429, 277, 476, 426, 475, 494, 425, 450, 358,  38, 262, 418,\n",
       "       315,  46, 239,  87, 280, 230,  12, 152, 161,  28, 203, 319, 217,\n",
       "        83, 310,  63, 318, 204, 432, 491, 113, 492,   3, 378, 440, 499,\n",
       "       260, 334,  29, 237, 411, 331, 401, 208, 259, 473, 129,  85, 392,\n",
       "       470, 110, 111, 243, 144,  97, 336, 253, 107, 109, 194, 145, 397,\n",
       "       140, 114, 352,   6, 178, 284, 372, 463,  56, 148, 345, 137, 409,\n",
       "       175,  61, 220, 299, 126, 164, 455,  36, 382, 459, 252, 215, 157,\n",
       "       196, 333,   4, 449, 458,  58, 480, 263, 373,  25, 165, 452, 481,\n",
       "       186, 446,  53,  98, 376, 171, 430, 368,  30, 324,  78, 351, 405,\n",
       "       167, 214, 101,  94, 295, 130, 389, 460, 393, 308, 285, 229,  47,\n",
       "       490, 271,  66, 191,  35, 197, 266, 102, 162, 386,   0, 407, 403,\n",
       "       226, 435, 278, 447, 235, 347, 105,   8,  11,  41, 486, 245, 359,\n",
       "       242, 225, 267, 374,  39, 371,  86, 433, 342, 456,  88, 276, 422,\n",
       "       361, 354, 116, 369,  14,  75, 364, 484, 330, 257, 439, 316, 185,\n",
       "       198, 200, 414, 163, 202, 261, 412, 187, 132, 281, 170, 172, 453,\n",
       "        99, 496, 258, 302, 216, 468, 193, 410,  57, 274, 112,  77, 355,\n",
       "       125,  23,   1, 339, 287,  54, 396, 190, 394, 454,  82, 289, 211,\n",
       "        80, 417, 466,  26, 269, 443, 398, 479, 423,  48, 176,  51, 119,\n",
       "        65, 131,  62, 166, 104,  27])"
      ]
     },
     "execution_count": 8,
     "metadata": {},
     "output_type": "execute_result"
    }
   ],
   "source": [
    "cosine(base[5])"
   ]
  },
  {
   "cell_type": "markdown",
   "metadata": {},
   "source": [
    "### Rank the distance to 10th item\n",
    "> Returning the similarity value also"
   ]
  },
  {
   "cell_type": "code",
   "execution_count": 11,
   "metadata": {},
   "outputs": [
    {
     "data": {
      "text/html": [
       "<div>\n",
       "<style scoped>\n",
       "    .dataframe tbody tr th:only-of-type {\n",
       "        vertical-align: middle;\n",
       "    }\n",
       "\n",
       "    .dataframe tbody tr th {\n",
       "        vertical-align: top;\n",
       "    }\n",
       "\n",
       "    .dataframe thead th {\n",
       "        text-align: right;\n",
       "    }\n",
       "</style>\n",
       "<table border=\"1\" class=\"dataframe\">\n",
       "  <thead>\n",
       "    <tr style=\"text-align: right;\">\n",
       "      <th></th>\n",
       "      <th>order</th>\n",
       "      <th>similarity</th>\n",
       "    </tr>\n",
       "  </thead>\n",
       "  <tbody>\n",
       "    <tr>\n",
       "      <td>0</td>\n",
       "      <td>9</td>\n",
       "      <td>0.146922</td>\n",
       "    </tr>\n",
       "    <tr>\n",
       "      <td>1</td>\n",
       "      <td>28</td>\n",
       "      <td>0.122393</td>\n",
       "    </tr>\n",
       "    <tr>\n",
       "      <td>2</td>\n",
       "      <td>436</td>\n",
       "      <td>0.122063</td>\n",
       "    </tr>\n",
       "    <tr>\n",
       "      <td>3</td>\n",
       "      <td>236</td>\n",
       "      <td>0.121338</td>\n",
       "    </tr>\n",
       "    <tr>\n",
       "      <td>4</td>\n",
       "      <td>135</td>\n",
       "      <td>0.120816</td>\n",
       "    </tr>\n",
       "    <tr>\n",
       "      <td>5</td>\n",
       "      <td>225</td>\n",
       "      <td>0.120507</td>\n",
       "    </tr>\n",
       "    <tr>\n",
       "      <td>6</td>\n",
       "      <td>113</td>\n",
       "      <td>0.120241</td>\n",
       "    </tr>\n",
       "    <tr>\n",
       "      <td>7</td>\n",
       "      <td>160</td>\n",
       "      <td>0.120201</td>\n",
       "    </tr>\n",
       "    <tr>\n",
       "      <td>8</td>\n",
       "      <td>446</td>\n",
       "      <td>0.119380</td>\n",
       "    </tr>\n",
       "    <tr>\n",
       "      <td>9</td>\n",
       "      <td>58</td>\n",
       "      <td>0.119282</td>\n",
       "    </tr>\n",
       "  </tbody>\n",
       "</table>\n",
       "</div>"
      ],
      "text/plain": [
       "   order  similarity\n",
       "0      9    0.146922\n",
       "1     28    0.122393\n",
       "2    436    0.122063\n",
       "3    236    0.121338\n",
       "4    135    0.120816\n",
       "5    225    0.120507\n",
       "6    113    0.120241\n",
       "7    160    0.120201\n",
       "8    446    0.119380\n",
       "9     58    0.119282"
      ]
     },
     "execution_count": 11,
     "metadata": {},
     "output_type": "execute_result"
    }
   ],
   "source": [
    "order, similarity = cosine.search(base[9], return_similarity=True)\n",
    "\n",
    "pd.DataFrame({\"order\": order, \"similarity\": similarity}).head(10)"
   ]
  },
  {
   "cell_type": "code",
   "execution_count": null,
   "metadata": {},
   "outputs": [],
   "source": []
  }
 ],
 "metadata": {
  "kernelspec": {
   "display_name": "Python 3",
   "language": "python",
   "name": "python3"
  },
  "language_info": {
   "codemirror_mode": {
    "name": "ipython",
    "version": 3
   },
   "file_extension": ".py",
   "mimetype": "text/x-python",
   "name": "python",
   "nbconvert_exporter": "python",
   "pygments_lexer": "ipython3",
   "version": "3.7.4"
  },
  "toc": {
   "base_numbering": 1,
   "nav_menu": {},
   "number_sections": true,
   "sideBar": true,
   "skip_h1_title": false,
   "title_cell": "Table of Contents",
   "title_sidebar": "Contents",
   "toc_cell": false,
   "toc_position": {},
   "toc_section_display": true,
   "toc_window_display": false
  }
 },
 "nbformat": 4,
 "nbformat_minor": 4
}
