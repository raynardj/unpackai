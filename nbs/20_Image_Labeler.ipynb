{
 "cells": [
  {
   "cell_type": "markdown",
   "metadata": {},
   "source": [
    "# Image Data Labeler\n",
    "> labeling image data"
   ]
  },
  {
   "cell_type": "code",
   "execution_count": 1,
   "metadata": {},
   "outputs": [],
   "source": [
    "# default_exp turk.image"
   ]
  },
  {
   "cell_type": "code",
   "execution_count": 20,
   "metadata": {},
   "outputs": [],
   "source": [
    "# export\n",
    "from pathlib import Path\n",
    "from forgebox.files import file_detail\n",
    "import pandas as pd\n",
    "from typing import List, Dict\n",
    "from ipywidgets import interact, interact_manual, Button, Output\n",
    "import logging"
   ]
  },
  {
   "cell_type": "markdown",
   "metadata": {},
   "source": [
    "## Dataset for testing"
   ]
  },
  {
   "cell_type": "markdown",
   "metadata": {},
   "source": [
    "For contributer of this library, you can use the default testing images in ../test/img, or you can uncomment the following and download more data you like"
   ]
  },
  {
   "cell_type": "code",
   "execution_count": 11,
   "metadata": {},
   "outputs": [],
   "source": [
    "# !pip install -q jmd_imagescraper"
   ]
  },
  {
   "cell_type": "code",
   "execution_count": 13,
   "metadata": {},
   "outputs": [],
   "source": [
    "# from jmd_imagescraper.core import duckduckgo_search, ImgSize"
   ]
  },
  {
   "cell_type": "code",
   "execution_count": 18,
   "metadata": {},
   "outputs": [
    {
     "name": "stdout",
     "output_type": "stream",
     "text": [
      "Duckduckgo search: nature\n",
      "Downloading results into ../test/img/Nature\n",
      "█\r"
     ]
    },
    {
     "data": {
      "text/plain": [
       "[PosixPath('../test/img/Nature/001_1e26b42b.jpg'),\n",
       " PosixPath('../test/img/Nature/002_9084331a.jpg'),\n",
       " PosixPath('../test/img/Nature/003_3af7e076.jpg'),\n",
       " PosixPath('../test/img/Nature/004_26fb347c.jpg'),\n",
       " PosixPath('../test/img/Nature/005_a0ef6176.jpg'),\n",
       " PosixPath('../test/img/Nature/006_5ce237c3.jpg'),\n",
       " PosixPath('../test/img/Nature/007_9554a747.jpg'),\n",
       " PosixPath('../test/img/Nature/008_cf9f793b.jpg'),\n",
       " PosixPath('../test/img/Nature/009_baa150e6.jpg'),\n",
       " PosixPath('../test/img/Nature/010_241fe89e.jpg'),\n",
       " PosixPath('../test/img/Nature/011_779e2330.jpg'),\n",
       " PosixPath('../test/img/Nature/012_fec42cfd.jpg'),\n",
       " PosixPath('../test/img/Nature/013_3613f9af.jpg'),\n",
       " PosixPath('../test/img/Nature/014_99c66859.jpg'),\n",
       " PosixPath('../test/img/Nature/015_28d5432f.jpg'),\n",
       " PosixPath('../test/img/Nature/016_e009302c.jpg'),\n",
       " PosixPath('../test/img/Nature/017_999bc602.jpg'),\n",
       " PosixPath('../test/img/Nature/018_f4f03943.jpg'),\n",
       " PosixPath('../test/img/Nature/019_b544bcae.jpg'),\n",
       " PosixPath('../test/img/Nature/020_1be08176.jpg')]"
      ]
     },
     "execution_count": 18,
     "metadata": {},
     "output_type": "execute_result"
    }
   ],
   "source": [
    "# duckduckgo_search(\"../test/img\", \"Nature\", \"nature\", max_results=20)"
   ]
  },
  {
   "cell_type": "code",
   "execution_count": 19,
   "metadata": {},
   "outputs": [
    {
     "name": "stdout",
     "output_type": "stream",
     "text": [
      "996K\t../test\r\n"
     ]
    }
   ],
   "source": [
    "!du -sh ../test"
   ]
  },
  {
   "cell_type": "markdown",
   "metadata": {},
   "source": [
    "## Labeler"
   ]
  },
  {
   "cell_type": "code",
   "execution_count": 4,
   "metadata": {},
   "outputs": [],
   "source": [
    "# export\n",
    "class ImageLabeler:\n",
    "    def __init__(self, image_folder: Path):\n",
    "        \"\"\"\n",
    "        path: Path, a folder full of images\n",
    "        \"\"\"\n",
    "        self.image_folder = image_folder\n",
    "        self.file_df = file_detail(image_folder)\n",
    "\n",
    "    def __repr__(self):\n",
    "        return f\"{self.__class__.__name__} on [{self.image_folder}], see labeler.image_df\"\n",
    "\n",
    "    def filter_image(\n",
    "        self,\n",
    "        formats: List[str] = [\"jpg\", \"jpeg\", \"png\", \"bmp\"]\n",
    "    ) -> pd.DataFrame:\n",
    "        \"\"\"\n",
    "        Filter the file dataframe to image only files\n",
    "        assign image_df attribute to the object\n",
    "        \"\"\"\n",
    "        formats += list(map(lambda x: x.upper(), formats))\n",
    "        self.image_df = self.file_df.format.isin(formats)\n",
    "        return self.image_df\n",
    "\n",
    "    def __call__(self, *args, **kwargs):\n",
    "        raise NotImplementedError(\n",
    "            f\"Please use SingleClassImageLabeler, or MultiClassImageLabeler\")\n",
    "        \n",
    "    def save_progress(\n",
    "        self,\n",
    "        location: Path=Path(\".\"),\n",
    "        filename = \"unpackai_imglbl.json\"\n",
    "    ):\n",
    "        \"\"\"\n",
    "        Save the progress to location/filename\n",
    "        default save to current directory ./unpackai_imglbl.json\n",
    "        \"\"\"\n",
    "        with open(location/filename, \"w\") as f:\n",
    "            f.write(json.dumps(self.progress))\n",
    "        logging.info(f\"Progess Saved to {location/filename}\")\n",
    "        \n",
    "    @classmethod\n",
    "    def load_saved(cls, filepath = \"./unpackai_imglbl.json\"):\n",
    "        \"\"\"\n",
    "        Load saved labeler's progress\n",
    "        \"\"\"\n",
    "        with open(filepath, \"r\") as f:\n",
    "            progress = f.read()\n",
    "        image_folder = progress['meta']['image_folder']\n",
    "        obj = cls(image_folder)\n",
    "        obj.progress = progress\n",
    "        return obj\n",
    "        \n",
    "\n",
    "class SingleClassImageLabeler(ImageLabeler):\n",
    "    def __init__(self, image_folder: Path):\n",
    "        \"\"\"\n",
    "        path: Path, a folder full of images\n",
    "        \"\"\"\n",
    "        super().__init__(image_folder)\n",
    "\n",
    "    def __call__(self, labels=[\"pos\", \"neg\"]):\n",
    "        \n",
    "\n",
    "\n",
    "class MultiClassImageLabeler(ImageLabeler):\n",
    "    def __init__(self, image_folder: Path):\n",
    "        \"\"\"\n",
    "        path: Path, a folder full of images\n",
    "        \"\"\"\n",
    "        super().__init__(image_folder)\n",
    "        \n",
    "    def __call__(self, labels=[\"pos\", \"neg\"]):\n",
    "        "
   ]
  },
  {
   "cell_type": "code",
   "execution_count": null,
   "metadata": {},
   "outputs": [],
   "source": []
  }
 ],
 "metadata": {
  "kernelspec": {
   "display_name": "Python 3",
   "language": "python",
   "name": "python3"
  },
  "language_info": {
   "codemirror_mode": {
    "name": "ipython",
    "version": 3
   },
   "file_extension": ".py",
   "mimetype": "text/x-python",
   "name": "python",
   "nbconvert_exporter": "python",
   "pygments_lexer": "ipython3",
   "version": "3.7.4"
  },
  "toc": {
   "base_numbering": 1,
   "nav_menu": {},
   "number_sections": true,
   "sideBar": true,
   "skip_h1_title": false,
   "title_cell": "Table of Contents",
   "title_sidebar": "Contents",
   "toc_cell": false,
   "toc_position": {},
   "toc_section_display": true,
   "toc_window_display": false
  }
 },
 "nbformat": 4,
 "nbformat_minor": 4
}
