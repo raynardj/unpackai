{
 "cells": [
  {
   "cell_type": "markdown",
   "metadata": {},
   "source": [
    "# Image Data Labeler\n",
    "> labeling image data"
   ]
  },
  {
   "cell_type": "code",
   "execution_count": 1,
   "metadata": {},
   "outputs": [],
   "source": [
    "# default_exp turk.image"
   ]
  },
  {
   "cell_type": "code",
   "execution_count": 1,
   "metadata": {},
   "outputs": [],
   "source": [
    "# export\n",
    "import json\n",
    "import pandas as pd\n",
    "import logging\n",
    "\n",
    "from pathlib import Path\n",
    "from forgebox.files import file_detail\n",
    "from forgebox.html import DOM\n",
    "from typing import List, Dict\n",
    "from tqdm.notebook import tqdm\n",
    "\n",
    "# to avoid confusions for 2 Image class\n",
    "from PIL import Image as PILImage\n",
    "from ipywidgets import Image as ImageWidget\n",
    "\n",
    "from ipywidgets import interact, interact_manual, Button, SelectMultiple, \\\n",
    "    Output, HBox, VBox"
   ]
  },
  {
   "cell_type": "markdown",
   "metadata": {},
   "source": [
    "## Dataset for testing"
   ]
  },
  {
   "cell_type": "markdown",
   "metadata": {},
   "source": [
    "For contributer of this library, you can use the default testing images in ../test/img, or you can uncomment the following and download more data you like"
   ]
  },
  {
   "cell_type": "code",
   "execution_count": 174,
   "metadata": {},
   "outputs": [],
   "source": [
    "# !pip install -q jmd_imagescraper"
   ]
  },
  {
   "cell_type": "code",
   "execution_count": 175,
   "metadata": {},
   "outputs": [],
   "source": [
    "# from jmd_imagescraper.core import duckduckgo_search, ImgSize"
   ]
  },
  {
   "cell_type": "code",
   "execution_count": 176,
   "metadata": {},
   "outputs": [],
   "source": [
    "# duckduckgo_search(\"../test/img\", \"Nature\", \"nature\", max_results=20)"
   ]
  },
  {
   "cell_type": "code",
   "execution_count": 177,
   "metadata": {},
   "outputs": [
    {
     "name": "stdout",
     "output_type": "stream",
     "text": [
      "996K\t../test\r\n"
     ]
    }
   ],
   "source": [
    "!du -sh ../test"
   ]
  },
  {
   "cell_type": "markdown",
   "metadata": {},
   "source": [
    "## Labeler"
   ]
  },
  {
   "cell_type": "code",
   "execution_count": 2,
   "metadata": {
    "code_folding": []
   },
   "outputs": [],
   "source": [
    "# export\n",
    "class ImageLabeler:\n",
    "    default_file = \"unpackai_labeler.json\"\n",
    "    def __init__(self,\n",
    "                 image_folder: Path,\n",
    "                 formats: List[str] = [\"jpg\", \"jpeg\", \"png\", \"bmp\"],\n",
    "                 ):\n",
    "        \"\"\"\n",
    "        path: Path, a folder full of images\n",
    "        formats: a list of allowed formats\n",
    "        \"\"\"\n",
    "        self.image_folder = str(image_folder)\n",
    "        \n",
    "        self.file_df = file_detail(image_folder)\n",
    "        self.file_df[\"path\"] = self.file_df[\"path\"]\\\n",
    "            .apply(lambda x:str(Path(x).resolve()))\n",
    "        self.filter_image(formats)\n",
    "        progress_path = Path(self.image_folder)/self.default_file\n",
    "        if (progress_path).exists():\n",
    "            try:\n",
    "                print(f\"load from progress {progress_path}\")\n",
    "                with open(progress_path,\"r\") as f:\n",
    "                    self.progress = json.loads(f.read())\n",
    "            except:\n",
    "                print(\"loading progress error\")\n",
    "        self.output = Output()\n",
    "\n",
    "    def __repr__(self):\n",
    "        return f\"{self.__class__.__name__} on [{self.image_folder}({len(self.image_df)})], see labeler.image_df\"\n",
    "\n",
    "    def filter_image(\n",
    "        self,\n",
    "        formats: List[str] = [\"jpg\", \"jpeg\", \"png\", \"bmp\"]\n",
    "    ) -> pd.DataFrame:\n",
    "        \"\"\"\n",
    "        Filter the file dataframe to image only files\n",
    "        assign image_df attribute to the object\n",
    "        \"\"\"\n",
    "        formats += list(map(lambda x: x.upper(), formats))\n",
    "        self.image_df = self.file_df[self.file_df.file_type.isin(\n",
    "            formats)].reset_index(drop=True)\n",
    "        return self.image_df\n",
    "\n",
    "    def __call__(self, *args, **kwargs):\n",
    "        raise NotImplementedError(\n",
    "            f\"Please use SingleClassImageLabeler, or MultiClassImageLabeler\")\n",
    "\n",
    "    @property\n",
    "    def identifier(self):\n",
    "        return self.progress['meta']['identifier']\n",
    "\n",
    "    def save_progress(\n",
    "        self,\n",
    "        location: Path = None,\n",
    "        filename= None,\n",
    "    ):\n",
    "        \"\"\"\n",
    "        Save the progress to location/filename\n",
    "        default save to current directory ./unpackai_imglbl.json\n",
    "        \"\"\"\n",
    "        filename = self.default_file if filename is None else filename\n",
    "        location = Path(self.image_folder) if location is None else Path(location)\n",
    "        with open(location/filename, \"w\") as f:\n",
    "            f.write(json.dumps(self.progress))\n",
    "        logging.info(f\"Progess Saved to {location/filename}\")\n",
    "\n",
    "    @classmethod\n",
    "    def load_saved(cls, filepath=\"./unpackai_imglbl.json\"):\n",
    "        \"\"\"\n",
    "        Load saved labeler's progress\n",
    "        \"\"\"\n",
    "        with open(filepath, \"r\") as f:\n",
    "            progress = json.loads(f.read())\n",
    "        image_folder = progress['meta']['image_folder']\n",
    "        obj = cls(image_folder)\n",
    "        obj.progress = progress\n",
    "        return obj\n",
    "\n",
    "    def new_progress(self, labels: List[str], identifier: str = \"path\"):\n",
    "        \"\"\"\n",
    "        create a new progress\n",
    "        keys:\n",
    "        - meta: meta data\n",
    "        - data: a dictionary\n",
    "            - key: image path\n",
    "            - value: labeled result\n",
    "        \"\"\"\n",
    "        self.progress = dict(\n",
    "            meta=dict(\n",
    "                image_folder=self.image_folder,\n",
    "                labels=labels,\n",
    "                identifier=identifier,\n",
    "            ),\n",
    "            data=dict((str(k), None) for k in list(self.image_df[identifier]))\n",
    "        )\n",
    "\n",
    "    def __call__(self, labels: List[str] = [\"pos\", \"neg\"]):\n",
    "        \"\"\"\n",
    "        Start the labeling\n",
    "        labels: a list of labels, more then one string,\n",
    "            but not in hundreds or more, please\n",
    "        \"\"\"\n",
    "        self.labels = labels\n",
    "        if hasattr(self, \"progress\") == False:\n",
    "            self.new_progress(labels)\n",
    "\n",
    "        # iteration with progress bar\n",
    "        for k, v in tqdm(self.progress['data'].items(), leave=False):\n",
    "            if v is None:\n",
    "                yield k\n",
    "\n",
    "    def __getitem__(self, key: str):\n",
    "        \"\"\"\n",
    "        render a page according to key\n",
    "        \"\"\"\n",
    "        row = self.get_row_data(key)\n",
    "        self.output.clear_output()\n",
    "        with self.output:\n",
    "            # display subject image\n",
    "            with PILImage.open(\n",
    "                    row[self.identifier]).resize((512, 512)) as img:\n",
    "                display(img)\n",
    "            label_btns = self.create_label_btns(row)\n",
    "\n",
    "            # the key, usually the image path\n",
    "            key = row[self.identifier]\n",
    "\n",
    "            # current labeled label\n",
    "            current = self.progress['data'][key]\n",
    "            if current is not None:\n",
    "                DOM(f\"Current Label:{current}\", \"h5\")()\n",
    "\n",
    "            # navigation buttons\n",
    "            nav_btns = list(btn for btn in [self.create_show_last_btn(key),\n",
    "                                            self.create_show_next_btn(key),\n",
    "                                            self.create_save_btn(),\n",
    "                                            self.create_save_to_csv(),\n",
    "                                            ] if btn is not None)\n",
    "            display(VBox([label_btns,\n",
    "                          HBox(nav_btns)\n",
    "                          ]))\n",
    "\n",
    "    def get_row_data(self, key: str):\n",
    "        identifier = self.identifier\n",
    "        row = dict(self.image_df.query(\n",
    "            f\"{identifier}=='{key}'\").to_dict(orient='records')[0])\n",
    "        return row\n",
    "\n",
    "    def render_page(self):\n",
    "        \"\"\"\n",
    "        Render a new page\n",
    "        \"\"\"\n",
    "        try:\n",
    "            key = next(self.gen)\n",
    "        except StopIteration:\n",
    "            self.save_progress()\n",
    "            self.done_page()\n",
    "            return\n",
    "        self[key]\n",
    "\n",
    "    def create_show_last_btn(self, key: str) -> Button:\n",
    "        \"\"\"\n",
    "        create a show last button\n",
    "            with current key\n",
    "        \"\"\"\n",
    "        keys = list(self.progress[\"data\"].keys())\n",
    "        idx = keys.index(str(key))\n",
    "        if idx == 0:\n",
    "            return None\n",
    "        last_key = keys[idx-1]\n",
    "\n",
    "        def show_last_click():\n",
    "            self[last_key]\n",
    "        btn = Button(description=\"Last\", icon=\"arrow-left\")\n",
    "        btn.click = show_last_click\n",
    "        return btn\n",
    "\n",
    "    def create_show_next_btn(self, key: str) -> Button:\n",
    "        \"\"\"\n",
    "        create a show next button\n",
    "            with current key\n",
    "        \"\"\"\n",
    "        keys = list(self.progress[\"data\"].keys())\n",
    "        idx = keys.index(str(key))\n",
    "        if idx >= len(self.progress[\"data\"])-1:\n",
    "            return None\n",
    "        next_key = keys[idx+1]\n",
    "\n",
    "        def show_next_click():\n",
    "            self[next_key]\n",
    "        btn = Button(description=\"Next\", icon=\"arrow-right\")\n",
    "        btn.click = show_next_click\n",
    "        return btn\n",
    "\n",
    "    def create_save_btn(self) -> Button:\n",
    "        \"\"\"\n",
    "        create a save JSON button\n",
    "        \"\"\"\n",
    "        btn = Button(description=\"Save JSON\", icon='save')\n",
    "        btn.click = self.save_progress\n",
    "        return btn\n",
    "\n",
    "    def save_to_csv(self):\n",
    "        DOM(\"Please name a filepath for csv file like ./progress.csv\", \"div\")()\n",
    "\n",
    "        # ask interactively for the csv saving path\n",
    "        @interact_manual\n",
    "        def save_csv(path=\"./progress.csv\"):\n",
    "            if len(self.progress['data']) == 0:\n",
    "                DOM(\"Nothing to save\", \"div\")()\n",
    "\n",
    "            # the labeled results, filter out the empety progress\n",
    "            keys, vals = zip(*list(\n",
    "                (k, v) for k, v in self.progress[\"data\"].items() if v is not None))\n",
    "            pd.DataFrame({\"path\": keys, \"label\": vals}\n",
    "                         ).to_csv(path, index=False)\n",
    "            DOM(f\"Progress saved to: '{path}'\", \"div\")()\n",
    "\n",
    "    def create_save_to_csv(self) -> Button:\n",
    "        \"\"\"\n",
    "        create a save to csv button\n",
    "        \"\"\"\n",
    "        btn = Button(description=\"CSV\", icon='save')\n",
    "        btn.click = self.save_to_csv\n",
    "        return btn\n",
    "    \n",
    "    @property\n",
    "    def get_y(self):\n",
    "        mapping = dict(\n",
    "            (str(k), v) for k, v in self.progress[\"data\"].items()\n",
    "            if v is not None)\n",
    "        print(f\"Creating dataset with {len(mapping)} labels\")\n",
    "        def get_y_func(x):\n",
    "            return str(mapping.get(str(x)))\n",
    "        return get_y_func\n",
    "\n",
    "\n",
    "class SingleClassImageLabeler(ImageLabeler):\n",
    "    default_file = \"unpackai_single.json\"\n",
    "    def __init__(self, image_folder: Path):\n",
    "        \"\"\"\n",
    "        path: Path, a folder full of images\n",
    "        \"\"\"\n",
    "        super().__init__(image_folder)\n",
    "\n",
    "    def __call__(self, labels: List[str] = [\"pos\", \"neg\"]):\n",
    "        self.gen = super().__call__(labels)\n",
    "\n",
    "        self.render_page()\n",
    "\n",
    "        display(self.output)\n",
    "\n",
    "    def create_label_btns(self, row: Dict[str, str]) -> HBox:\n",
    "        \"\"\"\n",
    "        Create labels control\n",
    "        \"\"\"\n",
    "        btns = []\n",
    "        def create_callback(label):\n",
    "            def callback():\n",
    "                k = row[self.identifier]\n",
    "                self.progress[\"data\"][str(k)] = label\n",
    "                self.render_page()\n",
    "            return callback\n",
    "        for label in self.labels:\n",
    "            btn = Button(description=label, icon=\"check-circle\")\n",
    "            btn.click = create_callback(label)\n",
    "            btns.append(btn)\n",
    "\n",
    "        return HBox(btns)\n",
    "    \n",
    "    def done_page(self):\n",
    "        self.output.clear_output()\n",
    "        with self.output:\n",
    "            DOM(\"That's the end of the iteration\", \"h3\")()\n",
    "            display(HBox([\n",
    "                self.create_save_btn(),\n",
    "                self.create_save_to_csv(),\n",
    "            ]))\n",
    "\n",
    "\n",
    "class MultiClassImageLabeler(ImageLabeler):\n",
    "    default_file = \"unpackai_multi.json\"\n",
    "    def __init__(self, image_folder: Path):\n",
    "        \"\"\"\n",
    "        path: Path, a folder full of images\n",
    "        \"\"\"\n",
    "        super().__init__(image_folder)\n",
    "\n",
    "    def __call__(self, labels: List[str] = [\"pos\", \"neg\"]):\n",
    "        self.gen = super().__call__(labels)\n",
    "        DOM(\"press Command(mac) or Ctrl(win/linux) to select multiple\", \"h4\")()\n",
    "        self.render_page()\n",
    "        display(self.output)\n",
    "\n",
    "    def create_label_btns(self, row):\n",
    "        \"\"\"\n",
    "        Create labels control for multicategorcial image dataset\n",
    "        \"\"\"\n",
    "        btns = []\n",
    "        select = SelectMultiple(options=self.labels)\n",
    "        btn = Button(description=\"Okay!\", icon=\"check-circle\")\n",
    "\n",
    "        def callback():\n",
    "            k = row[self.identifier]\n",
    "            self.progress[\"data\"][str(k)] = list(select.value)\n",
    "            self.render_page()\n",
    "\n",
    "        btn.click = callback\n",
    "\n",
    "        return HBox([select, btn])\n",
    "\n",
    "    def done_page(self):\n",
    "        self.output.clear_output()\n",
    "        with self.output:\n",
    "            DOM(\"That's the end of the iteration\", \"h3\")()\n",
    "            display(HBox([\n",
    "                self.create_save_btn(),\n",
    "                self.create_save_to_csv(),\n",
    "            ]))\n",
    "            \n",
    "    @property\n",
    "    def get_y(self):\n",
    "        mapping = dict(\n",
    "            (str(k), v) for k, v in self.progress[\"data\"].items()\n",
    "            if v is not None)\n",
    "        print(f\"Creating dataset with {len(mapping)} labels\")\n",
    "        def get_y_func(x):\n",
    "            target = mapping.get(str(x))\n",
    "            target = list() if target is None else target\n",
    "            return target\n",
    "        return get_y_func"
   ]
  },
  {
   "cell_type": "markdown",
   "metadata": {},
   "source": [
    "## Try labeler"
   ]
  },
  {
   "cell_type": "code",
   "execution_count": 3,
   "metadata": {},
   "outputs": [
    {
     "name": "stdout",
     "output_type": "stream",
     "text": [
      "load from progress ../test/unpackai_single.json\n"
     ]
    },
    {
     "data": {
      "text/plain": [
       "SingleClassImageLabeler on [../test(20)], see labeler.image_df"
      ]
     },
     "execution_count": 3,
     "metadata": {},
     "output_type": "execute_result"
    }
   ],
   "source": [
    "slabel = SingleClassImageLabeler(\"../test\")\n",
    "slabel"
   ]
  },
  {
   "cell_type": "code",
   "execution_count": 4,
   "metadata": {},
   "outputs": [
    {
     "data": {
      "application/vnd.jupyter.widget-view+json": {
       "model_id": "e329495b5791444cb94cd986a2f38a48",
       "version_major": 2,
       "version_minor": 0
      },
      "text/plain": [
       "HBox(children=(FloatProgress(value=0.0, max=20.0), HTML(value='')))"
      ]
     },
     "metadata": {},
     "output_type": "display_data"
    },
    {
     "data": {
      "application/vnd.jupyter.widget-view+json": {
       "model_id": "2cfc8b6a59d449718a182d7a77046fdc",
       "version_major": 2,
       "version_minor": 0
      },
      "text/plain": [
       "Output()"
      ]
     },
     "metadata": {},
     "output_type": "display_data"
    }
   ],
   "source": [
    "slabel()"
   ]
  },
  {
   "cell_type": "code",
   "execution_count": 5,
   "metadata": {},
   "outputs": [
    {
     "data": {
      "text/plain": [
       "{'/Users/salvor/github/unpackai/test/img/Nature/007_9554a747.jpg': 'neg',\n",
       " '/Users/salvor/github/unpackai/test/img/Nature/011_779e2330.jpg': 'neg',\n",
       " '/Users/salvor/github/unpackai/test/img/Nature/010_241fe89e.jpg': 'neg',\n",
       " '/Users/salvor/github/unpackai/test/img/Nature/013_3613f9af.jpg': 'neg',\n",
       " '/Users/salvor/github/unpackai/test/img/Nature/014_99c66859.jpg': 'neg',\n",
       " '/Users/salvor/github/unpackai/test/img/Nature/016_e009302c.jpg': 'neg',\n",
       " '/Users/salvor/github/unpackai/test/img/Nature/005_a0ef6176.jpg': 'pos',\n",
       " '/Users/salvor/github/unpackai/test/img/Nature/008_cf9f793b.jpg': 'pos',\n",
       " '/Users/salvor/github/unpackai/test/img/Nature/003_3af7e076.jpg': 'neg',\n",
       " '/Users/salvor/github/unpackai/test/img/Nature/015_28d5432f.jpg': 'pos',\n",
       " '/Users/salvor/github/unpackai/test/img/Nature/017_999bc602.jpg': 'neg',\n",
       " '/Users/salvor/github/unpackai/test/img/Nature/006_5ce237c3.jpg': 'pos',\n",
       " '/Users/salvor/github/unpackai/test/img/Nature/019_b544bcae.jpg': 'pos',\n",
       " '/Users/salvor/github/unpackai/test/img/Nature/004_26fb347c.jpg': None,\n",
       " '/Users/salvor/github/unpackai/test/img/Nature/012_fec42cfd.jpg': None,\n",
       " '/Users/salvor/github/unpackai/test/img/Nature/020_1be08176.jpg': None,\n",
       " '/Users/salvor/github/unpackai/test/img/Nature/009_baa150e6.jpg': None,\n",
       " '/Users/salvor/github/unpackai/test/img/Nature/001_1e26b42b.jpg': None,\n",
       " '/Users/salvor/github/unpackai/test/img/Nature/018_f4f03943.jpg': None,\n",
       " '/Users/salvor/github/unpackai/test/img/Nature/002_9084331a.jpg': None}"
      ]
     },
     "execution_count": 5,
     "metadata": {},
     "output_type": "execute_result"
    }
   ],
   "source": [
    "slabel.progress[\"data\"]"
   ]
  },
  {
   "cell_type": "code",
   "execution_count": 6,
   "metadata": {},
   "outputs": [
    {
     "name": "stdout",
     "output_type": "stream",
     "text": [
      "load from progress ../test/unpackai_multi.json\n"
     ]
    },
    {
     "data": {
      "text/plain": [
       "MultiClassImageLabeler on [../test(20)], see labeler.image_df"
      ]
     },
     "execution_count": 6,
     "metadata": {},
     "output_type": "execute_result"
    }
   ],
   "source": [
    "mlabel = MultiClassImageLabeler(\"../test\")\n",
    "mlabel"
   ]
  },
  {
   "cell_type": "code",
   "execution_count": 7,
   "metadata": {},
   "outputs": [
    {
     "data": {
      "text/html": [
       "<h4>press Command(mac) or Ctrl(win/linux) to select multiple</h4>"
      ],
      "text/plain": [
       "<IPython.core.display.HTML object>"
      ]
     },
     "metadata": {},
     "output_type": "display_data"
    },
    {
     "data": {
      "application/vnd.jupyter.widget-view+json": {
       "model_id": "4babe7e1b1bb442fb9c939d30df51cd3",
       "version_major": 2,
       "version_minor": 0
      },
      "text/plain": [
       "HBox(children=(FloatProgress(value=0.0, max=20.0), HTML(value='')))"
      ]
     },
     "metadata": {},
     "output_type": "display_data"
    },
    {
     "data": {
      "application/vnd.jupyter.widget-view+json": {
       "model_id": "547ad56f4ec34dd78703c908e1afcad7",
       "version_major": 2,
       "version_minor": 0
      },
      "text/plain": [
       "Output()"
      ]
     },
     "metadata": {},
     "output_type": "display_data"
    }
   ],
   "source": [
    "mlabel(labels=[\"spring\", \"summer\", \"autumn\", \"winter\"])"
   ]
  },
  {
   "cell_type": "code",
   "execution_count": null,
   "metadata": {},
   "outputs": [],
   "source": [
    "get_y = slabel.get_y"
   ]
  },
  {
   "cell_type": "code",
   "execution_count": 72,
   "metadata": {},
   "outputs": [
    {
     "name": "stdout",
     "output_type": "stream",
     "text": [
      "Creating dataset with 10 labels\n"
     ]
    },
    {
     "data": {
      "text/plain": [
       "['autumn', 'winter']"
      ]
     },
     "execution_count": 72,
     "metadata": {},
     "output_type": "execute_result"
    }
   ],
   "source": [
    "mlabel.get_y(str(Path('../test/img/Nature/007_9554a747.jpg').resolve()))"
   ]
  },
  {
   "cell_type": "code",
   "execution_count": 9,
   "metadata": {},
   "outputs": [
    {
     "data": {
      "text/plain": [
       "{'/Users/salvor/github/unpackai/test/img/Nature/007_9554a747.jpg': ['autumn',\n",
       "  'winter'],\n",
       " '/Users/salvor/github/unpackai/test/img/Nature/011_779e2330.jpg': ['spring',\n",
       "  'summer'],\n",
       " '/Users/salvor/github/unpackai/test/img/Nature/010_241fe89e.jpg': ['spring',\n",
       "  'summer',\n",
       "  'autumn'],\n",
       " '/Users/salvor/github/unpackai/test/img/Nature/013_3613f9af.jpg': ['summer',\n",
       "  'autumn'],\n",
       " '/Users/salvor/github/unpackai/test/img/Nature/014_99c66859.jpg': ['spring',\n",
       "  'winter'],\n",
       " '/Users/salvor/github/unpackai/test/img/Nature/016_e009302c.jpg': ['spring',\n",
       "  'summer'],\n",
       " '/Users/salvor/github/unpackai/test/img/Nature/005_a0ef6176.jpg': ['spring',\n",
       "  'summer'],\n",
       " '/Users/salvor/github/unpackai/test/img/Nature/008_cf9f793b.jpg': ['summer',\n",
       "  'autumn',\n",
       "  'winter'],\n",
       " '/Users/salvor/github/unpackai/test/img/Nature/003_3af7e076.jpg': ['spring',\n",
       "  'summer',\n",
       "  'autumn'],\n",
       " '/Users/salvor/github/unpackai/test/img/Nature/015_28d5432f.jpg': ['spring',\n",
       "  'summer',\n",
       "  'autumn'],\n",
       " '/Users/salvor/github/unpackai/test/img/Nature/017_999bc602.jpg': None,\n",
       " '/Users/salvor/github/unpackai/test/img/Nature/006_5ce237c3.jpg': None,\n",
       " '/Users/salvor/github/unpackai/test/img/Nature/019_b544bcae.jpg': None,\n",
       " '/Users/salvor/github/unpackai/test/img/Nature/004_26fb347c.jpg': None,\n",
       " '/Users/salvor/github/unpackai/test/img/Nature/012_fec42cfd.jpg': None,\n",
       " '/Users/salvor/github/unpackai/test/img/Nature/020_1be08176.jpg': None,\n",
       " '/Users/salvor/github/unpackai/test/img/Nature/009_baa150e6.jpg': None,\n",
       " '/Users/salvor/github/unpackai/test/img/Nature/001_1e26b42b.jpg': None,\n",
       " '/Users/salvor/github/unpackai/test/img/Nature/018_f4f03943.jpg': None,\n",
       " '/Users/salvor/github/unpackai/test/img/Nature/002_9084331a.jpg': None}"
      ]
     },
     "execution_count": 9,
     "metadata": {},
     "output_type": "execute_result"
    }
   ],
   "source": [
    "mlabel.progress[\"data\"]"
   ]
  },
  {
   "cell_type": "code",
   "execution_count": null,
   "metadata": {},
   "outputs": [],
   "source": []
  }
 ],
 "metadata": {
  "kernelspec": {
   "display_name": "Python 3",
   "language": "python",
   "name": "python3"
  },
  "language_info": {
   "codemirror_mode": {
    "name": "ipython",
    "version": 3
   },
   "file_extension": ".py",
   "mimetype": "text/x-python",
   "name": "python",
   "nbconvert_exporter": "python",
   "pygments_lexer": "ipython3",
   "version": "3.7.4"
  },
  "toc": {
   "base_numbering": 1,
   "nav_menu": {},
   "number_sections": true,
   "sideBar": true,
   "skip_h1_title": false,
   "title_cell": "Table of Contents",
   "title_sidebar": "Contents",
   "toc_cell": false,
   "toc_position": {},
   "toc_section_display": true,
   "toc_window_display": false
  }
 },
 "nbformat": 4,
 "nbformat_minor": 4
}
