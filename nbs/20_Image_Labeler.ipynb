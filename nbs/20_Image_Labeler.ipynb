{
 "cells": [
  {
   "cell_type": "markdown",
   "metadata": {},
   "source": [
    "# Image Data Labeler\n",
    "> labeling image data"
   ]
  },
  {
   "cell_type": "code",
   "execution_count": 1,
   "metadata": {},
   "outputs": [],
   "source": [
    "# default_exp turk.image"
   ]
  },
  {
   "cell_type": "code",
   "execution_count": 173,
   "metadata": {},
   "outputs": [],
   "source": [
    "# export\n",
    "import json\n",
    "from pathlib import Path\n",
    "from forgebox.files import file_detail\n",
    "from forgebox.html import DOM\n",
    "import pandas as pd\n",
    "from typing import List, Dict\n",
    "from ipywidgets import interact, interact_manual, Button, SelectMultiple, \\\n",
    "    Output, HBox, VBox\n",
    "from PIL import Image as PILImage\n",
    "from ipywidgets import Image as ImageWidget\n",
    "import logging\n",
    "from tqdm.notebook import tqdm"
   ]
  },
  {
   "cell_type": "markdown",
   "metadata": {},
   "source": [
    "## Dataset for testing"
   ]
  },
  {
   "cell_type": "markdown",
   "metadata": {},
   "source": [
    "For contributer of this library, you can use the default testing images in ../test/img, or you can uncomment the following and download more data you like"
   ]
  },
  {
   "cell_type": "code",
   "execution_count": 174,
   "metadata": {},
   "outputs": [],
   "source": [
    "# !pip install -q jmd_imagescraper"
   ]
  },
  {
   "cell_type": "code",
   "execution_count": 175,
   "metadata": {},
   "outputs": [],
   "source": [
    "# from jmd_imagescraper.core import duckduckgo_search, ImgSize"
   ]
  },
  {
   "cell_type": "code",
   "execution_count": 176,
   "metadata": {},
   "outputs": [],
   "source": [
    "# duckduckgo_search(\"../test/img\", \"Nature\", \"nature\", max_results=20)"
   ]
  },
  {
   "cell_type": "code",
   "execution_count": 177,
   "metadata": {},
   "outputs": [
    {
     "name": "stdout",
     "output_type": "stream",
     "text": [
      "996K\t../test\r\n"
     ]
    }
   ],
   "source": [
    "!du -sh ../test"
   ]
  },
  {
   "cell_type": "markdown",
   "metadata": {},
   "source": [
    "## Labeler"
   ]
  },
  {
   "cell_type": "code",
   "execution_count": 178,
   "metadata": {},
   "outputs": [
    {
     "data": {
      "text/plain": [
       "'/Users/salvor/github/unpackai/nbs/../test/img/Nature/007_9554a747.jpg'"
      ]
     },
     "execution_count": 178,
     "metadata": {},
     "output_type": "execute_result"
    }
   ],
   "source": [
    "file_detail(\"../test\")[\"path\"][0]"
   ]
  },
  {
   "cell_type": "code",
   "execution_count": 188,
   "metadata": {},
   "outputs": [],
   "source": [
    "# export\n",
    "class ImageLabeler:\n",
    "    def __init__(self,\n",
    "                 image_folder: Path,\n",
    "                 formats: List[str] = [\"jpg\", \"jpeg\", \"png\", \"bmp\"],\n",
    "                 ):\n",
    "        \"\"\"\n",
    "        path: Path, a folder full of images\n",
    "        formats: a list of allowed formats\n",
    "        \"\"\"\n",
    "        self.image_folder = image_folder\n",
    "        self.file_df = file_detail(image_folder)\n",
    "        self.filter_image(formats)\n",
    "        self.output = Output()\n",
    "\n",
    "    def __repr__(self):\n",
    "        return f\"{self.__class__.__name__} on [{self.image_folder}({len(self.image_df)})], see labeler.image_df\"\n",
    "\n",
    "    def filter_image(\n",
    "        self,\n",
    "        formats: List[str] = [\"jpg\", \"jpeg\", \"png\", \"bmp\"]\n",
    "    ) -> pd.DataFrame:\n",
    "        \"\"\"\n",
    "        Filter the file dataframe to image only files\n",
    "        assign image_df attribute to the object\n",
    "        \"\"\"\n",
    "        formats += list(map(lambda x: x.upper(), formats))\n",
    "        self.image_df = self.file_df[self.file_df.file_type.isin(\n",
    "            formats)].reset_index(drop=True)\n",
    "        return self.image_df\n",
    "\n",
    "    def __call__(self, *args, **kwargs):\n",
    "        raise NotImplementedError(\n",
    "            f\"Please use SingleClassImageLabeler, or MultiClassImageLabeler\")\n",
    "\n",
    "    @property\n",
    "    def identifier(self):\n",
    "        return self.progress['meta']['identifier']\n",
    "\n",
    "    def save_progress(\n",
    "        self,\n",
    "        location: Path = Path(\".\"),\n",
    "        filename=\"unpackai_imglbl.json\"\n",
    "    ):\n",
    "        \"\"\"\n",
    "        Save the progress to location/filename\n",
    "        default save to current directory ./unpackai_imglbl.json\n",
    "        \"\"\"\n",
    "        with open(location/filename, \"w\") as f:\n",
    "            f.write(json.dumps(self.progress))\n",
    "        logging.info(f\"Progess Saved to {location/filename}\")\n",
    "\n",
    "    @classmethod\n",
    "    def load_saved(cls, filepath=\"./unpackai_imglbl.json\"):\n",
    "        \"\"\"\n",
    "        Load saved labeler's progress\n",
    "        \"\"\"\n",
    "        with open(filepath, \"r\") as f:\n",
    "            progress = json.loads(f.read())\n",
    "        image_folder = progress['meta']['image_folder']\n",
    "        obj = cls(image_folder)\n",
    "        obj.progress = progress\n",
    "        return obj\n",
    "\n",
    "    def new_progress(self, labels: List[str], identifier: str = \"path\"):\n",
    "        self.progress = dict(\n",
    "            meta=dict(\n",
    "                image_folder=self.image_folder,\n",
    "                labels=labels,\n",
    "                identifier=identifier,\n",
    "            ),\n",
    "            data=dict((str(k), None) for k in list(self.image_df[identifier]))\n",
    "        )\n",
    "\n",
    "    def __call__(self, labels: List[str] = [\"pos\", \"neg\"]):\n",
    "        self.labels = labels\n",
    "        if hasattr(self, \"progress\") == False:\n",
    "            self.new_progress(labels)\n",
    "\n",
    "        for k, v in tqdm(self.progress['data'].items(), leave=False):\n",
    "            if v is None:\n",
    "                yield k\n",
    "\n",
    "    def __getitem__(self, key):\n",
    "        \"\"\"\n",
    "        render a page according to key\n",
    "        \"\"\"\n",
    "        row = self.get_row_data(key)\n",
    "        self.output.clear_output()\n",
    "        with self.output:\n",
    "            with PILImage.open(\n",
    "                    row[self.identifier]).resize((512, 512)) as img:\n",
    "                display(img)\n",
    "            label_btns = self.create_label_btns(row)\n",
    "            key = row[self.identifier]\n",
    "            \n",
    "            # current labeled label\n",
    "            current = self.progress['data'][key]\n",
    "            if current is not None:\n",
    "                DOM(f\"Current Label:{current}\", \"h5\")()\n",
    "                \n",
    "            # navigation buttons\n",
    "            nav_btns = list(btn for btn in [self.create_show_last_btn(key),\n",
    "                                            self.create_show_next_btn(key),\n",
    "                                            self.create_save_btn(),\n",
    "                                           ] if btn is not None)\n",
    "            display(VBox([label_btns,\n",
    "                          HBox(nav_btns)\n",
    "                          ]))\n",
    "\n",
    "    def get_row_data(self, key):\n",
    "        identifier = self.identifier\n",
    "        row = dict(self.image_df.query(\n",
    "            f\"{identifier}=='{key}'\").to_dict(orient='records')[0])\n",
    "        return row\n",
    "    \n",
    "    def render_page(self):\n",
    "        \"\"\"\n",
    "        Render a new page\n",
    "        \"\"\"\n",
    "        try:\n",
    "            key = next(self.gen)\n",
    "        except StopIteration:\n",
    "            self.save_progress()\n",
    "            self.done_page()\n",
    "            return\n",
    "        self[key]\n",
    "\n",
    "    def create_show_last_btn(self, key):\n",
    "        keys = list(self.progress[\"data\"].keys())\n",
    "        idx = keys.index(str(key))\n",
    "        if idx == 0:\n",
    "            return None\n",
    "        last_key = keys[idx-1]\n",
    "\n",
    "        def show_last_click():\n",
    "            self[last_key]\n",
    "        btn = Button(description=\"Last\", icon=\"arrow-left\")\n",
    "        btn.click = show_last_click\n",
    "        return btn\n",
    "\n",
    "    def create_show_next_btn(self, key):\n",
    "        keys = list(self.progress[\"data\"].keys())\n",
    "        idx = keys.index(str(key))\n",
    "        if idx >= len(self.progress[\"data\"])-1:\n",
    "            return None\n",
    "        next_key = keys[idx+1]\n",
    "\n",
    "        def show_next_click():\n",
    "            self[next_key]\n",
    "        btn = Button(description=\"Next\", icon=\"arrow-right\")\n",
    "        btn.click = show_next_click\n",
    "        return btn\n",
    "    \n",
    "    def create_save_btn(self):\n",
    "        btn = Button(description=\"Save\", icon='save')\n",
    "        btn.click = self.save_progress\n",
    "        return btn\n",
    "\n",
    "\n",
    "class SingleClassImageLabeler(ImageLabeler):\n",
    "    def __init__(self, image_folder: Path):\n",
    "        \"\"\"\n",
    "        path: Path, a folder full of images\n",
    "        \"\"\"\n",
    "        super().__init__(image_folder)\n",
    "\n",
    "    def __call__(self, labels: List[str] = [\"pos\", \"neg\"]):\n",
    "        self.gen = super().__call__(labels)\n",
    "\n",
    "        self.render_page()\n",
    "\n",
    "        display(self.output)\n",
    "\n",
    "    def create_label_btns(self, row):\n",
    "        btns = []\n",
    "        for label in self.labels:\n",
    "            btn = Button(description=label, icon=\"check-circle\")\n",
    "\n",
    "            def callback():\n",
    "                k = row[self.identifier]\n",
    "                self.progress[\"data\"][str(k)] = label\n",
    "                self.render_page()\n",
    "            btn.click = callback\n",
    "            btns.append(btn)\n",
    "\n",
    "        return HBox(btns)\n",
    "\n",
    "    def done_page(self):\n",
    "        self.output.clear_output()\n",
    "        with self.output:\n",
    "            DOM(\"That's the end of the iteration\", \"h3\")()\n",
    "\n",
    "\n",
    "class MultiClassImageLabeler(ImageLabeler):\n",
    "    def __init__(self, image_folder: Path):\n",
    "        \"\"\"\n",
    "        path: Path, a folder full of images\n",
    "        \"\"\"\n",
    "        super().__init__(image_folder)\n",
    "\n",
    "    def __call__(self, labels: List[str] = [\"pos\", \"neg\"]):\n",
    "        self.gen = super().__call__(labels)\n",
    "        DOM(\"press Command(mac) or Ctrl(win/linux) to select multiple\",\"h4\")()\n",
    "        self.render_page()\n",
    "        display(self.output)\n",
    "\n",
    "    def create_label_btns(self, row):\n",
    "        btns = []\n",
    "        select = SelectMultiple(options=self.labels)\n",
    "        btn = Button(description=\"Okay!\", icon=\"check-circle\")\n",
    "        \n",
    "        def callback():\n",
    "            k = row[self.identifier]\n",
    "            self.progress[\"data\"][str(k)] = list(select.value)\n",
    "            self.render_page()\n",
    "\n",
    "        btn.click = callback\n",
    "\n",
    "        return HBox([select, btn])\n",
    "\n",
    "    def done_page(self):\n",
    "        self.output.clear_output()\n",
    "        with self.output:\n",
    "            DOM(\"That's the end of the iteration\", \"h3\")()"
   ]
  },
  {
   "cell_type": "code",
   "execution_count": 184,
   "metadata": {},
   "outputs": [
    {
     "data": {
      "text/plain": [
       "SingleClassImageLabeler on [../test(20)], see labeler.image_df"
      ]
     },
     "execution_count": 184,
     "metadata": {},
     "output_type": "execute_result"
    }
   ],
   "source": [
    "slabel = SingleClassImageLabeler(\"../test\")\n",
    "slabel"
   ]
  },
  {
   "cell_type": "code",
   "execution_count": 181,
   "metadata": {},
   "outputs": [
    {
     "data": {
      "application/vnd.jupyter.widget-view+json": {
       "model_id": "b1a1732e621447218196a9ed977a9b3a",
       "version_major": 2,
       "version_minor": 0
      },
      "text/plain": [
       "HBox(children=(FloatProgress(value=0.0, max=20.0), HTML(value='')))"
      ]
     },
     "metadata": {},
     "output_type": "display_data"
    },
    {
     "data": {
      "application/vnd.jupyter.widget-view+json": {
       "model_id": "c60967e035ad47d6bdf3bfcce9628bd1",
       "version_major": 2,
       "version_minor": 0
      },
      "text/plain": [
       "Output()"
      ]
     },
     "metadata": {},
     "output_type": "display_data"
    }
   ],
   "source": [
    "slabel()"
   ]
  },
  {
   "cell_type": "code",
   "execution_count": 186,
   "metadata": {},
   "outputs": [],
   "source": [
    "slabel = SingleClassImageLabeler.load_saved()"
   ]
  },
  {
   "cell_type": "code",
   "execution_count": 187,
   "metadata": {},
   "outputs": [
    {
     "data": {
      "application/vnd.jupyter.widget-view+json": {
       "model_id": "aaf1a1d95a5f41eb817ed187104d5380",
       "version_major": 2,
       "version_minor": 0
      },
      "text/plain": [
       "HBox(children=(FloatProgress(value=0.0, max=20.0), HTML(value='')))"
      ]
     },
     "metadata": {},
     "output_type": "display_data"
    },
    {
     "data": {
      "application/vnd.jupyter.widget-view+json": {
       "model_id": "23c694812b3d4507ae2a2db2205dfe9a",
       "version_major": 2,
       "version_minor": 0
      },
      "text/plain": [
       "Output()"
      ]
     },
     "metadata": {},
     "output_type": "display_data"
    }
   ],
   "source": [
    "slabel()"
   ]
  },
  {
   "cell_type": "code",
   "execution_count": 189,
   "metadata": {},
   "outputs": [
    {
     "data": {
      "text/plain": [
       "MultiClassImageLabeler on [../test(20)], see labeler.image_df"
      ]
     },
     "execution_count": 189,
     "metadata": {},
     "output_type": "execute_result"
    }
   ],
   "source": [
    "mlabel = MultiClassImageLabeler(\"../test\")\n",
    "mlabel"
   ]
  },
  {
   "cell_type": "code",
   "execution_count": 190,
   "metadata": {},
   "outputs": [
    {
     "data": {
      "text/html": [
       "<h4>press Command(mac) or Ctrl(win/linux) to select multiple</h4>"
      ],
      "text/plain": [
       "<IPython.core.display.HTML object>"
      ]
     },
     "metadata": {},
     "output_type": "display_data"
    },
    {
     "data": {
      "application/vnd.jupyter.widget-view+json": {
       "model_id": "5dde931ef9d94938b9457fa1860acf80",
       "version_major": 2,
       "version_minor": 0
      },
      "text/plain": [
       "HBox(children=(FloatProgress(value=0.0, max=20.0), HTML(value='')))"
      ]
     },
     "metadata": {},
     "output_type": "display_data"
    },
    {
     "data": {
      "application/vnd.jupyter.widget-view+json": {
       "model_id": "f0c4e572e0114968a8a0dfe802b000f7",
       "version_major": 2,
       "version_minor": 0
      },
      "text/plain": [
       "Output()"
      ]
     },
     "metadata": {},
     "output_type": "display_data"
    }
   ],
   "source": [
    "mlabel(labels=[\"spring\", \"summer\", \"autumn\", \"winter\"])"
   ]
  },
  {
   "cell_type": "code",
   "execution_count": null,
   "metadata": {},
   "outputs": [],
   "source": []
  }
 ],
 "metadata": {
  "kernelspec": {
   "display_name": "Python 3",
   "language": "python",
   "name": "python3"
  },
  "language_info": {
   "codemirror_mode": {
    "name": "ipython",
    "version": 3
   },
   "file_extension": ".py",
   "mimetype": "text/x-python",
   "name": "python",
   "nbconvert_exporter": "python",
   "pygments_lexer": "ipython3",
   "version": "3.7.4"
  },
  "toc": {
   "base_numbering": 1,
   "nav_menu": {},
   "number_sections": true,
   "sideBar": true,
   "skip_h1_title": false,
   "title_cell": "Table of Contents",
   "title_sidebar": "Contents",
   "toc_cell": false,
   "toc_position": {},
   "toc_section_display": true,
   "toc_window_display": false
  }
 },
 "nbformat": 4,
 "nbformat_minor": 4
}
