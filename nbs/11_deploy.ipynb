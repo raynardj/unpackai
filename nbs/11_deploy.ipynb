{
 "cells": [
  {
   "cell_type": "markdown",
   "metadata": {},
   "source": [
    "# Deploy\n",
    "\n",
    "Utilities to deploy app"
   ]
  },
  {
   "cell_type": "code",
   "execution_count": null,
   "metadata": {},
   "outputs": [],
   "source": [
    "# default_exp deploy"
   ]
  },
  {
   "cell_type": "code",
   "execution_count": null,
   "metadata": {},
   "outputs": [],
   "source": [
    "# export\n",
    "import json\n",
    "import requests\n",
    "from textwrap import dedent\n",
    "\n",
    "def deploy(app=\"app.py\", from_jupyter=True):\n",
    "    \"\"\"Deploy a streamlit app using ngrok\"\"\"\n",
    "    if from_jupyter:\n",
    "        get_ipython().system_raw('ngrok http 8501 &')\n",
    "        resp = requests.get(\"http://localhost:4040/api/tunnels\")\n",
    "        tunnel = json.loads(resp.content)[\"tunnels\"][0]\n",
    "        local = tunnel[\"config\"][\"addr\"]\n",
    "        public = tunnel[\"public_url\"]\n",
    "    else:\n",
    "        raise NotImplementedError(f\"Deployment outside jupyter currently not supported\")\n",
    "\n",
    "    print(dedent(f\"\"\"\\\n",
    "        1. Create a new cell with: !nohup streamlit run {app}\n",
    "        2. Run that cell\n",
    "        3. Click on this link: {public}\n",
    "\n",
    "      Note: this will link to local address {local}\n",
    "    \"\"\"))"
   ]
  },
  {
   "cell_type": "code",
   "execution_count": null,
   "metadata": {},
   "outputs": [],
   "source": [
    "# exporti\n",
    "import os\n",
    "import pathlib\n",
    "import re\n",
    "from contextlib import contextmanager\n",
    "from typing import Union\n",
    "\n",
    "from fastai.learner import load_learner, Learner\n",
    "\n",
    "\n",
    "@contextmanager\n",
    "def set_posix():\n",
    "    \"\"\"To be able to load model in Windows\"\"\"\n",
    "    posix_backup = pathlib.PosixPath\n",
    "    try:\n",
    "        if os.name == \"nt\":\n",
    "            pathlib.PosixPath = pathlib.WindowsPath\n",
    "        yield\n",
    "    finally:\n",
    "        pathlib.PosixPath = posix_backup\n"
   ]
  },
  {
   "cell_type": "code",
   "execution_count": null,
   "metadata": {},
   "outputs": [],
   "source": [
    "# export\n",
    "PathStr = Union[pathlib.Path, str]\n",
    "\n",
    "def get_learner(model_path: PathStr) -> Learner:\n",
    "    try:\n",
    "        with set_posix():\n",
    "            return load_learner(model_path)\n",
    "    except AttributeError as e:\n",
    "        m_missing_func = re.match(r\"Can't get attribute '(.*?)'\", str(e))\n",
    "        if m_missing_func:\n",
    "            raise AttributeError(\n",
    "                f\"Add in the app the implementation of '{m_missing_func.group(1)}'\"\n",
    "            )\n",
    "        else:\n",
    "            raise\n"
   ]
  }
 ],
 "metadata": {},
 "nbformat": 4,
 "nbformat_minor": 2
}
