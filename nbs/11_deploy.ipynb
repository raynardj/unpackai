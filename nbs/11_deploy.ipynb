{
 "cells": [
  {
   "cell_type": "markdown",
   "metadata": {},
   "source": [
    "# Deploy\n",
    "\n",
    "Utilities to deploy app"
   ]
  },
  {
   "cell_type": "code",
   "execution_count": null,
   "metadata": {},
   "outputs": [],
   "source": [
    "# default_exp deploy"
   ]
  },
  {
   "cell_type": "code",
   "execution_count": null,
   "metadata": {},
   "outputs": [],
   "source": [
    "# export\n",
    "import json\n",
    "import requests\n",
    "from textwrap import dedent\n",
    "\n",
    "def deploy(app=\"app.py\", from_jupyter=True):\n",
    "    \"\"\"Deploy a streamlit app using ngrok\"\"\"\n",
    "    if from_jupyter:\n",
    "        get_ipython().system_raw('ngrok http 8501 &')\n",
    "        resp = requests.get(\"http://localhost:4040/api/tunnels\")\n",
    "        tunnel = json.loads(resp.content)[\"tunnels\"][0]\n",
    "        local = tunnel[\"config\"][\"addr\"]\n",
    "        public = tunnel[\"public_url\"]\n",
    "    else:\n",
    "        raise NotImplementedError(f\"Deployment outside jupyter currently not supported\")\n",
    "\n",
    "    print(dedent(f\"\"\"\\\n",
    "        1. Create a new cell with: !nohup streamlit run {app}\n",
    "        2. Run that cell\n",
    "        3. Click on this link: {public}\n",
    "\n",
    "      Note: this will link to local address {local}\n",
    "    \"\"\"))"
   ]
  }
 ],
 "metadata": {},
 "nbformat": 4,
 "nbformat_minor": 2
}
