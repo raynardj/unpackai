{
 "cells": [
  {
   "cell_type": "markdown",
   "metadata": {},
   "source": [
    "# Deploy\n",
    "\n",
    "Utilities to deploy app"
   ]
  },
  {
   "cell_type": "code",
   "execution_count": null,
   "metadata": {},
   "outputs": [],
   "source": [
    "# default_exp deploy"
   ]
  },
  {
   "cell_type": "code",
   "execution_count": null,
   "metadata": {},
   "outputs": [],
   "source": [
    "# export\n",
    "import json\n",
    "import os\n",
    "import pathlib\n",
    "import re\n",
    "import requests\n",
    "import tempfile\n",
    "from contextlib import contextmanager\n",
    "from dataclasses import dataclass, field\n",
    "from pathlib import Path\n",
    "from textwrap import dedent\n",
    "from typing import Union, ClassVar\n",
    "\n",
    "import streamlit as st\n",
    "from jinja2 import Template\n",
    "from fastai.learner import load_learner, Learner\n",
    "from fastai.vision.core import PILImage\n"
   ]
  },
  {
   "cell_type": "markdown",
   "metadata": {},
   "source": [
    "# Deploy with Streamlit and NGROK"
   ]
  },
  {
   "cell_type": "code",
   "execution_count": null,
   "metadata": {},
   "outputs": [],
   "source": [
    "# export\n",
    "def deploy(app=\"app.py\", from_jupyter=True):\n",
    "    \"\"\"Deploy a streamlit app using ngrok\"\"\"\n",
    "    if from_jupyter:\n",
    "        get_ipython().system_raw('ngrok http 8501 &')\n",
    "        resp = requests.get(\"http://localhost:4040/api/tunnels\")\n",
    "        tunnel = json.loads(resp.content)[\"tunnels\"][0]\n",
    "        local = tunnel[\"config\"][\"addr\"]\n",
    "        public = tunnel[\"public_url\"]\n",
    "    else:\n",
    "        raise NotImplementedError(f\"Deployment outside jupyter currently not supported\")\n",
    "\n",
    "    print(dedent(f\"\"\"\\\n",
    "        1. Create a new cell with: !nohup streamlit run {app}\n",
    "        2. Run that cell\n",
    "        3. Click on this link: {public}\n",
    "\n",
    "      Note: this will link to local address {local}\n",
    "    \"\"\"))"
   ]
  },
  {
   "cell_type": "markdown",
   "metadata": {},
   "source": [
    "# Functions to load Learner and images\n",
    "\n",
    "To be used in Streamlit app"
   ]
  },
  {
   "cell_type": "code",
   "execution_count": null,
   "metadata": {},
   "outputs": [],
   "source": [
    "# exporti\n",
    "@contextmanager\n",
    "def set_posix():\n",
    "    \"\"\"To be able to load model in Windows\"\"\"\n",
    "    posix_backup = pathlib.PosixPath\n",
    "    try:\n",
    "        if os.name == \"nt\":\n",
    "            pathlib.PosixPath = pathlib.WindowsPath\n",
    "        yield\n",
    "    finally:\n",
    "        pathlib.PosixPath = posix_backup\n"
   ]
  },
  {
   "cell_type": "code",
   "execution_count": null,
   "metadata": {},
   "outputs": [],
   "source": [
    "# export\n",
    "PathStr = Union[Path, str]\n",
    "\n",
    "def get_learner(model_path: PathStr) -> Learner:\n",
    "    try:\n",
    "        with set_posix():\n",
    "            return load_learner(model_path)\n",
    "    except AttributeError as e:\n",
    "        m_missing_func = re.match(r\"Can't get attribute '(.*?)'\", str(e))\n",
    "        if m_missing_func:\n",
    "            raise AttributeError(\n",
    "                f\"Add in the app the implementation of '{m_missing_func.group(1)}'\"\n",
    "            )\n",
    "        else:\n",
    "            raise\n",
    "\n",
    "\n",
    "@st.cache\n",
    "def get_image(img: PathStr) -> PILImage:\n",
    "    \"\"\"Get picture from either a path or URL\"\"\"\n",
    "    if str(img).startswith(\"http\"):\n",
    "        with tempfile.TemporaryDirectory() as tmpdirname:\n",
    "            dest = Path(tmpdirname) / img.split(\"?\")[0].rpartition(\"/\")[-1]\n",
    "\n",
    "            # NOTE: to be replaced by download(url, dest=dest) [from unpackai.utils]\n",
    "            with requests.get(str(img)) as resp:\n",
    "                resp.raise_for_status()\n",
    "                dest.write_bytes(resp.content)\n",
    "\n",
    "            return PILImage.create(dest)\n",
    "    else:\n",
    "        return PILImage.create(img)\n"
   ]
  },
  {
   "cell_type": "markdown",
   "metadata": {},
   "source": [
    "We also need a dummy function to make it easier to load a model\n",
    "when we don't know the implementation of some functions previously defined (like labelling function)\n"
   ]
  },
  {
   "cell_type": "code",
   "execution_count": null,
   "metadata": {},
   "outputs": [],
   "source": [
    "# export\n",
    "def dummy_function(*args, **kwargs):\n",
    "    \"\"\"Function that does absolutely nothing\"\"\"\n",
    "    return None"
   ]
  },
  {
   "cell_type": "markdown",
   "metadata": {},
   "source": [
    "# Get template of App"
   ]
  },
  {
   "cell_type": "markdown",
   "metadata": {},
   "source": [
    "## Base Template"
   ]
  },
  {
   "cell_type": "code",
   "execution_count": null,
   "metadata": {},
   "outputs": [],
   "source": [
    "# export\n",
    "TEMPLATE_BASE = \"\"\"\n",
    "from pathlib import Path\n",
    "\n",
    "import streamlit as st\n",
    "from unpackai.deploy import get_learner, PathStr, dummy_function\n",
    "\n",
    "st.set_page_config(page_title=\"ML deployment, by unpackAI\", page_icon=\"🚀\")\n",
    "st.image(\"https://unpackai.github.io/unpackai_logo.svg\")\n",
    "st.title(\"{{ title }}\")\n",
    "st.write(\"*by {{ author }}*\")\n",
    "st.write(\"---\")\n",
    "\n",
    "{{ implem_4_model }}\n",
    "\n",
    "learn = get_learner(\"{{ model }}\")\n",
    "vocab = learn.dls.vocab\n",
    "\"\"\"\n",
    "\n",
    "\n",
    "@dataclass\n",
    "class StreamlitApp:\n",
    "    content: str = field(init=False, default=\"\")\n",
    "    _title: str = field(init=False, default=\"Streamlit App\")\n",
    "    TEMPLATE: ClassVar[str] = TEMPLATE_BASE\n",
    "\n",
    "    def render(\n",
    "        self, title: str, author: str, model: PathStr, implem_4_model: str\n",
    "    ) -> \"StreamlitApp\":\n",
    "        \"\"\"Render an app based on template\n",
    "\n",
    "        Args:\n",
    "            title: title of the App\n",
    "            author: author of the App\n",
    "            model: path of .pkl model to load (exported with `learn.export(...)`)\n",
    "            implem_4_model: extra implementations needed to load the model\n",
    "                (e.g. function used for labelling)\n",
    "        \"\"\"\n",
    "        self._title = title\n",
    "        self.content = Template(self.TEMPLATE).render(\n",
    "            title=title, author=author, model=model, implem_4_model=implem_4_model\n",
    "        )\n",
    "        return self\n",
    "\n",
    "    def append(self, content:str) -> \"StreamlitApp\":\n",
    "        \"\"\"Add additional content to the app\"\"\"\n",
    "        self.content += content\n",
    "        return self\n",
    "\n",
    "    def save(self, dest:PathStr):\n",
    "        \"\"\"Write the app to a file\"\"\"\n",
    "        Path(dest).write_text(self.content, encoding=\"utf-8\")\n",
    "        print(f\"Saved app '{self._title}' to '{dest}'\")\n",
    "\n"
   ]
  },
  {
   "cell_type": "markdown",
   "metadata": {},
   "source": [
    "## Template for CV Classification"
   ]
  },
  {
   "cell_type": "code",
   "execution_count": null,
   "metadata": {},
   "outputs": [],
   "source": [
    "# export\n",
    "TEMPLATE_CV_CLASSIFY = TEMPLATE_BASE + \"\"\"\n",
    "\n",
    "from unpackai.deploy import get_image\n",
    "\n",
    "\n",
    "def display_prediction(pic):\n",
    "    img = get_image(pic)\n",
    "    with learn.no_bar():\n",
    "        prediction, _, probabilities = learn.predict(img)\n",
    "    col_img, col_pred = st.columns(2)\n",
    "    col_img.image(img, caption=getattr(pic, \"name\", None))\n",
    "    col_pred.write(f\"### {prediction}\")\n",
    "    col_pred.metric(f\"Probability\", f\"{probabilities[1].item()*100:.2f}%\")\n",
    "\n",
    "\n",
    "select = st.radio(\"How to load pictures?\", [\"from URL\", \"from files\"])\n",
    "st.write(\"---\")\n",
    "\n",
    "if select == \"from URL\":\n",
    "    url = st.text_input(\"url\")\n",
    "    if url:\n",
    "        display_prediction(url)\n",
    "\n",
    "else:\n",
    "    pictures = st.file_uploader(\"Choose pictures\", accept_multiple_files=True)\n",
    "    for pic in pictures:  # type:ignore # this is an iterable\n",
    "        display_prediction(pic)\n",
    "\n",
    "\"\"\"\n",
    "\n",
    "@dataclass\n",
    "class StreamlitAppCVClassif(StreamlitApp):\n",
    "    TEMPLATE: ClassVar[str] = TEMPLATE_CV_CLASSIFY\n"
   ]
  },
  {
   "cell_type": "markdown",
   "metadata": {},
   "source": [
    "## Test"
   ]
  },
  {
   "cell_type": "code",
   "execution_count": null,
   "metadata": {},
   "outputs": [
    {
     "name": "stdout",
     "output_type": "stream",
     "text": [
      "Saved app 'My Mini App' to 'my_app.py'\n"
     ]
    }
   ],
   "source": [
    "app = StreamlitAppCVClassif().render(\n",
    "    title=\"My Mini App\",\n",
    "    author=\"Jeff\",\n",
    "    model=\"examples/deploy/model.pkl\",\n",
    "    implem_4_model=\"is_cat = dummy_function\",\n",
    ")\n",
    "app.save(\"my_app.py\")"
   ]
  },
  {
   "cell_type": "markdown",
   "metadata": {},
   "source": []
  }
 ],
 "metadata": {
  "kernelspec": {
   "display_name": "Python 3.9.6 64-bit",
   "language": "python",
   "name": "python3"
  }
 },
 "nbformat": 4,
 "nbformat_minor": 2
}
