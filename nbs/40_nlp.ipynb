{
 "cells": [
  {
   "cell_type": "markdown",
   "metadata": {},
   "source": [
    "# NLP\n",
    "> Things about NLP"
   ]
  },
  {
   "cell_type": "code",
   "execution_count": 2,
   "metadata": {},
   "outputs": [],
   "source": [
    "# default_exp nlp"
   ]
  },
  {
   "cell_type": "markdown",
   "metadata": {},
   "source": [
    "## Textual  Data Obtainer"
   ]
  },
  {
   "cell_type": "code",
   "execution_count": 15,
   "metadata": {},
   "outputs": [],
   "source": [
    "# export\n",
    "from bs4 import BeautifulSoup\n",
    "import requests\n",
    "import logging\n",
    "from ipywidgets import interact, interact_manual, FileUpload\n",
    "from pathlib import Path\n",
    "from forgebox.html import DOM"
   ]
  },
  {
   "cell_type": "markdown",
   "metadata": {},
   "source": [
    "This is a text data management class"
   ]
  },
  {
   "cell_type": "code",
   "execution_count": 73,
   "metadata": {},
   "outputs": [],
   "source": [
    "# export\n",
    "class Textual:\n",
    "    \"\"\"\n",
    "    Obtain and manage textual data\n",
    "    \"\"\"\n",
    "\n",
    "    def __init__(self, text: str):\n",
    "        self.text = text.replace(\"\\n\", \" \").replace(\"\\r\", \"\")\n",
    "\n",
    "    def __repr__(self) -> str:\n",
    "        return f\"\"\"Text ({len(self.text)} chars), textual(),\n",
    "    train_path, val_path = textual.create_train_val()\"\"\"\n",
    "\n",
    "    def __call__(self, page_size: int = 1000) -> None:\n",
    "        \"\"\"\n",
    "        Previewing the first 200(or less) pages\n",
    "        - page_size: character number each page\n",
    "        \"\"\"\n",
    "        logging.info(f\"Previewing the first 200 pages\")\n",
    "\n",
    "        @interact\n",
    "        def show_text(page=(0, min(len(self.text)//page_size-1, 200), 1)):\n",
    "            display(self.text[page*page_size: (page+1)*page_size])\n",
    "\n",
    "    @classmethod\n",
    "    def from_url(cls, url: str):\n",
    "        res = requests.get(url)\n",
    "        if res.status_code == 200:\n",
    "            res.encoding = 'utf-8'\n",
    "            headers = res.headers\n",
    "            if \"html\" in str(headers).lower():\n",
    "                text = BeautifulSoup(res.text).text\n",
    "            else:\n",
    "                text = res.text\n",
    "            obj = cls(text)\n",
    "            obj.path = \"./text_data.txt\"\n",
    "            with open(obj.path, \"w\") as f:\n",
    "                f.write(obj.text)\n",
    "            return obj\n",
    "        else:\n",
    "            raise ConnectionError(f\"Error downloading: {url}\")\n",
    "\n",
    "    @classmethod\n",
    "    def from_path(cls, path: Path):\n",
    "        \"\"\"\n",
    "        Load a textual object from system path\n",
    "        \"\"\"\n",
    "        if Path(path).exists() == False:\n",
    "            raise FileExistsError(f\"Can not find {path}\")\n",
    "        with open(path, ) as f:\n",
    "            obj = cls(f.read())\n",
    "            obj.path = path\n",
    "            return obj\n",
    "    \n",
    "    @classmethod\n",
    "    def from_upload(\n",
    "        cls,\n",
    "        path: Path = Path(\"./uploaded_file.txt\")\n",
    "    ):\n",
    "        DOM(\"🗃 Please upload a text file ended in .txt\", \"h4\")()\n",
    "        my_manual = interact_manual.options(manual_name=\"Upload\")\n",
    "        @my_manual\n",
    "        def create_upload(btn_upload = FileUpload(description=\"Choose File\")):\n",
    "            text = list(btn_upload.values())[-1]['content'].decode()\n",
    "            with open(path, \"w\") as f:\n",
    "                f.write(text)\n",
    "            return path\n",
    "        def uploaded():\n",
    "            result = create_upload.widget.result\n",
    "            if result is None:\n",
    "                raise FileExistsError(\n",
    "                    \"You have to upload the txt file first\")\n",
    "            return cls.from_path(result)\n",
    "        return uploaded\n",
    "        \n",
    "\n",
    "    def create_train_val(\n",
    "            self,\n",
    "            valid_ratio=.2,\n",
    "            train_path=\"./train_text.txt\",\n",
    "            val_path=\"./val_text.txt\"):\n",
    "        \"\"\"\n",
    "        create 2 files:\n",
    "        - ./train_text.txt\n",
    "        - ./val_text.txt\n",
    "        \"\"\"\n",
    "        split = int(len(self.text)*(valid_ratio))\n",
    "        with open(train_path, \"w\") as f:\n",
    "            f.write(self.text[split:])\n",
    "        with open(val_path, \"w\") as f:\n",
    "            f.write(self.text[:split])\n",
    "        return train_path, val_path"
   ]
  },
  {
   "cell_type": "code",
   "execution_count": 74,
   "metadata": {},
   "outputs": [
    {
     "data": {
      "text/html": [
       "<h4>🗃 Please upload a text file ended in .txt</h4>"
      ],
      "text/plain": [
       "<IPython.core.display.HTML object>"
      ]
     },
     "metadata": {},
     "output_type": "display_data"
    },
    {
     "data": {
      "application/vnd.jupyter.widget-view+json": {
       "model_id": "7bd61fd3fca8424cbf0784b4b823f88a",
       "version_major": 2,
       "version_minor": 0
      },
      "text/plain": [
       "interactive(children=(FileUpload(value={}, description='Choose File'), Button(description='Upload', style=Butt…"
      ]
     },
     "metadata": {},
     "output_type": "display_data"
    }
   ],
   "source": [
    "uploaded = Textual.from_upload()"
   ]
  },
  {
   "cell_type": "code",
   "execution_count": 75,
   "metadata": {},
   "outputs": [
    {
     "data": {
      "text/plain": [
       "Text (65792 chars), textual(),\n",
       "    train_path, val_path = textual.create_train_val()"
      ]
     },
     "execution_count": 75,
     "metadata": {},
     "output_type": "execute_result"
    }
   ],
   "source": [
    "textual = uploaded()\n",
    "textual"
   ]
  },
  {
   "cell_type": "code",
   "execution_count": 76,
   "metadata": {},
   "outputs": [
    {
     "data": {
      "application/vnd.jupyter.widget-view+json": {
       "model_id": "79b5aea34cfa42258bfeb067d963f2ac",
       "version_major": 2,
       "version_minor": 0
      },
      "text/plain": [
       "interactive(children=(IntSlider(value=32, description='page', max=64), Output()), _dom_classes=('widget-intera…"
      ]
     },
     "metadata": {},
     "output_type": "display_data"
    }
   ],
   "source": [
    "textual()"
   ]
  },
  {
   "cell_type": "code",
   "execution_count": null,
   "metadata": {},
   "outputs": [],
   "source": []
  }
 ],
 "metadata": {
  "kernelspec": {
   "display_name": "Python 3",
   "language": "python",
   "name": "python3"
  },
  "language_info": {
   "codemirror_mode": {
    "name": "ipython",
    "version": 3
   },
   "file_extension": ".py",
   "mimetype": "text/x-python",
   "name": "python",
   "nbconvert_exporter": "python",
   "pygments_lexer": "ipython3",
   "version": "3.7.4"
  },
  "toc": {
   "base_numbering": 1,
   "nav_menu": {},
   "number_sections": true,
   "sideBar": true,
   "skip_h1_title": false,
   "title_cell": "Table of Contents",
   "title_sidebar": "Contents",
   "toc_cell": false,
   "toc_position": {},
   "toc_section_display": true,
   "toc_window_display": false
  }
 },
 "nbformat": 4,
 "nbformat_minor": 4
}
