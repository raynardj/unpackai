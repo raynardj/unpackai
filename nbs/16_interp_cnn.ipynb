{
 "cells": [
  {
   "cell_type": "markdown",
   "metadata": {},
   "source": [
    "# Interpret CNN model"
   ]
  },
  {
   "cell_type": "code",
   "execution_count": null,
   "metadata": {},
   "outputs": [],
   "source": [
    "# default_exp interp.visual"
   ]
  },
  {
   "cell_type": "code",
   "execution_count": null,
   "metadata": {},
   "outputs": [],
   "source": [
    "# export\n",
    "from pathlib import Path\n",
    "from PIL import Image\n",
    "from typing import Callable, List, Dict\n",
    "import torch\n",
    "from matplotlib import pyplot as plt\n",
    "import numpy as np\n",
    "import pandas as pd\n",
    "import json\n",
    "from ipywidgets import interact_manual, interact\n",
    "\n",
    "from unpackai.utils import url_2_text"
   ]
  },
  {
   "cell_type": "code",
   "execution_count": null,
   "metadata": {},
   "outputs": [],
   "source": [
    "from torchvision.models import resnet18\n",
    "from torchvision import transforms as tfm"
   ]
  },
  {
   "cell_type": "code",
   "execution_count": null,
   "metadata": {},
   "outputs": [],
   "source": [
    "IMAGENET_CLASSES_TEXT = url_2_text(\n",
    "    \"https://gist.githubusercontent.com/yrevar/942d3a0ac09ec9e5eb3a/raw/238f720ff059c1f82f368259d1ca4ffa5dd8f9f5/imagenet1000_clsidx_to_labels.txt\")"
   ]
  },
  {
   "cell_type": "code",
   "execution_count": null,
   "metadata": {},
   "outputs": [],
   "source": [
    "IMAGENET_CLASSES = eval(IMAGENET_CLASSES_TEXT)"
   ]
  },
  {
   "cell_type": "code",
   "execution_count": null,
   "metadata": {},
   "outputs": [
    {
     "data": {
      "text/plain": [
       "'bucket, pail'"
      ]
     },
     "execution_count": null,
     "metadata": {},
     "output_type": "execute_result"
    }
   ],
   "source": [
    "IMAGENET_CLASSES[463]"
   ]
  },
  {
   "cell_type": "code",
   "execution_count": null,
   "metadata": {},
   "outputs": [
    {
     "name": "stderr",
     "output_type": "stream",
     "text": [
      "Downloading: \"https://download.pytorch.org/models/resnet18-5c106cde.pth\" to /Users/salvor/.cache/torch/checkpoints/resnet18-5c106cde.pth\n"
     ]
    },
    {
     "data": {
      "application/vnd.jupyter.widget-view+json": {
       "model_id": "1a6f1c74c0d34b9486c49edf956c1e93",
       "version_major": 2,
       "version_minor": 0
      },
      "text/plain": [
       "HBox(children=(FloatProgress(value=0.0, max=46827520.0), HTML(value='')))"
      ]
     },
     "metadata": {},
     "output_type": "display_data"
    },
    {
     "name": "stdout",
     "output_type": "stream",
     "text": [
      "\n"
     ]
    }
   ],
   "source": [
    "model = resnet18(pretrained=True, progress=True)"
   ]
  },
  {
   "cell_type": "code",
   "execution_count": null,
   "metadata": {},
   "outputs": [],
   "source": [
    "IMAGES = list(Path(\"../test/img/Nature/\").iterdir())"
   ]
  },
  {
   "cell_type": "code",
   "execution_count": null,
   "metadata": {},
   "outputs": [
    {
     "data": {
      "text/plain": [
       "torch.Size([1, 1000])"
      ]
     },
     "execution_count": null,
     "metadata": {},
     "output_type": "execute_result"
    }
   ],
   "source": [
    "model(basic_trans(Image.open(IMAGES[0]))[None,...])"
   ]
  },
  {
   "cell_type": "code",
   "execution_count": null,
   "metadata": {},
   "outputs": [],
   "source": [
    "def simple_to_tensor(\n",
    "        size: int = 224,\n",
    "        mean_: List[float] = [0.485, 0.456, 0.406],\n",
    "        std: List[float] = [0.229, 0.224, 0.225],\n",
    "        img_transforms: List = [],\n",
    "        tensor_tranforms: List = [],\n",
    "        return_batch: bool = False, \n",
    "    ) -> Callable:\n",
    "    trans = tfm.Compose([\n",
    "        tfm.Resize(size),\n",
    "        *img_transforms,\n",
    "        tfm.ToTensor(),\n",
    "        *tensor_tranforms,\n",
    "        tfm.Normalize(mean=mean_, std=std)\n",
    "    ])\n",
    "    if return_batch:\n",
    "        def to_tensor(path):\n",
    "            with Image.open(str(path)) as img:\n",
    "                return trans(img.convert('RGB'))[None,...]\n",
    "    else:\n",
    "        def to_tensor(path):\n",
    "            \"\"\"\n",
    "            \"\"\"\n",
    "            with Image.open(str(path)) as img:\n",
    "                return trans(img.convert('RGB'))\n",
    "    return to_tensor"
   ]
  },
  {
   "cell_type": "code",
   "execution_count": null,
   "metadata": {},
   "outputs": [],
   "source": [
    "basic_trans = simple_to_tensor(return_batch=True)"
   ]
  },
  {
   "cell_type": "code",
   "execution_count": null,
   "metadata": {},
   "outputs": [],
   "source": [
    "def get_features(self, x):\n",
    "    # See note [TorchScript super()]\n",
    "    with torch.no_grad():\n",
    "        x = self.conv1(x)\n",
    "        x = self.bn1(x)\n",
    "        x = self.relu(x)\n",
    "        x = self.maxpool(x)\n",
    "\n",
    "        x = self.layer1(x)\n",
    "        x = self.layer2(x)\n",
    "        x = self.layer3(x)\n",
    "        x = self.layer4(x)\n",
    "        return x"
   ]
  },
  {
   "cell_type": "code",
   "execution_count": null,
   "metadata": {},
   "outputs": [],
   "source": [
    "def to_8b(x):\n",
    "    min_ = x.min()\n",
    "    max_ = x.max()\n",
    "    return (256*(x-min_)/(max_-min_)).astype(np.int8)"
   ]
  },
  {
   "cell_type": "code",
   "execution_count": null,
   "metadata": {},
   "outputs": [],
   "source": []
  },
  {
   "cell_type": "code",
   "execution_count": null,
   "metadata": {},
   "outputs": [],
   "source": [
    "def visualize(model, image_path):\n",
    "    model.cpu()\n",
    "    img = Image.open(image_path)\n",
    "    display(img.resize((224,224)))\n",
    "    tensor = basic_trans(image_path)\n",
    "    \n",
    "    with torch.no_grad():\n",
    "        y_ = model(tensor)[0]\n",
    "    features = get_features(model, tensor)[0]\n",
    "    \n",
    "    significance = y_.argsort().flip(dims=(0,)).numpy()\n",
    "    \n",
    "    significance_df = pd.DataFrame(dict(\n",
    "        name = list(map(IMAGENET_CLASSES.get,significance)),\n",
    "        idx = significance,\n",
    "        pred = y_.cpu().reshape(-1).numpy()[significance]\n",
    "    ))\n",
    "    display(significance_df)\n",
    "    \n",
    "    @interact\n",
    "    def search_kw(kw = \"\"):\n",
    "        sub_df = significance_df[significance_df.name.str.contains(kw)]\n",
    "        if len(sub_df)<0:\n",
    "            print(f\"no such class '{kw}'\")\n",
    "        elif len(sub_df)==1:\n",
    "            cls = sub_df.to_dict(orient=\"records\")[0]\n",
    "            cls_name = cls['name']\n",
    "            idx = cls['idx']\n",
    "            print(f\"{cls_name}({idx})\\tselected\")\n",
    "            with torch.no_grad():\n",
    "                feature_importance = model.fc.weight.data[\n",
    "                    idx][:,None,None]*features\n",
    "                \n",
    "                feature_rank = feature_importance.sum(-1).sum(-1).argsort().flip(dims=(0,))\n",
    "            \n",
    "            colormap = 'plasma'\n",
    "\n",
    "            fig,(ax1, ax2) = plt.subplots(1,2, figsize=(12,6))\n",
    "            ax2.imshow(img,alpha=.5,)\n",
    "\n",
    "            hm = ax2.imshow(Image.fromarray(to_8b(feature_importance[feature_rank[0],...].numpy()),\n",
    "                                            mode=\"L\").resize((img.height,img.width)),\n",
    "                            alpha=.5, cmap=colormap)\n",
    "\n",
    "            ax1.imshow(img,)\n",
    "            plt.show()\n",
    "                \n",
    "        else:\n",
    "            display(sub_df.head())"
   ]
  },
  {
   "cell_type": "code",
   "execution_count": null,
   "metadata": {},
   "outputs": [],
   "source": []
  }
 ],
 "metadata": {
  "kernelspec": {
   "display_name": "Python 3 (ipykernel)",
   "language": "python",
   "name": "python3"
  }
 },
 "nbformat": 4,
 "nbformat_minor": 4
}
