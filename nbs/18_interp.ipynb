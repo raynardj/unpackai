{
 "cells": [
  {
   "cell_type": "markdown",
   "metadata": {},
   "source": [
    "# Interpretaion\n",
    "> handles all the interpretation for learning"
   ]
  },
  {
   "cell_type": "code",
   "execution_count": null,
   "metadata": {},
   "outputs": [],
   "source": [
    "# default_exp interp.__init__"
   ]
  },
  {
   "cell_type": "code",
   "execution_count": null,
   "metadata": {},
   "outputs": [],
   "source": [
    "# export\n",
    "from unpackai.utils import hush\n",
    "from unpackai.bug import ishell, BUGBOOK\n",
    "from unpackai.interp.latent import CosineSearch, InterpEmbeddings\n",
    "from unpackai.interp.vision import (\n",
    "    image_upload,\n",
    "    upload_and_visualize_cnn,\n",
    "    IMAGENET_CLASSES,\n",
    "    IMAGENET_MEAN,\n",
    "    IMAGENET_STD)"
   ]
  },
  {
   "cell_type": "code",
   "execution_count": null,
   "metadata": {},
   "outputs": [],
   "source": []
  }
 ],
 "metadata": {
  "kernelspec": {
   "display_name": "Python 3 (ipykernel)",
   "language": "python",
   "name": "python3"
  }
 },
 "nbformat": 4,
 "nbformat_minor": 4
}
