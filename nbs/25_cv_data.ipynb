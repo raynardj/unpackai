{
 "cells": [
  {
   "cell_type": "markdown",
   "id": "33846a22",
   "metadata": {},
   "source": [
    "# Computer Vision (CV) Data\n",
    "> Classes and functions for handling images"
   ]
  },
  {
   "cell_type": "code",
   "execution_count": null,
   "id": "e0714c0d",
   "metadata": {},
   "outputs": [],
   "source": [
    "# default_exp cv.data"
   ]
  },
  {
   "cell_type": "code",
   "execution_count": null,
   "id": "46dc3003",
   "metadata": {},
   "outputs": [],
   "source": [
    "# export\n",
    "# Import packages and modules required for cv.data module\n",
    "import matplotlib.pyplot as plt\n",
    "import numpy as np\n",
    "import os\n",
    "import string\n",
    "\n",
    "from pathlib import Path\n",
    "from PIL import Image, ImageSequence\n",
    "from PIL.TiffImagePlugin import TiffImageFile, TiffTags, ImageFileDirectory_v2\n",
    "from typing import Any, Dict, List, Optional, Union\n",
    "\n",
    "PathStr = Union[Path, str]"
   ]
  },
  {
   "cell_type": "code",
   "execution_count": null,
   "id": "2da8a7a0",
   "metadata": {},
   "outputs": [],
   "source": [
    "# hide\n",
    "# import packages and modules only required for running this notebook's examples\n",
    "from nbdev.showdoc import show_doc\n",
    "from tempfile import TemporaryDirectory"
   ]
  },
  {
   "cell_type": "markdown",
   "id": "917d4666",
   "metadata": {},
   "source": [
    "## Introduction to [TIFF](https://en.wikipedia.org/wiki/TIFF) Images\n",
    "> The *Tag Image File Format* (TIFF or TIF) is a complex format ([full spec here](https://www.adobe.io/open/standards/TIFF.html)). In particular, each  TIFF file may contain several related images (**frames**) and additional information (**tags**) organized into an *Image File Directory* (**IFD**) structure. IFD uses a key-value format, similar to a python dictionnay - all keys are numbers. Many tags are predefined, such at the tags providing the image width, length, compression, ...\n",
    ">\n",
    "> The Class `TIFFImage` defined below handles commonly needed actions with TIFF such as retrieving tags values, adding new tags, exploring all the frames, extracting all or specific frames into separate image files ('tiff' or 'jpg').\n",
    ">\n",
    "> The module [`PIL.TiffImagePlugin`](https://pillow.readthedocs.io/en/stable/reference/plugins.html#module-PIL.TiffImagePlugin) offers a set of classes to easily handle TIFF, among which:\n",
    "> - loading TIFF files and work with frames using [`TiffImageFile(path)`](https://pillow.readthedocs.io/en/stable/reference/plugins.html#PIL.TiffImagePlugin.TiffImageFile). It operates like [`Image`](https://pillow.readthedocs.io/en/stable/reference/Image.html) but with specific methods and properties for TIFF. For example, [`.seek(frame_nbr)`](https://pillow.readthedocs.io/en/stable/reference/plugins.html#PIL.TiffImagePlugin.TiffImageFile.seek) selects one of the frames and makes it active. After that, any action on the `TiffImageFile` object will apply to that particular frame. [`.n_frames`](https://pillow.readthedocs.io/en/stable/reference/plugins.html#PIL.TiffImagePlugin.TiffImageFile.n_frames) to get the total numer of frames in the file. It will inherit properties such as `size`, ...\n",
    "> - IFD predefined tags can be accessed through [`PIL.TiffTags`](https://pillow.readthedocs.io/en/stable/reference/TiffTags.html#tifftags-module). \n",
    "> - Add new tags using the correct IFD structure with [`PIL.TiffImagePlugin.ImageFileDirectory_v2`](https://pillow.readthedocs.io/en/stable/reference/plugins.html?highlight=ImageFileDirectory_v2#PIL.TiffImagePlugin.ImageFileDirectory_v2)."
   ]
  },
  {
   "cell_type": "code",
   "execution_count": null,
   "id": "2cdbfb79",
   "metadata": {},
   "outputs": [],
   "source": [
    "# load sample TIFF file from test image directory\n",
    "p2tiff = Path('../test/img/tiff/tif-multi-frame-with-tags.tif').resolve()\n",
    "tiff = TiffImageFile(p2tiff)"
   ]
  },
  {
   "cell_type": "markdown",
   "id": "0fe6a12c",
   "metadata": {},
   "source": [
    "Display `n` frames from the loaded TIFF image file "
   ]
  },
  {
   "cell_type": "code",
   "execution_count": null,
   "id": "c1ff79df",
   "metadata": {},
   "outputs": [
    {
     "name": "stdout",
     "output_type": "stream",
     "text": [
      "--- Frame 0 --------------------------------------------------------------------------------\n"
     ]
    },
    {
     "data": {
      "image/png": "[encoded data removed]",
      "text/plain": [
       "<PIL.Image.Image image mode=1 size=150x150 at 0x7F3EB713DDC0>"
      ]
     },
     "metadata": {},
     "output_type": "display_data"
    },
    {
     "name": "stdout",
     "output_type": "stream",
     "text": [
      "This frame has size (512, 512)\n",
      "The image was loaded from /home/vtec/unpackai/test/img/tiff/tif-multi-frame-with-tags.tif\n",
      "--- Frame 1 --------------------------------------------------------------------------------\n"
     ]
    },
    {
     "data": {
      "image/png": "[encoded data removed]",
      "text/plain": [
       "<PIL.Image.Image image mode=1 size=150x150 at 0x7F3EB70B9D30>"
      ]
     },
     "metadata": {},
     "output_type": "display_data"
    },
    {
     "name": "stdout",
     "output_type": "stream",
     "text": [
      "This frame has size (512, 512)\n",
      "The image was loaded from /home/vtec/unpackai/test/img/tiff/tif-multi-frame-with-tags.tif\n",
      "--- Frame 2 --------------------------------------------------------------------------------\n"
     ]
    },
    {
     "data": {
      "image/png": "[encoded data removed]",
      "text/plain": [
       "<PIL.Image.Image image mode=1 size=150x150 at 0x7F3EB708EF10>"
      ]
     },
     "metadata": {},
     "output_type": "display_data"
    },
    {
     "name": "stdout",
     "output_type": "stream",
     "text": [
      "This frame has size (512, 512)\n",
      "The image was loaded from /home/vtec/unpackai/test/img/tiff/tif-multi-frame-with-tags.tif\n"
     ]
    }
   ],
   "source": [
    "n = 3\n",
    "for frame in range(min(n, tiff.n_frames)):\n",
    "    print(f\"--- Frame {frame} {'-'*80}\")\n",
    "    display(tiff.resize((150,150)))\n",
    "    tiff.seek(frame)\n",
    "    print(f\"This frame has size {tiff.size}\")\n",
    "    print(f\"The image was loaded from {tiff.filename}\")\n"
   ]
  },
  {
   "cell_type": "markdown",
   "id": "5d187457",
   "metadata": {},
   "source": [
    "Example of pre-defined tags and their desciption:"
   ]
  },
  {
   "cell_type": "code",
   "execution_count": null,
   "id": "eb7c9204",
   "metadata": {},
   "outputs": [
    {
     "name": "stdout",
     "output_type": "stream",
     "text": [
      "  Tag Nbr | Tag Name\n",
      "    256   | ImageWidth\n",
      "    257   | ImageLength\n",
      "    259   | Compression\n",
      "    269   | DocumentName\n",
      "    270   | ImageDescription\n",
      "  33432   | Copyright\n",
      "  34665   | ExifIFD\n",
      "  34675   | ICCProfile\n",
      "  34853   | GPSInfoIFD\n"
     ]
    }
   ],
   "source": [
    "predefined_tag_sublist = [256, 257, 259, 269, 270, 33432, 34665, 34675, 34853]\n",
    "print(f\"  Tag Nbr | Tag Name\")\n",
    "for tag_nbr in predefined_tag_sublist:\n",
    "    print(f\"  {tag_nbr:5d}   | {TiffTags.TAGS_V2[tag_nbr].name}\")"
   ]
  },
  {
   "cell_type": "markdown",
   "id": "fd6e9956",
   "metadata": {},
   "source": [
    "It is possible to retrieve all existing tags to one frame. \n",
    "- `.tag_v2.keys()`, `.tag_v2.values()`, `.tag_v2.items()`, `.tag_v2.get(tag_nbr)` as in a dictionary\n",
    "- `.ifd` to retrieve the entire Image File Directory. It behaves as a dictionary.\n",
    "- `TiffTags.TAGS_V2` is a fixed dictionary that gives access to the predefined tags and their meanings"
   ]
  },
  {
   "cell_type": "markdown",
   "id": "aff5176f",
   "metadata": {},
   "source": [
    "List of predefined tags in the loaded TIFF image:"
   ]
  },
  {
   "cell_type": "code",
   "execution_count": null,
   "id": "82d98652",
   "metadata": {},
   "outputs": [
    {
     "data": {
      "text/plain": [
       "14"
      ]
     },
     "execution_count": null,
     "metadata": {},
     "output_type": "execute_result"
    }
   ],
   "source": [
    "len(tiff.tag_v2.keys())"
   ]
  },
  {
   "cell_type": "code",
   "execution_count": null,
   "id": "d14630aa",
   "metadata": {},
   "outputs": [
    {
     "data": {
      "text/plain": [
       "['  256 - ImageWidth                    :  512',\n",
       " '  257 - ImageLength                   :  512',\n",
       " '  259 - Compression                   :  1',\n",
       " '  262 - PhotometricInterpretation     :  1',\n",
       " '  270 - ImageDescription              :  {\"shape\": [512, 512]}',\n",
       " '  273 - StripOffsets                  :  (320,)',\n",
       " '  277 - SamplesPerPixel               :  1',\n",
       " '  278 - RowsPerStrip                  :  512',\n",
       " '  279 - StripByteCounts               :  (32768,)',\n",
       " '  282 - XResolution                   :  1.0',\n",
       " '  283 - YResolution                   :  1.0',\n",
       " '  296 - ResolutionUnit                :  1',\n",
       " '  305 - Software                      :  tifffile.py']"
      ]
     },
     "execution_count": null,
     "metadata": {},
     "output_type": "execute_result"
    }
   ],
   "source": [
    "tiff.seek(0)\n",
    "tags_predefined = [tag for tag in tiff.tag_v2.keys() if tag in list(TiffTags.TAGS_V2.keys())]\n",
    "[f\"{tag:5d} - {TiffTags.TAGS_V2[tag].name:30s}:  {tiff.tag_v2.get(tag)}\" for tag in tags_predefined]"
   ]
  },
  {
   "cell_type": "markdown",
   "id": "079f8371",
   "metadata": {},
   "source": [
    "List of custom tags in the loaded TIFF image:"
   ]
  },
  {
   "cell_type": "code",
   "execution_count": null,
   "id": "df0366f9",
   "metadata": {},
   "outputs": [
    {
     "data": {
      "text/plain": [
       "['65001                                 :  Specular reflection']"
      ]
     },
     "execution_count": null,
     "metadata": {},
     "output_type": "execute_result"
    }
   ],
   "source": [
    "tags_custom = [tag for tag in tiff.tag_v2.keys() if tag not in list(TiffTags.TAGS_V2.keys())]\n",
    "[f\"{str(tag):38s}:  {tiff.tag_v2.get(tag)}\" for tag in tags_custom]"
   ]
  },
  {
   "cell_type": "markdown",
   "id": "7897741b",
   "metadata": {},
   "source": [
    "## Class `TiffImage`"
   ]
  },
  {
   "cell_type": "code",
   "execution_count": null,
   "id": "a2bc85fe",
   "metadata": {},
   "outputs": [],
   "source": [
    "# export\n",
    "class TiffImage:\n",
    "    \"\"\"Load and handle TIFF images, such as viewing frames, extracting frames and saving them as single image files.\n",
    "    \n",
    "    TiffImage loads a TIFF image from a path (Path or str) and return a TiffImage object that:\n",
    "    - gives access to the number of frames 'n_frames', all the tags 'tags' and the image size in pixel 'size'.\n",
    "    - allows to return a specific frame as an object\n",
    "    - allows to extract and save all or any frame as 'tif' or 'jpg image file(s)'\n",
    "    - provides a __repr__ including information on each the frames in the image\n",
    "    - allows to show thumbnails of all frames in a grid.\n",
    "    \n",
    "    Abreviations in the code are according to https://docs.fast.ai/dev/abbr.html\n",
    "    \n",
    "    \"\"\"\n",
    "\n",
    "    VALID_CHARS = f\"-_.() {string.ascii_letters}{string.digits}\"\n",
    "\n",
    "    def __init__(self, path: PathStr):\n",
    "        \"\"\"Loads the TIFF image from system path\"\"\"\n",
    "        self.path = self.handle_pathstr_(path)\n",
    "        if self.path.suffix not in ['.tif', '.tiff']:\n",
    "            raise ValueError(f\"Image file should be .tif or .tiff, not '{self.path.suffix}'\")\n",
    "        self.tiff = TiffImageFile(self.path)\n",
    "        \n",
    "    def __repr__(self):\n",
    "        \"\"\"Return a summary of all the frames in the image file\"\"\"\n",
    "        str_lst = [f\"<unpackai.cv.data.TiffImage> TIFF image file with {self.n_frames} frames.\"]\n",
    "        str_lst.append(f\"  Loaded from {self.path}.\")\n",
    "        str_lst.append('  Frame Content Summary:')\n",
    "        str_lst.append(f\"    {'Frame':^7s}|{'Size':^15s}|{'Nbr Tags':^10s}\")\n",
    "        for i, frame in enumerate(ImageSequence.Iterator(self.tiff)):\n",
    "            str_lst.append(f\"    {str(i):^7s}|{str(frame.size):^15}|{str(len(frame.tag_v2.keys())):^10s}\")\n",
    "        str_lst.append(f\"  To show image thumbnails, use method '.show(frame_nbr)' of '.show_all()'\")\n",
    "        txt = '\\n'.join(str_lst)\n",
    "        return txt\n",
    "\n",
    "    def summary_tags(self, frame_nbr: int = 0):\n",
    "        \"\"\"Display a summary table of all the tags in the selected frame\"\"\"\n",
    "        if self.is_valid_frame_(frame_nbr):\n",
    "            self.tiff.seek(frame_nbr)\n",
    "        tags_predefined = [tag for tag in self.tiff.tag_v2.keys() if tag in list(TiffTags.TAGS_V2.keys())]\n",
    "        tags_custom = [tag for tag in self.tiff.tag_v2.keys() if tag not in list(TiffTags.TAGS_V2.keys())]\n",
    "\n",
    "        str_lst = [f\"|{'Tag Nbr':^9s}|{'Predefined Tag Name':^31s}|{'Tag Value':^70s} |\"]\n",
    "        str_lst.append(f\"|{'=' * 112} |\")\n",
    "        str_lst.extend([f\"|{str(tag):^9s}| {TiffTags.TAGS_V2[tag].name:<30s}| {str(self.tiff.tag_v2.get(tag))[:70]:<70s}|\" for tag in tags_predefined])\n",
    "        str_lst.extend([f\"|{str(tag):^9s}| {' ':^30s}| {str(self.tiff.tag_v2.get(tag))[:70]:<70s}|\" for tag in tags_custom])\n",
    "        print('\\n'.join(str_lst))\n",
    "        \n",
    "    def show(self, frame_nbr: int = 0):\n",
    "        \"\"\"Display a frame as a thumbnail\"\"\"\n",
    "        if self.is_valid_frame_(frame_nbr):\n",
    "            print(f\"Showing frame {frame_nbr} out of {self.n_frames}:\")\n",
    "            self.tiff.seek(frame_nbr)\n",
    "            plt.figure(figsize=(2, 2))\n",
    "            plt.imshow(self.tiff)\n",
    "            plt.axis('off')\n",
    "            plt.show()\n",
    "\n",
    "    def show_all(self, n_max: Optional[int] = None):\n",
    "        \"\"\"Display all frames (up to n_max) as a grid of thumbnails\"\"\"\n",
    "        if n_max is None:\n",
    "            n_max = self.n_frames\n",
    "            print(f\"Showing all {self.n_frames} frames:\")\n",
    "        else:\n",
    "            n_max = min(n_max, self.n_frames)\n",
    "            print(f\"Showing {n_max} first frames of {self.n_frames}:\")\n",
    "\n",
    "        ncols = 6\n",
    "        nrows = n_max//ncols + 1\n",
    "        plt.figure(figsize=(14, 2 * nrows))\n",
    "        for i in range(n_max):\n",
    "            self.tiff.seek(i)\n",
    "            plt.subplot(nrows, ncols, i+1)\n",
    "            plt.imshow(self.tiff, cmap='Greys_r')\n",
    "            plt.axis('off')\n",
    "        plt.show()\n",
    "            \n",
    "    def get_frame(self, frame_nbr: int = 0) -> TiffImageFile:\n",
    "        \"\"\"Return the frame specified by 'frame_nbr' as an object\n",
    "        \n",
    "        The frame object is returned as a 'PIL.TiffImagePlugin.TiffImageFile' object. Which inherits from\n",
    "        'PIL.Image.Image' and can be handled as a normal PIL image.\n",
    "        \"\"\"\n",
    "        if self.is_valid_frame_(frame_nbr):\n",
    "            self.tiff.seek(frame_nbr)\n",
    "            return self.tiff\n",
    "\n",
    "    def extract_frames(self, \n",
    "                       dest: Optional[PathStr] = None, \n",
    "                       naming_method: str = 'counter', \n",
    "                       tag: Optional[int] = None\n",
    "                      ):\n",
    "        \n",
    "        \"\"\"Extract each frame from the file and save them as individual TIFF image file\n",
    "        \n",
    "        All frames in the TIFF file are saved as independant TIFF image files.\n",
    "        \n",
    "        Two options for the individual image files:\n",
    "         - 'counter':    original file + frame number suffix (frame number is 4-digit padded with zeros)\n",
    "         - 'tag_value':  use the value in a specific tag, typycally when a class name is stored in a tag for each frame.\n",
    "                         In case a `tag` value is not provided, the naming will revert to `counter`.\n",
    "                         In case no tag is availaible in the frame for `tag`, the naming for that particular frame will\n",
    "                         use the counter value instead for that frame.        \n",
    "        \"\"\"\n",
    "        if tag is None:\n",
    "            # todo: add warning here\n",
    "            naming_method = 'counter'\n",
    "\n",
    "        dest = self.handle_pathstr_(dest)\n",
    "        \n",
    "        for count, frame in enumerate(ImageSequence.Iterator(self.tiff)):\n",
    "            ifd = frame.ifd\n",
    "            if naming_method == 'counter':\n",
    "                frame_slug = f\"{count:04d}\"\n",
    "            elif naming_method == 'tag_value':\n",
    "                if tag in list(frame.tag_v2.keys()):\n",
    "                    tag_value = frame.tag_v2.get(tag)\n",
    "                    frame_slug = ''.join(c for c in tag_value if c in self.VALID_CHARS).replace(' ', '_')\n",
    "                else:\n",
    "                    frame_slug = f\"{count:04d}\"\n",
    "            else:\n",
    "                raise ValueError(f\"'naming_method' should be 'counter' or 'tag_value'\")\n",
    "\n",
    "            tiffpath = dest/f\"{self.path.stem}-{frame_slug}.tif\" \n",
    "            frame.save(tiffpath, tiffinfo=ifd)\n",
    "    \n",
    "    def extract_one_frame(self, \n",
    "                          frame_nbr: int = 0, \n",
    "                          image_format: str = 'jpg', \n",
    "                          dest: Optional[PathStr] = None,\n",
    "                          fname: Optional[str] = None, \n",
    "                         ):\n",
    "        \"\"\"Extract the specified frame and save it as an image file of the specified format\n",
    "        \n",
    "        image_format: str   'tif' to save as a TIFF image, along with the frame IFD (tags)\n",
    "                            'jpg' to save as a JPEG image, loosing the tag information\n",
    "        dest: Path or str   destination directory where to save the image file\n",
    "                            when not provided, the current working directory is selected by default\n",
    "        fname: str          specific name for the image file\n",
    "                            when not provided, the name will be the same as the original TIFF image file\n",
    "                            name, with the frame number as sufix (4-digit padded with zeroes)\n",
    "        \n",
    "        \"\"\"\n",
    "        \n",
    "        if image_format not in ['jpg', 'tif']:\n",
    "            raise ValueError(f\"'image_format' must be 'jpg' or 'tif', not '{image_format}'\")\n",
    "            \n",
    "        dest = self.handle_pathstr_(dest)\n",
    "        \n",
    "        if self.is_valid_frame_(frame_nbr): \n",
    "            self.tiff.seek(frame_nbr)\n",
    "            ifd = self.tiff.ifd\n",
    "            frame_slug = f\"{frame_nbr:04d}\"\n",
    "            if fname is None:\n",
    "                fname = dest/f\"{self.path.stem}-{frame_slug}.{image_format}\" \n",
    "            else:\n",
    "                fname = dest/f\"{fname}.{image_format}\"\n",
    "            \n",
    "            self.tiff.save(fname, tiffinfo=ifd)       \n",
    "    \n",
    "    @property\n",
    "    def n_frames(self):\n",
    "        \"\"\"Number of frame in TIFF image file\"\"\"\n",
    "        return self.tiff.n_frames\n",
    "    \n",
    "    @property\n",
    "    def tags(self):\n",
    "        \"\"\"Dictionary with all tag-tag value pairs in the current frame\"\"\"\n",
    "        return dict(self.tiff.tag_v2.items())\n",
    "    \n",
    "    @property\n",
    "    def size(self):\n",
    "        \"\"\"Size of the current frame in pixel\"\"\"\n",
    "        return self.tiff.size\n",
    "        \n",
    "    def is_valid_frame_(self, frame_nbr: int):\n",
    "        \"\"\"Internal utility method to validate that the requested frame exist for the current TIFF file\"\"\"\n",
    "        if frame_nbr > self.n_frames:\n",
    "            raise ValueError(f\"'frame_nbr' is {frame_nbr} but this TIFF file only has {self.n_frames} frames. \")\n",
    "        else:\n",
    "            return True\n",
    "    \n",
    "    @staticmethod\n",
    "    def handle_pathstr_(pathstr: PathStr):\n",
    "        \"\"\"Internal utility method to handle pathlib.Path or string as path and validate that the path exists\"\"\"\n",
    "        if pathstr is None:\n",
    "            pathstr = Path('')\n",
    "        else:\n",
    "            pathstr = Path(pathstr)\n",
    "            if not pathstr.exists():\n",
    "                raise FileExistsError(f\"Cannot find path {pathstr}\")\n",
    "        return pathstr"
   ]
  },
  {
   "cell_type": "markdown",
   "id": "59a49a73",
   "metadata": {},
   "source": [
    "## Examples"
   ]
  },
  {
   "cell_type": "markdown",
   "id": "54afe0bd",
   "metadata": {},
   "source": [
    "Create a new instance of `TiffImage` and display its default representation."
   ]
  },
  {
   "cell_type": "code",
   "execution_count": null,
   "id": "0cf24aac",
   "metadata": {},
   "outputs": [
    {
     "data": {
      "text/plain": [
       "<unpackai.cv.data.TiffImage> TIFF image file with 8 frames.\n",
       "  Loaded from /home/vtec/unpackai/test/img/tiff/tif-multi-frame-with-tags.tif.\n",
       "  Frame Content Summary:\n",
       "     Frame |     Size      | Nbr Tags \n",
       "       0   |  (512, 512)   |    14    \n",
       "       1   |  (512, 512)   |    14    \n",
       "       2   |  (512, 512)   |    14    \n",
       "       3   |  (512, 512)   |    14    \n",
       "       4   |  (512, 512)   |    14    \n",
       "       5   |  (512, 512)   |    14    \n",
       "       6   |  (512, 512)   |    14    \n",
       "       7   |  (512, 512)   |    14    \n",
       "  To show image thumbnails, use method '.show(frame_nbr)' of '.show_all()'"
      ]
     },
     "execution_count": null,
     "metadata": {},
     "output_type": "execute_result"
    }
   ],
   "source": [
    "tiff = TiffImage(p2tiff)\n",
    "tiff"
   ]
  },
  {
   "cell_type": "markdown",
   "id": "53d4ab11",
   "metadata": {},
   "source": [
    "Explore the TIFF file frames"
   ]
  },
  {
   "cell_type": "code",
   "execution_count": null,
   "id": "8bc126de",
   "metadata": {},
   "outputs": [
    {
     "name": "stdout",
     "output_type": "stream",
     "text": [
      "Showing frame 4 out of 8:\n"
     ]
    },
    {
     "data": {
      "image/png": "[encoded data removed]",
      "text/plain": [
       "<Figure size 200x200 with 1 Axes>"
      ]
     },
     "metadata": {},
     "output_type": "display_data"
    },
    {
     "name": "stdout",
     "output_type": "stream",
     "text": [
      "Showing all 8 frames:\n"
     ]
    },
    {
     "data": {
      "image/png": "[encoded data removed]",
      "text/plain": [
       "<Figure size 1400x400 with 8 Axes>"
      ]
     },
     "metadata": {},
     "output_type": "display_data"
    }
   ],
   "source": [
    "tiff.show(4)\n",
    "tiff.show_all()"
   ]
  },
  {
   "cell_type": "markdown",
   "id": "6b8dea8e",
   "metadata": {},
   "source": [
    "Access the `TiffImage` properties:"
   ]
  },
  {
   "cell_type": "code",
   "execution_count": null,
   "id": "94ea5bc8",
   "metadata": {},
   "outputs": [
    {
     "data": {
      "text/plain": [
       "(8, (512, 512))"
      ]
     },
     "execution_count": null,
     "metadata": {},
     "output_type": "execute_result"
    }
   ],
   "source": [
    "tiff.n_frames, tiff.size"
   ]
  },
  {
   "cell_type": "code",
   "execution_count": null,
   "id": "b6781758",
   "metadata": {},
   "outputs": [
    {
     "data": {
      "text/plain": [
       "{256: 512,\n",
       " 257: 512,\n",
       " 259: 1,\n",
       " 262: 1,\n",
       " 270: '{\"shape\": [512, 512]}',\n",
       " 273: (231856,),\n",
       " 277: 1,\n",
       " 278: 512,\n",
       " 279: (32768,),\n",
       " 282: 1.0,\n",
       " 283: 1.0,\n",
       " 296: 1,\n",
       " 65001: 'Oral mucosa',\n",
       " 305: 'tifffile.py'}"
      ]
     },
     "execution_count": null,
     "metadata": {},
     "output_type": "execute_result"
    }
   ],
   "source": [
    "tiff.tags"
   ]
  },
  {
   "cell_type": "code",
   "execution_count": null,
   "id": "750dfd30",
   "metadata": {},
   "outputs": [
    {
     "data": {
      "text/plain": [
       "'Oral mucosa'"
      ]
     },
     "execution_count": null,
     "metadata": {},
     "output_type": "execute_result"
    }
   ],
   "source": [
    "tiff.tags[65001]"
   ]
  },
  {
   "cell_type": "markdown",
   "id": "ff8d7473",
   "metadata": {},
   "source": [
    "Retrieve a specific frame as a `PIL.Image.Image` object"
   ]
  },
  {
   "cell_type": "code",
   "execution_count": null,
   "id": "afbe1a8f",
   "metadata": {},
   "outputs": [
    {
     "data": {
      "image/png": "[encoded data removed]",
      "text/plain": [
       "<PIL.TiffImagePlugin.TiffImageFile image mode=1 size=512x512 at 0x7F3EB708ED00>"
      ]
     },
     "execution_count": null,
     "metadata": {},
     "output_type": "execute_result"
    }
   ],
   "source": [
    "tiff.get_frame(4)"
   ]
  },
  {
   "cell_type": "code",
   "execution_count": null,
   "id": "f491a32f",
   "metadata": {},
   "outputs": [
    {
     "data": {
      "text/plain": [
       "(PIL.TiffImagePlugin.TiffImageFile, True)"
      ]
     },
     "execution_count": null,
     "metadata": {},
     "output_type": "execute_result"
    }
   ],
   "source": [
    "type(tiff.get_frame(0)), isinstance(tiff.get_frame(0), Image.Image)"
   ]
  },
  {
   "cell_type": "markdown",
   "id": "31b487f8",
   "metadata": {},
   "source": [
    "Review all the tags for one frame"
   ]
  },
  {
   "cell_type": "code",
   "execution_count": null,
   "id": "5fdd09a6",
   "metadata": {},
   "outputs": [
    {
     "name": "stdout",
     "output_type": "stream",
     "text": [
      "| Tag Nbr |      Predefined Tag Name      |                              Tag Value                                |\n",
      "|================================================================================================================ |\n",
      "|   256   | ImageWidth                    | 512                                                                   |\n",
      "|   257   | ImageLength                   | 512                                                                   |\n",
      "|   259   | Compression                   | 1                                                                     |\n",
      "|   262   | PhotometricInterpretation     | 1                                                                     |\n",
      "|   270   | ImageDescription              | {\"shape\": [512, 512]}                                                 |\n",
      "|   273   | StripOffsets                  | (320,)                                                                |\n",
      "|   277   | SamplesPerPixel               | 1                                                                     |\n",
      "|   278   | RowsPerStrip                  | 512                                                                   |\n",
      "|   279   | StripByteCounts               | (32768,)                                                              |\n",
      "|   282   | XResolution                   | 1.0                                                                   |\n",
      "|   283   | YResolution                   | 1.0                                                                   |\n",
      "|   296   | ResolutionUnit                | 1                                                                     |\n",
      "|   305   | Software                      | tifffile.py                                                           |\n",
      "|  65001  |                               | Specular reflection                                                   |\n"
     ]
    }
   ],
   "source": [
    "tiff.summary_tags(0)"
   ]
  },
  {
   "cell_type": "markdown",
   "id": "a20e5ca6",
   "metadata": {},
   "source": [
    "Extract one or several frames to be saved as 'jpg' or 'tif'"
   ]
  },
  {
   "cell_type": "code",
   "execution_count": null,
   "id": "d6c013eb",
   "metadata": {},
   "outputs": [
    {
     "name": "stdout",
     "output_type": "stream",
     "text": [
      "Files in the temporary directory prior to extraction:\n",
      "\n",
      "Files in the temporary directory after extraction:\n",
      " - specific-name.jpg\n",
      " - tif-multi-frame-with-tags-0003.tif\n",
      " - tif-multi-frame-with-tags-0002.jpg\n"
     ]
    }
   ],
   "source": [
    "with TemporaryDirectory() as tdir:\n",
    "    p2dir = Path(tdir)\n",
    "    print('Files in the temporary directory prior to extraction:')\n",
    "    print('/n'.join([f\" - {f.name}\" for f in p2dir.iterdir()]))\n",
    "\n",
    "    tiff.extract_one_frame(frame_nbr=2, dest=p2dir)\n",
    "    tiff.extract_one_frame(frame_nbr=3, dest=p2dir, image_format='tif')\n",
    "    tiff.extract_one_frame(frame_nbr=4, dest=p2dir, fname='specific-name')\n",
    "\n",
    "    \n",
    "    print('Files in the temporary directory after extraction:')\n",
    "    print('\\n'.join([f\" - {f.name}\" for f in p2dir.iterdir()]))"
   ]
  },
  {
   "cell_type": "code",
   "execution_count": null,
   "id": "58d277b2",
   "metadata": {},
   "outputs": [
    {
     "name": "stdout",
     "output_type": "stream",
     "text": [
      "Files in the temporary directory prior to extraction:\n",
      "\n",
      "Files in the temporary directory after extraction:\n",
      " - tif-multi-frame-with-tags-0000.tif\n",
      " - tif-multi-frame-with-tags-0004.tif\n",
      " - tif-multi-frame-with-tags-0006.tif\n",
      " - tif-multi-frame-with-tags-0005.tif\n",
      " - tif-multi-frame-with-tags-0003.tif\n",
      " - tif-multi-frame-with-tags-0001.tif\n",
      " - tif-multi-frame-with-tags-0002.tif\n",
      " - tif-multi-frame-with-tags-0007.tif\n"
     ]
    }
   ],
   "source": [
    "with TemporaryDirectory() as tdir:\n",
    "    p2dir = Path(tdir)\n",
    "    print('Files in the temporary directory prior to extraction:')\n",
    "    print('/n'.join([f\" - {f.name}\" for f in p2dir.iterdir()]))\n",
    "    \n",
    "    tiff.extract_frames(dest=p2dir, naming_method='counter')\n",
    "\n",
    "    print('Files in the temporary directory after extraction:')\n",
    "    print('\\n'.join([f\" - {f.name}\" for f in p2dir.iterdir()]))"
   ]
  },
  {
   "cell_type": "code",
   "execution_count": null,
   "id": "695ff675",
   "metadata": {},
   "outputs": [
    {
     "name": "stdout",
     "output_type": "stream",
     "text": [
      "Files in the temporary directory prior to extraction:\n",
      "\n",
      "Files in the temporary directory after extraction:\n",
      " - tif-multi-frame-with-tags-Hair.tif\n",
      " - tif-multi-frame-with-tags-Skin.tif\n",
      " - tif-multi-frame-with-tags-Specular_reflection.tif\n",
      " - tif-multi-frame-with-tags-Attached_gingiva.tif\n",
      " - tif-multi-frame-with-tags-Oral_mucosa.tif\n",
      " - tif-multi-frame-with-tags-Enamel.tif\n",
      " - tif-multi-frame-with-tags-Stain.tif\n",
      " - tif-multi-frame-with-tags-Marginal_gingiva.tif\n"
     ]
    }
   ],
   "source": [
    "with TemporaryDirectory() as tdir:\n",
    "    p2dir = Path(tdir)\n",
    "    print('Files in the temporary directory prior to extraction:')\n",
    "    print('/n'.join([f\" - {f.name}\" for f in p2dir.iterdir()]))\n",
    "    \n",
    "    tiff.extract_frames(dest=p2dir, naming_method='tag_value', tag=65001)\n",
    "\n",
    "    print('Files in the temporary directory after extraction:')\n",
    "    print('\\n'.join([f\" - {f.name}\" for f in p2dir.iterdir()]))"
   ]
  },
  {
   "cell_type": "markdown",
   "id": "8af60fa1",
   "metadata": {},
   "source": [
    "# Tests"
   ]
  },
  {
   "cell_type": "code",
   "execution_count": null,
   "id": "44e0e1ae",
   "metadata": {},
   "outputs": [],
   "source": [
    "# hide\n",
    "# To be able to run the tests in the Notebook\n",
    "from pathlib import Path\n",
    "import ipytest\n",
    "import sys\n",
    "\n",
    "ipytest.autoconfig()\n",
    "\n",
    "root_dir = Path(\"..\").resolve()\n",
    "sys.path.append(str(root_dir / \"test\"))"
   ]
  },
  {
   "cell_type": "code",
   "execution_count": null,
   "id": "23ee883f",
   "metadata": {},
   "outputs": [],
   "source": [
    "# exportest\n",
    "# For Test Cases (might have duplicate import because it will be in a dedicated file)\n",
    "from pathlib import Path\n",
    "from PIL import Image\n",
    "from tempfile import TemporaryDirectory\n",
    "from typing import List\n",
    "\n",
    "import pytest\n",
    "\n",
    "from test_common.utils_4_tests import DATA_DIR, IMG_DIR\n",
    "from test_utils import GITHUB_TEST_DATA_URL, check_connection_github"
   ]
  },
  {
   "cell_type": "code",
   "execution_count": null,
   "id": "221fccd1",
   "metadata": {},
   "outputs": [],
   "source": [
    "# exportest\n",
    "\n",
    "tiff_fname = 'tif-multi-frame-with-tags.tif'\n",
    "gif_fname = 'animated.gif'\n",
    "LOCAL_TEST_TIFF = IMG_DIR / \"tiff\" / tiff_fname\n",
    "LOCAL_TEST_GIF = IMG_DIR / \"tiff\" / gif_fname\n",
    "\n",
    "LOCAL_TEST_SUMMARY_TAGS = DATA_DIR / 'tiff_summary_tags.txt'\n",
    "LOCAL_TEST_REPR = DATA_DIR / 'tiff_repr.txt'\n",
    "\n",
    "GITHUB_TEST_IMG_DIR_URL = \"https://raw.githubusercontent.com/unpackAI/unpackai/main/test/img\"\n",
    "GITHUB_TEST_TIFF = f\"{GITHUB_TEST_IMG_DIR_URL}/tiff/{tiff_fname}\"\n",
    "GITHUB_TEST_GIF = f\"{GITHUB_TEST_IMG_DIR_URL}/tiff/{gif_fname}\"\n",
    "\n",
    "def test_exception_on_missing_path():\n",
    "    with pytest.raises(FileExistsError) as msg:\n",
    "        TiffImage('blabla.tif')\n",
    "    expected_msg = f\"Cannot find path {'blabla.tif'}\"\n",
    "    assert str(msg.value) == expected_msg\n",
    "        \n",
    "def test_exception_on_wrong_suffix():\n",
    "    with pytest.raises(ValueError) as msg:\n",
    "        TiffImage(IMG_DIR/'tiff'/gif_fname)\n",
    "    expected_msg = f\"Image file should be .tif or .tiff, not '{'.gif'}'\"\n",
    "    assert str(msg.value) == expected_msg\n",
    "\n",
    "@pytest.fixture(scope=\"session\")\n",
    "def test_tiff_image():\n",
    "    \"\"\"Fixture to pass the test TIFF image path\"\"\"\n",
    "    return LOCAL_TEST_TIFF\n",
    "\n",
    "@pytest.fixture(scope=\"session\")\n",
    "def test_repr():\n",
    "    return LOCAL_TEST_REPR.read_text()\n",
    "\n",
    "@pytest.fixture(scope=\"session\")\n",
    "def test_summary_tag_printout():\n",
    "    return LOCAL_TEST_SUMMARY_TAGS.read_text()\n",
    "\n",
    "@pytest.fixture(scope=\"session\")\n",
    "def local_TiffImage(test_tiff_image):\n",
    "    \"\"\"Create instance of TiffImage by loading the test TIFF image\"\"\"\n",
    "    return TiffImage(test_tiff_image)\n",
    "\n",
    "class Test_TiffImage:\n",
    "    \"\"\"Testing class for TiffImage\"\"\"\n",
    "       \n",
    "    def test_n_frames(self, local_TiffImage):\n",
    "        \"\"\"Test property n_frame\"\"\"\n",
    "        expected_value = 8\n",
    "        assert local_TiffImage.n_frames == expected_value\n",
    "        \n",
    "    def test_size(self, local_TiffImage):\n",
    "        \"\"\"Test property Size\"\"\"\n",
    "        expected_value = (512, 512)\n",
    "        assert local_TiffImage.size == expected_value\n",
    "        \n",
    "    def test_tags(self, local_TiffImage):\n",
    "        \"\"\"Test returned dictionary\"\"\"\n",
    "        expected_value_0 = {256: 512, 257: 512, 259: 1, 262: 1, 270: '{\"shape\": [512, 512]}', \n",
    "                            273: (320,), 277: 1, 278: 512, 279: (32768,), 282: 1.0, 283: 1.0, 296: 1,\n",
    "                            65001: 'Specular reflection',\n",
    "                            305: 'tifffile.py'}\n",
    "        expected_value_1 = {256: 512, 257: 512, 259: 1, 262: 1, 270: '{\"shape\": [512, 512]}',\n",
    "                            273: (33408,), 277: 1, 278: 512, 279: (32768,), 282: 1.0, 283: 1.0, 296: 1, \n",
    "                            65001: 'Attached gingiva', \n",
    "                            305: 'tifffile.py'}\n",
    "        local_TiffImage.tiff.seek(0)\n",
    "        assert local_TiffImage.tags == expected_value_0\n",
    "        local_TiffImage.tiff.seek(1)\n",
    "        assert local_TiffImage.tags == expected_value_1\n",
    "    \n",
    "    def test_repr(self, local_TiffImage, capsys, test_repr):\n",
    "        \"\"\"Test the __repr__\"\"\"\n",
    "        expected_value = test_repr\n",
    "        local_TiffImage.tiff.seek(0)\n",
    "        print(local_TiffImage)\n",
    "        captured = capsys.readouterr()\n",
    "        assert captured.out == expected_value\n",
    "        \n",
    "    def test_summary_tags_printout(self, local_TiffImage, capsys, test_summary_tag_printout):\n",
    "        \"\"\"Test the tag summary method\"\"\"        \n",
    "        expected_value = test_summary_tag_printout\n",
    "        local_TiffImage.tiff.seek(0)\n",
    "        local_TiffImage.summary_tags()\n",
    "        captured = capsys.readouterr()\n",
    "        assert captured.out == expected_value\n",
    "        \n",
    "    def test_type_returned_by_get_frame(self, local_TiffImage):\n",
    "        \"\"\"Test that object is 'PIL.TiffImagePlugin.TiffImageFile'\"\"\"\n",
    "        frame = local_TiffImage.get_frame(0)\n",
    "        assert isinstance(frame, TiffImageFile)\n",
    "        \n",
    "    def test_extract_one_frame(self, local_TiffImage):\n",
    "        \"\"\"Test that frames are extracted and saved\"\"\"\n",
    "        with TemporaryDirectory() as tdir:\n",
    "            p2dir = Path(tdir)        \n",
    "            tiff.extract_one_frame(frame_nbr=2, dest=p2dir)\n",
    "            assert (p2dir / 'tif-multi-frame-with-tags-0002.jpg').is_file()\n",
    "            tiff.extract_one_frame(frame_nbr=3, dest=p2dir, image_format='tif')\n",
    "            assert (p2dir / 'tif-multi-frame-with-tags-0003.tif').is_file()\n",
    "            tiff.extract_one_frame(frame_nbr=4, dest=p2dir, fname='specific-name')\n",
    "            assert (p2dir / 'specific-name.jpg').is_file()\n",
    "\n",
    "    def test_extract_frames_by_tag(self, local_TiffImage):\n",
    "        \"\"\"Test that all frames are saved and naming by tag is correct \"\"\"\n",
    "        with TemporaryDirectory() as tdir:\n",
    "            p2dir = Path(tdir)        \n",
    "            tiff.extract_frames(dest=p2dir, naming_method='tag_value', tag=65001)\n",
    "            assert (p2dir / 'tif-multi-frame-with-tags-Hair.tif').is_file()\n",
    "            assert (p2dir / 'tif-multi-frame-with-tags-Skin.tif').is_file()\n",
    "            assert (p2dir / 'tif-multi-frame-with-tags-Stain.tif').is_file()\n",
    "            assert (p2dir / 'tif-multi-frame-with-tags-Marginal_gingiva.tif').is_file()\n",
    "            assert len(list(p2dir.iterdir())) == local_TiffImage.n_frames\n",
    "\n",
    "    def test_extract_frames_by_nbr(self, local_TiffImage):\n",
    "        \"\"\"Test that all frames are saved and naming by number is correct \"\"\"\n",
    "        with TemporaryDirectory() as tdir:\n",
    "            p2dir = Path(tdir)        \n",
    "            tiff.extract_frames(dest=p2dir)\n",
    "            assert (p2dir / 'tif-multi-frame-with-tags-0001.tif').is_file()\n",
    "            assert (p2dir / 'tif-multi-frame-with-tags-0002.tif').is_file()\n",
    "            assert (p2dir / 'tif-multi-frame-with-tags-0005.tif').is_file()\n",
    "            assert (p2dir / 'tif-multi-frame-with-tags-0007.tif').is_file()\n",
    "            assert len(list(p2dir.iterdir())) == local_TiffImage.n_frames\n",
    "\n",
    "    def test_is_valid_frame_(self, local_TiffImage):\n",
    "        nframes = local_TiffImage.n_frames\n",
    "        assert local_TiffImage.is_valid_frame_(0)\n",
    "        with pytest.raises(ValueError) as msg:\n",
    "            local_TiffImage.is_valid_frame_(nframes + 1)\n",
    "        expected_msg = f\"'frame_nbr' is {nframes+1} but this TIFF file only has {nframes} frames.\"\n",
    "        assert str(msg.value)[:-1] == expected_msg"
   ]
  },
  {
   "cell_type": "code",
   "execution_count": null,
   "id": "86722a5b",
   "metadata": {},
   "outputs": [
    {
     "name": "stdout",
     "output_type": "stream",
     "text": [
      "\u001b[32m.\u001b[0m\u001b[32m.\u001b[0m\u001b[32m.\u001b[0m\u001b[32m.\u001b[0m\u001b[32m.\u001b[0m\u001b[32m.\u001b[0m\u001b[32m.\u001b[0m\u001b[32m.\u001b[0m\u001b[32m.\u001b[0m\u001b[32m.\u001b[0m\u001b[32m.\u001b[0m\u001b[32m.\u001b[0m\u001b[32m                                                                                 [100%]\u001b[0m\n",
      "\u001b[32m\u001b[32m\u001b[1m12 passed\u001b[0m\u001b[32m in 0.09s\u001b[0m\u001b[0m\n"
     ]
    }
   ],
   "source": [
    "# hide\n",
    "ipytest.run()"
   ]
  }
 ],
 "metadata": {
  "kernelspec": {
   "display_name": "Python 3",
   "language": "python",
   "name": "python3"
  }
 },
 "nbformat": 4,
 "nbformat_minor": 5
}
