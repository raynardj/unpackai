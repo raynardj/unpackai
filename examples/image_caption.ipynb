{
  "nbformat": 4,
  "nbformat_minor": 0,
  "metadata": {
    "colab": {
      "name": "image_caption.ipynb",
      "provenance": [],
      "collapsed_sections": []
    },
    "kernelspec": {
      "name": "python3",
      "display_name": "Python 3"
    },
    "language_info": {
      "name": "python"
    },
    "accelerator": "GPU",
    "widgets": {
      "application/vnd.jupyter.widget-state+json": {
        "a1fa523c997b4e9aa9c7171306c25ffd": {
          "model_module": "@jupyter-widgets/controls",
          "model_name": "HBoxModel",
          "model_module_version": "1.5.0",
          "state": {
            "_view_name": "HBoxView",
            "_dom_classes": [],
            "_model_name": "HBoxModel",
            "_view_module": "@jupyter-widgets/controls",
            "_model_module_version": "1.5.0",
            "_view_count": null,
            "_view_module_version": "1.5.0",
            "box_style": "",
            "layout": "IPY_MODEL_d1ce556456c64a869769517c431cb5b3",
            "_model_module": "@jupyter-widgets/controls",
            "children": [
              "IPY_MODEL_561d18fa719943eb85f3ab6a6d770c20",
              "IPY_MODEL_4a4c7c93449f4f409f5fb5ca439ef91f",
              "IPY_MODEL_4faf0f9da69549588cd39ba17cf908aa"
            ]
          }
        },
        "d1ce556456c64a869769517c431cb5b3": {
          "model_module": "@jupyter-widgets/base",
          "model_name": "LayoutModel",
          "model_module_version": "1.2.0",
          "state": {
            "_view_name": "LayoutView",
            "grid_template_rows": null,
            "right": null,
            "justify_content": null,
            "_view_module": "@jupyter-widgets/base",
            "overflow": null,
            "_model_module_version": "1.2.0",
            "_view_count": null,
            "flex_flow": null,
            "width": null,
            "min_width": null,
            "border": null,
            "align_items": null,
            "bottom": null,
            "_model_module": "@jupyter-widgets/base",
            "top": null,
            "grid_column": null,
            "overflow_y": null,
            "overflow_x": null,
            "grid_auto_flow": null,
            "grid_area": null,
            "grid_template_columns": null,
            "flex": null,
            "_model_name": "LayoutModel",
            "justify_items": null,
            "grid_row": null,
            "max_height": null,
            "align_content": null,
            "visibility": null,
            "align_self": null,
            "height": null,
            "min_height": null,
            "padding": null,
            "grid_auto_rows": null,
            "grid_gap": null,
            "max_width": null,
            "order": null,
            "_view_module_version": "1.2.0",
            "grid_template_areas": null,
            "object_position": null,
            "object_fit": null,
            "grid_auto_columns": null,
            "margin": null,
            "display": null,
            "left": null
          }
        },
        "561d18fa719943eb85f3ab6a6d770c20": {
          "model_module": "@jupyter-widgets/controls",
          "model_name": "HTMLModel",
          "model_module_version": "1.5.0",
          "state": {
            "_view_name": "HTMLView",
            "style": "IPY_MODEL_91284cb932b2449bb44bf38f3eac9f45",
            "_dom_classes": [],
            "description": "",
            "_model_name": "HTMLModel",
            "placeholder": "​",
            "_view_module": "@jupyter-widgets/controls",
            "_model_module_version": "1.5.0",
            "value": "Downloading: 100%",
            "_view_count": null,
            "_view_module_version": "1.5.0",
            "description_tooltip": null,
            "_model_module": "@jupyter-widgets/controls",
            "layout": "IPY_MODEL_057064667970430daf31200e87c2db2d"
          }
        },
        "4a4c7c93449f4f409f5fb5ca439ef91f": {
          "model_module": "@jupyter-widgets/controls",
          "model_name": "FloatProgressModel",
          "model_module_version": "1.5.0",
          "state": {
            "_view_name": "ProgressView",
            "style": "IPY_MODEL_41daf892a6ba4cb59002f1b2b546dbf2",
            "_dom_classes": [],
            "description": "",
            "_model_name": "FloatProgressModel",
            "bar_style": "success",
            "max": 665,
            "_view_module": "@jupyter-widgets/controls",
            "_model_module_version": "1.5.0",
            "value": 665,
            "_view_count": null,
            "_view_module_version": "1.5.0",
            "orientation": "horizontal",
            "min": 0,
            "description_tooltip": null,
            "_model_module": "@jupyter-widgets/controls",
            "layout": "IPY_MODEL_0fe2521ff85948bd867fdcdb5834043c"
          }
        },
        "4faf0f9da69549588cd39ba17cf908aa": {
          "model_module": "@jupyter-widgets/controls",
          "model_name": "HTMLModel",
          "model_module_version": "1.5.0",
          "state": {
            "_view_name": "HTMLView",
            "style": "IPY_MODEL_996a353109a04d69926770b73f48cb50",
            "_dom_classes": [],
            "description": "",
            "_model_name": "HTMLModel",
            "placeholder": "​",
            "_view_module": "@jupyter-widgets/controls",
            "_model_module_version": "1.5.0",
            "value": " 665/665 [00:00&lt;00:00, 11.0kB/s]",
            "_view_count": null,
            "_view_module_version": "1.5.0",
            "description_tooltip": null,
            "_model_module": "@jupyter-widgets/controls",
            "layout": "IPY_MODEL_9e2b6d6e6da74d7d840ca10439951cc7"
          }
        },
        "91284cb932b2449bb44bf38f3eac9f45": {
          "model_module": "@jupyter-widgets/controls",
          "model_name": "DescriptionStyleModel",
          "model_module_version": "1.5.0",
          "state": {
            "_view_name": "StyleView",
            "_model_name": "DescriptionStyleModel",
            "description_width": "",
            "_view_module": "@jupyter-widgets/base",
            "_model_module_version": "1.5.0",
            "_view_count": null,
            "_view_module_version": "1.2.0",
            "_model_module": "@jupyter-widgets/controls"
          }
        },
        "057064667970430daf31200e87c2db2d": {
          "model_module": "@jupyter-widgets/base",
          "model_name": "LayoutModel",
          "model_module_version": "1.2.0",
          "state": {
            "_view_name": "LayoutView",
            "grid_template_rows": null,
            "right": null,
            "justify_content": null,
            "_view_module": "@jupyter-widgets/base",
            "overflow": null,
            "_model_module_version": "1.2.0",
            "_view_count": null,
            "flex_flow": null,
            "width": null,
            "min_width": null,
            "border": null,
            "align_items": null,
            "bottom": null,
            "_model_module": "@jupyter-widgets/base",
            "top": null,
            "grid_column": null,
            "overflow_y": null,
            "overflow_x": null,
            "grid_auto_flow": null,
            "grid_area": null,
            "grid_template_columns": null,
            "flex": null,
            "_model_name": "LayoutModel",
            "justify_items": null,
            "grid_row": null,
            "max_height": null,
            "align_content": null,
            "visibility": null,
            "align_self": null,
            "height": null,
            "min_height": null,
            "padding": null,
            "grid_auto_rows": null,
            "grid_gap": null,
            "max_width": null,
            "order": null,
            "_view_module_version": "1.2.0",
            "grid_template_areas": null,
            "object_position": null,
            "object_fit": null,
            "grid_auto_columns": null,
            "margin": null,
            "display": null,
            "left": null
          }
        },
        "41daf892a6ba4cb59002f1b2b546dbf2": {
          "model_module": "@jupyter-widgets/controls",
          "model_name": "ProgressStyleModel",
          "model_module_version": "1.5.0",
          "state": {
            "_view_name": "StyleView",
            "_model_name": "ProgressStyleModel",
            "description_width": "",
            "_view_module": "@jupyter-widgets/base",
            "_model_module_version": "1.5.0",
            "_view_count": null,
            "_view_module_version": "1.2.0",
            "bar_color": null,
            "_model_module": "@jupyter-widgets/controls"
          }
        },
        "0fe2521ff85948bd867fdcdb5834043c": {
          "model_module": "@jupyter-widgets/base",
          "model_name": "LayoutModel",
          "model_module_version": "1.2.0",
          "state": {
            "_view_name": "LayoutView",
            "grid_template_rows": null,
            "right": null,
            "justify_content": null,
            "_view_module": "@jupyter-widgets/base",
            "overflow": null,
            "_model_module_version": "1.2.0",
            "_view_count": null,
            "flex_flow": null,
            "width": null,
            "min_width": null,
            "border": null,
            "align_items": null,
            "bottom": null,
            "_model_module": "@jupyter-widgets/base",
            "top": null,
            "grid_column": null,
            "overflow_y": null,
            "overflow_x": null,
            "grid_auto_flow": null,
            "grid_area": null,
            "grid_template_columns": null,
            "flex": null,
            "_model_name": "LayoutModel",
            "justify_items": null,
            "grid_row": null,
            "max_height": null,
            "align_content": null,
            "visibility": null,
            "align_self": null,
            "height": null,
            "min_height": null,
            "padding": null,
            "grid_auto_rows": null,
            "grid_gap": null,
            "max_width": null,
            "order": null,
            "_view_module_version": "1.2.0",
            "grid_template_areas": null,
            "object_position": null,
            "object_fit": null,
            "grid_auto_columns": null,
            "margin": null,
            "display": null,
            "left": null
          }
        },
        "996a353109a04d69926770b73f48cb50": {
          "model_module": "@jupyter-widgets/controls",
          "model_name": "DescriptionStyleModel",
          "model_module_version": "1.5.0",
          "state": {
            "_view_name": "StyleView",
            "_model_name": "DescriptionStyleModel",
            "description_width": "",
            "_view_module": "@jupyter-widgets/base",
            "_model_module_version": "1.5.0",
            "_view_count": null,
            "_view_module_version": "1.2.0",
            "_model_module": "@jupyter-widgets/controls"
          }
        },
        "9e2b6d6e6da74d7d840ca10439951cc7": {
          "model_module": "@jupyter-widgets/base",
          "model_name": "LayoutModel",
          "model_module_version": "1.2.0",
          "state": {
            "_view_name": "LayoutView",
            "grid_template_rows": null,
            "right": null,
            "justify_content": null,
            "_view_module": "@jupyter-widgets/base",
            "overflow": null,
            "_model_module_version": "1.2.0",
            "_view_count": null,
            "flex_flow": null,
            "width": null,
            "min_width": null,
            "border": null,
            "align_items": null,
            "bottom": null,
            "_model_module": "@jupyter-widgets/base",
            "top": null,
            "grid_column": null,
            "overflow_y": null,
            "overflow_x": null,
            "grid_auto_flow": null,
            "grid_area": null,
            "grid_template_columns": null,
            "flex": null,
            "_model_name": "LayoutModel",
            "justify_items": null,
            "grid_row": null,
            "max_height": null,
            "align_content": null,
            "visibility": null,
            "align_self": null,
            "height": null,
            "min_height": null,
            "padding": null,
            "grid_auto_rows": null,
            "grid_gap": null,
            "max_width": null,
            "order": null,
            "_view_module_version": "1.2.0",
            "grid_template_areas": null,
            "object_position": null,
            "object_fit": null,
            "grid_auto_columns": null,
            "margin": null,
            "display": null,
            "left": null
          }
        },
        "d196c8bf86314346815d8ab12cc4a4f0": {
          "model_module": "@jupyter-widgets/controls",
          "model_name": "HBoxModel",
          "model_module_version": "1.5.0",
          "state": {
            "_view_name": "HBoxView",
            "_dom_classes": [],
            "_model_name": "HBoxModel",
            "_view_module": "@jupyter-widgets/controls",
            "_model_module_version": "1.5.0",
            "_view_count": null,
            "_view_module_version": "1.5.0",
            "box_style": "",
            "layout": "IPY_MODEL_b9ef38d2c98b4ad49a81a50e777fc46d",
            "_model_module": "@jupyter-widgets/controls",
            "children": [
              "IPY_MODEL_ba9fb200d8744fe6aabde5bfdba35a57",
              "IPY_MODEL_1779f5a6bad148a1a42c1bcc2caa002e",
              "IPY_MODEL_f0c3022ddb184c07afd768241d4a1f69"
            ]
          }
        },
        "b9ef38d2c98b4ad49a81a50e777fc46d": {
          "model_module": "@jupyter-widgets/base",
          "model_name": "LayoutModel",
          "model_module_version": "1.2.0",
          "state": {
            "_view_name": "LayoutView",
            "grid_template_rows": null,
            "right": null,
            "justify_content": null,
            "_view_module": "@jupyter-widgets/base",
            "overflow": null,
            "_model_module_version": "1.2.0",
            "_view_count": null,
            "flex_flow": null,
            "width": null,
            "min_width": null,
            "border": null,
            "align_items": null,
            "bottom": null,
            "_model_module": "@jupyter-widgets/base",
            "top": null,
            "grid_column": null,
            "overflow_y": null,
            "overflow_x": null,
            "grid_auto_flow": null,
            "grid_area": null,
            "grid_template_columns": null,
            "flex": null,
            "_model_name": "LayoutModel",
            "justify_items": null,
            "grid_row": null,
            "max_height": null,
            "align_content": null,
            "visibility": null,
            "align_self": null,
            "height": null,
            "min_height": null,
            "padding": null,
            "grid_auto_rows": null,
            "grid_gap": null,
            "max_width": null,
            "order": null,
            "_view_module_version": "1.2.0",
            "grid_template_areas": null,
            "object_position": null,
            "object_fit": null,
            "grid_auto_columns": null,
            "margin": null,
            "display": null,
            "left": null
          }
        },
        "ba9fb200d8744fe6aabde5bfdba35a57": {
          "model_module": "@jupyter-widgets/controls",
          "model_name": "HTMLModel",
          "model_module_version": "1.5.0",
          "state": {
            "_view_name": "HTMLView",
            "style": "IPY_MODEL_16c575949a04456280dd57028218b643",
            "_dom_classes": [],
            "description": "",
            "_model_name": "HTMLModel",
            "placeholder": "​",
            "_view_module": "@jupyter-widgets/controls",
            "_model_module_version": "1.5.0",
            "value": "Downloading: 100%",
            "_view_count": null,
            "_view_module_version": "1.5.0",
            "description_tooltip": null,
            "_model_module": "@jupyter-widgets/controls",
            "layout": "IPY_MODEL_d0828beb2a244c00a86815e2eccb887d"
          }
        },
        "1779f5a6bad148a1a42c1bcc2caa002e": {
          "model_module": "@jupyter-widgets/controls",
          "model_name": "FloatProgressModel",
          "model_module_version": "1.5.0",
          "state": {
            "_view_name": "ProgressView",
            "style": "IPY_MODEL_f93b60d5a053488e81bbdef8be84d482",
            "_dom_classes": [],
            "description": "",
            "_model_name": "FloatProgressModel",
            "bar_style": "success",
            "max": 1042301,
            "_view_module": "@jupyter-widgets/controls",
            "_model_module_version": "1.5.0",
            "value": 1042301,
            "_view_count": null,
            "_view_module_version": "1.5.0",
            "orientation": "horizontal",
            "min": 0,
            "description_tooltip": null,
            "_model_module": "@jupyter-widgets/controls",
            "layout": "IPY_MODEL_672ced6bbc0348adaf3fbbbad3c7cbf2"
          }
        },
        "f0c3022ddb184c07afd768241d4a1f69": {
          "model_module": "@jupyter-widgets/controls",
          "model_name": "HTMLModel",
          "model_module_version": "1.5.0",
          "state": {
            "_view_name": "HTMLView",
            "style": "IPY_MODEL_d958161290eb47a39715a9d18b9acf9b",
            "_dom_classes": [],
            "description": "",
            "_model_name": "HTMLModel",
            "placeholder": "​",
            "_view_module": "@jupyter-widgets/controls",
            "_model_module_version": "1.5.0",
            "value": " 0.99M/0.99M [00:00&lt;00:00, 720kB/s]",
            "_view_count": null,
            "_view_module_version": "1.5.0",
            "description_tooltip": null,
            "_model_module": "@jupyter-widgets/controls",
            "layout": "IPY_MODEL_64ffce1ba7514650b02a818c926f4eb1"
          }
        },
        "16c575949a04456280dd57028218b643": {
          "model_module": "@jupyter-widgets/controls",
          "model_name": "DescriptionStyleModel",
          "model_module_version": "1.5.0",
          "state": {
            "_view_name": "StyleView",
            "_model_name": "DescriptionStyleModel",
            "description_width": "",
            "_view_module": "@jupyter-widgets/base",
            "_model_module_version": "1.5.0",
            "_view_count": null,
            "_view_module_version": "1.2.0",
            "_model_module": "@jupyter-widgets/controls"
          }
        },
        "d0828beb2a244c00a86815e2eccb887d": {
          "model_module": "@jupyter-widgets/base",
          "model_name": "LayoutModel",
          "model_module_version": "1.2.0",
          "state": {
            "_view_name": "LayoutView",
            "grid_template_rows": null,
            "right": null,
            "justify_content": null,
            "_view_module": "@jupyter-widgets/base",
            "overflow": null,
            "_model_module_version": "1.2.0",
            "_view_count": null,
            "flex_flow": null,
            "width": null,
            "min_width": null,
            "border": null,
            "align_items": null,
            "bottom": null,
            "_model_module": "@jupyter-widgets/base",
            "top": null,
            "grid_column": null,
            "overflow_y": null,
            "overflow_x": null,
            "grid_auto_flow": null,
            "grid_area": null,
            "grid_template_columns": null,
            "flex": null,
            "_model_name": "LayoutModel",
            "justify_items": null,
            "grid_row": null,
            "max_height": null,
            "align_content": null,
            "visibility": null,
            "align_self": null,
            "height": null,
            "min_height": null,
            "padding": null,
            "grid_auto_rows": null,
            "grid_gap": null,
            "max_width": null,
            "order": null,
            "_view_module_version": "1.2.0",
            "grid_template_areas": null,
            "object_position": null,
            "object_fit": null,
            "grid_auto_columns": null,
            "margin": null,
            "display": null,
            "left": null
          }
        },
        "f93b60d5a053488e81bbdef8be84d482": {
          "model_module": "@jupyter-widgets/controls",
          "model_name": "ProgressStyleModel",
          "model_module_version": "1.5.0",
          "state": {
            "_view_name": "StyleView",
            "_model_name": "ProgressStyleModel",
            "description_width": "",
            "_view_module": "@jupyter-widgets/base",
            "_model_module_version": "1.5.0",
            "_view_count": null,
            "_view_module_version": "1.2.0",
            "bar_color": null,
            "_model_module": "@jupyter-widgets/controls"
          }
        },
        "672ced6bbc0348adaf3fbbbad3c7cbf2": {
          "model_module": "@jupyter-widgets/base",
          "model_name": "LayoutModel",
          "model_module_version": "1.2.0",
          "state": {
            "_view_name": "LayoutView",
            "grid_template_rows": null,
            "right": null,
            "justify_content": null,
            "_view_module": "@jupyter-widgets/base",
            "overflow": null,
            "_model_module_version": "1.2.0",
            "_view_count": null,
            "flex_flow": null,
            "width": null,
            "min_width": null,
            "border": null,
            "align_items": null,
            "bottom": null,
            "_model_module": "@jupyter-widgets/base",
            "top": null,
            "grid_column": null,
            "overflow_y": null,
            "overflow_x": null,
            "grid_auto_flow": null,
            "grid_area": null,
            "grid_template_columns": null,
            "flex": null,
            "_model_name": "LayoutModel",
            "justify_items": null,
            "grid_row": null,
            "max_height": null,
            "align_content": null,
            "visibility": null,
            "align_self": null,
            "height": null,
            "min_height": null,
            "padding": null,
            "grid_auto_rows": null,
            "grid_gap": null,
            "max_width": null,
            "order": null,
            "_view_module_version": "1.2.0",
            "grid_template_areas": null,
            "object_position": null,
            "object_fit": null,
            "grid_auto_columns": null,
            "margin": null,
            "display": null,
            "left": null
          }
        },
        "d958161290eb47a39715a9d18b9acf9b": {
          "model_module": "@jupyter-widgets/controls",
          "model_name": "DescriptionStyleModel",
          "model_module_version": "1.5.0",
          "state": {
            "_view_name": "StyleView",
            "_model_name": "DescriptionStyleModel",
            "description_width": "",
            "_view_module": "@jupyter-widgets/base",
            "_model_module_version": "1.5.0",
            "_view_count": null,
            "_view_module_version": "1.2.0",
            "_model_module": "@jupyter-widgets/controls"
          }
        },
        "64ffce1ba7514650b02a818c926f4eb1": {
          "model_module": "@jupyter-widgets/base",
          "model_name": "LayoutModel",
          "model_module_version": "1.2.0",
          "state": {
            "_view_name": "LayoutView",
            "grid_template_rows": null,
            "right": null,
            "justify_content": null,
            "_view_module": "@jupyter-widgets/base",
            "overflow": null,
            "_model_module_version": "1.2.0",
            "_view_count": null,
            "flex_flow": null,
            "width": null,
            "min_width": null,
            "border": null,
            "align_items": null,
            "bottom": null,
            "_model_module": "@jupyter-widgets/base",
            "top": null,
            "grid_column": null,
            "overflow_y": null,
            "overflow_x": null,
            "grid_auto_flow": null,
            "grid_area": null,
            "grid_template_columns": null,
            "flex": null,
            "_model_name": "LayoutModel",
            "justify_items": null,
            "grid_row": null,
            "max_height": null,
            "align_content": null,
            "visibility": null,
            "align_self": null,
            "height": null,
            "min_height": null,
            "padding": null,
            "grid_auto_rows": null,
            "grid_gap": null,
            "max_width": null,
            "order": null,
            "_view_module_version": "1.2.0",
            "grid_template_areas": null,
            "object_position": null,
            "object_fit": null,
            "grid_auto_columns": null,
            "margin": null,
            "display": null,
            "left": null
          }
        },
        "076004ddab2b4f41b8867e319d3f71c8": {
          "model_module": "@jupyter-widgets/controls",
          "model_name": "HBoxModel",
          "model_module_version": "1.5.0",
          "state": {
            "_view_name": "HBoxView",
            "_dom_classes": [],
            "_model_name": "HBoxModel",
            "_view_module": "@jupyter-widgets/controls",
            "_model_module_version": "1.5.0",
            "_view_count": null,
            "_view_module_version": "1.5.0",
            "box_style": "",
            "layout": "IPY_MODEL_34bcc93507e84593ab0784fbf8022e36",
            "_model_module": "@jupyter-widgets/controls",
            "children": [
              "IPY_MODEL_2b88ee4743934d839938d5f1267f2e17",
              "IPY_MODEL_1600b52fe77b48ebb0da218fea92bf90",
              "IPY_MODEL_6c7a4ed7f03b4f508839b3063e0fd459"
            ]
          }
        },
        "34bcc93507e84593ab0784fbf8022e36": {
          "model_module": "@jupyter-widgets/base",
          "model_name": "LayoutModel",
          "model_module_version": "1.2.0",
          "state": {
            "_view_name": "LayoutView",
            "grid_template_rows": null,
            "right": null,
            "justify_content": null,
            "_view_module": "@jupyter-widgets/base",
            "overflow": null,
            "_model_module_version": "1.2.0",
            "_view_count": null,
            "flex_flow": null,
            "width": null,
            "min_width": null,
            "border": null,
            "align_items": null,
            "bottom": null,
            "_model_module": "@jupyter-widgets/base",
            "top": null,
            "grid_column": null,
            "overflow_y": null,
            "overflow_x": null,
            "grid_auto_flow": null,
            "grid_area": null,
            "grid_template_columns": null,
            "flex": null,
            "_model_name": "LayoutModel",
            "justify_items": null,
            "grid_row": null,
            "max_height": null,
            "align_content": null,
            "visibility": null,
            "align_self": null,
            "height": null,
            "min_height": null,
            "padding": null,
            "grid_auto_rows": null,
            "grid_gap": null,
            "max_width": null,
            "order": null,
            "_view_module_version": "1.2.0",
            "grid_template_areas": null,
            "object_position": null,
            "object_fit": null,
            "grid_auto_columns": null,
            "margin": null,
            "display": null,
            "left": null
          }
        },
        "2b88ee4743934d839938d5f1267f2e17": {
          "model_module": "@jupyter-widgets/controls",
          "model_name": "HTMLModel",
          "model_module_version": "1.5.0",
          "state": {
            "_view_name": "HTMLView",
            "style": "IPY_MODEL_4a49b4d0ee9549788eae5468abc62a37",
            "_dom_classes": [],
            "description": "",
            "_model_name": "HTMLModel",
            "placeholder": "​",
            "_view_module": "@jupyter-widgets/controls",
            "_model_module_version": "1.5.0",
            "value": "Downloading: 100%",
            "_view_count": null,
            "_view_module_version": "1.5.0",
            "description_tooltip": null,
            "_model_module": "@jupyter-widgets/controls",
            "layout": "IPY_MODEL_32dde6e65be84a90a93590a88cef3044"
          }
        },
        "1600b52fe77b48ebb0da218fea92bf90": {
          "model_module": "@jupyter-widgets/controls",
          "model_name": "FloatProgressModel",
          "model_module_version": "1.5.0",
          "state": {
            "_view_name": "ProgressView",
            "style": "IPY_MODEL_102aaf6fc7c34757ae7a33c329c5295b",
            "_dom_classes": [],
            "description": "",
            "_model_name": "FloatProgressModel",
            "bar_style": "success",
            "max": 456318,
            "_view_module": "@jupyter-widgets/controls",
            "_model_module_version": "1.5.0",
            "value": 456318,
            "_view_count": null,
            "_view_module_version": "1.5.0",
            "orientation": "horizontal",
            "min": 0,
            "description_tooltip": null,
            "_model_module": "@jupyter-widgets/controls",
            "layout": "IPY_MODEL_f3287bdd6cbd48f48187b3e90cfb778c"
          }
        },
        "6c7a4ed7f03b4f508839b3063e0fd459": {
          "model_module": "@jupyter-widgets/controls",
          "model_name": "HTMLModel",
          "model_module_version": "1.5.0",
          "state": {
            "_view_name": "HTMLView",
            "style": "IPY_MODEL_a060c81ed69f4945a2ca3304b739172d",
            "_dom_classes": [],
            "description": "",
            "_model_name": "HTMLModel",
            "placeholder": "​",
            "_view_module": "@jupyter-widgets/controls",
            "_model_module_version": "1.5.0",
            "value": " 446k/446k [00:00&lt;00:00, 600kB/s]",
            "_view_count": null,
            "_view_module_version": "1.5.0",
            "description_tooltip": null,
            "_model_module": "@jupyter-widgets/controls",
            "layout": "IPY_MODEL_3f0f6e8e0f7f4dbf9ae0ce25d9c3723f"
          }
        },
        "4a49b4d0ee9549788eae5468abc62a37": {
          "model_module": "@jupyter-widgets/controls",
          "model_name": "DescriptionStyleModel",
          "model_module_version": "1.5.0",
          "state": {
            "_view_name": "StyleView",
            "_model_name": "DescriptionStyleModel",
            "description_width": "",
            "_view_module": "@jupyter-widgets/base",
            "_model_module_version": "1.5.0",
            "_view_count": null,
            "_view_module_version": "1.2.0",
            "_model_module": "@jupyter-widgets/controls"
          }
        },
        "32dde6e65be84a90a93590a88cef3044": {
          "model_module": "@jupyter-widgets/base",
          "model_name": "LayoutModel",
          "model_module_version": "1.2.0",
          "state": {
            "_view_name": "LayoutView",
            "grid_template_rows": null,
            "right": null,
            "justify_content": null,
            "_view_module": "@jupyter-widgets/base",
            "overflow": null,
            "_model_module_version": "1.2.0",
            "_view_count": null,
            "flex_flow": null,
            "width": null,
            "min_width": null,
            "border": null,
            "align_items": null,
            "bottom": null,
            "_model_module": "@jupyter-widgets/base",
            "top": null,
            "grid_column": null,
            "overflow_y": null,
            "overflow_x": null,
            "grid_auto_flow": null,
            "grid_area": null,
            "grid_template_columns": null,
            "flex": null,
            "_model_name": "LayoutModel",
            "justify_items": null,
            "grid_row": null,
            "max_height": null,
            "align_content": null,
            "visibility": null,
            "align_self": null,
            "height": null,
            "min_height": null,
            "padding": null,
            "grid_auto_rows": null,
            "grid_gap": null,
            "max_width": null,
            "order": null,
            "_view_module_version": "1.2.0",
            "grid_template_areas": null,
            "object_position": null,
            "object_fit": null,
            "grid_auto_columns": null,
            "margin": null,
            "display": null,
            "left": null
          }
        },
        "102aaf6fc7c34757ae7a33c329c5295b": {
          "model_module": "@jupyter-widgets/controls",
          "model_name": "ProgressStyleModel",
          "model_module_version": "1.5.0",
          "state": {
            "_view_name": "StyleView",
            "_model_name": "ProgressStyleModel",
            "description_width": "",
            "_view_module": "@jupyter-widgets/base",
            "_model_module_version": "1.5.0",
            "_view_count": null,
            "_view_module_version": "1.2.0",
            "bar_color": null,
            "_model_module": "@jupyter-widgets/controls"
          }
        },
        "f3287bdd6cbd48f48187b3e90cfb778c": {
          "model_module": "@jupyter-widgets/base",
          "model_name": "LayoutModel",
          "model_module_version": "1.2.0",
          "state": {
            "_view_name": "LayoutView",
            "grid_template_rows": null,
            "right": null,
            "justify_content": null,
            "_view_module": "@jupyter-widgets/base",
            "overflow": null,
            "_model_module_version": "1.2.0",
            "_view_count": null,
            "flex_flow": null,
            "width": null,
            "min_width": null,
            "border": null,
            "align_items": null,
            "bottom": null,
            "_model_module": "@jupyter-widgets/base",
            "top": null,
            "grid_column": null,
            "overflow_y": null,
            "overflow_x": null,
            "grid_auto_flow": null,
            "grid_area": null,
            "grid_template_columns": null,
            "flex": null,
            "_model_name": "LayoutModel",
            "justify_items": null,
            "grid_row": null,
            "max_height": null,
            "align_content": null,
            "visibility": null,
            "align_self": null,
            "height": null,
            "min_height": null,
            "padding": null,
            "grid_auto_rows": null,
            "grid_gap": null,
            "max_width": null,
            "order": null,
            "_view_module_version": "1.2.0",
            "grid_template_areas": null,
            "object_position": null,
            "object_fit": null,
            "grid_auto_columns": null,
            "margin": null,
            "display": null,
            "left": null
          }
        },
        "a060c81ed69f4945a2ca3304b739172d": {
          "model_module": "@jupyter-widgets/controls",
          "model_name": "DescriptionStyleModel",
          "model_module_version": "1.5.0",
          "state": {
            "_view_name": "StyleView",
            "_model_name": "DescriptionStyleModel",
            "description_width": "",
            "_view_module": "@jupyter-widgets/base",
            "_model_module_version": "1.5.0",
            "_view_count": null,
            "_view_module_version": "1.2.0",
            "_model_module": "@jupyter-widgets/controls"
          }
        },
        "3f0f6e8e0f7f4dbf9ae0ce25d9c3723f": {
          "model_module": "@jupyter-widgets/base",
          "model_name": "LayoutModel",
          "model_module_version": "1.2.0",
          "state": {
            "_view_name": "LayoutView",
            "grid_template_rows": null,
            "right": null,
            "justify_content": null,
            "_view_module": "@jupyter-widgets/base",
            "overflow": null,
            "_model_module_version": "1.2.0",
            "_view_count": null,
            "flex_flow": null,
            "width": null,
            "min_width": null,
            "border": null,
            "align_items": null,
            "bottom": null,
            "_model_module": "@jupyter-widgets/base",
            "top": null,
            "grid_column": null,
            "overflow_y": null,
            "overflow_x": null,
            "grid_auto_flow": null,
            "grid_area": null,
            "grid_template_columns": null,
            "flex": null,
            "_model_name": "LayoutModel",
            "justify_items": null,
            "grid_row": null,
            "max_height": null,
            "align_content": null,
            "visibility": null,
            "align_self": null,
            "height": null,
            "min_height": null,
            "padding": null,
            "grid_auto_rows": null,
            "grid_gap": null,
            "max_width": null,
            "order": null,
            "_view_module_version": "1.2.0",
            "grid_template_areas": null,
            "object_position": null,
            "object_fit": null,
            "grid_auto_columns": null,
            "margin": null,
            "display": null,
            "left": null
          }
        },
        "40893847e88d484b83b20f8523a17797": {
          "model_module": "@jupyter-widgets/controls",
          "model_name": "HBoxModel",
          "model_module_version": "1.5.0",
          "state": {
            "_view_name": "HBoxView",
            "_dom_classes": [],
            "_model_name": "HBoxModel",
            "_view_module": "@jupyter-widgets/controls",
            "_model_module_version": "1.5.0",
            "_view_count": null,
            "_view_module_version": "1.5.0",
            "box_style": "",
            "layout": "IPY_MODEL_0af352c08f04444a9d4aedaa51a53c35",
            "_model_module": "@jupyter-widgets/controls",
            "children": [
              "IPY_MODEL_6b5eb9bccbea4d9ca79a50c883694b6a",
              "IPY_MODEL_38381699ce3d49dd89637101acfeca70",
              "IPY_MODEL_daf37e6ab9474980a44804787c776909"
            ]
          }
        },
        "0af352c08f04444a9d4aedaa51a53c35": {
          "model_module": "@jupyter-widgets/base",
          "model_name": "LayoutModel",
          "model_module_version": "1.2.0",
          "state": {
            "_view_name": "LayoutView",
            "grid_template_rows": null,
            "right": null,
            "justify_content": null,
            "_view_module": "@jupyter-widgets/base",
            "overflow": null,
            "_model_module_version": "1.2.0",
            "_view_count": null,
            "flex_flow": null,
            "width": null,
            "min_width": null,
            "border": null,
            "align_items": null,
            "bottom": null,
            "_model_module": "@jupyter-widgets/base",
            "top": null,
            "grid_column": null,
            "overflow_y": null,
            "overflow_x": null,
            "grid_auto_flow": null,
            "grid_area": null,
            "grid_template_columns": null,
            "flex": null,
            "_model_name": "LayoutModel",
            "justify_items": null,
            "grid_row": null,
            "max_height": null,
            "align_content": null,
            "visibility": null,
            "align_self": null,
            "height": null,
            "min_height": null,
            "padding": null,
            "grid_auto_rows": null,
            "grid_gap": null,
            "max_width": null,
            "order": null,
            "_view_module_version": "1.2.0",
            "grid_template_areas": null,
            "object_position": null,
            "object_fit": null,
            "grid_auto_columns": null,
            "margin": null,
            "display": null,
            "left": null
          }
        },
        "6b5eb9bccbea4d9ca79a50c883694b6a": {
          "model_module": "@jupyter-widgets/controls",
          "model_name": "HTMLModel",
          "model_module_version": "1.5.0",
          "state": {
            "_view_name": "HTMLView",
            "style": "IPY_MODEL_ed70e1bc024d4a76ac3e53273a7931e3",
            "_dom_classes": [],
            "description": "",
            "_model_name": "HTMLModel",
            "placeholder": "​",
            "_view_module": "@jupyter-widgets/controls",
            "_model_module_version": "1.5.0",
            "value": "Downloading: 100%",
            "_view_count": null,
            "_view_module_version": "1.5.0",
            "description_tooltip": null,
            "_model_module": "@jupyter-widgets/controls",
            "layout": "IPY_MODEL_0f163cddb70243d3b8e792ba660e46e4"
          }
        },
        "38381699ce3d49dd89637101acfeca70": {
          "model_module": "@jupyter-widgets/controls",
          "model_name": "FloatProgressModel",
          "model_module_version": "1.5.0",
          "state": {
            "_view_name": "ProgressView",
            "style": "IPY_MODEL_18b4304b08e7439ab290f21a25c041d4",
            "_dom_classes": [],
            "description": "",
            "_model_name": "FloatProgressModel",
            "bar_style": "success",
            "max": 1355256,
            "_view_module": "@jupyter-widgets/controls",
            "_model_module_version": "1.5.0",
            "value": 1355256,
            "_view_count": null,
            "_view_module_version": "1.5.0",
            "orientation": "horizontal",
            "min": 0,
            "description_tooltip": null,
            "_model_module": "@jupyter-widgets/controls",
            "layout": "IPY_MODEL_44f5d6996f6c407cb049a9320a550d7b"
          }
        },
        "daf37e6ab9474980a44804787c776909": {
          "model_module": "@jupyter-widgets/controls",
          "model_name": "HTMLModel",
          "model_module_version": "1.5.0",
          "state": {
            "_view_name": "HTMLView",
            "style": "IPY_MODEL_e678bf0ad7ce4ce4990a440e7cd8215f",
            "_dom_classes": [],
            "description": "",
            "_model_name": "HTMLModel",
            "placeholder": "​",
            "_view_module": "@jupyter-widgets/controls",
            "_model_module_version": "1.5.0",
            "value": " 1.29M/1.29M [00:00&lt;00:00, 5.81MB/s]",
            "_view_count": null,
            "_view_module_version": "1.5.0",
            "description_tooltip": null,
            "_model_module": "@jupyter-widgets/controls",
            "layout": "IPY_MODEL_6b96783a6ba94c4d839186732ead3bc5"
          }
        },
        "ed70e1bc024d4a76ac3e53273a7931e3": {
          "model_module": "@jupyter-widgets/controls",
          "model_name": "DescriptionStyleModel",
          "model_module_version": "1.5.0",
          "state": {
            "_view_name": "StyleView",
            "_model_name": "DescriptionStyleModel",
            "description_width": "",
            "_view_module": "@jupyter-widgets/base",
            "_model_module_version": "1.5.0",
            "_view_count": null,
            "_view_module_version": "1.2.0",
            "_model_module": "@jupyter-widgets/controls"
          }
        },
        "0f163cddb70243d3b8e792ba660e46e4": {
          "model_module": "@jupyter-widgets/base",
          "model_name": "LayoutModel",
          "model_module_version": "1.2.0",
          "state": {
            "_view_name": "LayoutView",
            "grid_template_rows": null,
            "right": null,
            "justify_content": null,
            "_view_module": "@jupyter-widgets/base",
            "overflow": null,
            "_model_module_version": "1.2.0",
            "_view_count": null,
            "flex_flow": null,
            "width": null,
            "min_width": null,
            "border": null,
            "align_items": null,
            "bottom": null,
            "_model_module": "@jupyter-widgets/base",
            "top": null,
            "grid_column": null,
            "overflow_y": null,
            "overflow_x": null,
            "grid_auto_flow": null,
            "grid_area": null,
            "grid_template_columns": null,
            "flex": null,
            "_model_name": "LayoutModel",
            "justify_items": null,
            "grid_row": null,
            "max_height": null,
            "align_content": null,
            "visibility": null,
            "align_self": null,
            "height": null,
            "min_height": null,
            "padding": null,
            "grid_auto_rows": null,
            "grid_gap": null,
            "max_width": null,
            "order": null,
            "_view_module_version": "1.2.0",
            "grid_template_areas": null,
            "object_position": null,
            "object_fit": null,
            "grid_auto_columns": null,
            "margin": null,
            "display": null,
            "left": null
          }
        },
        "18b4304b08e7439ab290f21a25c041d4": {
          "model_module": "@jupyter-widgets/controls",
          "model_name": "ProgressStyleModel",
          "model_module_version": "1.5.0",
          "state": {
            "_view_name": "StyleView",
            "_model_name": "ProgressStyleModel",
            "description_width": "",
            "_view_module": "@jupyter-widgets/base",
            "_model_module_version": "1.5.0",
            "_view_count": null,
            "_view_module_version": "1.2.0",
            "bar_color": null,
            "_model_module": "@jupyter-widgets/controls"
          }
        },
        "44f5d6996f6c407cb049a9320a550d7b": {
          "model_module": "@jupyter-widgets/base",
          "model_name": "LayoutModel",
          "model_module_version": "1.2.0",
          "state": {
            "_view_name": "LayoutView",
            "grid_template_rows": null,
            "right": null,
            "justify_content": null,
            "_view_module": "@jupyter-widgets/base",
            "overflow": null,
            "_model_module_version": "1.2.0",
            "_view_count": null,
            "flex_flow": null,
            "width": null,
            "min_width": null,
            "border": null,
            "align_items": null,
            "bottom": null,
            "_model_module": "@jupyter-widgets/base",
            "top": null,
            "grid_column": null,
            "overflow_y": null,
            "overflow_x": null,
            "grid_auto_flow": null,
            "grid_area": null,
            "grid_template_columns": null,
            "flex": null,
            "_model_name": "LayoutModel",
            "justify_items": null,
            "grid_row": null,
            "max_height": null,
            "align_content": null,
            "visibility": null,
            "align_self": null,
            "height": null,
            "min_height": null,
            "padding": null,
            "grid_auto_rows": null,
            "grid_gap": null,
            "max_width": null,
            "order": null,
            "_view_module_version": "1.2.0",
            "grid_template_areas": null,
            "object_position": null,
            "object_fit": null,
            "grid_auto_columns": null,
            "margin": null,
            "display": null,
            "left": null
          }
        },
        "e678bf0ad7ce4ce4990a440e7cd8215f": {
          "model_module": "@jupyter-widgets/controls",
          "model_name": "DescriptionStyleModel",
          "model_module_version": "1.5.0",
          "state": {
            "_view_name": "StyleView",
            "_model_name": "DescriptionStyleModel",
            "description_width": "",
            "_view_module": "@jupyter-widgets/base",
            "_model_module_version": "1.5.0",
            "_view_count": null,
            "_view_module_version": "1.2.0",
            "_model_module": "@jupyter-widgets/controls"
          }
        },
        "6b96783a6ba94c4d839186732ead3bc5": {
          "model_module": "@jupyter-widgets/base",
          "model_name": "LayoutModel",
          "model_module_version": "1.2.0",
          "state": {
            "_view_name": "LayoutView",
            "grid_template_rows": null,
            "right": null,
            "justify_content": null,
            "_view_module": "@jupyter-widgets/base",
            "overflow": null,
            "_model_module_version": "1.2.0",
            "_view_count": null,
            "flex_flow": null,
            "width": null,
            "min_width": null,
            "border": null,
            "align_items": null,
            "bottom": null,
            "_model_module": "@jupyter-widgets/base",
            "top": null,
            "grid_column": null,
            "overflow_y": null,
            "overflow_x": null,
            "grid_auto_flow": null,
            "grid_area": null,
            "grid_template_columns": null,
            "flex": null,
            "_model_name": "LayoutModel",
            "justify_items": null,
            "grid_row": null,
            "max_height": null,
            "align_content": null,
            "visibility": null,
            "align_self": null,
            "height": null,
            "min_height": null,
            "padding": null,
            "grid_auto_rows": null,
            "grid_gap": null,
            "max_width": null,
            "order": null,
            "_view_module_version": "1.2.0",
            "grid_template_areas": null,
            "object_position": null,
            "object_fit": null,
            "grid_auto_columns": null,
            "margin": null,
            "display": null,
            "left": null
          }
        },
        "f09933d4424245f7927ce6441f3e3b68": {
          "model_module": "@jupyter-widgets/controls",
          "model_name": "HBoxModel",
          "model_module_version": "1.5.0",
          "state": {
            "_view_name": "HBoxView",
            "_dom_classes": [],
            "_model_name": "HBoxModel",
            "_view_module": "@jupyter-widgets/controls",
            "_model_module_version": "1.5.0",
            "_view_count": null,
            "_view_module_version": "1.5.0",
            "box_style": "",
            "layout": "IPY_MODEL_3ba872c91ceb44f48fa6aa0481b4305c",
            "_model_module": "@jupyter-widgets/controls",
            "children": [
              "IPY_MODEL_18b12c626dc145c8b60bb86cdf666063",
              "IPY_MODEL_ca272a4da7fa4485914630765990b546",
              "IPY_MODEL_7232fca0e0d34c14bdc171ce848dc6d4"
            ]
          }
        },
        "3ba872c91ceb44f48fa6aa0481b4305c": {
          "model_module": "@jupyter-widgets/base",
          "model_name": "LayoutModel",
          "model_module_version": "1.2.0",
          "state": {
            "_view_name": "LayoutView",
            "grid_template_rows": null,
            "right": null,
            "justify_content": null,
            "_view_module": "@jupyter-widgets/base",
            "overflow": null,
            "_model_module_version": "1.2.0",
            "_view_count": null,
            "flex_flow": null,
            "width": null,
            "min_width": null,
            "border": null,
            "align_items": null,
            "bottom": null,
            "_model_module": "@jupyter-widgets/base",
            "top": null,
            "grid_column": null,
            "overflow_y": null,
            "overflow_x": null,
            "grid_auto_flow": null,
            "grid_area": null,
            "grid_template_columns": null,
            "flex": null,
            "_model_name": "LayoutModel",
            "justify_items": null,
            "grid_row": null,
            "max_height": null,
            "align_content": null,
            "visibility": null,
            "align_self": null,
            "height": null,
            "min_height": null,
            "padding": null,
            "grid_auto_rows": null,
            "grid_gap": null,
            "max_width": null,
            "order": null,
            "_view_module_version": "1.2.0",
            "grid_template_areas": null,
            "object_position": null,
            "object_fit": null,
            "grid_auto_columns": null,
            "margin": null,
            "display": null,
            "left": null
          }
        },
        "18b12c626dc145c8b60bb86cdf666063": {
          "model_module": "@jupyter-widgets/controls",
          "model_name": "HTMLModel",
          "model_module_version": "1.5.0",
          "state": {
            "_view_name": "HTMLView",
            "style": "IPY_MODEL_e22abf14fb1d4970af6998b3ba4c73d1",
            "_dom_classes": [],
            "description": "",
            "_model_name": "HTMLModel",
            "placeholder": "​",
            "_view_module": "@jupyter-widgets/controls",
            "_model_module_version": "1.5.0",
            "value": "Downloading: 100%",
            "_view_count": null,
            "_view_module_version": "1.5.0",
            "description_tooltip": null,
            "_model_module": "@jupyter-widgets/controls",
            "layout": "IPY_MODEL_16ae7f9611dc4c0da7cbed64fc9f8e99"
          }
        },
        "ca272a4da7fa4485914630765990b546": {
          "model_module": "@jupyter-widgets/controls",
          "model_name": "FloatProgressModel",
          "model_module_version": "1.5.0",
          "state": {
            "_view_name": "ProgressView",
            "style": "IPY_MODEL_00e1dc2427ad4279b88f5ad58f91b3f0",
            "_dom_classes": [],
            "description": "",
            "_model_name": "FloatProgressModel",
            "bar_style": "success",
            "max": 425,
            "_view_module": "@jupyter-widgets/controls",
            "_model_module_version": "1.5.0",
            "value": 425,
            "_view_count": null,
            "_view_module_version": "1.5.0",
            "orientation": "horizontal",
            "min": 0,
            "description_tooltip": null,
            "_model_module": "@jupyter-widgets/controls",
            "layout": "IPY_MODEL_068f00dd903b4f2883fcb8187cf325b7"
          }
        },
        "7232fca0e0d34c14bdc171ce848dc6d4": {
          "model_module": "@jupyter-widgets/controls",
          "model_name": "HTMLModel",
          "model_module_version": "1.5.0",
          "state": {
            "_view_name": "HTMLView",
            "style": "IPY_MODEL_3ed7c9d9a3f54d318bd21dd01c5cf2f9",
            "_dom_classes": [],
            "description": "",
            "_model_name": "HTMLModel",
            "placeholder": "​",
            "_view_module": "@jupyter-widgets/controls",
            "_model_module_version": "1.5.0",
            "value": " 425/425 [00:00&lt;00:00, 9.72kB/s]",
            "_view_count": null,
            "_view_module_version": "1.5.0",
            "description_tooltip": null,
            "_model_module": "@jupyter-widgets/controls",
            "layout": "IPY_MODEL_a750fa24ad2b4095a58e3d455ab4b78e"
          }
        },
        "e22abf14fb1d4970af6998b3ba4c73d1": {
          "model_module": "@jupyter-widgets/controls",
          "model_name": "DescriptionStyleModel",
          "model_module_version": "1.5.0",
          "state": {
            "_view_name": "StyleView",
            "_model_name": "DescriptionStyleModel",
            "description_width": "",
            "_view_module": "@jupyter-widgets/base",
            "_model_module_version": "1.5.0",
            "_view_count": null,
            "_view_module_version": "1.2.0",
            "_model_module": "@jupyter-widgets/controls"
          }
        },
        "16ae7f9611dc4c0da7cbed64fc9f8e99": {
          "model_module": "@jupyter-widgets/base",
          "model_name": "LayoutModel",
          "model_module_version": "1.2.0",
          "state": {
            "_view_name": "LayoutView",
            "grid_template_rows": null,
            "right": null,
            "justify_content": null,
            "_view_module": "@jupyter-widgets/base",
            "overflow": null,
            "_model_module_version": "1.2.0",
            "_view_count": null,
            "flex_flow": null,
            "width": null,
            "min_width": null,
            "border": null,
            "align_items": null,
            "bottom": null,
            "_model_module": "@jupyter-widgets/base",
            "top": null,
            "grid_column": null,
            "overflow_y": null,
            "overflow_x": null,
            "grid_auto_flow": null,
            "grid_area": null,
            "grid_template_columns": null,
            "flex": null,
            "_model_name": "LayoutModel",
            "justify_items": null,
            "grid_row": null,
            "max_height": null,
            "align_content": null,
            "visibility": null,
            "align_self": null,
            "height": null,
            "min_height": null,
            "padding": null,
            "grid_auto_rows": null,
            "grid_gap": null,
            "max_width": null,
            "order": null,
            "_view_module_version": "1.2.0",
            "grid_template_areas": null,
            "object_position": null,
            "object_fit": null,
            "grid_auto_columns": null,
            "margin": null,
            "display": null,
            "left": null
          }
        },
        "00e1dc2427ad4279b88f5ad58f91b3f0": {
          "model_module": "@jupyter-widgets/controls",
          "model_name": "ProgressStyleModel",
          "model_module_version": "1.5.0",
          "state": {
            "_view_name": "StyleView",
            "_model_name": "ProgressStyleModel",
            "description_width": "",
            "_view_module": "@jupyter-widgets/base",
            "_model_module_version": "1.5.0",
            "_view_count": null,
            "_view_module_version": "1.2.0",
            "bar_color": null,
            "_model_module": "@jupyter-widgets/controls"
          }
        },
        "068f00dd903b4f2883fcb8187cf325b7": {
          "model_module": "@jupyter-widgets/base",
          "model_name": "LayoutModel",
          "model_module_version": "1.2.0",
          "state": {
            "_view_name": "LayoutView",
            "grid_template_rows": null,
            "right": null,
            "justify_content": null,
            "_view_module": "@jupyter-widgets/base",
            "overflow": null,
            "_model_module_version": "1.2.0",
            "_view_count": null,
            "flex_flow": null,
            "width": null,
            "min_width": null,
            "border": null,
            "align_items": null,
            "bottom": null,
            "_model_module": "@jupyter-widgets/base",
            "top": null,
            "grid_column": null,
            "overflow_y": null,
            "overflow_x": null,
            "grid_auto_flow": null,
            "grid_area": null,
            "grid_template_columns": null,
            "flex": null,
            "_model_name": "LayoutModel",
            "justify_items": null,
            "grid_row": null,
            "max_height": null,
            "align_content": null,
            "visibility": null,
            "align_self": null,
            "height": null,
            "min_height": null,
            "padding": null,
            "grid_auto_rows": null,
            "grid_gap": null,
            "max_width": null,
            "order": null,
            "_view_module_version": "1.2.0",
            "grid_template_areas": null,
            "object_position": null,
            "object_fit": null,
            "grid_auto_columns": null,
            "margin": null,
            "display": null,
            "left": null
          }
        },
        "3ed7c9d9a3f54d318bd21dd01c5cf2f9": {
          "model_module": "@jupyter-widgets/controls",
          "model_name": "DescriptionStyleModel",
          "model_module_version": "1.5.0",
          "state": {
            "_view_name": "StyleView",
            "_model_name": "DescriptionStyleModel",
            "description_width": "",
            "_view_module": "@jupyter-widgets/base",
            "_model_module_version": "1.5.0",
            "_view_count": null,
            "_view_module_version": "1.2.0",
            "_model_module": "@jupyter-widgets/controls"
          }
        },
        "a750fa24ad2b4095a58e3d455ab4b78e": {
          "model_module": "@jupyter-widgets/base",
          "model_name": "LayoutModel",
          "model_module_version": "1.2.0",
          "state": {
            "_view_name": "LayoutView",
            "grid_template_rows": null,
            "right": null,
            "justify_content": null,
            "_view_module": "@jupyter-widgets/base",
            "overflow": null,
            "_model_module_version": "1.2.0",
            "_view_count": null,
            "flex_flow": null,
            "width": null,
            "min_width": null,
            "border": null,
            "align_items": null,
            "bottom": null,
            "_model_module": "@jupyter-widgets/base",
            "top": null,
            "grid_column": null,
            "overflow_y": null,
            "overflow_x": null,
            "grid_auto_flow": null,
            "grid_area": null,
            "grid_template_columns": null,
            "flex": null,
            "_model_name": "LayoutModel",
            "justify_items": null,
            "grid_row": null,
            "max_height": null,
            "align_content": null,
            "visibility": null,
            "align_self": null,
            "height": null,
            "min_height": null,
            "padding": null,
            "grid_auto_rows": null,
            "grid_gap": null,
            "max_width": null,
            "order": null,
            "_view_module_version": "1.2.0",
            "grid_template_areas": null,
            "object_position": null,
            "object_fit": null,
            "grid_auto_columns": null,
            "margin": null,
            "display": null,
            "left": null
          }
        },
        "b3f7f58cfeea4b02abb2b03cc3c70920": {
          "model_module": "@jupyter-widgets/controls",
          "model_name": "HBoxModel",
          "model_module_version": "1.5.0",
          "state": {
            "_view_name": "HBoxView",
            "_dom_classes": [],
            "_model_name": "HBoxModel",
            "_view_module": "@jupyter-widgets/controls",
            "_model_module_version": "1.5.0",
            "_view_count": null,
            "_view_module_version": "1.5.0",
            "box_style": "",
            "layout": "IPY_MODEL_54790252c9e04f96a8076c2e9edc4d51",
            "_model_module": "@jupyter-widgets/controls",
            "children": [
              "IPY_MODEL_60b8727af5444758a8003f9a8f71a43c",
              "IPY_MODEL_55c901dfbad64026b18ab138dfafeecb",
              "IPY_MODEL_0c9aa18e35724337b45ce1158ecabf83"
            ]
          }
        },
        "54790252c9e04f96a8076c2e9edc4d51": {
          "model_module": "@jupyter-widgets/base",
          "model_name": "LayoutModel",
          "model_module_version": "1.2.0",
          "state": {
            "_view_name": "LayoutView",
            "grid_template_rows": null,
            "right": null,
            "justify_content": null,
            "_view_module": "@jupyter-widgets/base",
            "overflow": null,
            "_model_module_version": "1.2.0",
            "_view_count": null,
            "flex_flow": null,
            "width": null,
            "min_width": null,
            "border": null,
            "align_items": null,
            "bottom": null,
            "_model_module": "@jupyter-widgets/base",
            "top": null,
            "grid_column": null,
            "overflow_y": null,
            "overflow_x": null,
            "grid_auto_flow": null,
            "grid_area": null,
            "grid_template_columns": null,
            "flex": null,
            "_model_name": "LayoutModel",
            "justify_items": null,
            "grid_row": null,
            "max_height": null,
            "align_content": null,
            "visibility": null,
            "align_self": null,
            "height": null,
            "min_height": null,
            "padding": null,
            "grid_auto_rows": null,
            "grid_gap": null,
            "max_width": null,
            "order": null,
            "_view_module_version": "1.2.0",
            "grid_template_areas": null,
            "object_position": null,
            "object_fit": null,
            "grid_auto_columns": null,
            "margin": null,
            "display": null,
            "left": null
          }
        },
        "60b8727af5444758a8003f9a8f71a43c": {
          "model_module": "@jupyter-widgets/controls",
          "model_name": "HTMLModel",
          "model_module_version": "1.5.0",
          "state": {
            "_view_name": "HTMLView",
            "style": "IPY_MODEL_b2a3c2e475dd43b1a8662ee0e75ebccd",
            "_dom_classes": [],
            "description": "",
            "_model_name": "HTMLModel",
            "placeholder": "​",
            "_view_module": "@jupyter-widgets/controls",
            "_model_module_version": "1.5.0",
            "value": "Downloading: 100%",
            "_view_count": null,
            "_view_module_version": "1.5.0",
            "description_tooltip": null,
            "_model_module": "@jupyter-widgets/controls",
            "layout": "IPY_MODEL_a81ae00c70cf43d0a2dde6991765fcbb"
          }
        },
        "55c901dfbad64026b18ab138dfafeecb": {
          "model_module": "@jupyter-widgets/controls",
          "model_name": "FloatProgressModel",
          "model_module_version": "1.5.0",
          "state": {
            "_view_name": "ProgressView",
            "style": "IPY_MODEL_da6af6fd65194c4ab49d57979d152c4d",
            "_dom_classes": [],
            "description": "",
            "_model_name": "FloatProgressModel",
            "bar_style": "success",
            "max": 345636463,
            "_view_module": "@jupyter-widgets/controls",
            "_model_module_version": "1.5.0",
            "value": 345636463,
            "_view_count": null,
            "_view_module_version": "1.5.0",
            "orientation": "horizontal",
            "min": 0,
            "description_tooltip": null,
            "_model_module": "@jupyter-widgets/controls",
            "layout": "IPY_MODEL_3aad14e761864dbdbe9045c56bb9a589"
          }
        },
        "0c9aa18e35724337b45ce1158ecabf83": {
          "model_module": "@jupyter-widgets/controls",
          "model_name": "HTMLModel",
          "model_module_version": "1.5.0",
          "state": {
            "_view_name": "HTMLView",
            "style": "IPY_MODEL_0f06297da8414675896576de03816356",
            "_dom_classes": [],
            "description": "",
            "_model_name": "HTMLModel",
            "placeholder": "​",
            "_view_module": "@jupyter-widgets/controls",
            "_model_module_version": "1.5.0",
            "value": " 330M/330M [00:20&lt;00:00, 22.0MB/s]",
            "_view_count": null,
            "_view_module_version": "1.5.0",
            "description_tooltip": null,
            "_model_module": "@jupyter-widgets/controls",
            "layout": "IPY_MODEL_63de0247b8d04612be90b8737f7df82f"
          }
        },
        "b2a3c2e475dd43b1a8662ee0e75ebccd": {
          "model_module": "@jupyter-widgets/controls",
          "model_name": "DescriptionStyleModel",
          "model_module_version": "1.5.0",
          "state": {
            "_view_name": "StyleView",
            "_model_name": "DescriptionStyleModel",
            "description_width": "",
            "_view_module": "@jupyter-widgets/base",
            "_model_module_version": "1.5.0",
            "_view_count": null,
            "_view_module_version": "1.2.0",
            "_model_module": "@jupyter-widgets/controls"
          }
        },
        "a81ae00c70cf43d0a2dde6991765fcbb": {
          "model_module": "@jupyter-widgets/base",
          "model_name": "LayoutModel",
          "model_module_version": "1.2.0",
          "state": {
            "_view_name": "LayoutView",
            "grid_template_rows": null,
            "right": null,
            "justify_content": null,
            "_view_module": "@jupyter-widgets/base",
            "overflow": null,
            "_model_module_version": "1.2.0",
            "_view_count": null,
            "flex_flow": null,
            "width": null,
            "min_width": null,
            "border": null,
            "align_items": null,
            "bottom": null,
            "_model_module": "@jupyter-widgets/base",
            "top": null,
            "grid_column": null,
            "overflow_y": null,
            "overflow_x": null,
            "grid_auto_flow": null,
            "grid_area": null,
            "grid_template_columns": null,
            "flex": null,
            "_model_name": "LayoutModel",
            "justify_items": null,
            "grid_row": null,
            "max_height": null,
            "align_content": null,
            "visibility": null,
            "align_self": null,
            "height": null,
            "min_height": null,
            "padding": null,
            "grid_auto_rows": null,
            "grid_gap": null,
            "max_width": null,
            "order": null,
            "_view_module_version": "1.2.0",
            "grid_template_areas": null,
            "object_position": null,
            "object_fit": null,
            "grid_auto_columns": null,
            "margin": null,
            "display": null,
            "left": null
          }
        },
        "da6af6fd65194c4ab49d57979d152c4d": {
          "model_module": "@jupyter-widgets/controls",
          "model_name": "ProgressStyleModel",
          "model_module_version": "1.5.0",
          "state": {
            "_view_name": "StyleView",
            "_model_name": "ProgressStyleModel",
            "description_width": "",
            "_view_module": "@jupyter-widgets/base",
            "_model_module_version": "1.5.0",
            "_view_count": null,
            "_view_module_version": "1.2.0",
            "bar_color": null,
            "_model_module": "@jupyter-widgets/controls"
          }
        },
        "3aad14e761864dbdbe9045c56bb9a589": {
          "model_module": "@jupyter-widgets/base",
          "model_name": "LayoutModel",
          "model_module_version": "1.2.0",
          "state": {
            "_view_name": "LayoutView",
            "grid_template_rows": null,
            "right": null,
            "justify_content": null,
            "_view_module": "@jupyter-widgets/base",
            "overflow": null,
            "_model_module_version": "1.2.0",
            "_view_count": null,
            "flex_flow": null,
            "width": null,
            "min_width": null,
            "border": null,
            "align_items": null,
            "bottom": null,
            "_model_module": "@jupyter-widgets/base",
            "top": null,
            "grid_column": null,
            "overflow_y": null,
            "overflow_x": null,
            "grid_auto_flow": null,
            "grid_area": null,
            "grid_template_columns": null,
            "flex": null,
            "_model_name": "LayoutModel",
            "justify_items": null,
            "grid_row": null,
            "max_height": null,
            "align_content": null,
            "visibility": null,
            "align_self": null,
            "height": null,
            "min_height": null,
            "padding": null,
            "grid_auto_rows": null,
            "grid_gap": null,
            "max_width": null,
            "order": null,
            "_view_module_version": "1.2.0",
            "grid_template_areas": null,
            "object_position": null,
            "object_fit": null,
            "grid_auto_columns": null,
            "margin": null,
            "display": null,
            "left": null
          }
        },
        "0f06297da8414675896576de03816356": {
          "model_module": "@jupyter-widgets/controls",
          "model_name": "DescriptionStyleModel",
          "model_module_version": "1.5.0",
          "state": {
            "_view_name": "StyleView",
            "_model_name": "DescriptionStyleModel",
            "description_width": "",
            "_view_module": "@jupyter-widgets/base",
            "_model_module_version": "1.5.0",
            "_view_count": null,
            "_view_module_version": "1.2.0",
            "_model_module": "@jupyter-widgets/controls"
          }
        },
        "63de0247b8d04612be90b8737f7df82f": {
          "model_module": "@jupyter-widgets/base",
          "model_name": "LayoutModel",
          "model_module_version": "1.2.0",
          "state": {
            "_view_name": "LayoutView",
            "grid_template_rows": null,
            "right": null,
            "justify_content": null,
            "_view_module": "@jupyter-widgets/base",
            "overflow": null,
            "_model_module_version": "1.2.0",
            "_view_count": null,
            "flex_flow": null,
            "width": null,
            "min_width": null,
            "border": null,
            "align_items": null,
            "bottom": null,
            "_model_module": "@jupyter-widgets/base",
            "top": null,
            "grid_column": null,
            "overflow_y": null,
            "overflow_x": null,
            "grid_auto_flow": null,
            "grid_area": null,
            "grid_template_columns": null,
            "flex": null,
            "_model_name": "LayoutModel",
            "justify_items": null,
            "grid_row": null,
            "max_height": null,
            "align_content": null,
            "visibility": null,
            "align_self": null,
            "height": null,
            "min_height": null,
            "padding": null,
            "grid_auto_rows": null,
            "grid_gap": null,
            "max_width": null,
            "order": null,
            "_view_module_version": "1.2.0",
            "grid_template_areas": null,
            "object_position": null,
            "object_fit": null,
            "grid_auto_columns": null,
            "margin": null,
            "display": null,
            "left": null
          }
        },
        "e996b57dccc4484ab2183dce19439e7b": {
          "model_module": "@jupyter-widgets/controls",
          "model_name": "HBoxModel",
          "model_module_version": "1.5.0",
          "state": {
            "_view_name": "HBoxView",
            "_dom_classes": [],
            "_model_name": "HBoxModel",
            "_view_module": "@jupyter-widgets/controls",
            "_model_module_version": "1.5.0",
            "_view_count": null,
            "_view_module_version": "1.5.0",
            "box_style": "",
            "layout": "IPY_MODEL_085ac324459444329d20b7f7e6858a1c",
            "_model_module": "@jupyter-widgets/controls",
            "children": [
              "IPY_MODEL_398d97177a574478b35247b2bccbc4ed",
              "IPY_MODEL_ef01d2bb608b4ec8afed24384141f98a",
              "IPY_MODEL_98a07c29ffc04699a477ae6efc682347"
            ]
          }
        },
        "085ac324459444329d20b7f7e6858a1c": {
          "model_module": "@jupyter-widgets/base",
          "model_name": "LayoutModel",
          "model_module_version": "1.2.0",
          "state": {
            "_view_name": "LayoutView",
            "grid_template_rows": null,
            "right": null,
            "justify_content": null,
            "_view_module": "@jupyter-widgets/base",
            "overflow": null,
            "_model_module_version": "1.2.0",
            "_view_count": null,
            "flex_flow": null,
            "width": null,
            "min_width": null,
            "border": null,
            "align_items": null,
            "bottom": null,
            "_model_module": "@jupyter-widgets/base",
            "top": null,
            "grid_column": null,
            "overflow_y": null,
            "overflow_x": null,
            "grid_auto_flow": null,
            "grid_area": null,
            "grid_template_columns": null,
            "flex": null,
            "_model_name": "LayoutModel",
            "justify_items": null,
            "grid_row": null,
            "max_height": null,
            "align_content": null,
            "visibility": null,
            "align_self": null,
            "height": null,
            "min_height": null,
            "padding": null,
            "grid_auto_rows": null,
            "grid_gap": null,
            "max_width": null,
            "order": null,
            "_view_module_version": "1.2.0",
            "grid_template_areas": null,
            "object_position": null,
            "object_fit": null,
            "grid_auto_columns": null,
            "margin": null,
            "display": null,
            "left": null
          }
        },
        "398d97177a574478b35247b2bccbc4ed": {
          "model_module": "@jupyter-widgets/controls",
          "model_name": "HTMLModel",
          "model_module_version": "1.5.0",
          "state": {
            "_view_name": "HTMLView",
            "style": "IPY_MODEL_2b2ca34143544fbdb8ea9080bc63393a",
            "_dom_classes": [],
            "description": "",
            "_model_name": "HTMLModel",
            "placeholder": "​",
            "_view_module": "@jupyter-widgets/controls",
            "_model_module_version": "1.5.0",
            "value": "Downloading: 100%",
            "_view_count": null,
            "_view_module_version": "1.5.0",
            "description_tooltip": null,
            "_model_module": "@jupyter-widgets/controls",
            "layout": "IPY_MODEL_6da35898f93e4b869df82d5d8153d409"
          }
        },
        "ef01d2bb608b4ec8afed24384141f98a": {
          "model_module": "@jupyter-widgets/controls",
          "model_name": "FloatProgressModel",
          "model_module_version": "1.5.0",
          "state": {
            "_view_name": "ProgressView",
            "style": "IPY_MODEL_7ac26d0694e845df8c6d756460d6b846",
            "_dom_classes": [],
            "description": "",
            "_model_name": "FloatProgressModel",
            "bar_style": "success",
            "max": 548118077,
            "_view_module": "@jupyter-widgets/controls",
            "_model_module_version": "1.5.0",
            "value": 548118077,
            "_view_count": null,
            "_view_module_version": "1.5.0",
            "orientation": "horizontal",
            "min": 0,
            "description_tooltip": null,
            "_model_module": "@jupyter-widgets/controls",
            "layout": "IPY_MODEL_f5b3c12cbdab4aae90db517a2b75d0b6"
          }
        },
        "98a07c29ffc04699a477ae6efc682347": {
          "model_module": "@jupyter-widgets/controls",
          "model_name": "HTMLModel",
          "model_module_version": "1.5.0",
          "state": {
            "_view_name": "HTMLView",
            "style": "IPY_MODEL_323a99d303764864b1e51a998716d7e2",
            "_dom_classes": [],
            "description": "",
            "_model_name": "HTMLModel",
            "placeholder": "​",
            "_view_module": "@jupyter-widgets/controls",
            "_model_module_version": "1.5.0",
            "value": " 523M/523M [00:17&lt;00:00, 35.5MB/s]",
            "_view_count": null,
            "_view_module_version": "1.5.0",
            "description_tooltip": null,
            "_model_module": "@jupyter-widgets/controls",
            "layout": "IPY_MODEL_bbef02ca37b34963bb52abf2f5d5e219"
          }
        },
        "2b2ca34143544fbdb8ea9080bc63393a": {
          "model_module": "@jupyter-widgets/controls",
          "model_name": "DescriptionStyleModel",
          "model_module_version": "1.5.0",
          "state": {
            "_view_name": "StyleView",
            "_model_name": "DescriptionStyleModel",
            "description_width": "",
            "_view_module": "@jupyter-widgets/base",
            "_model_module_version": "1.5.0",
            "_view_count": null,
            "_view_module_version": "1.2.0",
            "_model_module": "@jupyter-widgets/controls"
          }
        },
        "6da35898f93e4b869df82d5d8153d409": {
          "model_module": "@jupyter-widgets/base",
          "model_name": "LayoutModel",
          "model_module_version": "1.2.0",
          "state": {
            "_view_name": "LayoutView",
            "grid_template_rows": null,
            "right": null,
            "justify_content": null,
            "_view_module": "@jupyter-widgets/base",
            "overflow": null,
            "_model_module_version": "1.2.0",
            "_view_count": null,
            "flex_flow": null,
            "width": null,
            "min_width": null,
            "border": null,
            "align_items": null,
            "bottom": null,
            "_model_module": "@jupyter-widgets/base",
            "top": null,
            "grid_column": null,
            "overflow_y": null,
            "overflow_x": null,
            "grid_auto_flow": null,
            "grid_area": null,
            "grid_template_columns": null,
            "flex": null,
            "_model_name": "LayoutModel",
            "justify_items": null,
            "grid_row": null,
            "max_height": null,
            "align_content": null,
            "visibility": null,
            "align_self": null,
            "height": null,
            "min_height": null,
            "padding": null,
            "grid_auto_rows": null,
            "grid_gap": null,
            "max_width": null,
            "order": null,
            "_view_module_version": "1.2.0",
            "grid_template_areas": null,
            "object_position": null,
            "object_fit": null,
            "grid_auto_columns": null,
            "margin": null,
            "display": null,
            "left": null
          }
        },
        "7ac26d0694e845df8c6d756460d6b846": {
          "model_module": "@jupyter-widgets/controls",
          "model_name": "ProgressStyleModel",
          "model_module_version": "1.5.0",
          "state": {
            "_view_name": "StyleView",
            "_model_name": "ProgressStyleModel",
            "description_width": "",
            "_view_module": "@jupyter-widgets/base",
            "_model_module_version": "1.5.0",
            "_view_count": null,
            "_view_module_version": "1.2.0",
            "bar_color": null,
            "_model_module": "@jupyter-widgets/controls"
          }
        },
        "f5b3c12cbdab4aae90db517a2b75d0b6": {
          "model_module": "@jupyter-widgets/base",
          "model_name": "LayoutModel",
          "model_module_version": "1.2.0",
          "state": {
            "_view_name": "LayoutView",
            "grid_template_rows": null,
            "right": null,
            "justify_content": null,
            "_view_module": "@jupyter-widgets/base",
            "overflow": null,
            "_model_module_version": "1.2.0",
            "_view_count": null,
            "flex_flow": null,
            "width": null,
            "min_width": null,
            "border": null,
            "align_items": null,
            "bottom": null,
            "_model_module": "@jupyter-widgets/base",
            "top": null,
            "grid_column": null,
            "overflow_y": null,
            "overflow_x": null,
            "grid_auto_flow": null,
            "grid_area": null,
            "grid_template_columns": null,
            "flex": null,
            "_model_name": "LayoutModel",
            "justify_items": null,
            "grid_row": null,
            "max_height": null,
            "align_content": null,
            "visibility": null,
            "align_self": null,
            "height": null,
            "min_height": null,
            "padding": null,
            "grid_auto_rows": null,
            "grid_gap": null,
            "max_width": null,
            "order": null,
            "_view_module_version": "1.2.0",
            "grid_template_areas": null,
            "object_position": null,
            "object_fit": null,
            "grid_auto_columns": null,
            "margin": null,
            "display": null,
            "left": null
          }
        },
        "323a99d303764864b1e51a998716d7e2": {
          "model_module": "@jupyter-widgets/controls",
          "model_name": "DescriptionStyleModel",
          "model_module_version": "1.5.0",
          "state": {
            "_view_name": "StyleView",
            "_model_name": "DescriptionStyleModel",
            "description_width": "",
            "_view_module": "@jupyter-widgets/base",
            "_model_module_version": "1.5.0",
            "_view_count": null,
            "_view_module_version": "1.2.0",
            "_model_module": "@jupyter-widgets/controls"
          }
        },
        "bbef02ca37b34963bb52abf2f5d5e219": {
          "model_module": "@jupyter-widgets/base",
          "model_name": "LayoutModel",
          "model_module_version": "1.2.0",
          "state": {
            "_view_name": "LayoutView",
            "grid_template_rows": null,
            "right": null,
            "justify_content": null,
            "_view_module": "@jupyter-widgets/base",
            "overflow": null,
            "_model_module_version": "1.2.0",
            "_view_count": null,
            "flex_flow": null,
            "width": null,
            "min_width": null,
            "border": null,
            "align_items": null,
            "bottom": null,
            "_model_module": "@jupyter-widgets/base",
            "top": null,
            "grid_column": null,
            "overflow_y": null,
            "overflow_x": null,
            "grid_auto_flow": null,
            "grid_area": null,
            "grid_template_columns": null,
            "flex": null,
            "_model_name": "LayoutModel",
            "justify_items": null,
            "grid_row": null,
            "max_height": null,
            "align_content": null,
            "visibility": null,
            "align_self": null,
            "height": null,
            "min_height": null,
            "padding": null,
            "grid_auto_rows": null,
            "grid_gap": null,
            "max_width": null,
            "order": null,
            "_view_module_version": "1.2.0",
            "grid_template_areas": null,
            "object_position": null,
            "object_fit": null,
            "grid_auto_columns": null,
            "margin": null,
            "display": null,
            "left": null
          }
        }
      }
    }
  },
  "cells": [
    {
      "cell_type": "markdown",
      "metadata": {
        "id": "T5DpsTdngRTL"
      },
      "source": [
        "# Image caption"
      ]
    },
    {
      "cell_type": "markdown",
      "metadata": {
        "id": "VCiOMPr8WZMX"
      },
      "source": [
        "### Our thinking\n",
        "> About the model structure\n",
        "\n",
        "* Usually , People attempt this task with CNN + RNN. For example, a Resnet(residual CNN) backbone to read an image, and a LSTM (gated RNN) layer to decipher the feature into words. Most of the models tried this **encoder + decoder** approach.\n",
        "\n",
        "* Then comes the transformer, many papers have tried to use Transformer's mighty sequence analyze power to replace the RNN part.\n",
        "\n",
        "* Since ```ViT``` model is slowly creaping up all sorts of computer vision leaderboard, it's a good time to use a full transformer network for the Image Caption job, which sadly has already been studied in the paper [CPTR: Full Transformer Network for Image Caption (Liu et. al)](https://arxiv.org/pdf/2101.10804.pdf), written only 9 months ahead of this notebook. But the model's detail is not the same at all, besides, the basic idea of a purely transformer model.\n",
        "\n",
        "* Here we use ViT as encoder, GPT2 as decoder, all pretrained.\n",
        "\n",
        "* And I promise you this is the shortest form of the training notebook I've seen on this topic\n",
        "\n",
        "Ray 2021.10.19"
      ]
    },
    {
      "cell_type": "markdown",
      "metadata": {
        "id": "JJVtMfh5ZzwT"
      },
      "source": [
        "\n",
        "> We are using `fastai`, `unpackai`, and `transformers` for this problem set"
      ]
    },
    {
      "cell_type": "code",
      "metadata": {
        "id": "ukaR6hKcgQ1i"
      },
      "source": [
        "!pip install -q unpackai==0.1.8.10\n",
        "!pip install -qq fastai==2.5.2\n",
        "!pip install -q transformers==4.11.3"
      ],
      "execution_count": 1,
      "outputs": []
    },
    {
      "cell_type": "markdown",
      "metadata": {
        "id": "AiOIJHx9KhrZ"
      },
      "source": [
        "## Imports"
      ]
    },
    {
      "cell_type": "markdown",
      "metadata": {
        "id": "eK95bo5mUPPh"
      },
      "source": [
        "Everything!!!"
      ]
    },
    {
      "cell_type": "code",
      "metadata": {
        "id": "FOQe955RxjlG"
      },
      "source": [
        "from fastai.vision.all import *\n",
        "from fastai.text.all import *\n",
        "from unpackai.utils import *\n",
        "from unpackai.nlp import *"
      ],
      "execution_count": 2,
      "outputs": []
    },
    {
      "cell_type": "code",
      "metadata": {
        "id": "JdABIwaGqFIz"
      },
      "source": [
        "from transformers import (\n",
        "    AutoModelWithLMHead,\n",
        "    AutoTokenizer,\n",
        "    AutoModel,\n",
        "    ViTFeatureExtractor,\n",
        "    PreTrainedTokenizer,\n",
        "    EncoderDecoderModel\n",
        "    )"
      ],
      "execution_count": 3,
      "outputs": []
    },
    {
      "cell_type": "code",
      "metadata": {
        "id": "vrvnR4AEc7Oq"
      },
      "source": [
        "from unpackai.nlp import HFTextBlock"
      ],
      "execution_count": 4,
      "outputs": []
    },
    {
      "cell_type": "markdown",
      "metadata": {
        "id": "hgmV2Cp9lzEm"
      },
      "source": [
        "## Download dataset\n",
        "\n",
        "We can download and unzip the data."
      ]
    },
    {
      "cell_type": "code",
      "metadata": {
        "colab": {
          "base_uri": "https://localhost:8080/"
        },
        "id": "IM9Ll2YUlsd6",
        "outputId": "3544ea28-20ca-4233-a388-c8c4b5394c71"
      },
      "source": [
        "%%time\n",
        "download_and_unpack(\"http://images.cocodataset.org/zips/val2014.zip\", \".\")"
      ],
      "execution_count": 12,
      "outputs": [
        {
          "output_type": "stream",
          "name": "stdout",
          "text": [
            "CPU times: user 49 s, sys: 38.2 s, total: 1min 27s\n",
            "Wall time: 4min 53s\n"
          ]
        },
        {
          "output_type": "execute_result",
          "data": {
            "text/plain": [
              "Path('.')"
            ]
          },
          "metadata": {},
          "execution_count": 12
        }
      ]
    },
    {
      "cell_type": "code",
      "metadata": {
        "colab": {
          "base_uri": "https://localhost:8080/"
        },
        "id": "-pPAA6pgGZ9K",
        "outputId": "3e99d3c6-d8aa-4dbf-b0c5-ff652146fe2e"
      },
      "source": [
        "%%time\n",
        "download_and_unpack(\"http://images.cocodataset.org/annotations/annotations_trainval2014.zip\", \".\")"
      ],
      "execution_count": 8,
      "outputs": [
        {
          "output_type": "stream",
          "name": "stdout",
          "text": [
            "CPU times: user 5.93 s, sys: 2.08 s, total: 8.01 s\n",
            "Wall time: 9.6 s\n"
          ]
        },
        {
          "output_type": "execute_result",
          "data": {
            "text/plain": [
              "Path('.')"
            ]
          },
          "metadata": {},
          "execution_count": 8
        }
      ]
    },
    {
      "cell_type": "markdown",
      "metadata": {
        "id": "Q9Q-TpPBUDPW"
      },
      "source": [
        "After unzip, this is how much types of annotation we have."
      ]
    },
    {
      "cell_type": "code",
      "metadata": {
        "id": "kf0CGai8rs2R",
        "colab": {
          "base_uri": "https://localhost:8080/",
          "height": 235
        },
        "outputId": "0159f24e-2f46-4f10-f8f0-a7220f025a33"
      },
      "source": [
        "ls(\"annotations\")[[\"Name\", \"Path\", \"Last_Modif\", \"Friendly_Size\"]]"
      ],
      "execution_count": 11,
      "outputs": [
        {
          "output_type": "execute_result",
          "data": {
            "text/html": [
              "<div>\n",
              "<style scoped>\n",
              "    .dataframe tbody tr th:only-of-type {\n",
              "        vertical-align: middle;\n",
              "    }\n",
              "\n",
              "    .dataframe tbody tr th {\n",
              "        vertical-align: top;\n",
              "    }\n",
              "\n",
              "    .dataframe thead th {\n",
              "        text-align: right;\n",
              "    }\n",
              "</style>\n",
              "<table border=\"1\" class=\"dataframe\">\n",
              "  <thead>\n",
              "    <tr style=\"text-align: right;\">\n",
              "      <th></th>\n",
              "      <th>Name</th>\n",
              "      <th>Path</th>\n",
              "      <th>Last_Modif</th>\n",
              "      <th>Friendly_Size</th>\n",
              "    </tr>\n",
              "  </thead>\n",
              "  <tbody>\n",
              "    <tr>\n",
              "      <th>2</th>\n",
              "      <td>captions_train2014.json</td>\n",
              "      <td>annotations/captions_train2014.json</td>\n",
              "      <td>2021-10-25 15:39:54.086041</td>\n",
              "      <td>63.69 MB</td>\n",
              "    </tr>\n",
              "    <tr>\n",
              "      <th>5</th>\n",
              "      <td>captions_val2014.json</td>\n",
              "      <td>annotations/captions_val2014.json</td>\n",
              "      <td>2021-10-25 15:39:54.391041</td>\n",
              "      <td>30.92 MB</td>\n",
              "    </tr>\n",
              "    <tr>\n",
              "      <th>0</th>\n",
              "      <td>instances_train2014.json</td>\n",
              "      <td>annotations/instances_train2014.json</td>\n",
              "      <td>2021-10-25 15:39:49.936047</td>\n",
              "      <td>317.15 MB</td>\n",
              "    </tr>\n",
              "    <tr>\n",
              "      <th>1</th>\n",
              "      <td>instances_val2014.json</td>\n",
              "      <td>annotations/instances_val2014.json</td>\n",
              "      <td>2021-10-25 15:39:51.728044</td>\n",
              "      <td>153.24 MB</td>\n",
              "    </tr>\n",
              "    <tr>\n",
              "      <th>3</th>\n",
              "      <td>person_keypoints_train2014.json</td>\n",
              "      <td>annotations/person_keypoints_train2014.json</td>\n",
              "      <td>2021-10-25 15:39:52.947043</td>\n",
              "      <td>162.82 MB</td>\n",
              "    </tr>\n",
              "    <tr>\n",
              "      <th>4</th>\n",
              "      <td>person_keypoints_val2014.json</td>\n",
              "      <td>annotations/person_keypoints_val2014.json</td>\n",
              "      <td>2021-10-25 15:39:53.690042</td>\n",
              "      <td>77.86 MB</td>\n",
              "    </tr>\n",
              "  </tbody>\n",
              "</table>\n",
              "</div>"
            ],
            "text/plain": [
              "                              Name  ... Friendly_Size\n",
              "2          captions_train2014.json  ...      63.69 MB\n",
              "5            captions_val2014.json  ...      30.92 MB\n",
              "0         instances_train2014.json  ...     317.15 MB\n",
              "1           instances_val2014.json  ...     153.24 MB\n",
              "3  person_keypoints_train2014.json  ...     162.82 MB\n",
              "4    person_keypoints_val2014.json  ...      77.86 MB\n",
              "\n",
              "[6 rows x 4 columns]"
            ]
          },
          "metadata": {},
          "execution_count": 11
        }
      ]
    },
    {
      "cell_type": "markdown",
      "metadata": {
        "id": "eARGBB_rJI13"
      },
      "source": [
        "... and this is part of the pictures"
      ]
    },
    {
      "cell_type": "code",
      "metadata": {
        "colab": {
          "base_uri": "https://localhost:8080/",
          "height": 589
        },
        "id": "_1MxYv64JIO5",
        "outputId": "94789944-8616-4d3d-93ed-af0d37327266"
      },
      "source": [
        "ls(\"val2014\")[[\"Name\", \"Path\", \"Last_Modif\", \"Friendly_Size\"]]"
      ],
      "execution_count": 13,
      "outputs": [
        {
          "output_type": "execute_result",
          "data": {
            "text/html": [
              "<div>\n",
              "<style scoped>\n",
              "    .dataframe tbody tr th:only-of-type {\n",
              "        vertical-align: middle;\n",
              "    }\n",
              "\n",
              "    .dataframe tbody tr th {\n",
              "        vertical-align: top;\n",
              "    }\n",
              "\n",
              "    .dataframe thead th {\n",
              "        text-align: right;\n",
              "    }\n",
              "</style>\n",
              "<table border=\"1\" class=\"dataframe\">\n",
              "  <thead>\n",
              "    <tr style=\"text-align: right;\">\n",
              "      <th></th>\n",
              "      <th>Name</th>\n",
              "      <th>Path</th>\n",
              "      <th>Last_Modif</th>\n",
              "      <th>Friendly_Size</th>\n",
              "    </tr>\n",
              "  </thead>\n",
              "  <tbody>\n",
              "    <tr>\n",
              "      <th>34581</th>\n",
              "      <td>COCO_val2014_000000000042.jpg</td>\n",
              "      <td>val2014/COCO_val2014_000000000042.jpg</td>\n",
              "      <td>2021-10-25 15:47:27.676422</td>\n",
              "      <td>208.31 KB</td>\n",
              "    </tr>\n",
              "    <tr>\n",
              "      <th>578</th>\n",
              "      <td>COCO_val2014_000000000073.jpg</td>\n",
              "      <td>val2014/COCO_val2014_000000000073.jpg</td>\n",
              "      <td>2021-10-25 15:46:38.540489</td>\n",
              "      <td>374.66 KB</td>\n",
              "    </tr>\n",
              "    <tr>\n",
              "      <th>31560</th>\n",
              "      <td>COCO_val2014_000000000074.jpg</td>\n",
              "      <td>val2014/COCO_val2014_000000000074.jpg</td>\n",
              "      <td>2021-10-25 15:47:56.190383</td>\n",
              "      <td>172.02 KB</td>\n",
              "    </tr>\n",
              "    <tr>\n",
              "      <th>4189</th>\n",
              "      <td>COCO_val2014_000000000133.jpg</td>\n",
              "      <td>val2014/COCO_val2014_000000000133.jpg</td>\n",
              "      <td>2021-10-25 15:47:03.359455</td>\n",
              "      <td>159.77 KB</td>\n",
              "    </tr>\n",
              "    <tr>\n",
              "      <th>22111</th>\n",
              "      <td>COCO_val2014_000000000136.jpg</td>\n",
              "      <td>val2014/COCO_val2014_000000000136.jpg</td>\n",
              "      <td>2021-10-25 15:46:55.272466</td>\n",
              "      <td>102.62 KB</td>\n",
              "    </tr>\n",
              "    <tr>\n",
              "      <th>...</th>\n",
              "      <td>...</td>\n",
              "      <td>...</td>\n",
              "      <td>...</td>\n",
              "      <td>...</td>\n",
              "    </tr>\n",
              "    <tr>\n",
              "      <th>6600</th>\n",
              "      <td>COCO_val2014_000000581886.jpg</td>\n",
              "      <td>val2014/COCO_val2014_000000581886.jpg</td>\n",
              "      <td>2021-10-25 15:46:54.770467</td>\n",
              "      <td>92.16 KB</td>\n",
              "    </tr>\n",
              "    <tr>\n",
              "      <th>600</th>\n",
              "      <td>COCO_val2014_000000581887.jpg</td>\n",
              "      <td>val2014/COCO_val2014_000000581887.jpg</td>\n",
              "      <td>2021-10-25 15:46:00.963540</td>\n",
              "      <td>105.04 KB</td>\n",
              "    </tr>\n",
              "    <tr>\n",
              "      <th>2355</th>\n",
              "      <td>COCO_val2014_000000581899.jpg</td>\n",
              "      <td>val2014/COCO_val2014_000000581899.jpg</td>\n",
              "      <td>2021-10-25 15:46:04.669535</td>\n",
              "      <td>212.90 KB</td>\n",
              "    </tr>\n",
              "    <tr>\n",
              "      <th>30474</th>\n",
              "      <td>COCO_val2014_000000581913.jpg</td>\n",
              "      <td>val2014/COCO_val2014_000000581913.jpg</td>\n",
              "      <td>2021-10-25 15:48:25.071344</td>\n",
              "      <td>135.18 KB</td>\n",
              "    </tr>\n",
              "    <tr>\n",
              "      <th>13485</th>\n",
              "      <td>COCO_val2014_000000581929.jpg</td>\n",
              "      <td>val2014/COCO_val2014_000000581929.jpg</td>\n",
              "      <td>2021-10-25 15:46:05.369534</td>\n",
              "      <td>308.02 KB</td>\n",
              "    </tr>\n",
              "  </tbody>\n",
              "</table>\n",
              "<p>40504 rows × 4 columns</p>\n",
              "</div>"
            ],
            "text/plain": [
              "                                Name  ... Friendly_Size\n",
              "34581  COCO_val2014_000000000042.jpg  ...     208.31 KB\n",
              "578    COCO_val2014_000000000073.jpg  ...     374.66 KB\n",
              "31560  COCO_val2014_000000000074.jpg  ...     172.02 KB\n",
              "4189   COCO_val2014_000000000133.jpg  ...     159.77 KB\n",
              "22111  COCO_val2014_000000000136.jpg  ...     102.62 KB\n",
              "...                              ...  ...           ...\n",
              "6600   COCO_val2014_000000581886.jpg  ...      92.16 KB\n",
              "600    COCO_val2014_000000581887.jpg  ...     105.04 KB\n",
              "2355   COCO_val2014_000000581899.jpg  ...     212.90 KB\n",
              "30474  COCO_val2014_000000581913.jpg  ...     135.18 KB\n",
              "13485  COCO_val2014_000000581929.jpg  ...     308.02 KB\n",
              "\n",
              "[40504 rows x 4 columns]"
            ]
          },
          "metadata": {},
          "execution_count": 13
        }
      ]
    },
    {
      "cell_type": "markdown",
      "metadata": {
        "id": "-_rYnr-Mxcst"
      },
      "source": [
        "## Explorative Data Analysis"
      ]
    },
    {
      "cell_type": "markdown",
      "metadata": {
        "id": "hA5UFj5EVIYL"
      },
      "source": [
        "Path to image directory"
      ]
    },
    {
      "cell_type": "code",
      "metadata": {
        "id": "uAtl4msCNsf3"
      },
      "source": [
        "path_val = Path(\"./val2014\")\n",
        "anno = Path(\"annotations/captions_val2014.json\").read_json()"
      ],
      "execution_count": 14,
      "outputs": []
    },
    {
      "cell_type": "code",
      "metadata": {
        "id": "zUsG1hXF1xdL",
        "colab": {
          "base_uri": "https://localhost:8080/"
        },
        "outputId": "d3390b63-9cff-4885-a6e4-d0717a4bcf3d"
      },
      "source": [
        "len(anno['annotations'])"
      ],
      "execution_count": 15,
      "outputs": [
        {
          "output_type": "execute_result",
          "data": {
            "text/plain": [
              "202654"
            ]
          },
          "metadata": {},
          "execution_count": 15
        }
      ]
    },
    {
      "cell_type": "code",
      "metadata": {
        "id": "pdnJCYlY4uB0"
      },
      "source": [
        "image_df = pd.DataFrame(anno['images'])\n",
        "anno_df = pd.DataFrame(anno['annotations'])"
      ],
      "execution_count": 16,
      "outputs": []
    },
    {
      "cell_type": "code",
      "metadata": {
        "id": "fcKeHEw74q4u",
        "colab": {
          "base_uri": "https://localhost:8080/",
          "height": 309
        },
        "outputId": "9e891d22-79c7-427e-dbc1-215ba76c62d5"
      },
      "source": [
        "image_df.head()"
      ],
      "execution_count": 17,
      "outputs": [
        {
          "output_type": "execute_result",
          "data": {
            "text/html": [
              "<div>\n",
              "<style scoped>\n",
              "    .dataframe tbody tr th:only-of-type {\n",
              "        vertical-align: middle;\n",
              "    }\n",
              "\n",
              "    .dataframe tbody tr th {\n",
              "        vertical-align: top;\n",
              "    }\n",
              "\n",
              "    .dataframe thead th {\n",
              "        text-align: right;\n",
              "    }\n",
              "</style>\n",
              "<table border=\"1\" class=\"dataframe\">\n",
              "  <thead>\n",
              "    <tr style=\"text-align: right;\">\n",
              "      <th></th>\n",
              "      <th>license</th>\n",
              "      <th>file_name</th>\n",
              "      <th>coco_url</th>\n",
              "      <th>height</th>\n",
              "      <th>width</th>\n",
              "      <th>date_captured</th>\n",
              "      <th>flickr_url</th>\n",
              "      <th>id</th>\n",
              "    </tr>\n",
              "  </thead>\n",
              "  <tbody>\n",
              "    <tr>\n",
              "      <th>0</th>\n",
              "      <td>3</td>\n",
              "      <td>COCO_val2014_000000391895.jpg</td>\n",
              "      <td>http://images.cocodataset.org/val2014/COCO_val2014_000000391895.jpg</td>\n",
              "      <td>360</td>\n",
              "      <td>640</td>\n",
              "      <td>2013-11-14 11:18:45</td>\n",
              "      <td>http://farm9.staticflickr.com/8186/8119368305_4e622c8349_z.jpg</td>\n",
              "      <td>391895</td>\n",
              "    </tr>\n",
              "    <tr>\n",
              "      <th>1</th>\n",
              "      <td>4</td>\n",
              "      <td>COCO_val2014_000000522418.jpg</td>\n",
              "      <td>http://images.cocodataset.org/val2014/COCO_val2014_000000522418.jpg</td>\n",
              "      <td>480</td>\n",
              "      <td>640</td>\n",
              "      <td>2013-11-14 11:38:44</td>\n",
              "      <td>http://farm1.staticflickr.com/1/127244861_ab0c0381e7_z.jpg</td>\n",
              "      <td>522418</td>\n",
              "    </tr>\n",
              "    <tr>\n",
              "      <th>2</th>\n",
              "      <td>3</td>\n",
              "      <td>COCO_val2014_000000184613.jpg</td>\n",
              "      <td>http://images.cocodataset.org/val2014/COCO_val2014_000000184613.jpg</td>\n",
              "      <td>336</td>\n",
              "      <td>500</td>\n",
              "      <td>2013-11-14 12:36:29</td>\n",
              "      <td>http://farm3.staticflickr.com/2169/2118578392_1193aa04a0_z.jpg</td>\n",
              "      <td>184613</td>\n",
              "    </tr>\n",
              "    <tr>\n",
              "      <th>3</th>\n",
              "      <td>3</td>\n",
              "      <td>COCO_val2014_000000318219.jpg</td>\n",
              "      <td>http://images.cocodataset.org/val2014/COCO_val2014_000000318219.jpg</td>\n",
              "      <td>640</td>\n",
              "      <td>556</td>\n",
              "      <td>2013-11-14 13:02:53</td>\n",
              "      <td>http://farm5.staticflickr.com/4125/5094763076_813ea2751b_z.jpg</td>\n",
              "      <td>318219</td>\n",
              "    </tr>\n",
              "    <tr>\n",
              "      <th>4</th>\n",
              "      <td>3</td>\n",
              "      <td>COCO_val2014_000000554625.jpg</td>\n",
              "      <td>http://images.cocodataset.org/val2014/COCO_val2014_000000554625.jpg</td>\n",
              "      <td>640</td>\n",
              "      <td>426</td>\n",
              "      <td>2013-11-14 16:03:19</td>\n",
              "      <td>http://farm5.staticflickr.com/4086/5094162993_8f59d8a473_z.jpg</td>\n",
              "      <td>554625</td>\n",
              "    </tr>\n",
              "  </tbody>\n",
              "</table>\n",
              "</div>"
            ],
            "text/plain": [
              "   license  ...      id\n",
              "0        3  ...  391895\n",
              "1        4  ...  522418\n",
              "2        3  ...  184613\n",
              "3        3  ...  318219\n",
              "4        3  ...  554625\n",
              "\n",
              "[5 rows x 8 columns]"
            ]
          },
          "metadata": {},
          "execution_count": 17
        }
      ]
    },
    {
      "cell_type": "code",
      "metadata": {
        "id": "75h8us8p1N7M",
        "colab": {
          "base_uri": "https://localhost:8080/",
          "height": 204
        },
        "outputId": "9433d7f8-644e-420f-b323-d8f177902a4e"
      },
      "source": [
        "anno_df.head()"
      ],
      "execution_count": 18,
      "outputs": [
        {
          "output_type": "execute_result",
          "data": {
            "text/html": [
              "<div>\n",
              "<style scoped>\n",
              "    .dataframe tbody tr th:only-of-type {\n",
              "        vertical-align: middle;\n",
              "    }\n",
              "\n",
              "    .dataframe tbody tr th {\n",
              "        vertical-align: top;\n",
              "    }\n",
              "\n",
              "    .dataframe thead th {\n",
              "        text-align: right;\n",
              "    }\n",
              "</style>\n",
              "<table border=\"1\" class=\"dataframe\">\n",
              "  <thead>\n",
              "    <tr style=\"text-align: right;\">\n",
              "      <th></th>\n",
              "      <th>image_id</th>\n",
              "      <th>id</th>\n",
              "      <th>caption</th>\n",
              "    </tr>\n",
              "  </thead>\n",
              "  <tbody>\n",
              "    <tr>\n",
              "      <th>0</th>\n",
              "      <td>203564</td>\n",
              "      <td>37</td>\n",
              "      <td>A bicycle replica with a clock as the front wheel.</td>\n",
              "    </tr>\n",
              "    <tr>\n",
              "      <th>1</th>\n",
              "      <td>179765</td>\n",
              "      <td>38</td>\n",
              "      <td>A black Honda motorcycle parked in front of a garage.</td>\n",
              "    </tr>\n",
              "    <tr>\n",
              "      <th>2</th>\n",
              "      <td>322141</td>\n",
              "      <td>49</td>\n",
              "      <td>A room with blue walls and a white sink and door.</td>\n",
              "    </tr>\n",
              "    <tr>\n",
              "      <th>3</th>\n",
              "      <td>16977</td>\n",
              "      <td>89</td>\n",
              "      <td>A car that seems to be parked illegally behind a legally parked car</td>\n",
              "    </tr>\n",
              "    <tr>\n",
              "      <th>4</th>\n",
              "      <td>106140</td>\n",
              "      <td>98</td>\n",
              "      <td>A large passenger airplane flying through the air.</td>\n",
              "    </tr>\n",
              "  </tbody>\n",
              "</table>\n",
              "</div>"
            ],
            "text/plain": [
              "   image_id  ...                                                              caption\n",
              "0    203564  ...                   A bicycle replica with a clock as the front wheel.\n",
              "1    179765  ...                A black Honda motorcycle parked in front of a garage.\n",
              "2    322141  ...                    A room with blue walls and a white sink and door.\n",
              "3     16977  ...  A car that seems to be parked illegally behind a legally parked car\n",
              "4    106140  ...                   A large passenger airplane flying through the air.\n",
              "\n",
              "[5 rows x 3 columns]"
            ]
          },
          "metadata": {},
          "execution_count": 18
        }
      ]
    },
    {
      "cell_type": "code",
      "metadata": {
        "id": "hAhY3rv-5CTC"
      },
      "source": [
        "file_name_2_id = dict(image_df[[\"file_name\",\"id\",]].values)\n",
        "id_2_caption = dict(anno_df[[\"image_id\",\"caption\"]].values)"
      ],
      "execution_count": 21,
      "outputs": []
    },
    {
      "cell_type": "code",
      "metadata": {
        "id": "V1uCvCidKmKF",
        "colab": {
          "base_uri": "https://localhost:8080/",
          "height": 145,
          "referenced_widgets": [
            "a1fa523c997b4e9aa9c7171306c25ffd",
            "d1ce556456c64a869769517c431cb5b3",
            "561d18fa719943eb85f3ab6a6d770c20",
            "4a4c7c93449f4f409f5fb5ca439ef91f",
            "4faf0f9da69549588cd39ba17cf908aa",
            "91284cb932b2449bb44bf38f3eac9f45",
            "057064667970430daf31200e87c2db2d",
            "41daf892a6ba4cb59002f1b2b546dbf2",
            "0fe2521ff85948bd867fdcdb5834043c",
            "996a353109a04d69926770b73f48cb50",
            "9e2b6d6e6da74d7d840ca10439951cc7",
            "d196c8bf86314346815d8ab12cc4a4f0",
            "b9ef38d2c98b4ad49a81a50e777fc46d",
            "ba9fb200d8744fe6aabde5bfdba35a57",
            "1779f5a6bad148a1a42c1bcc2caa002e",
            "f0c3022ddb184c07afd768241d4a1f69",
            "16c575949a04456280dd57028218b643",
            "d0828beb2a244c00a86815e2eccb887d",
            "f93b60d5a053488e81bbdef8be84d482",
            "672ced6bbc0348adaf3fbbbad3c7cbf2",
            "d958161290eb47a39715a9d18b9acf9b",
            "64ffce1ba7514650b02a818c926f4eb1",
            "076004ddab2b4f41b8867e319d3f71c8",
            "34bcc93507e84593ab0784fbf8022e36",
            "2b88ee4743934d839938d5f1267f2e17",
            "1600b52fe77b48ebb0da218fea92bf90",
            "6c7a4ed7f03b4f508839b3063e0fd459",
            "4a49b4d0ee9549788eae5468abc62a37",
            "32dde6e65be84a90a93590a88cef3044",
            "102aaf6fc7c34757ae7a33c329c5295b",
            "f3287bdd6cbd48f48187b3e90cfb778c",
            "a060c81ed69f4945a2ca3304b739172d",
            "3f0f6e8e0f7f4dbf9ae0ce25d9c3723f",
            "40893847e88d484b83b20f8523a17797",
            "0af352c08f04444a9d4aedaa51a53c35",
            "6b5eb9bccbea4d9ca79a50c883694b6a",
            "38381699ce3d49dd89637101acfeca70",
            "daf37e6ab9474980a44804787c776909",
            "ed70e1bc024d4a76ac3e53273a7931e3",
            "0f163cddb70243d3b8e792ba660e46e4",
            "18b4304b08e7439ab290f21a25c041d4",
            "44f5d6996f6c407cb049a9320a550d7b",
            "e678bf0ad7ce4ce4990a440e7cd8215f",
            "6b96783a6ba94c4d839186732ead3bc5"
          ]
        },
        "outputId": "bf580d07-968a-46b2-d68f-f0dea2bce6f9"
      },
      "source": [
        "tokenizer = AutoTokenizer.from_pretrained(\"gpt2\")\n",
        "tokenizer.pad_token = tokenizer.eos_token"
      ],
      "execution_count": 22,
      "outputs": [
        {
          "output_type": "display_data",
          "data": {
            "application/vnd.jupyter.widget-view+json": {
              "model_id": "a1fa523c997b4e9aa9c7171306c25ffd",
              "version_minor": 0,
              "version_major": 2
            },
            "text/plain": [
              "Downloading:   0%|          | 0.00/665 [00:00<?, ?B/s]"
            ]
          },
          "metadata": {}
        },
        {
          "output_type": "display_data",
          "data": {
            "application/vnd.jupyter.widget-view+json": {
              "model_id": "d196c8bf86314346815d8ab12cc4a4f0",
              "version_minor": 0,
              "version_major": 2
            },
            "text/plain": [
              "Downloading:   0%|          | 0.00/0.99M [00:00<?, ?B/s]"
            ]
          },
          "metadata": {}
        },
        {
          "output_type": "display_data",
          "data": {
            "application/vnd.jupyter.widget-view+json": {
              "model_id": "076004ddab2b4f41b8867e319d3f71c8",
              "version_minor": 0,
              "version_major": 2
            },
            "text/plain": [
              "Downloading:   0%|          | 0.00/446k [00:00<?, ?B/s]"
            ]
          },
          "metadata": {}
        },
        {
          "output_type": "display_data",
          "data": {
            "application/vnd.jupyter.widget-view+json": {
              "model_id": "40893847e88d484b83b20f8523a17797",
              "version_minor": 0,
              "version_major": 2
            },
            "text/plain": [
              "Downloading:   0%|          | 0.00/1.29M [00:00<?, ?B/s]"
            ]
          },
          "metadata": {}
        }
      ]
    },
    {
      "cell_type": "markdown",
      "metadata": {
        "id": "r96Ne_AHZUJO"
      },
      "source": [
        "In most cases, the **```get_y```**function may differ by datasets' annotation's format.\n",
        "\n",
        "As long as you can return a string of text, according to the image path input, it will be fine"
      ]
    },
    {
      "cell_type": "code",
      "metadata": {
        "id": "KiOFFjzy862K"
      },
      "source": [
        "def get_y(path: Path):\n",
        "    # file name of the iamge path\n",
        "    file_name = path.name\n",
        "    # get the caption according to image file name\n",
        "    idx = file_name_2_id.get(file_name)\n",
        "    return f\": {id_2_caption.get(idx)}\""
      ],
      "execution_count": 20,
      "outputs": []
    },
    {
      "cell_type": "code",
      "metadata": {
        "id": "OHI_o9EUOKDA"
      },
      "source": [
        "INPUT_MEAN = [.5,.5,.5]\n",
        "INPUT_STD = [.5,.5,.5]"
      ],
      "execution_count": 23,
      "outputs": []
    },
    {
      "cell_type": "markdown",
      "metadata": {
        "id": "T1rwNJxwYsdb"
      },
      "source": [
        "The fastai datablock"
      ]
    },
    {
      "cell_type": "code",
      "metadata": {
        "id": "dVfhZgQ65mkE"
      },
      "source": [
        "dblock = DataBlock(blocks = (\n",
        "    ImageBlock,\n",
        "    HFTextBlock(tokenizer,max_length=32,padding=\"max_length\",truncation=True)),\n",
        "                   get_items = get_image_files,\n",
        "                   item_tfms = Resize(224),\n",
        "                   batch_tfms=[\n",
        "                               IntToFloatTensor(),\n",
        "                               Normalize.from_stats(INPUT_MEAN,INPUT_STD),],\n",
        "                   get_y     = get_y,\n",
        "                   splitter  = RandomSplitter(),\n",
        "                   )"
      ],
      "execution_count": 24,
      "outputs": []
    },
    {
      "cell_type": "markdown",
      "metadata": {
        "id": "YIC2uZ2l-C4y"
      },
      "source": [
        "To generate text, we use the transformer decoder for the task, which require the generated target as a part of x"
      ]
    },
    {
      "cell_type": "code",
      "metadata": {
        "id": "70GL50w73avm"
      },
      "source": [
        "def batch_x_merge_y(batch, b):\n",
        "    x, y = batch\n",
        "    return (x, y), y\n",
        "\n",
        "dblock.dls_kwargs['retain'] = batch_x_merge_y"
      ],
      "execution_count": 25,
      "outputs": []
    },
    {
      "cell_type": "code",
      "metadata": {
        "id": "u6q5tdFkYEpq"
      },
      "source": [
        "dsets = dblock.datasets(path_val)\n",
        "x, y = dsets.train[0]"
      ],
      "execution_count": 26,
      "outputs": []
    },
    {
      "cell_type": "markdown",
      "metadata": {
        "id": "EaGVNuHMXJ-M"
      },
      "source": [
        "Display a line of data"
      ]
    },
    {
      "cell_type": "code",
      "metadata": {
        "id": "rNUcsyLIV1oL",
        "colab": {
          "base_uri": "https://localhost:8080/",
          "height": 258
        },
        "outputId": "e8dac81c-ec2d-473f-95dc-7cf5dcfa417f"
      },
      "source": [
        "print(f\"text being:\\t{y}\")\n",
        "x.resize((224,224))"
      ],
      "execution_count": null,
      "outputs": [
        {
          "output_type": "stream",
          "name": "stdout",
          "text": [
            "text being:\t: Plate containing fish, green beans and other food. \n"
          ]
        },
        {
          "output_type": "execute_result",
          "data": {
            "image/png": "[encoded data removed]",
            "text/plain": [
              "<PIL.Image.Image image mode=RGB size=224x224 at 0x7F24BD6E52D0>"
            ]
          },
          "metadata": {},
          "execution_count": 149
        }
      ]
    },
    {
      "cell_type": "markdown",
      "metadata": {
        "id": "AHUrlPeBZ9ZP"
      },
      "source": [
        "Create dataloaders"
      ]
    },
    {
      "cell_type": "code",
      "metadata": {
        "id": "QZ_UiKP7J3fK"
      },
      "source": [
        "dls = dblock.dataloaders(path_val, bs=16)"
      ],
      "execution_count": 27,
      "outputs": []
    },
    {
      "cell_type": "code",
      "metadata": {
        "id": "Q6eVSJbL4iK9"
      },
      "source": [
        "batch = dls.one_batch()"
      ],
      "execution_count": 28,
      "outputs": []
    },
    {
      "cell_type": "markdown",
      "metadata": {
        "id": "6TKAgcK4De1v"
      },
      "source": [
        "This (x,y), y format is very unique for encoder-decoder model.\n",
        "\n",
        "Where encoder will extract features from x(image)\n",
        "\n",
        "And decoder use the **encoder output**+**prompt from previous tokens** to guess the next token\n",
        "\n",
        "When we train the model, we guess the $n_{th}$ token by\n",
        "\n",
        "$\\hat{y_n}=EncoderDecoder(x,y_{[1:n]})$\n",
        "Then we calculate the loss:\n",
        "$L = CrossEntropy(\\hat{y}, y)$,\n",
        "\n",
        "Within this encoder_decoder model, this is what happens: $Feature=encoder(x), \\hat{y_{n}}=decoder(Feature, y_{[1:n-1]})$\n",
        "\n",
        "Hence (x,y), y from the dataloaders instead of usual x, y for other deep learning tasks\n",
        "\n",
        "When we generate text after training, for inference, we input only x\n",
        "\n"
      ]
    },
    {
      "cell_type": "code",
      "metadata": {
        "id": "Hceg-ROz4vN3"
      },
      "source": [
        "(batch_img, batch_txt), batch_txt2 = batch"
      ],
      "execution_count": 29,
      "outputs": []
    },
    {
      "cell_type": "code",
      "metadata": {
        "id": "a6uVC3OG5Gy_",
        "colab": {
          "base_uri": "https://localhost:8080/"
        },
        "outputId": "2934c95d-5df4-4966-f690-85b59eb87aa4"
      },
      "source": [
        "batch_img.shape, batch_txt.shape, batch_txt2.shape"
      ],
      "execution_count": 30,
      "outputs": [
        {
          "output_type": "execute_result",
          "data": {
            "text/plain": [
              "(torch.Size([16, 3, 224, 224]), torch.Size([16, 32]), torch.Size([16, 32]))"
            ]
          },
          "metadata": {},
          "execution_count": 30
        }
      ]
    },
    {
      "cell_type": "markdown",
      "metadata": {
        "id": "65gBpaflWAyu"
      },
      "source": [
        "## Model"
      ]
    },
    {
      "cell_type": "markdown",
      "metadata": {
        "id": "ecu0JCoJXRGv"
      },
      "source": [
        "### Pretrained models"
      ]
    },
    {
      "cell_type": "code",
      "metadata": {
        "id": "1HkPiMiJ7qad",
        "colab": {
          "base_uri": "https://localhost:8080/",
          "height": 202,
          "referenced_widgets": [
            "f09933d4424245f7927ce6441f3e3b68",
            "3ba872c91ceb44f48fa6aa0481b4305c",
            "18b12c626dc145c8b60bb86cdf666063",
            "ca272a4da7fa4485914630765990b546",
            "7232fca0e0d34c14bdc171ce848dc6d4",
            "e22abf14fb1d4970af6998b3ba4c73d1",
            "16ae7f9611dc4c0da7cbed64fc9f8e99",
            "00e1dc2427ad4279b88f5ad58f91b3f0",
            "068f00dd903b4f2883fcb8187cf325b7",
            "3ed7c9d9a3f54d318bd21dd01c5cf2f9",
            "a750fa24ad2b4095a58e3d455ab4b78e",
            "b3f7f58cfeea4b02abb2b03cc3c70920",
            "54790252c9e04f96a8076c2e9edc4d51",
            "60b8727af5444758a8003f9a8f71a43c",
            "55c901dfbad64026b18ab138dfafeecb",
            "0c9aa18e35724337b45ce1158ecabf83",
            "b2a3c2e475dd43b1a8662ee0e75ebccd",
            "a81ae00c70cf43d0a2dde6991765fcbb",
            "da6af6fd65194c4ab49d57979d152c4d",
            "3aad14e761864dbdbe9045c56bb9a589",
            "0f06297da8414675896576de03816356",
            "63de0247b8d04612be90b8737f7df82f",
            "e996b57dccc4484ab2183dce19439e7b",
            "085ac324459444329d20b7f7e6858a1c",
            "398d97177a574478b35247b2bccbc4ed",
            "ef01d2bb608b4ec8afed24384141f98a",
            "98a07c29ffc04699a477ae6efc682347",
            "2b2ca34143544fbdb8ea9080bc63393a",
            "6da35898f93e4b869df82d5d8153d409",
            "7ac26d0694e845df8c6d756460d6b846",
            "f5b3c12cbdab4aae90db517a2b75d0b6",
            "323a99d303764864b1e51a998716d7e2",
            "bbef02ca37b34963bb52abf2f5d5e219"
          ]
        },
        "outputId": "e965db3f-3357-48d3-f705-e04400296d1b"
      },
      "source": [
        "# encoder focus on encoding the features from image\n",
        "    # in thie case, we use a ViT model pretrained on imagenet classification task\n",
        "encoder = AutoModel.from_pretrained('google/vit-base-patch16-224-in21k')\n",
        "\n",
        "# decoder focus on decoding the image features to text sequence\n",
        "    # here we use GPT2 as our decoder, a pretrained model good at generating text\n",
        "decoder = AutoModelWithLMHead.from_pretrained(\"gpt2\", add_cross_attention=True)\n",
        "decoder.tokenizer = tokenizer"
      ],
      "execution_count": null,
      "outputs": [
        {
          "output_type": "display_data",
          "data": {
            "application/vnd.jupyter.widget-view+json": {
              "model_id": "f09933d4424245f7927ce6441f3e3b68",
              "version_minor": 0,
              "version_major": 2
            },
            "text/plain": [
              "Downloading:   0%|          | 0.00/425 [00:00<?, ?B/s]"
            ]
          },
          "metadata": {}
        },
        {
          "output_type": "display_data",
          "data": {
            "application/vnd.jupyter.widget-view+json": {
              "model_id": "b3f7f58cfeea4b02abb2b03cc3c70920",
              "version_minor": 0,
              "version_major": 2
            },
            "text/plain": [
              "Downloading:   0%|          | 0.00/330M [00:00<?, ?B/s]"
            ]
          },
          "metadata": {}
        },
        {
          "output_type": "stream",
          "name": "stderr",
          "text": [
            "/usr/local/lib/python3.7/dist-packages/transformers/models/auto/modeling_auto.py:664: FutureWarning: The class `AutoModelWithLMHead` is deprecated and will be removed in a future version. Please use `AutoModelForCausalLM` for causal language models, `AutoModelForMaskedLM` for masked language models and `AutoModelForSeq2SeqLM` for encoder-decoder models.\n",
            "  FutureWarning,\n"
          ]
        },
        {
          "output_type": "display_data",
          "data": {
            "application/vnd.jupyter.widget-view+json": {
              "model_id": "e996b57dccc4484ab2183dce19439e7b",
              "version_minor": 0,
              "version_major": 2
            },
            "text/plain": [
              "Downloading:   0%|          | 0.00/523M [00:00<?, ?B/s]"
            ]
          },
          "metadata": {}
        },
        {
          "output_type": "stream",
          "name": "stderr",
          "text": [
            "Some weights of GPT2LMHeadModel were not initialized from the model checkpoint at gpt2 and are newly initialized: ['h.8.crossattention.c_proj.bias', 'h.2.crossattention.c_proj.bias', 'h.1.crossattention.q_attn.weight', 'h.1.crossattention.bias', 'h.2.crossattention.c_attn.weight', 'h.5.crossattention.c_proj.bias', 'h.10.crossattention.c_attn.weight', 'h.2.crossattention.c_proj.weight', 'h.4.crossattention.masked_bias', 'h.9.crossattention.q_attn.weight', 'h.6.crossattention.bias', 'h.3.crossattention.c_proj.weight', 'h.0.crossattention.c_proj.bias', 'h.11.crossattention.c_proj.weight', 'h.0.crossattention.bias', 'h.8.ln_cross_attn.weight', 'h.5.crossattention.q_attn.weight', 'h.11.crossattention.q_attn.weight', 'h.6.crossattention.c_proj.bias', 'h.9.crossattention.masked_bias', 'h.10.crossattention.c_proj.bias', 'h.9.crossattention.c_attn.weight', 'h.1.crossattention.c_proj.bias', 'h.3.crossattention.c_proj.bias', 'h.7.ln_cross_attn.weight', 'h.6.ln_cross_attn.weight', 'h.3.ln_cross_attn.weight', 'h.5.ln_cross_attn.weight', 'h.8.crossattention.c_attn.weight', 'h.6.crossattention.masked_bias', 'h.9.crossattention.bias', 'h.9.crossattention.c_proj.weight', 'h.3.crossattention.c_attn.weight', 'h.1.crossattention.c_attn.weight', 'h.5.crossattention.bias', 'h.0.crossattention.masked_bias', 'h.11.crossattention.bias', 'h.11.crossattention.c_proj.bias', 'h.7.crossattention.bias', 'h.3.crossattention.bias', 'h.11.crossattention.c_attn.weight', 'h.2.ln_cross_attn.weight', 'h.2.crossattention.masked_bias', 'h.11.crossattention.masked_bias', 'h.6.crossattention.c_attn.weight', 'h.4.crossattention.bias', 'h.8.crossattention.masked_bias', 'h.10.crossattention.bias', 'h.1.crossattention.c_proj.weight', 'h.7.crossattention.c_proj.weight', 'h.5.crossattention.c_proj.weight', 'h.2.crossattention.q_attn.weight', 'h.0.crossattention.c_proj.weight', 'h.3.crossattention.masked_bias', 'h.9.ln_cross_attn.weight', 'h.10.crossattention.masked_bias', 'h.8.crossattention.q_attn.weight', 'h.1.ln_cross_attn.weight', 'h.10.crossattention.q_attn.weight', 'h.11.ln_cross_attn.weight', 'h.7.crossattention.masked_bias', 'h.4.ln_cross_attn.weight', 'h.7.crossattention.c_attn.weight', 'h.9.crossattention.c_proj.bias', 'h.8.crossattention.c_proj.weight', 'h.5.crossattention.c_attn.weight', 'h.8.crossattention.bias', 'h.2.crossattention.bias', 'h.4.crossattention.c_proj.weight', 'h.6.crossattention.q_attn.weight', 'h.4.crossattention.c_proj.bias', 'h.7.crossattention.q_attn.weight', 'h.7.crossattention.c_proj.bias', 'h.0.ln_cross_attn.weight', 'h.4.crossattention.q_attn.weight', 'h.3.crossattention.q_attn.weight', 'h.1.crossattention.masked_bias', 'h.10.crossattention.c_proj.weight', 'h.6.crossattention.c_proj.weight', 'h.5.crossattention.masked_bias', 'h.4.crossattention.c_attn.weight', 'h.0.crossattention.q_attn.weight', 'h.10.ln_cross_attn.weight', 'h.0.crossattention.c_attn.weight']\n",
            "You should probably TRAIN this model on a down-stream task to be able to use it for predictions and inference.\n"
          ]
        }
      ]
    },
    {
      "cell_type": "markdown",
      "metadata": {
        "id": "gpYo2_cdS5L_"
      },
      "source": [
        "### Caption Model"
      ]
    },
    {
      "cell_type": "code",
      "metadata": {
        "id": "-xNmL9rD8Ef1"
      },
      "source": [
        "class Caption(nn.Module):\n",
        "    \"\"\"\n",
        "    The caption model is created by\n",
        "        combining decoder and encoder\n",
        "    \"\"\"\n",
        "    def __init__(self, encoder: nn.Module, decoder: nn.Module):\n",
        "        \"\"\"\n",
        "        \n",
        "        - encoder: The encoder model that can extract image features\n",
        "        - decoder: The decoder model that can generate text sequence\n",
        "            - you have to set add_cross_attention\n",
        "                to True when instantiate the model\n",
        "        \"\"\"\n",
        "        super().__init__()\n",
        "        self.encoder_decoder = EncoderDecoderModel(\n",
        "            encoder=encoder,\n",
        "            decoder=decoder,)\n",
        "        \n",
        "        # update generate documentation\n",
        "        self.generate.__func__.__doc__ = f\"\"\"\n",
        "        Generate text with image:\n",
        "        - batch_img: a batch of image tensor\n",
        "        - other generate kwargs please see following\n",
        "        {self.encoder_decoder.decoder.generate.__doc__}\"\"\"\n",
        "        \n",
        "    def forward(self, inputs):\n",
        "        x, input_ids = inputs\n",
        "        # extract image feature with encoder\n",
        "        # the extracted feature we call them: encoder_outputs\n",
        "        encoder_outputs = self.encoder_decoder.encoder(x)\n",
        "        \n",
        "        # predict text sequence logits\n",
        "        # with the encoder_outputs\n",
        "        seq_out = self.encoder_decoder(\n",
        "            encoder_outputs=encoder_outputs,\n",
        "            # decoder_inputs is to help decoders learn better, \n",
        "            # decoder has mask that allow model to see\n",
        "            # only the previous text tokens and encoder feature\n",
        "            decoder_input_ids=input_ids,\n",
        "            labels=input_ids,\n",
        "            )\n",
        "        return seq_out\n",
        "    \n",
        "    def generate(self, batch_img, **generate_kwargs):\n",
        "        with torch.no_grad():\n",
        "            # extract image features first\n",
        "            encoder_outputs = self.encoder_decoder.encoder(pixel_values=batch_img)\n",
        "            return self.encoder_decoder.decoder.tokenizer.batch_decode(\n",
        "                # encoder_decoder has a 'generate' function we can use\n",
        "                self.encoder_decoder.generate(\n",
        "                    encoder_outputs=encoder_outputs,\n",
        "                    **generate_kwargs), )"
      ],
      "execution_count": null,
      "outputs": []
    },
    {
      "cell_type": "markdown",
      "metadata": {
        "id": "1O38o2cWS20m"
      },
      "source": [
        "### Loss Function"
      ]
    },
    {
      "cell_type": "markdown",
      "metadata": {
        "id": "U9UVGr7LbP1H"
      },
      "source": [
        "The model output object contains ```logits``` and ```loss```"
      ]
    },
    {
      "cell_type": "markdown",
      "metadata": {
        "id": "UEvzdlPXZfgr"
      },
      "source": [
        "The loss result is already in the model output. So our loss function here is only to get the loss number.\n",
        "\n",
        "Behind the scene, transformer calculated the loss using ```nn.CrossEntropyLoss```"
      ]
    },
    {
      "cell_type": "code",
      "metadata": {
        "id": "NY-sAMDBZe8I"
      },
      "source": [
        "def use_output_loss(output, label):\n",
        "    return output.loss"
      ],
      "execution_count": null,
      "outputs": []
    },
    {
      "cell_type": "markdown",
      "metadata": {
        "id": "SFHXJoPmaztv"
      },
      "source": [
        "Since the output format, the original accuracy(which compares logits with label) won't work, let's redifine one"
      ]
    },
    {
      "cell_type": "code",
      "metadata": {
        "id": "plUgtUKHZ_Sb"
      },
      "source": [
        "def hf_accuracy(output, label):\n",
        "    return (output.logits.argmax(-1)==label).float().mean()"
      ],
      "execution_count": null,
      "outputs": []
    },
    {
      "cell_type": "markdown",
      "metadata": {
        "id": "4lXctKpBWXzf"
      },
      "source": [
        "## Training"
      ]
    },
    {
      "cell_type": "markdown",
      "metadata": {
        "id": "Ux8trUQcdKk3"
      },
      "source": [
        "Create the model with the pretrained sub-models: ```encoder``` and ```decoder```"
      ]
    },
    {
      "cell_type": "code",
      "metadata": {
        "id": "CCGNFXXyL6KS"
      },
      "source": [
        "model = Caption(encoder, decoder)"
      ],
      "execution_count": null,
      "outputs": []
    },
    {
      "cell_type": "code",
      "metadata": {
        "id": "9b3oTR97QwDX"
      },
      "source": [
        "learn = Learner(dls, model, loss_func=use_output_loss, metrics=[hf_accuracy], )"
      ],
      "execution_count": null,
      "outputs": []
    },
    {
      "cell_type": "code",
      "metadata": {
        "colab": {
          "base_uri": "https://localhost:8080/",
          "height": 253
        },
        "id": "YSh-LUqHCX6x",
        "outputId": "8da21691-b85e-4dc6-c954-606db88a3d28"
      },
      "source": [
        "learn.fit(3)"
      ],
      "execution_count": null,
      "outputs": [
        {
          "data": {
            "text/html": [
              "\n",
              "    <div>\n",
              "        <style>\n",
              "            /* Turns off some styling */\n",
              "            progress {\n",
              "                /* gets rid of default border in Firefox and Opera. */\n",
              "                border: none;\n",
              "                /* Needs to be in here for Safari polyfill so background images work as expected. */\n",
              "                background-size: auto;\n",
              "            }\n",
              "            .progress-bar-interrupted, .progress-bar-interrupted::-webkit-progress-bar {\n",
              "                background: #F44336;\n",
              "            }\n",
              "        </style>\n",
              "      <progress value='1' class='' max='3' style='width:300px; height:20px; vertical-align: middle;'></progress>\n",
              "      33.33% [1/3 1:02:29<2:04:59]\n",
              "    </div>\n",
              "    \n",
              "<table border=\"1\" class=\"dataframe\">\n",
              "  <thead>\n",
              "    <tr style=\"text-align: left;\">\n",
              "      <th>epoch</th>\n",
              "      <th>train_loss</th>\n",
              "      <th>valid_loss</th>\n",
              "      <th>hf_accuracy</th>\n",
              "      <th>time</th>\n",
              "    </tr>\n",
              "  </thead>\n",
              "  <tbody>\n",
              "    <tr>\n",
              "      <td>0</td>\n",
              "      <td>1.255161</td>\n",
              "      <td>1.259745</td>\n",
              "      <td>0.591427</td>\n",
              "      <td>1:02:29</td>\n",
              "    </tr>\n",
              "  </tbody>\n",
              "</table><p>\n",
              "\n",
              "    <div>\n",
              "        <style>\n",
              "            /* Turns off some styling */\n",
              "            progress {\n",
              "                /* gets rid of default border in Firefox and Opera. */\n",
              "                border: none;\n",
              "                /* Needs to be in here for Safari polyfill so background images work as expected. */\n",
              "                background-size: auto;\n",
              "            }\n",
              "            .progress-bar-interrupted, .progress-bar-interrupted::-webkit-progress-bar {\n",
              "                background: #F44336;\n",
              "            }\n",
              "        </style>\n",
              "      <progress value='686' class='' max='2025' style='width:300px; height:20px; vertical-align: middle;'></progress>\n",
              "      33.88% [686/2025 19:31<38:06 1.1712]\n",
              "    </div>\n",
              "    "
            ],
            "text/plain": [
              "<IPython.core.display.HTML object>"
            ]
          },
          "metadata": {},
          "output_type": "display_data"
        },
        {
          "output_type": "display_data",
          "data": {
            "text/html": [
              "<table border=\"1\" class=\"dataframe\">\n",
              "  <thead>\n",
              "    <tr style=\"text-align: left;\">\n",
              "      <th>epoch</th>\n",
              "      <th>train_loss</th>\n",
              "      <th>valid_loss</th>\n",
              "      <th>hf_accuracy</th>\n",
              "      <th>time</th>\n",
              "    </tr>\n",
              "  </thead>\n",
              "  <tbody>\n",
              "    <tr>\n",
              "      <td>0</td>\n",
              "      <td>1.255161</td>\n",
              "      <td>1.259745</td>\n",
              "      <td>0.591427</td>\n",
              "      <td>1:02:29</td>\n",
              "    </tr>\n",
              "    <tr>\n",
              "      <td>1</td>\n",
              "      <td>1.168037</td>\n",
              "      <td>1.237680</td>\n",
              "      <td>0.591385</td>\n",
              "      <td>1:02:32</td>\n",
              "    </tr>\n",
              "    <tr>\n",
              "      <td>2</td>\n",
              "      <td>1.085814</td>\n",
              "      <td>1.249942</td>\n",
              "      <td>0.591404</td>\n",
              "      <td>1:02:27</td>\n",
              "    </tr>\n",
              "  </tbody>\n",
              "</table>"
            ],
            "text/plain": [
              "<IPython.core.display.HTML object>"
            ]
          },
          "metadata": {}
        }
      ]
    },
    {
      "cell_type": "code",
      "metadata": {
        "colab": {
          "base_uri": "https://localhost:8080/",
          "height": 81
        },
        "id": "u8JE0mxuLne-",
        "outputId": "17f07024-8c73-4fd5-f73d-133c8ae266b1"
      },
      "source": [
        "learn.fit(1)"
      ],
      "execution_count": null,
      "outputs": [
        {
          "output_type": "display_data",
          "data": {
            "text/html": [
              "<table border=\"1\" class=\"dataframe\">\n",
              "  <thead>\n",
              "    <tr style=\"text-align: left;\">\n",
              "      <th>epoch</th>\n",
              "      <th>train_loss</th>\n",
              "      <th>valid_loss</th>\n",
              "      <th>hf_accuracy</th>\n",
              "      <th>time</th>\n",
              "    </tr>\n",
              "  </thead>\n",
              "  <tbody>\n",
              "    <tr>\n",
              "      <td>0</td>\n",
              "      <td>1.028793</td>\n",
              "      <td>1.283893</td>\n",
              "      <td>0.591362</td>\n",
              "      <td>1:02:26</td>\n",
              "    </tr>\n",
              "  </tbody>\n",
              "</table>"
            ],
            "text/plain": [
              "<IPython.core.display.HTML object>"
            ]
          },
          "metadata": {}
        }
      ]
    },
    {
      "cell_type": "markdown",
      "metadata": {
        "id": "bGbv7zNabz9q"
      },
      "source": [
        "## See the result"
      ]
    },
    {
      "cell_type": "code",
      "metadata": {
        "id": "tNQAeleTWqkq"
      },
      "source": [
        "encoder = encoder.eval()"
      ],
      "execution_count": null,
      "outputs": []
    },
    {
      "cell_type": "markdown",
      "metadata": {
        "id": "OOnjz_WicCYO"
      },
      "source": [
        "For the arguments of **generating text**, you can use the following as default\n",
        "\n",
        "Or try to understand this very well written [blog post](https://huggingface.co/blog/how-to-generate) explaining what are the arguements exactly"
      ]
    },
    {
      "cell_type": "code",
      "metadata": {
        "colab": {
          "base_uri": "https://localhost:8080/",
          "height": 35
        },
        "id": "aBeX6A49xeun",
        "outputId": "579a1720-d81f-4fc9-d7a9-a789a8eb2383"
      },
      "source": [
        "model.generate(batch_img[:1,...],\n",
        "               top_p=.6, do_sample=True, # text generation startegy\n",
        "               bos_token_id=tokenizer.vocab[':'],)[0].replace(\"<|endoftext|>\",\"\")"
      ],
      "execution_count": null,
      "outputs": [
        {
          "output_type": "execute_result",
          "data": {
            "application/vnd.google.colaboratory.intrinsic+json": {
              "type": "string"
            },
            "text/plain": [
              "': a close up of a train that is on a train track'"
            ]
          },
          "metadata": {},
          "execution_count": 82
        }
      ]
    },
    {
      "cell_type": "markdown",
      "metadata": {
        "id": "sxJfWrLVce0I"
      },
      "source": [
        "Compare to the same batch of text label"
      ]
    },
    {
      "cell_type": "code",
      "metadata": {
        "id": "UFQ2Q0Iff0D_",
        "colab": {
          "base_uri": "https://localhost:8080/",
          "height": 35
        },
        "outputId": "f323ff13-5f42-4987-ca53-0a601a0a7e55"
      },
      "source": [
        "tokenizer.batch_decode(batch_txt)[0].replace(\"<|endoftext|>\",\"\")"
      ],
      "execution_count": null,
      "outputs": [
        {
          "output_type": "execute_result",
          "data": {
            "application/vnd.google.colaboratory.intrinsic+json": {
              "type": "string"
            },
            "text/plain": [
              "': A high speed train pulls into a platform while people watch.'"
            ]
          },
          "metadata": {},
          "execution_count": 61
        }
      ]
    },
    {
      "cell_type": "markdown",
      "metadata": {
        "id": "XLYz2ZLjcmHF"
      },
      "source": [
        "Show image"
      ]
    },
    {
      "cell_type": "code",
      "metadata": {
        "colab": {
          "base_uri": "https://localhost:8080/",
          "height": 337
        },
        "id": "4O7nsBNYclAu",
        "outputId": "dcb9405a-1fed-4ff2-acc5-98db010715a9"
      },
      "source": [
        "batch_img[0,...].show()"
      ],
      "execution_count": null,
      "outputs": [
        {
          "output_type": "stream",
          "name": "stderr",
          "text": [
            "Clipping input data to the valid range for imshow with RGB data ([0..1] for floats or [0..255] for integers).\n"
          ]
        },
        {
          "output_type": "execute_result",
          "data": {
            "text/plain": [
              "<matplotlib.axes._subplots.AxesSubplot at 0x7f24bc2f7710>"
            ]
          },
          "metadata": {},
          "execution_count": 60
        },
        {
          "output_type": "display_data",
          "data": {
            "image/png": "[encoded data removed]",
            "text/plain": [
              "<Figure size 360x360 with 1 Axes>"
            ]
          },
          "metadata": {
            "needs_background": "light"
          }
        }
      ]
    },
    {
      "cell_type": "code",
      "metadata": {
        "id": "8GkaGvsSKxYt"
      },
      "source": [
        ""
      ],
      "execution_count": null,
      "outputs": []
    }
  ]
}